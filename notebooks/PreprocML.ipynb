{
 "cells": [
  {
   "cell_type": "code",
   "execution_count": 1,
   "id": "d0292e0e",
   "metadata": {},
   "outputs": [],
   "source": [
    "import numpy as np\n",
    "import pandas as pd"
   ]
  },
  {
   "cell_type": "markdown",
   "id": "cd68004f",
   "metadata": {},
   "source": [
    "# Preparación de Subset para entrenamiento de algoritmos de ML"
   ]
  },
  {
   "cell_type": "code",
   "execution_count": 2,
   "id": "9398ad3e",
   "metadata": {},
   "outputs": [
    {
     "name": "stdout",
     "output_type": "stream",
     "text": [
      "..\\datasets\\Clean_Covid_Dataset.csv\n"
     ]
    }
   ],
   "source": [
    "import os\n",
    "\n",
    "COVID_URL = os.path.join('..', 'datasets', 'Clean_Covid_Dataset.csv')\n",
    "print(COVID_URL)"
   ]
  },
  {
   "cell_type": "code",
   "execution_count": 3,
   "id": "ae0558aa",
   "metadata": {},
   "outputs": [],
   "source": [
    "# Definir el tipo de dato hace el proceso más eficiente\n",
    "types = {\n",
    "    'SECTOR': np.int8,\n",
    "    'ENTIDAD_UM': np.int8,\n",
    "    'SEXO': np.int8,\n",
    "    'PAC_HOSPITALIZADO': np.int8,\n",
    "    'FECHA_INGRESO': 'object',\n",
    "    'FECHA_SINTOMAS': 'object',\n",
    "    'FECHA_DEF': 'object',\n",
    "    'INTUBADO': np.int8,\n",
    "    'NEUMONIA': np.int8,\n",
    "    'EDAD': np.int8,\n",
    "    'EMBARAZO': np.int8,\n",
    "    'DIABETES': np.int8,\n",
    "    'EPOC': np.int8,\n",
    "    'ASMA': np.int8,\n",
    "    'INMUSUPR': np.int8,\n",
    "    'HIPERTENSION':np.int8,\n",
    "    'CARDIOVASCULAR': np.int8,\n",
    "    'OBESIDAD': np.int8,\n",
    "    'RENAL_CRONICA': np.int8,\n",
    "    'TABAQUISMO': np.int8,\n",
    "    'UCI': np.int8\n",
    "}"
   ]
  },
  {
   "cell_type": "code",
   "execution_count": 4,
   "id": "c13b0ad9",
   "metadata": {},
   "outputs": [
    {
     "name": "stderr",
     "output_type": "stream",
     "text": [
      "C:\\Users\\Sebastián\\AppData\\Roaming\\Python\\Python38\\site-packages\\numpy\\lib\\arraysetops.py:580: FutureWarning: elementwise comparison failed; returning scalar instead, but in the future will perform elementwise comparison\n",
      "  mask |= (ar1 == a)\n"
     ]
    }
   ],
   "source": [
    "# 'latin' porque contiene acentos\n",
    "df = pd.read_csv(COVID_URL, encoding='latin', dtype=types, index_col=0)"
   ]
  },
  {
   "cell_type": "code",
   "execution_count": 5,
   "id": "f39e46b8",
   "metadata": {},
   "outputs": [
    {
     "data": {
      "text/html": [
       "<div>\n",
       "<style scoped>\n",
       "    .dataframe tbody tr th:only-of-type {\n",
       "        vertical-align: middle;\n",
       "    }\n",
       "\n",
       "    .dataframe tbody tr th {\n",
       "        vertical-align: top;\n",
       "    }\n",
       "\n",
       "    .dataframe thead th {\n",
       "        text-align: right;\n",
       "    }\n",
       "</style>\n",
       "<table border=\"1\" class=\"dataframe\">\n",
       "  <thead>\n",
       "    <tr style=\"text-align: right;\">\n",
       "      <th></th>\n",
       "      <th>SECTOR</th>\n",
       "      <th>ENTIDAD_UM</th>\n",
       "      <th>SEXO</th>\n",
       "      <th>PAC_HOSPITALIZADO</th>\n",
       "      <th>FECHA_INGRESO</th>\n",
       "      <th>FECHA_SINTOMAS</th>\n",
       "      <th>FECHA_DEF</th>\n",
       "      <th>INTUBADO</th>\n",
       "      <th>NEUMONIA</th>\n",
       "      <th>EDAD</th>\n",
       "      <th>...</th>\n",
       "      <th>DIABETES</th>\n",
       "      <th>EPOC</th>\n",
       "      <th>ASMA</th>\n",
       "      <th>INMUSUPR</th>\n",
       "      <th>HIPERTENSION</th>\n",
       "      <th>CARDIOVASCULAR</th>\n",
       "      <th>OBESIDAD</th>\n",
       "      <th>RENAL_CRONICA</th>\n",
       "      <th>TABAQUISMO</th>\n",
       "      <th>UCI</th>\n",
       "    </tr>\n",
       "  </thead>\n",
       "  <tbody>\n",
       "    <tr>\n",
       "      <th>0</th>\n",
       "      <td>12</td>\n",
       "      <td>31</td>\n",
       "      <td>1</td>\n",
       "      <td>0</td>\n",
       "      <td>2020-06-12</td>\n",
       "      <td>2020-06-10</td>\n",
       "      <td>9999-99-99</td>\n",
       "      <td>0</td>\n",
       "      <td>0</td>\n",
       "      <td>56</td>\n",
       "      <td>...</td>\n",
       "      <td>1</td>\n",
       "      <td>0</td>\n",
       "      <td>0</td>\n",
       "      <td>0</td>\n",
       "      <td>0</td>\n",
       "      <td>0</td>\n",
       "      <td>0</td>\n",
       "      <td>0</td>\n",
       "      <td>0</td>\n",
       "      <td>0</td>\n",
       "    </tr>\n",
       "    <tr>\n",
       "      <th>4</th>\n",
       "      <td>12</td>\n",
       "      <td>1</td>\n",
       "      <td>1</td>\n",
       "      <td>0</td>\n",
       "      <td>2020-06-02</td>\n",
       "      <td>2020-05-30</td>\n",
       "      <td>9999-99-99</td>\n",
       "      <td>0</td>\n",
       "      <td>0</td>\n",
       "      <td>58</td>\n",
       "      <td>...</td>\n",
       "      <td>1</td>\n",
       "      <td>0</td>\n",
       "      <td>0</td>\n",
       "      <td>0</td>\n",
       "      <td>0</td>\n",
       "      <td>0</td>\n",
       "      <td>0</td>\n",
       "      <td>0</td>\n",
       "      <td>0</td>\n",
       "      <td>0</td>\n",
       "    </tr>\n",
       "    <tr>\n",
       "      <th>6</th>\n",
       "      <td>12</td>\n",
       "      <td>31</td>\n",
       "      <td>0</td>\n",
       "      <td>0</td>\n",
       "      <td>2020-07-01</td>\n",
       "      <td>2020-06-30</td>\n",
       "      <td>9999-99-99</td>\n",
       "      <td>0</td>\n",
       "      <td>0</td>\n",
       "      <td>37</td>\n",
       "      <td>...</td>\n",
       "      <td>0</td>\n",
       "      <td>0</td>\n",
       "      <td>0</td>\n",
       "      <td>0</td>\n",
       "      <td>0</td>\n",
       "      <td>0</td>\n",
       "      <td>0</td>\n",
       "      <td>0</td>\n",
       "      <td>0</td>\n",
       "      <td>0</td>\n",
       "    </tr>\n",
       "  </tbody>\n",
       "</table>\n",
       "<p>3 rows × 21 columns</p>\n",
       "</div>"
      ],
      "text/plain": [
       "   SECTOR  ENTIDAD_UM  SEXO  PAC_HOSPITALIZADO FECHA_INGRESO FECHA_SINTOMAS  \\\n",
       "0      12          31     1                  0    2020-06-12     2020-06-10   \n",
       "4      12           1     1                  0    2020-06-02     2020-05-30   \n",
       "6      12          31     0                  0    2020-07-01     2020-06-30   \n",
       "\n",
       "    FECHA_DEF  INTUBADO  NEUMONIA  EDAD  ...  DIABETES  EPOC  ASMA  INMUSUPR  \\\n",
       "0  9999-99-99         0         0    56  ...         1     0     0         0   \n",
       "4  9999-99-99         0         0    58  ...         1     0     0         0   \n",
       "6  9999-99-99         0         0    37  ...         0     0     0         0   \n",
       "\n",
       "   HIPERTENSION  CARDIOVASCULAR  OBESIDAD  RENAL_CRONICA  TABAQUISMO  UCI  \n",
       "0             0               0         0              0           0    0  \n",
       "4             0               0         0              0           0    0  \n",
       "6             0               0         0              0           0    0  \n",
       "\n",
       "[3 rows x 21 columns]"
      ]
     },
     "execution_count": 5,
     "metadata": {},
     "output_type": "execute_result"
    }
   ],
   "source": [
    "df.head(3)"
   ]
  },
  {
   "cell_type": "code",
   "execution_count": 6,
   "id": "b12b61e0",
   "metadata": {},
   "outputs": [
    {
     "name": "stdout",
     "output_type": "stream",
     "text": [
      "<class 'pandas.core.frame.DataFrame'>\n",
      "Int64Index: 3832786 entries, 0 to 11703510\n",
      "Data columns (total 21 columns):\n",
      " #   Column             Dtype \n",
      "---  ------             ----- \n",
      " 0   SECTOR             int8  \n",
      " 1   ENTIDAD_UM         int8  \n",
      " 2   SEXO               int8  \n",
      " 3   PAC_HOSPITALIZADO  int8  \n",
      " 4   FECHA_INGRESO      object\n",
      " 5   FECHA_SINTOMAS     object\n",
      " 6   FECHA_DEF          object\n",
      " 7   INTUBADO           int8  \n",
      " 8   NEUMONIA           int8  \n",
      " 9   EDAD               int8  \n",
      " 10  EMBARAZO           int8  \n",
      " 11  DIABETES           int8  \n",
      " 12  EPOC               int8  \n",
      " 13  ASMA               int8  \n",
      " 14  INMUSUPR           int8  \n",
      " 15  HIPERTENSION       int8  \n",
      " 16  CARDIOVASCULAR     int8  \n",
      " 17  OBESIDAD           int8  \n",
      " 18  RENAL_CRONICA      int8  \n",
      " 19  TABAQUISMO         int8  \n",
      " 20  UCI                int8  \n",
      "dtypes: int8(18), object(3)\n",
      "memory usage: 182.8+ MB\n"
     ]
    }
   ],
   "source": [
    "df.info()"
   ]
  },
  {
   "cell_type": "markdown",
   "id": "1a90456b",
   "metadata": {},
   "source": [
    "## Estrategia\n",
    "\n",
    "Vamos a entrenar dos modelos de aprendizaje automático para:\n",
    "1. Detectar si una persona morirá por COVID-19, tomando en cuenta las afeccione sque padece además de otra información médica y\n",
    "2. En caso de resultar en un pronóstico positivo, pronosticar cuánto tiempo de vida le queda\n",
    "\n",
    "Estos dos modelos predictivos ayudarán en el diagnóstico médico de nuevos pacientes que ingresan a hospitales todos los días, reduciendo la carga de trbajo del personal médico y permitíendoles detectar con mayor facilidad a los pacientes que requiere cuidado prioritario.\n",
    "\n",
    "Los atributos que se usarán para entrenar los modelos son:\n",
    "- Edad\n",
    "- Si es paciente hospitalizado o ambulatorio\n",
    "- Afecciones previas con las que cuenta\n",
    "- Días que han pasado desde que presentó los síntomas hasta que fue hospitalizado\n",
    "   \n",
    "Obviamente, debido a que entrenaremos dos modelos, uno de clasificación y otro de regresión, necesitamos dos etiquetas diferentes. Estas etiquetas son:\n",
    "\n",
    "- Si la personas falleció o no\n",
    "- Días que pasaron desde que la persona fue hospitalizado hasta que falleció\n",
    "\n",
    "Los dos subsets de datos compartirán las mismas características, pero un subset tendrá la primera etiqueta mientras que el otro subset se que da con la etiqueta restante"
   ]
  },
  {
   "cell_type": "markdown",
   "id": "798bb77c",
   "metadata": {},
   "source": [
    "## Selección de Datos\n",
    "Cuatro columnas no son de nuestro interés en ninguno de los modelos: SECTOR, ENTIDAD_UM, INTUBADO y UCI por lo que se eliminarán"
   ]
  },
  {
   "cell_type": "code",
   "execution_count": 7,
   "id": "ee44aa89",
   "metadata": {},
   "outputs": [],
   "source": [
    "df.drop(['SECTOR', 'ENTIDAD_UM', 'INTUBADO', 'UCI'], axis=1, inplace=True)"
   ]
  },
  {
   "cell_type": "code",
   "execution_count": 8,
   "id": "3078fbe9",
   "metadata": {},
   "outputs": [
    {
     "data": {
      "text/plain": [
       "Index(['SEXO', 'PAC_HOSPITALIZADO', 'FECHA_INGRESO', 'FECHA_SINTOMAS',\n",
       "       'FECHA_DEF', 'NEUMONIA', 'EDAD', 'EMBARAZO', 'DIABETES', 'EPOC', 'ASMA',\n",
       "       'INMUSUPR', 'HIPERTENSION', 'CARDIOVASCULAR', 'OBESIDAD',\n",
       "       'RENAL_CRONICA', 'TABAQUISMO'],\n",
       "      dtype='object')"
      ]
     },
     "execution_count": 8,
     "metadata": {},
     "output_type": "execute_result"
    }
   ],
   "source": [
    "df.columns"
   ]
  },
  {
   "cell_type": "markdown",
   "id": "8e6db458",
   "metadata": {},
   "source": [
    "## Transformación de Datos\n",
    "Ambos datasets requieren de un campo que cuente los días desde que el paciente presentó síntomas hasta que ingresó a la unidad médica. Para ello realizaremos operaciones entre fecha.\n"
   ]
  },
  {
   "cell_type": "code",
   "execution_count": 9,
   "id": "fd13076a",
   "metadata": {},
   "outputs": [],
   "source": [
    "import datetime"
   ]
  },
  {
   "cell_type": "code",
   "execution_count": 10,
   "id": "9937afbb",
   "metadata": {},
   "outputs": [],
   "source": [
    "def dias_desde_sintomas_a_ingreso(x):\n",
    "    fecha_sintomas = datetime.date.fromisoformat(x['FECHA_SINTOMAS'])\n",
    "    fecha_ingreso = datetime.date.fromisoformat(x['FECHA_INGRESO'])\n",
    "    return (fecha_ingreso - fecha_sintomas).days"
   ]
  },
  {
   "cell_type": "code",
   "execution_count": 11,
   "id": "78b94d50",
   "metadata": {},
   "outputs": [],
   "source": [
    "# Esto puede tardar un rato\n",
    "df['DIAS_SINTOMAS'] = df[['FECHA_SINTOMAS', 'FECHA_INGRESO']].apply(dias_desde_sintomas_a_ingreso, axis=1).astype('int8')"
   ]
  },
  {
   "cell_type": "code",
   "execution_count": 12,
   "id": "3db4607e",
   "metadata": {},
   "outputs": [
    {
     "data": {
      "text/html": [
       "<div>\n",
       "<style scoped>\n",
       "    .dataframe tbody tr th:only-of-type {\n",
       "        vertical-align: middle;\n",
       "    }\n",
       "\n",
       "    .dataframe tbody tr th {\n",
       "        vertical-align: top;\n",
       "    }\n",
       "\n",
       "    .dataframe thead th {\n",
       "        text-align: right;\n",
       "    }\n",
       "</style>\n",
       "<table border=\"1\" class=\"dataframe\">\n",
       "  <thead>\n",
       "    <tr style=\"text-align: right;\">\n",
       "      <th></th>\n",
       "      <th>SEXO</th>\n",
       "      <th>PAC_HOSPITALIZADO</th>\n",
       "      <th>FECHA_INGRESO</th>\n",
       "      <th>FECHA_SINTOMAS</th>\n",
       "      <th>FECHA_DEF</th>\n",
       "      <th>NEUMONIA</th>\n",
       "      <th>EDAD</th>\n",
       "      <th>EMBARAZO</th>\n",
       "      <th>DIABETES</th>\n",
       "      <th>EPOC</th>\n",
       "      <th>ASMA</th>\n",
       "      <th>INMUSUPR</th>\n",
       "      <th>HIPERTENSION</th>\n",
       "      <th>CARDIOVASCULAR</th>\n",
       "      <th>OBESIDAD</th>\n",
       "      <th>RENAL_CRONICA</th>\n",
       "      <th>TABAQUISMO</th>\n",
       "      <th>DIAS_SINTOMAS</th>\n",
       "    </tr>\n",
       "  </thead>\n",
       "  <tbody>\n",
       "    <tr>\n",
       "      <th>0</th>\n",
       "      <td>1</td>\n",
       "      <td>0</td>\n",
       "      <td>2020-06-12</td>\n",
       "      <td>2020-06-10</td>\n",
       "      <td>9999-99-99</td>\n",
       "      <td>0</td>\n",
       "      <td>56</td>\n",
       "      <td>0</td>\n",
       "      <td>1</td>\n",
       "      <td>0</td>\n",
       "      <td>0</td>\n",
       "      <td>0</td>\n",
       "      <td>0</td>\n",
       "      <td>0</td>\n",
       "      <td>0</td>\n",
       "      <td>0</td>\n",
       "      <td>0</td>\n",
       "      <td>2</td>\n",
       "    </tr>\n",
       "    <tr>\n",
       "      <th>4</th>\n",
       "      <td>1</td>\n",
       "      <td>0</td>\n",
       "      <td>2020-06-02</td>\n",
       "      <td>2020-05-30</td>\n",
       "      <td>9999-99-99</td>\n",
       "      <td>0</td>\n",
       "      <td>58</td>\n",
       "      <td>0</td>\n",
       "      <td>1</td>\n",
       "      <td>0</td>\n",
       "      <td>0</td>\n",
       "      <td>0</td>\n",
       "      <td>0</td>\n",
       "      <td>0</td>\n",
       "      <td>0</td>\n",
       "      <td>0</td>\n",
       "      <td>0</td>\n",
       "      <td>3</td>\n",
       "    </tr>\n",
       "    <tr>\n",
       "      <th>6</th>\n",
       "      <td>0</td>\n",
       "      <td>0</td>\n",
       "      <td>2020-07-01</td>\n",
       "      <td>2020-06-30</td>\n",
       "      <td>9999-99-99</td>\n",
       "      <td>0</td>\n",
       "      <td>37</td>\n",
       "      <td>0</td>\n",
       "      <td>0</td>\n",
       "      <td>0</td>\n",
       "      <td>0</td>\n",
       "      <td>0</td>\n",
       "      <td>0</td>\n",
       "      <td>0</td>\n",
       "      <td>0</td>\n",
       "      <td>0</td>\n",
       "      <td>0</td>\n",
       "      <td>1</td>\n",
       "    </tr>\n",
       "  </tbody>\n",
       "</table>\n",
       "</div>"
      ],
      "text/plain": [
       "   SEXO  PAC_HOSPITALIZADO FECHA_INGRESO FECHA_SINTOMAS   FECHA_DEF  NEUMONIA  \\\n",
       "0     1                  0    2020-06-12     2020-06-10  9999-99-99         0   \n",
       "4     1                  0    2020-06-02     2020-05-30  9999-99-99         0   \n",
       "6     0                  0    2020-07-01     2020-06-30  9999-99-99         0   \n",
       "\n",
       "   EDAD  EMBARAZO  DIABETES  EPOC  ASMA  INMUSUPR  HIPERTENSION  \\\n",
       "0    56         0         1     0     0         0             0   \n",
       "4    58         0         1     0     0         0             0   \n",
       "6    37         0         0     0     0         0             0   \n",
       "\n",
       "   CARDIOVASCULAR  OBESIDAD  RENAL_CRONICA  TABAQUISMO  DIAS_SINTOMAS  \n",
       "0               0         0              0           0              2  \n",
       "4               0         0              0           0              3  \n",
       "6               0         0              0           0              1  "
      ]
     },
     "execution_count": 12,
     "metadata": {},
     "output_type": "execute_result"
    }
   ],
   "source": [
    "df.head(3)"
   ]
  },
  {
   "cell_type": "code",
   "execution_count": 13,
   "id": "65f72239",
   "metadata": {},
   "outputs": [],
   "source": [
    "# La columna FECHA_SINTOMAS ya no nos servirá, por lo que la desechamos\n",
    "df.drop(['FECHA_SINTOMAS'], axis=1, inplace=True)"
   ]
  },
  {
   "cell_type": "code",
   "execution_count": 14,
   "id": "80d77d3a",
   "metadata": {},
   "outputs": [
    {
     "data": {
      "text/plain": [
       "Index(['SEXO', 'PAC_HOSPITALIZADO', 'FECHA_INGRESO', 'FECHA_DEF', 'NEUMONIA',\n",
       "       'EDAD', 'EMBARAZO', 'DIABETES', 'EPOC', 'ASMA', 'INMUSUPR',\n",
       "       'HIPERTENSION', 'CARDIOVASCULAR', 'OBESIDAD', 'RENAL_CRONICA',\n",
       "       'TABAQUISMO', 'DIAS_SINTOMAS'],\n",
       "      dtype='object')"
      ]
     },
     "execution_count": 14,
     "metadata": {},
     "output_type": "execute_result"
    }
   ],
   "source": [
    "df.columns"
   ]
  },
  {
   "cell_type": "markdown",
   "id": "78e3ed92",
   "metadata": {},
   "source": [
    "### Separación de Datos\n",
    "Ya que a partir de ahora trabajaremos en dos datasets diferentes, los separaremos para mayor comodidad. El dataset usado para clasificación usará todos los datos que tenemos hasta ahora, pero el dataset para regresión usará sólo los registros de las personas fallecidas (aquellas cuya fecha de defuncion no sea 9999-99-99)"
   ]
  },
  {
   "cell_type": "code",
   "execution_count": 15,
   "id": "0aaa11dd",
   "metadata": {},
   "outputs": [],
   "source": [
    "df_fallecido = df\n",
    "df_dias = df[df['FECHA_DEF']!='9999-99-99'].copy()"
   ]
  },
  {
   "cell_type": "code",
   "execution_count": 16,
   "id": "91ae7f31",
   "metadata": {},
   "outputs": [
    {
     "data": {
      "text/plain": [
       "3832786"
      ]
     },
     "execution_count": 16,
     "metadata": {},
     "output_type": "execute_result"
    }
   ],
   "source": [
    "# Registros del dataset de clasificación\n",
    "df_fallecido.shape[0]"
   ]
  },
  {
   "cell_type": "code",
   "execution_count": 17,
   "id": "46f93f64",
   "metadata": {},
   "outputs": [
    {
     "data": {
      "text/plain": [
       "287555"
      ]
     },
     "execution_count": 17,
     "metadata": {},
     "output_type": "execute_result"
    }
   ],
   "source": [
    "# Registros del dataset de regresión\n",
    "df_dias.shape[0]"
   ]
  },
  {
   "cell_type": "markdown",
   "id": "9f373689",
   "metadata": {},
   "source": [
    "Para generar las etiquetas de los subssets de entrenamiento, necesitamos operar con los campos de FECHA. En el caso de lla etiqueta de clasificación, generarla es sencilla.   \n",
    "Para la etiqueta de regresión, tendremos que convertir la fecha a un tipo de dato correcto, y luego hacer cálculos entre fechas"
   ]
  },
  {
   "cell_type": "markdown",
   "id": "ba512029",
   "metadata": {},
   "source": [
    "### Generación de Etiqueta de Clasificación\n",
    "En este caso, la etiqueta es facilmente generada consultado el campo FECHA_DEF en busca de fechas válidad que indiquen sia gluien falleció."
   ]
  },
  {
   "cell_type": "code",
   "execution_count": 18,
   "id": "163af682",
   "metadata": {},
   "outputs": [],
   "source": [
    "df['FALLECIDO'] = (df_fallecido['FECHA_DEF']!='9999-99-99').astype('int8')"
   ]
  },
  {
   "cell_type": "code",
   "execution_count": 19,
   "id": "faf360fb",
   "metadata": {},
   "outputs": [
    {
     "data": {
      "text/html": [
       "<div>\n",
       "<style scoped>\n",
       "    .dataframe tbody tr th:only-of-type {\n",
       "        vertical-align: middle;\n",
       "    }\n",
       "\n",
       "    .dataframe tbody tr th {\n",
       "        vertical-align: top;\n",
       "    }\n",
       "\n",
       "    .dataframe thead th {\n",
       "        text-align: right;\n",
       "    }\n",
       "</style>\n",
       "<table border=\"1\" class=\"dataframe\">\n",
       "  <thead>\n",
       "    <tr style=\"text-align: right;\">\n",
       "      <th></th>\n",
       "      <th>SEXO</th>\n",
       "      <th>PAC_HOSPITALIZADO</th>\n",
       "      <th>FECHA_INGRESO</th>\n",
       "      <th>FECHA_DEF</th>\n",
       "      <th>NEUMONIA</th>\n",
       "      <th>EDAD</th>\n",
       "      <th>EMBARAZO</th>\n",
       "      <th>DIABETES</th>\n",
       "      <th>EPOC</th>\n",
       "      <th>ASMA</th>\n",
       "      <th>INMUSUPR</th>\n",
       "      <th>HIPERTENSION</th>\n",
       "      <th>CARDIOVASCULAR</th>\n",
       "      <th>OBESIDAD</th>\n",
       "      <th>RENAL_CRONICA</th>\n",
       "      <th>TABAQUISMO</th>\n",
       "      <th>DIAS_SINTOMAS</th>\n",
       "      <th>FALLECIDO</th>\n",
       "    </tr>\n",
       "  </thead>\n",
       "  <tbody>\n",
       "    <tr>\n",
       "      <th>0</th>\n",
       "      <td>1</td>\n",
       "      <td>0</td>\n",
       "      <td>2020-06-12</td>\n",
       "      <td>9999-99-99</td>\n",
       "      <td>0</td>\n",
       "      <td>56</td>\n",
       "      <td>0</td>\n",
       "      <td>1</td>\n",
       "      <td>0</td>\n",
       "      <td>0</td>\n",
       "      <td>0</td>\n",
       "      <td>0</td>\n",
       "      <td>0</td>\n",
       "      <td>0</td>\n",
       "      <td>0</td>\n",
       "      <td>0</td>\n",
       "      <td>2</td>\n",
       "      <td>0</td>\n",
       "    </tr>\n",
       "    <tr>\n",
       "      <th>4</th>\n",
       "      <td>1</td>\n",
       "      <td>0</td>\n",
       "      <td>2020-06-02</td>\n",
       "      <td>9999-99-99</td>\n",
       "      <td>0</td>\n",
       "      <td>58</td>\n",
       "      <td>0</td>\n",
       "      <td>1</td>\n",
       "      <td>0</td>\n",
       "      <td>0</td>\n",
       "      <td>0</td>\n",
       "      <td>0</td>\n",
       "      <td>0</td>\n",
       "      <td>0</td>\n",
       "      <td>0</td>\n",
       "      <td>0</td>\n",
       "      <td>3</td>\n",
       "      <td>0</td>\n",
       "    </tr>\n",
       "    <tr>\n",
       "      <th>6</th>\n",
       "      <td>0</td>\n",
       "      <td>0</td>\n",
       "      <td>2020-07-01</td>\n",
       "      <td>9999-99-99</td>\n",
       "      <td>0</td>\n",
       "      <td>37</td>\n",
       "      <td>0</td>\n",
       "      <td>0</td>\n",
       "      <td>0</td>\n",
       "      <td>0</td>\n",
       "      <td>0</td>\n",
       "      <td>0</td>\n",
       "      <td>0</td>\n",
       "      <td>0</td>\n",
       "      <td>0</td>\n",
       "      <td>0</td>\n",
       "      <td>1</td>\n",
       "      <td>0</td>\n",
       "    </tr>\n",
       "  </tbody>\n",
       "</table>\n",
       "</div>"
      ],
      "text/plain": [
       "   SEXO  PAC_HOSPITALIZADO FECHA_INGRESO   FECHA_DEF  NEUMONIA  EDAD  \\\n",
       "0     1                  0    2020-06-12  9999-99-99         0    56   \n",
       "4     1                  0    2020-06-02  9999-99-99         0    58   \n",
       "6     0                  0    2020-07-01  9999-99-99         0    37   \n",
       "\n",
       "   EMBARAZO  DIABETES  EPOC  ASMA  INMUSUPR  HIPERTENSION  CARDIOVASCULAR  \\\n",
       "0         0         1     0     0         0             0               0   \n",
       "4         0         1     0     0         0             0               0   \n",
       "6         0         0     0     0         0             0               0   \n",
       "\n",
       "   OBESIDAD  RENAL_CRONICA  TABAQUISMO  DIAS_SINTOMAS  FALLECIDO  \n",
       "0         0              0           0              2          0  \n",
       "4         0              0           0              3          0  \n",
       "6         0              0           0              1          0  "
      ]
     },
     "execution_count": 19,
     "metadata": {},
     "output_type": "execute_result"
    }
   ],
   "source": [
    "df_fallecido.head(3)"
   ]
  },
  {
   "cell_type": "markdown",
   "id": "3dbfa219",
   "metadata": {},
   "source": [
    "Una vez generados los datos, eliminamos columnas innecesarias (fechas)"
   ]
  },
  {
   "cell_type": "code",
   "execution_count": 20,
   "id": "fbab9288",
   "metadata": {},
   "outputs": [],
   "source": [
    "df_fallecido.drop(['FECHA_INGRESO', 'FECHA_DEF'], axis=1, inplace=True)"
   ]
  },
  {
   "cell_type": "code",
   "execution_count": 21,
   "id": "3cb1b662",
   "metadata": {},
   "outputs": [
    {
     "data": {
      "text/plain": [
       "Index(['SEXO', 'PAC_HOSPITALIZADO', 'NEUMONIA', 'EDAD', 'EMBARAZO', 'DIABETES',\n",
       "       'EPOC', 'ASMA', 'INMUSUPR', 'HIPERTENSION', 'CARDIOVASCULAR',\n",
       "       'OBESIDAD', 'RENAL_CRONICA', 'TABAQUISMO', 'DIAS_SINTOMAS',\n",
       "       'FALLECIDO'],\n",
       "      dtype='object')"
      ]
     },
     "execution_count": 21,
     "metadata": {},
     "output_type": "execute_result"
    }
   ],
   "source": [
    "df_fallecido.columns"
   ]
  },
  {
   "cell_type": "markdown",
   "id": "8efa27b4",
   "metadata": {},
   "source": [
    "### Generación de Etiqueta de Regresión\n",
    "En este caso, el procedimiento involucra operaciones entre fechas, más específicamente una resta entre FECHA_DEF y FECHA_INGRESO, en días."
   ]
  },
  {
   "cell_type": "code",
   "execution_count": 22,
   "id": "041e96b5",
   "metadata": {},
   "outputs": [],
   "source": [
    "def dias_desde_ingreso_a_defuncion(x):\n",
    "    fecha_defuncion = datetime.date.fromisoformat(x['FECHA_DEF'])\n",
    "    fecha_ingreso = datetime.date.fromisoformat(x['FECHA_INGRESO'])\n",
    "    return (fecha_defuncion - fecha_ingreso).days"
   ]
  },
  {
   "cell_type": "code",
   "execution_count": 23,
   "id": "3eda9e7d",
   "metadata": {},
   "outputs": [],
   "source": [
    "# Esto puede tardar un rato\n",
    "df_dias['DIAS_DEF'] = df_dias[['FECHA_INGRESO', 'FECHA_DEF']].apply(dias_desde_ingreso_a_defuncion, axis=1).astype('int16')"
   ]
  },
  {
   "cell_type": "markdown",
   "id": "713505a5",
   "metadata": {},
   "source": [
    "Para asegurarnos coherencia con la etiqueta, eliminaremos todos aquellos registros donde el tiempo en días sea negativo."
   ]
  },
  {
   "cell_type": "code",
   "execution_count": 24,
   "id": "a38a900b",
   "metadata": {},
   "outputs": [],
   "source": [
    "rows = df_dias[df_dias['DIAS_DEF']<0].index\n",
    "df_dias.drop(rows, axis=0, inplace=True)"
   ]
  },
  {
   "cell_type": "code",
   "execution_count": 25,
   "id": "50750c10",
   "metadata": {},
   "outputs": [
    {
     "data": {
      "text/html": [
       "<div>\n",
       "<style scoped>\n",
       "    .dataframe tbody tr th:only-of-type {\n",
       "        vertical-align: middle;\n",
       "    }\n",
       "\n",
       "    .dataframe tbody tr th {\n",
       "        vertical-align: top;\n",
       "    }\n",
       "\n",
       "    .dataframe thead th {\n",
       "        text-align: right;\n",
       "    }\n",
       "</style>\n",
       "<table border=\"1\" class=\"dataframe\">\n",
       "  <thead>\n",
       "    <tr style=\"text-align: right;\">\n",
       "      <th></th>\n",
       "      <th>SEXO</th>\n",
       "      <th>PAC_HOSPITALIZADO</th>\n",
       "      <th>FECHA_INGRESO</th>\n",
       "      <th>FECHA_DEF</th>\n",
       "      <th>NEUMONIA</th>\n",
       "      <th>EDAD</th>\n",
       "      <th>EMBARAZO</th>\n",
       "      <th>DIABETES</th>\n",
       "      <th>EPOC</th>\n",
       "      <th>ASMA</th>\n",
       "      <th>INMUSUPR</th>\n",
       "      <th>HIPERTENSION</th>\n",
       "      <th>CARDIOVASCULAR</th>\n",
       "      <th>OBESIDAD</th>\n",
       "      <th>RENAL_CRONICA</th>\n",
       "      <th>TABAQUISMO</th>\n",
       "      <th>DIAS_SINTOMAS</th>\n",
       "      <th>DIAS_DEF</th>\n",
       "    </tr>\n",
       "  </thead>\n",
       "  <tbody>\n",
       "    <tr>\n",
       "      <th>73</th>\n",
       "      <td>1</td>\n",
       "      <td>1</td>\n",
       "      <td>2020-07-20</td>\n",
       "      <td>2020-07-21</td>\n",
       "      <td>1</td>\n",
       "      <td>66</td>\n",
       "      <td>0</td>\n",
       "      <td>1</td>\n",
       "      <td>0</td>\n",
       "      <td>0</td>\n",
       "      <td>0</td>\n",
       "      <td>1</td>\n",
       "      <td>0</td>\n",
       "      <td>1</td>\n",
       "      <td>0</td>\n",
       "      <td>0</td>\n",
       "      <td>3</td>\n",
       "      <td>1</td>\n",
       "    </tr>\n",
       "    <tr>\n",
       "      <th>186</th>\n",
       "      <td>1</td>\n",
       "      <td>1</td>\n",
       "      <td>2020-12-15</td>\n",
       "      <td>2020-12-15</td>\n",
       "      <td>1</td>\n",
       "      <td>30</td>\n",
       "      <td>0</td>\n",
       "      <td>0</td>\n",
       "      <td>0</td>\n",
       "      <td>0</td>\n",
       "      <td>0</td>\n",
       "      <td>0</td>\n",
       "      <td>0</td>\n",
       "      <td>0</td>\n",
       "      <td>1</td>\n",
       "      <td>0</td>\n",
       "      <td>0</td>\n",
       "      <td>0</td>\n",
       "    </tr>\n",
       "    <tr>\n",
       "      <th>217</th>\n",
       "      <td>0</td>\n",
       "      <td>1</td>\n",
       "      <td>2020-12-14</td>\n",
       "      <td>2020-12-17</td>\n",
       "      <td>1</td>\n",
       "      <td>58</td>\n",
       "      <td>0</td>\n",
       "      <td>1</td>\n",
       "      <td>0</td>\n",
       "      <td>0</td>\n",
       "      <td>0</td>\n",
       "      <td>1</td>\n",
       "      <td>1</td>\n",
       "      <td>0</td>\n",
       "      <td>1</td>\n",
       "      <td>0</td>\n",
       "      <td>2</td>\n",
       "      <td>3</td>\n",
       "    </tr>\n",
       "  </tbody>\n",
       "</table>\n",
       "</div>"
      ],
      "text/plain": [
       "     SEXO  PAC_HOSPITALIZADO FECHA_INGRESO   FECHA_DEF  NEUMONIA  EDAD  \\\n",
       "73      1                  1    2020-07-20  2020-07-21         1    66   \n",
       "186     1                  1    2020-12-15  2020-12-15         1    30   \n",
       "217     0                  1    2020-12-14  2020-12-17         1    58   \n",
       "\n",
       "     EMBARAZO  DIABETES  EPOC  ASMA  INMUSUPR  HIPERTENSION  CARDIOVASCULAR  \\\n",
       "73          0         1     0     0         0             1               0   \n",
       "186         0         0     0     0         0             0               0   \n",
       "217         0         1     0     0         0             1               1   \n",
       "\n",
       "     OBESIDAD  RENAL_CRONICA  TABAQUISMO  DIAS_SINTOMAS  DIAS_DEF  \n",
       "73          1              0           0              3         1  \n",
       "186         0              1           0              0         0  \n",
       "217         0              1           0              2         3  "
      ]
     },
     "execution_count": 25,
     "metadata": {},
     "output_type": "execute_result"
    }
   ],
   "source": [
    "df_dias.head(3)"
   ]
  },
  {
   "cell_type": "markdown",
   "id": "327ed500",
   "metadata": {},
   "source": [
    "Una vez generados los datos, eliminamos columnas innecesarias"
   ]
  },
  {
   "cell_type": "code",
   "execution_count": 26,
   "id": "6100156a",
   "metadata": {},
   "outputs": [],
   "source": [
    "df_dias.drop(['FECHA_INGRESO', 'FECHA_DEF'], axis=1, inplace=True)"
   ]
  },
  {
   "cell_type": "code",
   "execution_count": 27,
   "id": "dac5c89a",
   "metadata": {},
   "outputs": [
    {
     "data": {
      "text/plain": [
       "Index(['SEXO', 'PAC_HOSPITALIZADO', 'NEUMONIA', 'EDAD', 'EMBARAZO', 'DIABETES',\n",
       "       'EPOC', 'ASMA', 'INMUSUPR', 'HIPERTENSION', 'CARDIOVASCULAR',\n",
       "       'OBESIDAD', 'RENAL_CRONICA', 'TABAQUISMO', 'DIAS_SINTOMAS', 'DIAS_DEF'],\n",
       "      dtype='object')"
      ]
     },
     "execution_count": 27,
     "metadata": {},
     "output_type": "execute_result"
    }
   ],
   "source": [
    "df_dias.columns"
   ]
  },
  {
   "cell_type": "code",
   "execution_count": 28,
   "id": "f765ce66",
   "metadata": {},
   "outputs": [
    {
     "data": {
      "text/html": [
       "<div>\n",
       "<style scoped>\n",
       "    .dataframe tbody tr th:only-of-type {\n",
       "        vertical-align: middle;\n",
       "    }\n",
       "\n",
       "    .dataframe tbody tr th {\n",
       "        vertical-align: top;\n",
       "    }\n",
       "\n",
       "    .dataframe thead th {\n",
       "        text-align: right;\n",
       "    }\n",
       "</style>\n",
       "<table border=\"1\" class=\"dataframe\">\n",
       "  <thead>\n",
       "    <tr style=\"text-align: right;\">\n",
       "      <th></th>\n",
       "      <th>SEXO</th>\n",
       "      <th>PAC_HOSPITALIZADO</th>\n",
       "      <th>NEUMONIA</th>\n",
       "      <th>EDAD</th>\n",
       "      <th>EMBARAZO</th>\n",
       "      <th>DIABETES</th>\n",
       "      <th>EPOC</th>\n",
       "      <th>ASMA</th>\n",
       "      <th>INMUSUPR</th>\n",
       "      <th>HIPERTENSION</th>\n",
       "      <th>CARDIOVASCULAR</th>\n",
       "      <th>OBESIDAD</th>\n",
       "      <th>RENAL_CRONICA</th>\n",
       "      <th>TABAQUISMO</th>\n",
       "      <th>DIAS_SINTOMAS</th>\n",
       "      <th>DIAS_DEF</th>\n",
       "    </tr>\n",
       "  </thead>\n",
       "  <tbody>\n",
       "    <tr>\n",
       "      <th>73</th>\n",
       "      <td>1</td>\n",
       "      <td>1</td>\n",
       "      <td>1</td>\n",
       "      <td>66</td>\n",
       "      <td>0</td>\n",
       "      <td>1</td>\n",
       "      <td>0</td>\n",
       "      <td>0</td>\n",
       "      <td>0</td>\n",
       "      <td>1</td>\n",
       "      <td>0</td>\n",
       "      <td>1</td>\n",
       "      <td>0</td>\n",
       "      <td>0</td>\n",
       "      <td>3</td>\n",
       "      <td>1</td>\n",
       "    </tr>\n",
       "    <tr>\n",
       "      <th>186</th>\n",
       "      <td>1</td>\n",
       "      <td>1</td>\n",
       "      <td>1</td>\n",
       "      <td>30</td>\n",
       "      <td>0</td>\n",
       "      <td>0</td>\n",
       "      <td>0</td>\n",
       "      <td>0</td>\n",
       "      <td>0</td>\n",
       "      <td>0</td>\n",
       "      <td>0</td>\n",
       "      <td>0</td>\n",
       "      <td>1</td>\n",
       "      <td>0</td>\n",
       "      <td>0</td>\n",
       "      <td>0</td>\n",
       "    </tr>\n",
       "    <tr>\n",
       "      <th>217</th>\n",
       "      <td>0</td>\n",
       "      <td>1</td>\n",
       "      <td>1</td>\n",
       "      <td>58</td>\n",
       "      <td>0</td>\n",
       "      <td>1</td>\n",
       "      <td>0</td>\n",
       "      <td>0</td>\n",
       "      <td>0</td>\n",
       "      <td>1</td>\n",
       "      <td>1</td>\n",
       "      <td>0</td>\n",
       "      <td>1</td>\n",
       "      <td>0</td>\n",
       "      <td>2</td>\n",
       "      <td>3</td>\n",
       "    </tr>\n",
       "    <tr>\n",
       "      <th>25663</th>\n",
       "      <td>0</td>\n",
       "      <td>1</td>\n",
       "      <td>1</td>\n",
       "      <td>47</td>\n",
       "      <td>0</td>\n",
       "      <td>1</td>\n",
       "      <td>0</td>\n",
       "      <td>0</td>\n",
       "      <td>0</td>\n",
       "      <td>1</td>\n",
       "      <td>0</td>\n",
       "      <td>0</td>\n",
       "      <td>0</td>\n",
       "      <td>0</td>\n",
       "      <td>0</td>\n",
       "      <td>12</td>\n",
       "    </tr>\n",
       "    <tr>\n",
       "      <th>25879</th>\n",
       "      <td>1</td>\n",
       "      <td>1</td>\n",
       "      <td>1</td>\n",
       "      <td>83</td>\n",
       "      <td>0</td>\n",
       "      <td>1</td>\n",
       "      <td>1</td>\n",
       "      <td>1</td>\n",
       "      <td>0</td>\n",
       "      <td>1</td>\n",
       "      <td>1</td>\n",
       "      <td>0</td>\n",
       "      <td>0</td>\n",
       "      <td>0</td>\n",
       "      <td>0</td>\n",
       "      <td>6</td>\n",
       "    </tr>\n",
       "    <tr>\n",
       "      <th>...</th>\n",
       "      <td>...</td>\n",
       "      <td>...</td>\n",
       "      <td>...</td>\n",
       "      <td>...</td>\n",
       "      <td>...</td>\n",
       "      <td>...</td>\n",
       "      <td>...</td>\n",
       "      <td>...</td>\n",
       "      <td>...</td>\n",
       "      <td>...</td>\n",
       "      <td>...</td>\n",
       "      <td>...</td>\n",
       "      <td>...</td>\n",
       "      <td>...</td>\n",
       "      <td>...</td>\n",
       "      <td>...</td>\n",
       "    </tr>\n",
       "    <tr>\n",
       "      <th>11692980</th>\n",
       "      <td>0</td>\n",
       "      <td>1</td>\n",
       "      <td>1</td>\n",
       "      <td>49</td>\n",
       "      <td>0</td>\n",
       "      <td>1</td>\n",
       "      <td>0</td>\n",
       "      <td>0</td>\n",
       "      <td>0</td>\n",
       "      <td>1</td>\n",
       "      <td>0</td>\n",
       "      <td>0</td>\n",
       "      <td>0</td>\n",
       "      <td>0</td>\n",
       "      <td>2</td>\n",
       "      <td>0</td>\n",
       "    </tr>\n",
       "    <tr>\n",
       "      <th>11696417</th>\n",
       "      <td>0</td>\n",
       "      <td>1</td>\n",
       "      <td>1</td>\n",
       "      <td>56</td>\n",
       "      <td>0</td>\n",
       "      <td>0</td>\n",
       "      <td>0</td>\n",
       "      <td>0</td>\n",
       "      <td>0</td>\n",
       "      <td>1</td>\n",
       "      <td>0</td>\n",
       "      <td>0</td>\n",
       "      <td>0</td>\n",
       "      <td>0</td>\n",
       "      <td>0</td>\n",
       "      <td>1</td>\n",
       "    </tr>\n",
       "    <tr>\n",
       "      <th>11698688</th>\n",
       "      <td>0</td>\n",
       "      <td>1</td>\n",
       "      <td>0</td>\n",
       "      <td>86</td>\n",
       "      <td>0</td>\n",
       "      <td>1</td>\n",
       "      <td>0</td>\n",
       "      <td>0</td>\n",
       "      <td>0</td>\n",
       "      <td>1</td>\n",
       "      <td>0</td>\n",
       "      <td>0</td>\n",
       "      <td>0</td>\n",
       "      <td>0</td>\n",
       "      <td>4</td>\n",
       "      <td>1</td>\n",
       "    </tr>\n",
       "    <tr>\n",
       "      <th>11701799</th>\n",
       "      <td>0</td>\n",
       "      <td>1</td>\n",
       "      <td>1</td>\n",
       "      <td>47</td>\n",
       "      <td>0</td>\n",
       "      <td>1</td>\n",
       "      <td>0</td>\n",
       "      <td>0</td>\n",
       "      <td>0</td>\n",
       "      <td>0</td>\n",
       "      <td>0</td>\n",
       "      <td>1</td>\n",
       "      <td>0</td>\n",
       "      <td>0</td>\n",
       "      <td>2</td>\n",
       "      <td>5</td>\n",
       "    </tr>\n",
       "    <tr>\n",
       "      <th>11701820</th>\n",
       "      <td>1</td>\n",
       "      <td>1</td>\n",
       "      <td>1</td>\n",
       "      <td>81</td>\n",
       "      <td>0</td>\n",
       "      <td>1</td>\n",
       "      <td>0</td>\n",
       "      <td>0</td>\n",
       "      <td>0</td>\n",
       "      <td>1</td>\n",
       "      <td>0</td>\n",
       "      <td>0</td>\n",
       "      <td>0</td>\n",
       "      <td>0</td>\n",
       "      <td>2</td>\n",
       "      <td>1</td>\n",
       "    </tr>\n",
       "  </tbody>\n",
       "</table>\n",
       "<p>287282 rows × 16 columns</p>\n",
       "</div>"
      ],
      "text/plain": [
       "          SEXO  PAC_HOSPITALIZADO  NEUMONIA  EDAD  EMBARAZO  DIABETES  EPOC  \\\n",
       "73           1                  1         1    66         0         1     0   \n",
       "186          1                  1         1    30         0         0     0   \n",
       "217          0                  1         1    58         0         1     0   \n",
       "25663        0                  1         1    47         0         1     0   \n",
       "25879        1                  1         1    83         0         1     1   \n",
       "...        ...                ...       ...   ...       ...       ...   ...   \n",
       "11692980     0                  1         1    49         0         1     0   \n",
       "11696417     0                  1         1    56         0         0     0   \n",
       "11698688     0                  1         0    86         0         1     0   \n",
       "11701799     0                  1         1    47         0         1     0   \n",
       "11701820     1                  1         1    81         0         1     0   \n",
       "\n",
       "          ASMA  INMUSUPR  HIPERTENSION  CARDIOVASCULAR  OBESIDAD  \\\n",
       "73           0         0             1               0         1   \n",
       "186          0         0             0               0         0   \n",
       "217          0         0             1               1         0   \n",
       "25663        0         0             1               0         0   \n",
       "25879        1         0             1               1         0   \n",
       "...        ...       ...           ...             ...       ...   \n",
       "11692980     0         0             1               0         0   \n",
       "11696417     0         0             1               0         0   \n",
       "11698688     0         0             1               0         0   \n",
       "11701799     0         0             0               0         1   \n",
       "11701820     0         0             1               0         0   \n",
       "\n",
       "          RENAL_CRONICA  TABAQUISMO  DIAS_SINTOMAS  DIAS_DEF  \n",
       "73                    0           0              3         1  \n",
       "186                   1           0              0         0  \n",
       "217                   1           0              2         3  \n",
       "25663                 0           0              0        12  \n",
       "25879                 0           0              0         6  \n",
       "...                 ...         ...            ...       ...  \n",
       "11692980              0           0              2         0  \n",
       "11696417              0           0              0         1  \n",
       "11698688              0           0              4         1  \n",
       "11701799              0           0              2         5  \n",
       "11701820              0           0              2         1  \n",
       "\n",
       "[287282 rows x 16 columns]"
      ]
     },
     "execution_count": 28,
     "metadata": {},
     "output_type": "execute_result"
    }
   ],
   "source": [
    "df_dias"
   ]
  },
  {
   "cell_type": "markdown",
   "id": "16605443",
   "metadata": {},
   "source": [
    "## Salvamos los datos\n",
    "Una vez generados los subsets de datos, solo habrá que salvarlos en dos archivos diferentes"
   ]
  },
  {
   "cell_type": "code",
   "execution_count": 29,
   "id": "b77b1b99",
   "metadata": {},
   "outputs": [],
   "source": [
    "CLASIF_SUBSET_PATH = os.path.join('..', 'datasets', 'subset_clasif.csv')\n",
    "REGRES_SUBSET_PATH = os.path.join('..', 'datasets', 'subset_regres.csv')"
   ]
  },
  {
   "cell_type": "code",
   "execution_count": 30,
   "id": "07eeb369",
   "metadata": {},
   "outputs": [],
   "source": [
    "df_fallecido.to_csv(CLASIF_SUBSET_PATH)"
   ]
  },
  {
   "cell_type": "code",
   "execution_count": 31,
   "id": "c1872f0a",
   "metadata": {},
   "outputs": [],
   "source": [
    "df_dias.to_csv(REGRES_SUBSET_PATH)"
   ]
  },
  {
   "cell_type": "code",
   "execution_count": null,
   "id": "88b91d15",
   "metadata": {},
   "outputs": [],
   "source": []
  }
 ],
 "metadata": {
  "kernelspec": {
   "display_name": "Python 3",
   "language": "python",
   "name": "python3"
  },
  "language_info": {
   "codemirror_mode": {
    "name": "ipython",
    "version": 3
   },
   "file_extension": ".py",
   "mimetype": "text/x-python",
   "name": "python",
   "nbconvert_exporter": "python",
   "pygments_lexer": "ipython3",
   "version": "3.8.5"
  }
 },
 "nbformat": 4,
 "nbformat_minor": 5
}
