{
 "cells": [
  {
   "cell_type": "code",
   "execution_count": 79,
   "id": "c806862d",
   "metadata": {},
   "outputs": [],
   "source": [
    "import numpy as np\n",
    "import pandas as pd"
   ]
  },
  {
   "cell_type": "markdown",
   "id": "92079acf",
   "metadata": {},
   "source": [
    "# Preparación de Subset para entrenamiento de algoritmos de ML"
   ]
  },
  {
   "cell_type": "code",
   "execution_count": 80,
   "id": "4e6818e2",
   "metadata": {},
   "outputs": [
    {
     "name": "stdout",
     "output_type": "stream",
     "text": [
      "..\\datasets\\Clean_Covid_Dataset.csv\n"
     ]
    }
   ],
   "source": [
    "import os\n",
    "\n",
    "COVID_URL = os.path.join('..', 'datasets', 'Clean_Covid_Dataset.csv')\n",
    "print(COVID_URL)"
   ]
  },
  {
   "cell_type": "code",
   "execution_count": 81,
   "id": "f4303cd3",
   "metadata": {},
   "outputs": [],
   "source": [
    "# Definir el tipo de dato hace el proceso más eficiente\n",
    "types = {\n",
    "    'SECTOR': np.int8,\n",
    "    'ENTIDAD_UM': np.int8,\n",
    "    'SEXO': np.int8,\n",
    "    'PAC_HOSPITALIZADO': np.int8,\n",
    "    'FECHA_INGRESO': 'object',\n",
    "    'FECHA_SINTOMAS': 'object',\n",
    "    'FECHA_DEF': 'object',\n",
    "    'INTUBADO': np.int8,\n",
    "    'NEUMONIA': np.int8,\n",
    "    'EDAD': np.int8,\n",
    "    'EMBARAZO': np.int8,\n",
    "    'DIABETES': np.int8,\n",
    "    'EPOC': np.int8,\n",
    "    'ASMA': np.int8,\n",
    "    'INMUSUPR': np.int8,\n",
    "    'HIPERTENSION':np.int8,\n",
    "    'CARDIOVASCULAR': np.int8,\n",
    "    'OBESIDAD': np.int8,\n",
    "    'RENAL_CRONICA': np.int8,\n",
    "    'TABAQUISMO': np.int8,\n",
    "    'UCI': np.int8\n",
    "}"
   ]
  },
  {
   "cell_type": "code",
   "execution_count": 82,
   "id": "c8c7e106",
   "metadata": {},
   "outputs": [
    {
     "name": "stderr",
     "output_type": "stream",
     "text": [
      "C:\\Users\\Sebastián\\AppData\\Roaming\\Python\\Python38\\site-packages\\numpy\\lib\\arraysetops.py:580: FutureWarning: elementwise comparison failed; returning scalar instead, but in the future will perform elementwise comparison\n",
      "  mask |= (ar1 == a)\n"
     ]
    }
   ],
   "source": [
    "# 'latin' porque contiene acentos\n",
    "df = pd.read_csv(COVID_URL, encoding='latin', dtype=types, index_col=0)"
   ]
  },
  {
   "cell_type": "code",
   "execution_count": 83,
   "id": "6df2d8b1",
   "metadata": {},
   "outputs": [
    {
     "data": {
      "text/html": [
       "<div>\n",
       "<style scoped>\n",
       "    .dataframe tbody tr th:only-of-type {\n",
       "        vertical-align: middle;\n",
       "    }\n",
       "\n",
       "    .dataframe tbody tr th {\n",
       "        vertical-align: top;\n",
       "    }\n",
       "\n",
       "    .dataframe thead th {\n",
       "        text-align: right;\n",
       "    }\n",
       "</style>\n",
       "<table border=\"1\" class=\"dataframe\">\n",
       "  <thead>\n",
       "    <tr style=\"text-align: right;\">\n",
       "      <th></th>\n",
       "      <th>SECTOR</th>\n",
       "      <th>ENTIDAD_UM</th>\n",
       "      <th>SEXO</th>\n",
       "      <th>PAC_HOSPITALIZADO</th>\n",
       "      <th>FECHA_INGRESO</th>\n",
       "      <th>FECHA_SINTOMAS</th>\n",
       "      <th>FECHA_DEF</th>\n",
       "      <th>INTUBADO</th>\n",
       "      <th>NEUMONIA</th>\n",
       "      <th>EDAD</th>\n",
       "      <th>...</th>\n",
       "      <th>DIABETES</th>\n",
       "      <th>EPOC</th>\n",
       "      <th>ASMA</th>\n",
       "      <th>INMUSUPR</th>\n",
       "      <th>HIPERTENSION</th>\n",
       "      <th>CARDIOVASCULAR</th>\n",
       "      <th>OBESIDAD</th>\n",
       "      <th>RENAL_CRONICA</th>\n",
       "      <th>TABAQUISMO</th>\n",
       "      <th>UCI</th>\n",
       "    </tr>\n",
       "  </thead>\n",
       "  <tbody>\n",
       "    <tr>\n",
       "      <th>0</th>\n",
       "      <td>12</td>\n",
       "      <td>9</td>\n",
       "      <td>0</td>\n",
       "      <td>0</td>\n",
       "      <td>2020-10-16</td>\n",
       "      <td>2020-10-16</td>\n",
       "      <td>9999-99-99</td>\n",
       "      <td>0</td>\n",
       "      <td>0</td>\n",
       "      <td>41</td>\n",
       "      <td>...</td>\n",
       "      <td>0</td>\n",
       "      <td>0</td>\n",
       "      <td>0</td>\n",
       "      <td>0</td>\n",
       "      <td>0</td>\n",
       "      <td>0</td>\n",
       "      <td>0</td>\n",
       "      <td>0</td>\n",
       "      <td>0</td>\n",
       "      <td>0</td>\n",
       "    </tr>\n",
       "    <tr>\n",
       "      <th>1</th>\n",
       "      <td>12</td>\n",
       "      <td>23</td>\n",
       "      <td>1</td>\n",
       "      <td>1</td>\n",
       "      <td>2020-07-20</td>\n",
       "      <td>2020-07-17</td>\n",
       "      <td>2020-07-21</td>\n",
       "      <td>1</td>\n",
       "      <td>1</td>\n",
       "      <td>66</td>\n",
       "      <td>...</td>\n",
       "      <td>1</td>\n",
       "      <td>0</td>\n",
       "      <td>0</td>\n",
       "      <td>0</td>\n",
       "      <td>1</td>\n",
       "      <td>0</td>\n",
       "      <td>1</td>\n",
       "      <td>0</td>\n",
       "      <td>0</td>\n",
       "      <td>1</td>\n",
       "    </tr>\n",
       "    <tr>\n",
       "      <th>8</th>\n",
       "      <td>12</td>\n",
       "      <td>12</td>\n",
       "      <td>0</td>\n",
       "      <td>0</td>\n",
       "      <td>2020-08-19</td>\n",
       "      <td>2020-08-17</td>\n",
       "      <td>9999-99-99</td>\n",
       "      <td>0</td>\n",
       "      <td>0</td>\n",
       "      <td>47</td>\n",
       "      <td>...</td>\n",
       "      <td>1</td>\n",
       "      <td>0</td>\n",
       "      <td>0</td>\n",
       "      <td>0</td>\n",
       "      <td>0</td>\n",
       "      <td>0</td>\n",
       "      <td>0</td>\n",
       "      <td>0</td>\n",
       "      <td>0</td>\n",
       "      <td>0</td>\n",
       "    </tr>\n",
       "  </tbody>\n",
       "</table>\n",
       "<p>3 rows × 21 columns</p>\n",
       "</div>"
      ],
      "text/plain": [
       "   SECTOR  ENTIDAD_UM  SEXO  PAC_HOSPITALIZADO FECHA_INGRESO FECHA_SINTOMAS  \\\n",
       "0      12           9     0                  0    2020-10-16     2020-10-16   \n",
       "1      12          23     1                  1    2020-07-20     2020-07-17   \n",
       "8      12          12     0                  0    2020-08-19     2020-08-17   \n",
       "\n",
       "    FECHA_DEF  INTUBADO  NEUMONIA  EDAD  ...  DIABETES  EPOC  ASMA  INMUSUPR  \\\n",
       "0  9999-99-99         0         0    41  ...         0     0     0         0   \n",
       "1  2020-07-21         1         1    66  ...         1     0     0         0   \n",
       "8  9999-99-99         0         0    47  ...         1     0     0         0   \n",
       "\n",
       "   HIPERTENSION  CARDIOVASCULAR  OBESIDAD  RENAL_CRONICA  TABAQUISMO  UCI  \n",
       "0             0               0         0              0           0    0  \n",
       "1             1               0         1              0           0    1  \n",
       "8             0               0         0              0           0    0  \n",
       "\n",
       "[3 rows x 21 columns]"
      ]
     },
     "execution_count": 83,
     "metadata": {},
     "output_type": "execute_result"
    }
   ],
   "source": [
    "df.head(3)"
   ]
  },
  {
   "cell_type": "code",
   "execution_count": 84,
   "id": "3ec7095f",
   "metadata": {},
   "outputs": [
    {
     "name": "stdout",
     "output_type": "stream",
     "text": [
      "<class 'pandas.core.frame.DataFrame'>\n",
      "Int64Index: 3667730 entries, 0 to 10785803\n",
      "Data columns (total 21 columns):\n",
      " #   Column             Dtype \n",
      "---  ------             ----- \n",
      " 0   SECTOR             int8  \n",
      " 1   ENTIDAD_UM         int8  \n",
      " 2   SEXO               int8  \n",
      " 3   PAC_HOSPITALIZADO  int8  \n",
      " 4   FECHA_INGRESO      object\n",
      " 5   FECHA_SINTOMAS     object\n",
      " 6   FECHA_DEF          object\n",
      " 7   INTUBADO           int8  \n",
      " 8   NEUMONIA           int8  \n",
      " 9   EDAD               int8  \n",
      " 10  EMBARAZO           int8  \n",
      " 11  DIABETES           int8  \n",
      " 12  EPOC               int8  \n",
      " 13  ASMA               int8  \n",
      " 14  INMUSUPR           int8  \n",
      " 15  HIPERTENSION       int8  \n",
      " 16  CARDIOVASCULAR     int8  \n",
      " 17  OBESIDAD           int8  \n",
      " 18  RENAL_CRONICA      int8  \n",
      " 19  TABAQUISMO         int8  \n",
      " 20  UCI                int8  \n",
      "dtypes: int8(18), object(3)\n",
      "memory usage: 174.9+ MB\n"
     ]
    }
   ],
   "source": [
    "df.info()"
   ]
  },
  {
   "cell_type": "markdown",
   "id": "9e84b1ce",
   "metadata": {},
   "source": [
    "## Estrategia\n",
    "\n",
    "Vamos a entrenar dos modelos de aprendizaje automático para:\n",
    "1. Detectar si una persona morirá por COVID-19, tomando en cuenta las afeccione sque padece además de otra información médica y\n",
    "2. En caso de resultar en un pronóstico positivo, pronosticar cuánto tiempo de vida le queda\n",
    "\n",
    "Estos dos modelos predictivos ayudarán en el diagnóstico médico de nuevos pacientes que ingresan a hospitales todos los días, reduciendo la carga de trbajo del personal médico y permitíendoles detectar con mayor facilidad a los pacientes que requiere cuidado prioritario.\n",
    "\n",
    "Los atributos que se usarán para entrenar los modelos son:\n",
    "- Edad\n",
    "- Si es paciente hospitalizado o ambulatorio\n",
    "- Afecciones previas con las que cuenta\n",
    "- Días que han pasado desde que presentó los síntomas hasta que fue hospitalizado\n",
    "   \n",
    "Obviamente, debido a que entrenaremos dos modelos, uno de clasificación y otro de regresión, necesitamos dos etiquetas diferentes. Estas etiquetas son:\n",
    "\n",
    "- Si la personas falleció o no\n",
    "- Días que pasaron desde que la persona fue hospitalizado hasta que falleció\n",
    "\n",
    "Los dos subsets de datos compartirán las mismas características, pero un subset tendrá la primera etiqueta mientras que el otro subset se que da con la etiqueta restante"
   ]
  },
  {
   "cell_type": "markdown",
   "id": "8dabe376",
   "metadata": {},
   "source": [
    "## Selección de Datos\n",
    "Cuatro columnas no son de nuestro interés en ninguno de los modelos: SECTOR, ENTIDAD_UM, INTUBADO y UCI por lo que se eliminarán"
   ]
  },
  {
   "cell_type": "code",
   "execution_count": 85,
   "id": "c7d2a929",
   "metadata": {},
   "outputs": [],
   "source": [
    "df.drop(['SECTOR', 'ENTIDAD_UM', 'INTUBADO', 'UCI'], axis=1, inplace=True)"
   ]
  },
  {
   "cell_type": "code",
   "execution_count": 86,
   "id": "a0bb3d67",
   "metadata": {},
   "outputs": [
    {
     "data": {
      "text/plain": [
       "Index(['SEXO', 'PAC_HOSPITALIZADO', 'FECHA_INGRESO', 'FECHA_SINTOMAS',\n",
       "       'FECHA_DEF', 'NEUMONIA', 'EDAD', 'EMBARAZO', 'DIABETES', 'EPOC', 'ASMA',\n",
       "       'INMUSUPR', 'HIPERTENSION', 'CARDIOVASCULAR', 'OBESIDAD',\n",
       "       'RENAL_CRONICA', 'TABAQUISMO'],\n",
       "      dtype='object')"
      ]
     },
     "execution_count": 86,
     "metadata": {},
     "output_type": "execute_result"
    }
   ],
   "source": [
    "df.columns"
   ]
  },
  {
   "cell_type": "markdown",
   "id": "baf49a31",
   "metadata": {},
   "source": [
    "## Transformación de Datos\n",
    "Ambos datasets requieren de un campo que cuente los días desde que el paciente presentó síntomas hasta que ingresó a la unidad médica. Para ello realizaremos operaciones entre fecha.\n"
   ]
  },
  {
   "cell_type": "code",
   "execution_count": 87,
   "id": "f246e8b7",
   "metadata": {},
   "outputs": [],
   "source": [
    "import datetime"
   ]
  },
  {
   "cell_type": "code",
   "execution_count": 88,
   "id": "1dc18a9d",
   "metadata": {},
   "outputs": [],
   "source": [
    "def dias_desde_sintomas_a_ingreso(x):\n",
    "    fecha_sintomas = datetime.date.fromisoformat(x['FECHA_SINTOMAS'])\n",
    "    fecha_ingreso = datetime.date.fromisoformat(x['FECHA_INGRESO'])\n",
    "    return (fecha_ingreso - fecha_sintomas).days"
   ]
  },
  {
   "cell_type": "code",
   "execution_count": 89,
   "id": "a44cafea",
   "metadata": {},
   "outputs": [],
   "source": [
    "df['DIAS_SINTOMAS'] = df[['FECHA_SINTOMAS', 'FECHA_INGRESO']].apply(dias_desde_sintomas_a_ingreso, axis=1).astype('int8')"
   ]
  },
  {
   "cell_type": "code",
   "execution_count": 90,
   "id": "bd99293c",
   "metadata": {},
   "outputs": [
    {
     "data": {
      "text/html": [
       "<div>\n",
       "<style scoped>\n",
       "    .dataframe tbody tr th:only-of-type {\n",
       "        vertical-align: middle;\n",
       "    }\n",
       "\n",
       "    .dataframe tbody tr th {\n",
       "        vertical-align: top;\n",
       "    }\n",
       "\n",
       "    .dataframe thead th {\n",
       "        text-align: right;\n",
       "    }\n",
       "</style>\n",
       "<table border=\"1\" class=\"dataframe\">\n",
       "  <thead>\n",
       "    <tr style=\"text-align: right;\">\n",
       "      <th></th>\n",
       "      <th>SEXO</th>\n",
       "      <th>PAC_HOSPITALIZADO</th>\n",
       "      <th>FECHA_INGRESO</th>\n",
       "      <th>FECHA_SINTOMAS</th>\n",
       "      <th>FECHA_DEF</th>\n",
       "      <th>NEUMONIA</th>\n",
       "      <th>EDAD</th>\n",
       "      <th>EMBARAZO</th>\n",
       "      <th>DIABETES</th>\n",
       "      <th>EPOC</th>\n",
       "      <th>ASMA</th>\n",
       "      <th>INMUSUPR</th>\n",
       "      <th>HIPERTENSION</th>\n",
       "      <th>CARDIOVASCULAR</th>\n",
       "      <th>OBESIDAD</th>\n",
       "      <th>RENAL_CRONICA</th>\n",
       "      <th>TABAQUISMO</th>\n",
       "      <th>DIAS_SINTOMAS</th>\n",
       "    </tr>\n",
       "  </thead>\n",
       "  <tbody>\n",
       "    <tr>\n",
       "      <th>0</th>\n",
       "      <td>0</td>\n",
       "      <td>0</td>\n",
       "      <td>2020-10-16</td>\n",
       "      <td>2020-10-16</td>\n",
       "      <td>9999-99-99</td>\n",
       "      <td>0</td>\n",
       "      <td>41</td>\n",
       "      <td>0</td>\n",
       "      <td>0</td>\n",
       "      <td>0</td>\n",
       "      <td>0</td>\n",
       "      <td>0</td>\n",
       "      <td>0</td>\n",
       "      <td>0</td>\n",
       "      <td>0</td>\n",
       "      <td>0</td>\n",
       "      <td>0</td>\n",
       "      <td>0</td>\n",
       "    </tr>\n",
       "    <tr>\n",
       "      <th>1</th>\n",
       "      <td>1</td>\n",
       "      <td>1</td>\n",
       "      <td>2020-07-20</td>\n",
       "      <td>2020-07-17</td>\n",
       "      <td>2020-07-21</td>\n",
       "      <td>1</td>\n",
       "      <td>66</td>\n",
       "      <td>0</td>\n",
       "      <td>1</td>\n",
       "      <td>0</td>\n",
       "      <td>0</td>\n",
       "      <td>0</td>\n",
       "      <td>1</td>\n",
       "      <td>0</td>\n",
       "      <td>1</td>\n",
       "      <td>0</td>\n",
       "      <td>0</td>\n",
       "      <td>3</td>\n",
       "    </tr>\n",
       "    <tr>\n",
       "      <th>8</th>\n",
       "      <td>0</td>\n",
       "      <td>0</td>\n",
       "      <td>2020-08-19</td>\n",
       "      <td>2020-08-17</td>\n",
       "      <td>9999-99-99</td>\n",
       "      <td>0</td>\n",
       "      <td>47</td>\n",
       "      <td>0</td>\n",
       "      <td>1</td>\n",
       "      <td>0</td>\n",
       "      <td>0</td>\n",
       "      <td>0</td>\n",
       "      <td>0</td>\n",
       "      <td>0</td>\n",
       "      <td>0</td>\n",
       "      <td>0</td>\n",
       "      <td>0</td>\n",
       "      <td>2</td>\n",
       "    </tr>\n",
       "  </tbody>\n",
       "</table>\n",
       "</div>"
      ],
      "text/plain": [
       "   SEXO  PAC_HOSPITALIZADO FECHA_INGRESO FECHA_SINTOMAS   FECHA_DEF  NEUMONIA  \\\n",
       "0     0                  0    2020-10-16     2020-10-16  9999-99-99         0   \n",
       "1     1                  1    2020-07-20     2020-07-17  2020-07-21         1   \n",
       "8     0                  0    2020-08-19     2020-08-17  9999-99-99         0   \n",
       "\n",
       "   EDAD  EMBARAZO  DIABETES  EPOC  ASMA  INMUSUPR  HIPERTENSION  \\\n",
       "0    41         0         0     0     0         0             0   \n",
       "1    66         0         1     0     0         0             1   \n",
       "8    47         0         1     0     0         0             0   \n",
       "\n",
       "   CARDIOVASCULAR  OBESIDAD  RENAL_CRONICA  TABAQUISMO  DIAS_SINTOMAS  \n",
       "0               0         0              0           0              0  \n",
       "1               0         1              0           0              3  \n",
       "8               0         0              0           0              2  "
      ]
     },
     "execution_count": 90,
     "metadata": {},
     "output_type": "execute_result"
    }
   ],
   "source": [
    "df.head(3)"
   ]
  },
  {
   "cell_type": "code",
   "execution_count": 91,
   "id": "5d5c46e1",
   "metadata": {},
   "outputs": [],
   "source": [
    "# La columna FECHA_SINTOMAS ya no nos servirá, por lo que la desechamos\n",
    "df.drop(['FECHA_SINTOMAS'], axis=1, inplace=True)"
   ]
  },
  {
   "cell_type": "code",
   "execution_count": 92,
   "id": "82ccfdbf",
   "metadata": {},
   "outputs": [
    {
     "data": {
      "text/plain": [
       "Index(['SEXO', 'PAC_HOSPITALIZADO', 'FECHA_INGRESO', 'FECHA_DEF', 'NEUMONIA',\n",
       "       'EDAD', 'EMBARAZO', 'DIABETES', 'EPOC', 'ASMA', 'INMUSUPR',\n",
       "       'HIPERTENSION', 'CARDIOVASCULAR', 'OBESIDAD', 'RENAL_CRONICA',\n",
       "       'TABAQUISMO', 'DIAS_SINTOMAS'],\n",
       "      dtype='object')"
      ]
     },
     "execution_count": 92,
     "metadata": {},
     "output_type": "execute_result"
    }
   ],
   "source": [
    "df.columns"
   ]
  },
  {
   "cell_type": "markdown",
   "id": "099ef95f",
   "metadata": {},
   "source": [
    "### Separación de Datos\n",
    "Ya que a partir de ahora trabajaremos en dos datasets diferentes, los separaremos para mayor comodidad. El dataset usado para clasificación usará todos los datos que tenemos hasta ahora, pero el dataset para regresión usará sólo los registros de las personas fallecidas (aquellas cuya fecha de defuncion no sea 9999-99-99)"
   ]
  },
  {
   "cell_type": "code",
   "execution_count": 93,
   "id": "17503d7d",
   "metadata": {},
   "outputs": [],
   "source": [
    "df_fallecido = df\n",
    "df_dias = df[df['FECHA_DEF']!='9999-99-99'].copy()"
   ]
  },
  {
   "cell_type": "code",
   "execution_count": 94,
   "id": "55506773",
   "metadata": {},
   "outputs": [
    {
     "data": {
      "text/plain": [
       "3667730"
      ]
     },
     "execution_count": 94,
     "metadata": {},
     "output_type": "execute_result"
    }
   ],
   "source": [
    "# Registros del dataset de clasificación\n",
    "df_fallecido.shape[0]"
   ]
  },
  {
   "cell_type": "code",
   "execution_count": 95,
   "id": "447bb661",
   "metadata": {},
   "outputs": [
    {
     "data": {
      "text/plain": [
       "275496"
      ]
     },
     "execution_count": 95,
     "metadata": {},
     "output_type": "execute_result"
    }
   ],
   "source": [
    "# Registros del dataset de regresión\n",
    "df_dias.shape[0]"
   ]
  },
  {
   "cell_type": "markdown",
   "id": "863b7c9d",
   "metadata": {},
   "source": [
    "Para generar las etiquetas de los subssets de entrenamiento, necesitamos operar con los campos de FECHA. En el caso de lla etiqueta de clasificación, generarla es sencilla.   \n",
    "Para la etiqueta de regresión, tendremos que convertir la fecha a un tipo de dato correcto, y luego hacer cálculos entre fechas"
   ]
  },
  {
   "cell_type": "markdown",
   "id": "36f7385f",
   "metadata": {},
   "source": [
    "### Generación de Etiqueta de Clasificación\n",
    "En este caso, la etiqueta es facilmente generada consultado el campo FECHA_DEF en busca de fechas válidad que indiquen sia gluien falleció."
   ]
  },
  {
   "cell_type": "code",
   "execution_count": 96,
   "id": "05c2f3ea",
   "metadata": {},
   "outputs": [],
   "source": [
    "df['FALLECIDO'] = (df_fallecido['FECHA_DEF']!='9999-99-99').astype('int8')"
   ]
  },
  {
   "cell_type": "code",
   "execution_count": 97,
   "id": "6cad5512",
   "metadata": {},
   "outputs": [
    {
     "data": {
      "text/html": [
       "<div>\n",
       "<style scoped>\n",
       "    .dataframe tbody tr th:only-of-type {\n",
       "        vertical-align: middle;\n",
       "    }\n",
       "\n",
       "    .dataframe tbody tr th {\n",
       "        vertical-align: top;\n",
       "    }\n",
       "\n",
       "    .dataframe thead th {\n",
       "        text-align: right;\n",
       "    }\n",
       "</style>\n",
       "<table border=\"1\" class=\"dataframe\">\n",
       "  <thead>\n",
       "    <tr style=\"text-align: right;\">\n",
       "      <th></th>\n",
       "      <th>SEXO</th>\n",
       "      <th>PAC_HOSPITALIZADO</th>\n",
       "      <th>FECHA_INGRESO</th>\n",
       "      <th>FECHA_DEF</th>\n",
       "      <th>NEUMONIA</th>\n",
       "      <th>EDAD</th>\n",
       "      <th>EMBARAZO</th>\n",
       "      <th>DIABETES</th>\n",
       "      <th>EPOC</th>\n",
       "      <th>ASMA</th>\n",
       "      <th>INMUSUPR</th>\n",
       "      <th>HIPERTENSION</th>\n",
       "      <th>CARDIOVASCULAR</th>\n",
       "      <th>OBESIDAD</th>\n",
       "      <th>RENAL_CRONICA</th>\n",
       "      <th>TABAQUISMO</th>\n",
       "      <th>DIAS_SINTOMAS</th>\n",
       "      <th>FALLECIDO</th>\n",
       "    </tr>\n",
       "  </thead>\n",
       "  <tbody>\n",
       "    <tr>\n",
       "      <th>0</th>\n",
       "      <td>0</td>\n",
       "      <td>0</td>\n",
       "      <td>2020-10-16</td>\n",
       "      <td>9999-99-99</td>\n",
       "      <td>0</td>\n",
       "      <td>41</td>\n",
       "      <td>0</td>\n",
       "      <td>0</td>\n",
       "      <td>0</td>\n",
       "      <td>0</td>\n",
       "      <td>0</td>\n",
       "      <td>0</td>\n",
       "      <td>0</td>\n",
       "      <td>0</td>\n",
       "      <td>0</td>\n",
       "      <td>0</td>\n",
       "      <td>0</td>\n",
       "      <td>0</td>\n",
       "    </tr>\n",
       "    <tr>\n",
       "      <th>1</th>\n",
       "      <td>1</td>\n",
       "      <td>1</td>\n",
       "      <td>2020-07-20</td>\n",
       "      <td>2020-07-21</td>\n",
       "      <td>1</td>\n",
       "      <td>66</td>\n",
       "      <td>0</td>\n",
       "      <td>1</td>\n",
       "      <td>0</td>\n",
       "      <td>0</td>\n",
       "      <td>0</td>\n",
       "      <td>1</td>\n",
       "      <td>0</td>\n",
       "      <td>1</td>\n",
       "      <td>0</td>\n",
       "      <td>0</td>\n",
       "      <td>3</td>\n",
       "      <td>1</td>\n",
       "    </tr>\n",
       "    <tr>\n",
       "      <th>8</th>\n",
       "      <td>0</td>\n",
       "      <td>0</td>\n",
       "      <td>2020-08-19</td>\n",
       "      <td>9999-99-99</td>\n",
       "      <td>0</td>\n",
       "      <td>47</td>\n",
       "      <td>0</td>\n",
       "      <td>1</td>\n",
       "      <td>0</td>\n",
       "      <td>0</td>\n",
       "      <td>0</td>\n",
       "      <td>0</td>\n",
       "      <td>0</td>\n",
       "      <td>0</td>\n",
       "      <td>0</td>\n",
       "      <td>0</td>\n",
       "      <td>2</td>\n",
       "      <td>0</td>\n",
       "    </tr>\n",
       "  </tbody>\n",
       "</table>\n",
       "</div>"
      ],
      "text/plain": [
       "   SEXO  PAC_HOSPITALIZADO FECHA_INGRESO   FECHA_DEF  NEUMONIA  EDAD  \\\n",
       "0     0                  0    2020-10-16  9999-99-99         0    41   \n",
       "1     1                  1    2020-07-20  2020-07-21         1    66   \n",
       "8     0                  0    2020-08-19  9999-99-99         0    47   \n",
       "\n",
       "   EMBARAZO  DIABETES  EPOC  ASMA  INMUSUPR  HIPERTENSION  CARDIOVASCULAR  \\\n",
       "0         0         0     0     0         0             0               0   \n",
       "1         0         1     0     0         0             1               0   \n",
       "8         0         1     0     0         0             0               0   \n",
       "\n",
       "   OBESIDAD  RENAL_CRONICA  TABAQUISMO  DIAS_SINTOMAS  FALLECIDO  \n",
       "0         0              0           0              0          0  \n",
       "1         1              0           0              3          1  \n",
       "8         0              0           0              2          0  "
      ]
     },
     "execution_count": 97,
     "metadata": {},
     "output_type": "execute_result"
    }
   ],
   "source": [
    "df_fallecido.head(3)"
   ]
  },
  {
   "cell_type": "markdown",
   "id": "28e593ef",
   "metadata": {},
   "source": [
    "Una vez generados los datos, eliminamos columnas innecesarias (fechas)"
   ]
  },
  {
   "cell_type": "code",
   "execution_count": 98,
   "id": "e432afda",
   "metadata": {},
   "outputs": [],
   "source": [
    "df_fallecido.drop(['FECHA_INGRESO', 'FECHA_DEF'], axis=1, inplace=True)"
   ]
  },
  {
   "cell_type": "code",
   "execution_count": 99,
   "id": "c6be342a",
   "metadata": {},
   "outputs": [
    {
     "data": {
      "text/plain": [
       "Index(['SEXO', 'PAC_HOSPITALIZADO', 'NEUMONIA', 'EDAD', 'EMBARAZO', 'DIABETES',\n",
       "       'EPOC', 'ASMA', 'INMUSUPR', 'HIPERTENSION', 'CARDIOVASCULAR',\n",
       "       'OBESIDAD', 'RENAL_CRONICA', 'TABAQUISMO', 'DIAS_SINTOMAS',\n",
       "       'FALLECIDO'],\n",
       "      dtype='object')"
      ]
     },
     "execution_count": 99,
     "metadata": {},
     "output_type": "execute_result"
    }
   ],
   "source": [
    "df_fallecido.columns"
   ]
  },
  {
   "cell_type": "markdown",
   "id": "a9e62dcb",
   "metadata": {},
   "source": [
    "### Generación de Etiqueta de Regresión\n",
    "En este caso, el procedimiento involucra operaciones entre fechas, más específicamente una resta entre FECHA_DEF y FECHA_INGRESO, en días."
   ]
  },
  {
   "cell_type": "code",
   "execution_count": 100,
   "id": "9c073895",
   "metadata": {},
   "outputs": [],
   "source": [
    "def dias_desde_ingreso_a_defuncion(x):\n",
    "    fecha_defuncion = datetime.date.fromisoformat(x['FECHA_DEF'])\n",
    "    fecha_ingreso = datetime.date.fromisoformat(x['FECHA_INGRESO'])\n",
    "    return (fecha_defuncion - fecha_ingreso).days"
   ]
  },
  {
   "cell_type": "code",
   "execution_count": 101,
   "id": "e3b7e4b2",
   "metadata": {},
   "outputs": [],
   "source": [
    "df_dias['DIAS_DEF'] = df_dias[['FECHA_INGRESO', 'FECHA_DEF']].apply(dias_desde_ingreso_a_defuncion, axis=1).astype('int8')"
   ]
  },
  {
   "cell_type": "code",
   "execution_count": 102,
   "id": "611193d9",
   "metadata": {},
   "outputs": [
    {
     "data": {
      "text/html": [
       "<div>\n",
       "<style scoped>\n",
       "    .dataframe tbody tr th:only-of-type {\n",
       "        vertical-align: middle;\n",
       "    }\n",
       "\n",
       "    .dataframe tbody tr th {\n",
       "        vertical-align: top;\n",
       "    }\n",
       "\n",
       "    .dataframe thead th {\n",
       "        text-align: right;\n",
       "    }\n",
       "</style>\n",
       "<table border=\"1\" class=\"dataframe\">\n",
       "  <thead>\n",
       "    <tr style=\"text-align: right;\">\n",
       "      <th></th>\n",
       "      <th>SEXO</th>\n",
       "      <th>PAC_HOSPITALIZADO</th>\n",
       "      <th>FECHA_INGRESO</th>\n",
       "      <th>FECHA_DEF</th>\n",
       "      <th>NEUMONIA</th>\n",
       "      <th>EDAD</th>\n",
       "      <th>EMBARAZO</th>\n",
       "      <th>DIABETES</th>\n",
       "      <th>EPOC</th>\n",
       "      <th>ASMA</th>\n",
       "      <th>INMUSUPR</th>\n",
       "      <th>HIPERTENSION</th>\n",
       "      <th>CARDIOVASCULAR</th>\n",
       "      <th>OBESIDAD</th>\n",
       "      <th>RENAL_CRONICA</th>\n",
       "      <th>TABAQUISMO</th>\n",
       "      <th>DIAS_SINTOMAS</th>\n",
       "      <th>DIAS_DEF</th>\n",
       "    </tr>\n",
       "  </thead>\n",
       "  <tbody>\n",
       "    <tr>\n",
       "      <th>1</th>\n",
       "      <td>1</td>\n",
       "      <td>1</td>\n",
       "      <td>2020-07-20</td>\n",
       "      <td>2020-07-21</td>\n",
       "      <td>1</td>\n",
       "      <td>66</td>\n",
       "      <td>0</td>\n",
       "      <td>1</td>\n",
       "      <td>0</td>\n",
       "      <td>0</td>\n",
       "      <td>0</td>\n",
       "      <td>1</td>\n",
       "      <td>0</td>\n",
       "      <td>1</td>\n",
       "      <td>0</td>\n",
       "      <td>0</td>\n",
       "      <td>3</td>\n",
       "      <td>1</td>\n",
       "    </tr>\n",
       "    <tr>\n",
       "      <th>152</th>\n",
       "      <td>0</td>\n",
       "      <td>1</td>\n",
       "      <td>2020-12-14</td>\n",
       "      <td>2020-12-17</td>\n",
       "      <td>1</td>\n",
       "      <td>58</td>\n",
       "      <td>0</td>\n",
       "      <td>1</td>\n",
       "      <td>0</td>\n",
       "      <td>0</td>\n",
       "      <td>0</td>\n",
       "      <td>1</td>\n",
       "      <td>1</td>\n",
       "      <td>0</td>\n",
       "      <td>1</td>\n",
       "      <td>0</td>\n",
       "      <td>2</td>\n",
       "      <td>3</td>\n",
       "    </tr>\n",
       "    <tr>\n",
       "      <th>174</th>\n",
       "      <td>1</td>\n",
       "      <td>1</td>\n",
       "      <td>2020-12-15</td>\n",
       "      <td>2020-12-15</td>\n",
       "      <td>1</td>\n",
       "      <td>30</td>\n",
       "      <td>0</td>\n",
       "      <td>0</td>\n",
       "      <td>0</td>\n",
       "      <td>0</td>\n",
       "      <td>0</td>\n",
       "      <td>0</td>\n",
       "      <td>0</td>\n",
       "      <td>0</td>\n",
       "      <td>1</td>\n",
       "      <td>0</td>\n",
       "      <td>0</td>\n",
       "      <td>0</td>\n",
       "    </tr>\n",
       "  </tbody>\n",
       "</table>\n",
       "</div>"
      ],
      "text/plain": [
       "     SEXO  PAC_HOSPITALIZADO FECHA_INGRESO   FECHA_DEF  NEUMONIA  EDAD  \\\n",
       "1       1                  1    2020-07-20  2020-07-21         1    66   \n",
       "152     0                  1    2020-12-14  2020-12-17         1    58   \n",
       "174     1                  1    2020-12-15  2020-12-15         1    30   \n",
       "\n",
       "     EMBARAZO  DIABETES  EPOC  ASMA  INMUSUPR  HIPERTENSION  CARDIOVASCULAR  \\\n",
       "1           0         1     0     0         0             1               0   \n",
       "152         0         1     0     0         0             1               1   \n",
       "174         0         0     0     0         0             0               0   \n",
       "\n",
       "     OBESIDAD  RENAL_CRONICA  TABAQUISMO  DIAS_SINTOMAS  DIAS_DEF  \n",
       "1           1              0           0              3         1  \n",
       "152         0              1           0              2         3  \n",
       "174         0              1           0              0         0  "
      ]
     },
     "execution_count": 102,
     "metadata": {},
     "output_type": "execute_result"
    }
   ],
   "source": [
    "df_dias.head(3)"
   ]
  },
  {
   "cell_type": "markdown",
   "id": "1aae4322",
   "metadata": {},
   "source": [
    "Una vez generados los datos, eliminamos columnas innecesarias"
   ]
  },
  {
   "cell_type": "code",
   "execution_count": 103,
   "id": "f49cba73",
   "metadata": {},
   "outputs": [],
   "source": [
    "df_dias.drop(['FECHA_INGRESO', 'FECHA_DEF'], axis=1, inplace=True)"
   ]
  },
  {
   "cell_type": "code",
   "execution_count": 104,
   "id": "8dd22fa2",
   "metadata": {},
   "outputs": [
    {
     "data": {
      "text/plain": [
       "Index(['SEXO', 'PAC_HOSPITALIZADO', 'NEUMONIA', 'EDAD', 'EMBARAZO', 'DIABETES',\n",
       "       'EPOC', 'ASMA', 'INMUSUPR', 'HIPERTENSION', 'CARDIOVASCULAR',\n",
       "       'OBESIDAD', 'RENAL_CRONICA', 'TABAQUISMO', 'DIAS_SINTOMAS', 'DIAS_DEF'],\n",
       "      dtype='object')"
      ]
     },
     "execution_count": 104,
     "metadata": {},
     "output_type": "execute_result"
    }
   ],
   "source": [
    "df_dias.columns"
   ]
  },
  {
   "cell_type": "code",
   "execution_count": 106,
   "id": "958d802d",
   "metadata": {},
   "outputs": [
    {
     "data": {
      "text/html": [
       "<div>\n",
       "<style scoped>\n",
       "    .dataframe tbody tr th:only-of-type {\n",
       "        vertical-align: middle;\n",
       "    }\n",
       "\n",
       "    .dataframe tbody tr th {\n",
       "        vertical-align: top;\n",
       "    }\n",
       "\n",
       "    .dataframe thead th {\n",
       "        text-align: right;\n",
       "    }\n",
       "</style>\n",
       "<table border=\"1\" class=\"dataframe\">\n",
       "  <thead>\n",
       "    <tr style=\"text-align: right;\">\n",
       "      <th></th>\n",
       "      <th>SEXO</th>\n",
       "      <th>PAC_HOSPITALIZADO</th>\n",
       "      <th>NEUMONIA</th>\n",
       "      <th>EDAD</th>\n",
       "      <th>EMBARAZO</th>\n",
       "      <th>DIABETES</th>\n",
       "      <th>EPOC</th>\n",
       "      <th>ASMA</th>\n",
       "      <th>INMUSUPR</th>\n",
       "      <th>HIPERTENSION</th>\n",
       "      <th>CARDIOVASCULAR</th>\n",
       "      <th>OBESIDAD</th>\n",
       "      <th>RENAL_CRONICA</th>\n",
       "      <th>TABAQUISMO</th>\n",
       "      <th>DIAS_SINTOMAS</th>\n",
       "      <th>DIAS_DEF</th>\n",
       "    </tr>\n",
       "  </thead>\n",
       "  <tbody>\n",
       "    <tr>\n",
       "      <th>1</th>\n",
       "      <td>1</td>\n",
       "      <td>1</td>\n",
       "      <td>1</td>\n",
       "      <td>66</td>\n",
       "      <td>0</td>\n",
       "      <td>1</td>\n",
       "      <td>0</td>\n",
       "      <td>0</td>\n",
       "      <td>0</td>\n",
       "      <td>1</td>\n",
       "      <td>0</td>\n",
       "      <td>1</td>\n",
       "      <td>0</td>\n",
       "      <td>0</td>\n",
       "      <td>3</td>\n",
       "      <td>1</td>\n",
       "    </tr>\n",
       "    <tr>\n",
       "      <th>152</th>\n",
       "      <td>0</td>\n",
       "      <td>1</td>\n",
       "      <td>1</td>\n",
       "      <td>58</td>\n",
       "      <td>0</td>\n",
       "      <td>1</td>\n",
       "      <td>0</td>\n",
       "      <td>0</td>\n",
       "      <td>0</td>\n",
       "      <td>1</td>\n",
       "      <td>1</td>\n",
       "      <td>0</td>\n",
       "      <td>1</td>\n",
       "      <td>0</td>\n",
       "      <td>2</td>\n",
       "      <td>3</td>\n",
       "    </tr>\n",
       "    <tr>\n",
       "      <th>174</th>\n",
       "      <td>1</td>\n",
       "      <td>1</td>\n",
       "      <td>1</td>\n",
       "      <td>30</td>\n",
       "      <td>0</td>\n",
       "      <td>0</td>\n",
       "      <td>0</td>\n",
       "      <td>0</td>\n",
       "      <td>0</td>\n",
       "      <td>0</td>\n",
       "      <td>0</td>\n",
       "      <td>0</td>\n",
       "      <td>1</td>\n",
       "      <td>0</td>\n",
       "      <td>0</td>\n",
       "      <td>0</td>\n",
       "    </tr>\n",
       "    <tr>\n",
       "      <th>25659</th>\n",
       "      <td>0</td>\n",
       "      <td>1</td>\n",
       "      <td>1</td>\n",
       "      <td>47</td>\n",
       "      <td>0</td>\n",
       "      <td>1</td>\n",
       "      <td>0</td>\n",
       "      <td>0</td>\n",
       "      <td>0</td>\n",
       "      <td>1</td>\n",
       "      <td>0</td>\n",
       "      <td>0</td>\n",
       "      <td>0</td>\n",
       "      <td>0</td>\n",
       "      <td>0</td>\n",
       "      <td>12</td>\n",
       "    </tr>\n",
       "    <tr>\n",
       "      <th>25875</th>\n",
       "      <td>1</td>\n",
       "      <td>1</td>\n",
       "      <td>1</td>\n",
       "      <td>83</td>\n",
       "      <td>0</td>\n",
       "      <td>1</td>\n",
       "      <td>1</td>\n",
       "      <td>1</td>\n",
       "      <td>0</td>\n",
       "      <td>1</td>\n",
       "      <td>1</td>\n",
       "      <td>0</td>\n",
       "      <td>0</td>\n",
       "      <td>0</td>\n",
       "      <td>0</td>\n",
       "      <td>6</td>\n",
       "    </tr>\n",
       "    <tr>\n",
       "      <th>...</th>\n",
       "      <td>...</td>\n",
       "      <td>...</td>\n",
       "      <td>...</td>\n",
       "      <td>...</td>\n",
       "      <td>...</td>\n",
       "      <td>...</td>\n",
       "      <td>...</td>\n",
       "      <td>...</td>\n",
       "      <td>...</td>\n",
       "      <td>...</td>\n",
       "      <td>...</td>\n",
       "      <td>...</td>\n",
       "      <td>...</td>\n",
       "      <td>...</td>\n",
       "      <td>...</td>\n",
       "      <td>...</td>\n",
       "    </tr>\n",
       "    <tr>\n",
       "      <th>10785082</th>\n",
       "      <td>0</td>\n",
       "      <td>1</td>\n",
       "      <td>1</td>\n",
       "      <td>73</td>\n",
       "      <td>0</td>\n",
       "      <td>0</td>\n",
       "      <td>0</td>\n",
       "      <td>0</td>\n",
       "      <td>0</td>\n",
       "      <td>0</td>\n",
       "      <td>0</td>\n",
       "      <td>0</td>\n",
       "      <td>0</td>\n",
       "      <td>0</td>\n",
       "      <td>10</td>\n",
       "      <td>14</td>\n",
       "    </tr>\n",
       "    <tr>\n",
       "      <th>10785091</th>\n",
       "      <td>0</td>\n",
       "      <td>1</td>\n",
       "      <td>1</td>\n",
       "      <td>87</td>\n",
       "      <td>0</td>\n",
       "      <td>1</td>\n",
       "      <td>0</td>\n",
       "      <td>0</td>\n",
       "      <td>0</td>\n",
       "      <td>1</td>\n",
       "      <td>0</td>\n",
       "      <td>0</td>\n",
       "      <td>0</td>\n",
       "      <td>0</td>\n",
       "      <td>3</td>\n",
       "      <td>8</td>\n",
       "    </tr>\n",
       "    <tr>\n",
       "      <th>10785097</th>\n",
       "      <td>1</td>\n",
       "      <td>1</td>\n",
       "      <td>1</td>\n",
       "      <td>77</td>\n",
       "      <td>0</td>\n",
       "      <td>0</td>\n",
       "      <td>1</td>\n",
       "      <td>0</td>\n",
       "      <td>0</td>\n",
       "      <td>1</td>\n",
       "      <td>0</td>\n",
       "      <td>0</td>\n",
       "      <td>0</td>\n",
       "      <td>0</td>\n",
       "      <td>7</td>\n",
       "      <td>11</td>\n",
       "    </tr>\n",
       "    <tr>\n",
       "      <th>10785105</th>\n",
       "      <td>0</td>\n",
       "      <td>1</td>\n",
       "      <td>1</td>\n",
       "      <td>58</td>\n",
       "      <td>0</td>\n",
       "      <td>1</td>\n",
       "      <td>0</td>\n",
       "      <td>0</td>\n",
       "      <td>0</td>\n",
       "      <td>0</td>\n",
       "      <td>0</td>\n",
       "      <td>0</td>\n",
       "      <td>0</td>\n",
       "      <td>0</td>\n",
       "      <td>13</td>\n",
       "      <td>4</td>\n",
       "    </tr>\n",
       "    <tr>\n",
       "      <th>10785110</th>\n",
       "      <td>0</td>\n",
       "      <td>1</td>\n",
       "      <td>1</td>\n",
       "      <td>77</td>\n",
       "      <td>0</td>\n",
       "      <td>0</td>\n",
       "      <td>0</td>\n",
       "      <td>0</td>\n",
       "      <td>0</td>\n",
       "      <td>0</td>\n",
       "      <td>0</td>\n",
       "      <td>0</td>\n",
       "      <td>0</td>\n",
       "      <td>0</td>\n",
       "      <td>14</td>\n",
       "      <td>10</td>\n",
       "    </tr>\n",
       "  </tbody>\n",
       "</table>\n",
       "<p>275496 rows × 16 columns</p>\n",
       "</div>"
      ],
      "text/plain": [
       "          SEXO  PAC_HOSPITALIZADO  NEUMONIA  EDAD  EMBARAZO  DIABETES  EPOC  \\\n",
       "1            1                  1         1    66         0         1     0   \n",
       "152          0                  1         1    58         0         1     0   \n",
       "174          1                  1         1    30         0         0     0   \n",
       "25659        0                  1         1    47         0         1     0   \n",
       "25875        1                  1         1    83         0         1     1   \n",
       "...        ...                ...       ...   ...       ...       ...   ...   \n",
       "10785082     0                  1         1    73         0         0     0   \n",
       "10785091     0                  1         1    87         0         1     0   \n",
       "10785097     1                  1         1    77         0         0     1   \n",
       "10785105     0                  1         1    58         0         1     0   \n",
       "10785110     0                  1         1    77         0         0     0   \n",
       "\n",
       "          ASMA  INMUSUPR  HIPERTENSION  CARDIOVASCULAR  OBESIDAD  \\\n",
       "1            0         0             1               0         1   \n",
       "152          0         0             1               1         0   \n",
       "174          0         0             0               0         0   \n",
       "25659        0         0             1               0         0   \n",
       "25875        1         0             1               1         0   \n",
       "...        ...       ...           ...             ...       ...   \n",
       "10785082     0         0             0               0         0   \n",
       "10785091     0         0             1               0         0   \n",
       "10785097     0         0             1               0         0   \n",
       "10785105     0         0             0               0         0   \n",
       "10785110     0         0             0               0         0   \n",
       "\n",
       "          RENAL_CRONICA  TABAQUISMO  DIAS_SINTOMAS  DIAS_DEF  \n",
       "1                     0           0              3         1  \n",
       "152                   1           0              2         3  \n",
       "174                   1           0              0         0  \n",
       "25659                 0           0              0        12  \n",
       "25875                 0           0              0         6  \n",
       "...                 ...         ...            ...       ...  \n",
       "10785082              0           0             10        14  \n",
       "10785091              0           0              3         8  \n",
       "10785097              0           0              7        11  \n",
       "10785105              0           0             13         4  \n",
       "10785110              0           0             14        10  \n",
       "\n",
       "[275496 rows x 16 columns]"
      ]
     },
     "execution_count": 106,
     "metadata": {},
     "output_type": "execute_result"
    }
   ],
   "source": [
    "df_dias"
   ]
  },
  {
   "cell_type": "markdown",
   "id": "1e203a77",
   "metadata": {},
   "source": [
    "## Salvamos los datos\n",
    "Una vez generados los subsets de datos, solo habrá que salvarlos en dos archivos diferentes"
   ]
  },
  {
   "cell_type": "code",
   "execution_count": 107,
   "id": "65da0900",
   "metadata": {},
   "outputs": [],
   "source": [
    "CLASIF_SUBSET_PATH = os.path.join('..', 'datasets', 'subset_clasif.csv')\n",
    "REGRES_SUBSET_PATH = os.path.join('..', 'datasets', 'subset_regres.csv')"
   ]
  },
  {
   "cell_type": "code",
   "execution_count": 109,
   "id": "e6cbcf13",
   "metadata": {},
   "outputs": [],
   "source": [
    "df_fallecido.to_csv(CLASIF_SUBSET_PATH)"
   ]
  },
  {
   "cell_type": "code",
   "execution_count": null,
   "id": "9cc7b96f",
   "metadata": {},
   "outputs": [],
   "source": [
    "df_dias.to_csv(REGRES_SUBSET_PATH)"
   ]
  },
  {
   "cell_type": "code",
   "execution_count": null,
   "id": "57e3391c",
   "metadata": {},
   "outputs": [],
   "source": []
  }
 ],
 "metadata": {
  "kernelspec": {
   "display_name": "Python 3",
   "language": "python",
   "name": "python3"
  },
  "language_info": {
   "codemirror_mode": {
    "name": "ipython",
    "version": 3
   },
   "file_extension": ".py",
   "mimetype": "text/x-python",
   "name": "python",
   "nbconvert_exporter": "python",
   "pygments_lexer": "ipython3",
   "version": "3.8.5"
  }
 },
 "nbformat": 4,
 "nbformat_minor": 5
}
