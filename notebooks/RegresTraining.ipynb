{
 "cells": [
  {
   "cell_type": "markdown",
   "id": "182f79c3",
   "metadata": {},
   "source": [
    "# Clasificación de Pacientes"
   ]
  },
  {
   "cell_type": "markdown",
   "id": "bf268747",
   "metadata": {},
   "source": [
    "### Librerías y cargado de datos"
   ]
  },
  {
   "cell_type": "code",
   "execution_count": 1,
   "id": "8587b648",
   "metadata": {},
   "outputs": [],
   "source": [
    "import pandas as pd\n",
    "import numpy as np\n",
    "import matplotlib.pyplot as plt\n",
    "import seaborn as sns\n",
    "import os"
   ]
  },
  {
   "cell_type": "code",
   "execution_count": 2,
   "id": "c4a3117c",
   "metadata": {},
   "outputs": [],
   "source": [
    "SEED = 42"
   ]
  },
  {
   "cell_type": "code",
   "execution_count": 3,
   "id": "b8f7dd4b",
   "metadata": {},
   "outputs": [
    {
     "name": "stdout",
     "output_type": "stream",
     "text": [
      "..\\datasets\\subset_clasif.csv\n"
     ]
    }
   ],
   "source": [
    "DATASET_PATH = os.path.join('..', 'datasets', 'subset_clasif.csv')\n",
    "print(DATASET_PATH)"
   ]
  },
  {
   "cell_type": "code",
   "execution_count": 4,
   "id": "c305c536",
   "metadata": {},
   "outputs": [
    {
     "name": "stderr",
     "output_type": "stream",
     "text": [
      "C:\\Users\\Sebastián\\AppData\\Roaming\\Python\\Python38\\site-packages\\numpy\\lib\\arraysetops.py:580: FutureWarning: elementwise comparison failed; returning scalar instead, but in the future will perform elementwise comparison\n",
      "  mask |= (ar1 == a)\n"
     ]
    },
    {
     "data": {
      "text/html": [
       "<div>\n",
       "<style scoped>\n",
       "    .dataframe tbody tr th:only-of-type {\n",
       "        vertical-align: middle;\n",
       "    }\n",
       "\n",
       "    .dataframe tbody tr th {\n",
       "        vertical-align: top;\n",
       "    }\n",
       "\n",
       "    .dataframe thead th {\n",
       "        text-align: right;\n",
       "    }\n",
       "</style>\n",
       "<table border=\"1\" class=\"dataframe\">\n",
       "  <thead>\n",
       "    <tr style=\"text-align: right;\">\n",
       "      <th></th>\n",
       "      <th>SEXO</th>\n",
       "      <th>PAC_HOSPITALIZADO</th>\n",
       "      <th>NEUMONIA</th>\n",
       "      <th>EDAD</th>\n",
       "      <th>EMBARAZO</th>\n",
       "      <th>DIABETES</th>\n",
       "      <th>EPOC</th>\n",
       "      <th>ASMA</th>\n",
       "      <th>INMUSUPR</th>\n",
       "      <th>HIPERTENSION</th>\n",
       "      <th>CARDIOVASCULAR</th>\n",
       "      <th>OBESIDAD</th>\n",
       "      <th>RENAL_CRONICA</th>\n",
       "      <th>TABAQUISMO</th>\n",
       "      <th>DIAS_SINTOMAS</th>\n",
       "      <th>FALLECIDO</th>\n",
       "    </tr>\n",
       "  </thead>\n",
       "  <tbody>\n",
       "    <tr>\n",
       "      <th>0</th>\n",
       "      <td>0</td>\n",
       "      <td>0</td>\n",
       "      <td>0</td>\n",
       "      <td>41</td>\n",
       "      <td>0</td>\n",
       "      <td>0</td>\n",
       "      <td>0</td>\n",
       "      <td>0</td>\n",
       "      <td>0</td>\n",
       "      <td>0</td>\n",
       "      <td>0</td>\n",
       "      <td>0</td>\n",
       "      <td>0</td>\n",
       "      <td>0</td>\n",
       "      <td>0</td>\n",
       "      <td>0</td>\n",
       "    </tr>\n",
       "    <tr>\n",
       "      <th>1</th>\n",
       "      <td>1</td>\n",
       "      <td>1</td>\n",
       "      <td>1</td>\n",
       "      <td>66</td>\n",
       "      <td>0</td>\n",
       "      <td>1</td>\n",
       "      <td>0</td>\n",
       "      <td>0</td>\n",
       "      <td>0</td>\n",
       "      <td>1</td>\n",
       "      <td>0</td>\n",
       "      <td>1</td>\n",
       "      <td>0</td>\n",
       "      <td>0</td>\n",
       "      <td>3</td>\n",
       "      <td>1</td>\n",
       "    </tr>\n",
       "    <tr>\n",
       "      <th>8</th>\n",
       "      <td>0</td>\n",
       "      <td>0</td>\n",
       "      <td>0</td>\n",
       "      <td>47</td>\n",
       "      <td>0</td>\n",
       "      <td>1</td>\n",
       "      <td>0</td>\n",
       "      <td>0</td>\n",
       "      <td>0</td>\n",
       "      <td>0</td>\n",
       "      <td>0</td>\n",
       "      <td>0</td>\n",
       "      <td>0</td>\n",
       "      <td>0</td>\n",
       "      <td>2</td>\n",
       "      <td>0</td>\n",
       "    </tr>\n",
       "  </tbody>\n",
       "</table>\n",
       "</div>"
      ],
      "text/plain": [
       "   SEXO  PAC_HOSPITALIZADO  NEUMONIA  EDAD  EMBARAZO  DIABETES  EPOC  ASMA  \\\n",
       "0     0                  0         0    41         0         0     0     0   \n",
       "1     1                  1         1    66         0         1     0     0   \n",
       "8     0                  0         0    47         0         1     0     0   \n",
       "\n",
       "   INMUSUPR  HIPERTENSION  CARDIOVASCULAR  OBESIDAD  RENAL_CRONICA  \\\n",
       "0         0             0               0         0              0   \n",
       "1         0             1               0         1              0   \n",
       "8         0             0               0         0              0   \n",
       "\n",
       "   TABAQUISMO  DIAS_SINTOMAS  FALLECIDO  \n",
       "0           0              0          0  \n",
       "1           0              3          1  \n",
       "8           0              2          0  "
      ]
     },
     "execution_count": 4,
     "metadata": {},
     "output_type": "execute_result"
    }
   ],
   "source": [
    "df = pd.read_csv(DATASET_PATH, encoding='latin', index_col=0, dtype='uint8')\n",
    "df.head(3)"
   ]
  },
  {
   "cell_type": "code",
   "execution_count": 5,
   "id": "2f82a60d",
   "metadata": {},
   "outputs": [
    {
     "name": "stdout",
     "output_type": "stream",
     "text": [
      "<class 'pandas.core.frame.DataFrame'>\n",
      "UInt64Index: 3667730 entries, 0 to 11\n",
      "Data columns (total 16 columns):\n",
      " #   Column             Dtype\n",
      "---  ------             -----\n",
      " 0   SEXO               uint8\n",
      " 1   PAC_HOSPITALIZADO  uint8\n",
      " 2   NEUMONIA           uint8\n",
      " 3   EDAD               uint8\n",
      " 4   EMBARAZO           uint8\n",
      " 5   DIABETES           uint8\n",
      " 6   EPOC               uint8\n",
      " 7   ASMA               uint8\n",
      " 8   INMUSUPR           uint8\n",
      " 9   HIPERTENSION       uint8\n",
      " 10  CARDIOVASCULAR     uint8\n",
      " 11  OBESIDAD           uint8\n",
      " 12  RENAL_CRONICA      uint8\n",
      " 13  TABAQUISMO         uint8\n",
      " 14  DIAS_SINTOMAS      uint8\n",
      " 15  FALLECIDO          uint8\n",
      "dtypes: uint8(16)\n",
      "memory usage: 83.9 MB\n"
     ]
    }
   ],
   "source": [
    "df.info()"
   ]
  },
  {
   "cell_type": "code",
   "execution_count": 6,
   "id": "880dd787",
   "metadata": {},
   "outputs": [],
   "source": [
    "df_copy = df.copy()"
   ]
  },
  {
   "cell_type": "markdown",
   "id": "1c7650d7",
   "metadata": {},
   "source": [
    "## Preprocesamiento"
   ]
  },
  {
   "cell_type": "markdown",
   "id": "7833d2dd",
   "metadata": {},
   "source": [
    "### Tipado"
   ]
  },
  {
   "cell_type": "code",
   "execution_count": 91,
   "id": "7aeddfc6",
   "metadata": {},
   "outputs": [],
   "source": [
    "y = df['FALLECIDO'].values.astype('float32')\n",
    "X = df.drop(['FALLECIDO'], axis=1).values.astype('float32')"
   ]
  },
  {
   "cell_type": "markdown",
   "id": "8d8e5b2f",
   "metadata": {},
   "source": [
    "### Separación de Datos"
   ]
  },
  {
   "cell_type": "code",
   "execution_count": 92,
   "id": "3db0b044",
   "metadata": {},
   "outputs": [],
   "source": [
    "from sklearn.model_selection import train_test_split\n",
    "from sklearn.model_selection import StratifiedShuffleSplit"
   ]
  },
  {
   "cell_type": "markdown",
   "id": "737fac32",
   "metadata": {},
   "source": [
    "### Muestreo"
   ]
  },
  {
   "cell_type": "code",
   "execution_count": 93,
   "id": "fd9e9e3f",
   "metadata": {},
   "outputs": [
    {
     "data": {
      "text/plain": [
       "3667730"
      ]
     },
     "execution_count": 93,
     "metadata": {},
     "output_type": "execute_result"
    }
   ],
   "source": [
    "# 3.7 millones de registros\n",
    "X.shape[0]"
   ]
  },
  {
   "cell_type": "code",
   "execution_count": 94,
   "id": "b0da3e4a",
   "metadata": {},
   "outputs": [],
   "source": [
    "splitter = StratifiedShuffleSplit(n_splits=1, train_size=0.1, random_state=SEED)\n",
    "indices = splitter.split(X, y)"
   ]
  },
  {
   "cell_type": "code",
   "execution_count": 95,
   "id": "955298ba",
   "metadata": {},
   "outputs": [],
   "source": [
    "for samples_idx, _ in indices:\n",
    "    X_sampled = X[samples_idx]\n",
    "    y_sampled = y[samples_idx]"
   ]
  },
  {
   "cell_type": "code",
   "execution_count": 96,
   "id": "ac7ea85a",
   "metadata": {},
   "outputs": [
    {
     "data": {
      "text/plain": [
       "2934184"
      ]
     },
     "execution_count": 96,
     "metadata": {},
     "output_type": "execute_result"
    }
   ],
   "source": [
    "# 370 mil registros\n",
    "X_train.shape[0]"
   ]
  },
  {
   "cell_type": "markdown",
   "id": "41c4b706",
   "metadata": {},
   "source": [
    "### Subsets de Entrenamiento y Prueba"
   ]
  },
  {
   "cell_type": "code",
   "execution_count": 97,
   "id": "b393e1fa",
   "metadata": {},
   "outputs": [],
   "source": [
    "splitter = StratifiedShuffleSplit(n_splits=1, test_size=0.2, random_state=SEED)\n",
    "indices = splitter.split(X_sampled, y_sampled)"
   ]
  },
  {
   "cell_type": "code",
   "execution_count": 98,
   "id": "af809e15",
   "metadata": {},
   "outputs": [],
   "source": [
    "for tr_idx, ts_idx in indices:\n",
    "    X_train, X_test = X_sampled[tr_idx], X_sampled[ts_idx]\n",
    "    y_train, y_test = y_sampled[tr_idx], y_sampled[ts_idx]"
   ]
  },
  {
   "cell_type": "code",
   "execution_count": 99,
   "id": "481527c8",
   "metadata": {},
   "outputs": [
    {
     "data": {
      "text/plain": [
       "((293418, 15), (73355, 15))"
      ]
     },
     "execution_count": 99,
     "metadata": {},
     "output_type": "execute_result"
    }
   ],
   "source": [
    "# Número de registros en cada subset\n",
    "X_train.shape, X_test.shape"
   ]
  },
  {
   "cell_type": "markdown",
   "id": "7f4f3d84",
   "metadata": {},
   "source": [
    "#### Proporciones"
   ]
  },
  {
   "cell_type": "code",
   "execution_count": 102,
   "id": "999adfab",
   "metadata": {},
   "outputs": [],
   "source": [
    "count_normal = np.unique(y, return_counts=True)\n",
    "count_tr = np.unique(y_train, return_counts=True)\n",
    "count_ts = np.unique(y_test, return_counts=True)"
   ]
  },
  {
   "cell_type": "markdown",
   "id": "38a2fd59",
   "metadata": {},
   "source": [
    "Podemos comprobar que la proporción de clases se mantuvo en el dataset y los subsets"
   ]
  },
  {
   "cell_type": "code",
   "execution_count": 104,
   "id": "e6bb4369",
   "metadata": {},
   "outputs": [
    {
     "name": "stdout",
     "output_type": "stream",
     "text": [
      "Proporción en los 3.7 millones de datos: 12.313187850277318\n",
      "Proporción en el subset de entrenamiento: 12.312976406533576\n",
      "Proporción en el subset de prueba: 12.31306715063521\n"
     ]
    }
   ],
   "source": [
    "print('Proporción en los 3.7 millones de datos:', count_normal[1][0]/count_normal[1][1])\n",
    "print('Proporción en el subset de entrenamiento:', count_tr[1][0]/count_tr[1][1])\n",
    "print('Proporción en el subset de prueba:', count_ts[1][0]/count_ts[1][1])"
   ]
  },
  {
   "cell_type": "markdown",
   "id": "f0199b4d",
   "metadata": {},
   "source": [
    "### Escalado de Datos"
   ]
  },
  {
   "cell_type": "code",
   "execution_count": 105,
   "id": "c1400f8e",
   "metadata": {},
   "outputs": [],
   "source": [
    "from sklearn.preprocessing import StandardScaler, MinMaxScaler"
   ]
  },
  {
   "cell_type": "code",
   "execution_count": 106,
   "id": "d890aca1",
   "metadata": {},
   "outputs": [
    {
     "data": {
      "text/plain": [
       "Index(['SEXO', 'PAC_HOSPITALIZADO', 'NEUMONIA', 'EDAD', 'EMBARAZO', 'DIABETES',\n",
       "       'EPOC', 'ASMA', 'INMUSUPR', 'HIPERTENSION', 'CARDIOVASCULAR',\n",
       "       'OBESIDAD', 'RENAL_CRONICA', 'TABAQUISMO', 'DIAS_SINTOMAS',\n",
       "       'FALLECIDO'],\n",
       "      dtype='object')"
      ]
     },
     "execution_count": 106,
     "metadata": {},
     "output_type": "execute_result"
    }
   ],
   "source": [
    "df.columns"
   ]
  },
  {
   "cell_type": "markdown",
   "id": "2b8da2e5",
   "metadata": {},
   "source": [
    "Rangos de las únicas variables discretas no binarias"
   ]
  },
  {
   "cell_type": "code",
   "execution_count": 107,
   "id": "d5750a1e",
   "metadata": {},
   "outputs": [
    {
     "name": "stdout",
     "output_type": "stream",
     "text": [
      "0.0 121.0\n",
      "0.0 112.0\n"
     ]
    }
   ],
   "source": [
    "# Edad\n",
    "print(X_train[:,3].min(), X_train[:,3].max())\n",
    "# Dias Sintomas\n",
    "print(X_train[:,-1].min(), X_train[:,-1].max())"
   ]
  },
  {
   "cell_type": "markdown",
   "id": "7f59bcfe",
   "metadata": {},
   "source": [
    "Vamos a escalar estas variables usando normalización, en parte porque no presentan una distribución normal y también porque de esa manera mantenemos similares el rango de todas las entradas de la red."
   ]
  },
  {
   "cell_type": "code",
   "execution_count": 108,
   "id": "b7dc95f7",
   "metadata": {},
   "outputs": [],
   "source": [
    "scaler = MinMaxScaler().fit(X_train[:,[3,-1]])\n",
    "X_train[:,[3,-1]] = scaler.transform(X_train[:,[3,-1]])"
   ]
  },
  {
   "cell_type": "markdown",
   "id": "5d743185",
   "metadata": {},
   "source": [
    "Escalamos los datos de prueba usando los parámetros aprendidos en el subset de entrenamiento y el el dataset completo, ya que eso generaría contaminación de datos."
   ]
  },
  {
   "cell_type": "code",
   "execution_count": 109,
   "id": "167b4ce9",
   "metadata": {},
   "outputs": [],
   "source": [
    "X_test[:,[3,-1]] = scaler.transform(X_test[:,[3,-1]])"
   ]
  },
  {
   "cell_type": "markdown",
   "id": "53fde53d",
   "metadata": {},
   "source": [
    "## Modelado"
   ]
  },
  {
   "cell_type": "markdown",
   "id": "91ad2005",
   "metadata": {},
   "source": [
    "### Modelo"
   ]
  },
  {
   "cell_type": "code",
   "execution_count": 116,
   "id": "12da495c",
   "metadata": {},
   "outputs": [],
   "source": [
    "import tensorflow as tf\n",
    "from tensorflow import keras"
   ]
  },
  {
   "cell_type": "code",
   "execution_count": 117,
   "id": "207362d0",
   "metadata": {},
   "outputs": [],
   "source": [
    "# Para reproducibilidad\n",
    "tf.random.set_seed(42)"
   ]
  },
  {
   "cell_type": "code",
   "execution_count": 118,
   "id": "3d4a70b9",
   "metadata": {},
   "outputs": [],
   "source": [
    "model = keras.Sequential([\n",
    "    keras.layers.Dense(30, activation='relu', input_shape=[15]),\n",
    "    keras.layers.Dense(10, activation='relu'),\n",
    "    keras.layers.Dense(1, activation='sigmoid')\n",
    "])"
   ]
  },
  {
   "cell_type": "markdown",
   "id": "e6baba5f",
   "metadata": {},
   "source": [
    "### Entrenamiento"
   ]
  },
  {
   "cell_type": "code",
   "execution_count": 120,
   "id": "621031af",
   "metadata": {},
   "outputs": [],
   "source": [
    "TRAIN = True"
   ]
  },
  {
   "cell_type": "code",
   "execution_count": 121,
   "id": "6b711172",
   "metadata": {
    "scrolled": true
   },
   "outputs": [
    {
     "name": "stdout",
     "output_type": "stream",
     "text": [
      "Epoch 1/10\n",
      "8253/8253 [==============================] - 29s 3ms/step - loss: 0.1297 - accuracy: 0.9298 - val_loss: 0.1237 - val_accuracy: 0.9360\n",
      "Epoch 2/10\n",
      "8253/8253 [==============================] - 24s 3ms/step - loss: 0.1231 - accuracy: 0.9368 - val_loss: 0.1224 - val_accuracy: 0.9319\n",
      "Epoch 3/10\n",
      "8253/8253 [==============================] - 23s 3ms/step - loss: 0.1223 - accuracy: 0.9367 - val_loss: 0.1226 - val_accuracy: 0.9365\n",
      "Epoch 4/10\n",
      "8253/8253 [==============================] - 23s 3ms/step - loss: 0.1222 - accuracy: 0.9374 - val_loss: 0.1232 - val_accuracy: 0.9319\n",
      "Epoch 5/10\n",
      "8253/8253 [==============================] - 23s 3ms/step - loss: 0.1224 - accuracy: 0.9365 - val_loss: 0.1208 - val_accuracy: 0.9356\n",
      "Epoch 6/10\n",
      "8253/8253 [==============================] - 26s 3ms/step - loss: 0.1230 - accuracy: 0.9368 - val_loss: 0.1255 - val_accuracy: 0.9370\n",
      "Epoch 7/10\n",
      "8253/8253 [==============================] - 22s 3ms/step - loss: 0.1223 - accuracy: 0.9378 - val_loss: 0.1221 - val_accuracy: 0.9373\n",
      "Epoch 8/10\n",
      "8253/8253 [==============================] - 22s 3ms/step - loss: 0.1221 - accuracy: 0.9374 - val_loss: 0.1189 - val_accuracy: 0.9386\n",
      "Epoch 9/10\n",
      "8253/8253 [==============================] - 21s 3ms/step - loss: 0.1207 - accuracy: 0.9378 - val_loss: 0.1182 - val_accuracy: 0.9391\n",
      "Epoch 10/10\n",
      "8253/8253 [==============================] - 23s 3ms/step - loss: 0.1237 - accuracy: 0.9361 - val_loss: 0.1210 - val_accuracy: 0.9384\n"
     ]
    }
   ],
   "source": [
    "if (TRAIN):\n",
    "    history = model.fit(X_train, y_train, epochs=10, batch_size=32, validation_split=0.1)"
   ]
  },
  {
   "cell_type": "code",
   "execution_count": 200,
   "id": "29174951",
   "metadata": {},
   "outputs": [],
   "source": [
    "model_path = os.path.join('..', 'results', 'model_clfn.tf')"
   ]
  },
  {
   "cell_type": "code",
   "execution_count": 201,
   "id": "717a83a2",
   "metadata": {},
   "outputs": [
    {
     "name": "stdout",
     "output_type": "stream",
     "text": [
      "INFO:tensorflow:Assets written to: ..\\results\\model_clfn.tf\\assets\n"
     ]
    }
   ],
   "source": [
    "# Salvar modelo e historia\n",
    "if (TRAIN):\n",
    "    model.save(model_path)\n",
    "    history = history.history\n",
    "    history_df = pd.DataFrame"
   ]
  },
  {
   "cell_type": "code",
   "execution_count": null,
   "id": "e8af7a4b",
   "metadata": {},
   "outputs": [],
   "source": [
    "if (!TRAIN):\n",
    "    model = keras.models.load_model(model_path)\n",
    "    history = pd.read_csv('..', 'results', 'history.csv')"
   ]
  },
  {
   "cell_type": "markdown",
   "id": "bc2e1600",
   "metadata": {},
   "source": [
    "### Evaluación"
   ]
  },
  {
   "cell_type": "markdown",
   "id": "c80f64ee",
   "metadata": {},
   "source": [
    "#### Curvas de aprendizaje"
   ]
  },
  {
   "cell_type": "code",
   "execution_count": 127,
   "id": "2b9abcff",
   "metadata": {},
   "outputs": [
    {
     "data": {
      "text/plain": [
       "(0.9, 1.0)"
      ]
     },
     "execution_count": 127,
     "metadata": {},
     "output_type": "execute_result"
    },
    {
     "data": {
      "image/png": "[encoded data removed]",
      "text/plain": [
       "<Figure size 432x288 with 1 Axes>"
      ]
     },
     "metadata": {
      "needs_background": "light"
     },
     "output_type": "display_data"
    }
   ],
   "source": [
    "plt.plot(history.history['accuracy'], 'b')\n",
    "plt.plot(history.history['val_accuracy'], 'y')\n",
    "plt.ylim([0.9,1.0])"
   ]
  },
  {
   "cell_type": "markdown",
   "id": "6f70b49d",
   "metadata": {},
   "source": [
    "### Accuracy y otras métricas"
   ]
  },
  {
   "cell_type": "code",
   "execution_count": 175,
   "id": "1ff1f2a6",
   "metadata": {},
   "outputs": [],
   "source": [
    "from sklearn.metrics import classification_report as cr\n",
    "from sklearn.metrics import confusion_matrix as cm"
   ]
  },
  {
   "cell_type": "code",
   "execution_count": 189,
   "id": "7443f323",
   "metadata": {},
   "outputs": [],
   "source": [
    "probs = model.predict(X_test)"
   ]
  },
  {
   "cell_type": "markdown",
   "id": "4f5c168d",
   "metadata": {},
   "source": [
    "#### Con umbral=0.5"
   ]
  },
  {
   "cell_type": "code",
   "execution_count": 190,
   "id": "60f5bae1",
   "metadata": {},
   "outputs": [],
   "source": [
    "preds_50 = np.where(probs > 0.5, 1, 0)"
   ]
  },
  {
   "cell_type": "code",
   "execution_count": 191,
   "id": "804a8d19",
   "metadata": {},
   "outputs": [
    {
     "name": "stdout",
     "output_type": "stream",
     "text": [
      "              precision    recall  f1-score   support\n",
      "\n",
      "         0.0       0.96      0.97      0.97     67845\n",
      "         1.0       0.60      0.51      0.55      5510\n",
      "\n",
      "    accuracy                           0.94     73355\n",
      "   macro avg       0.78      0.74      0.76     73355\n",
      "weighted avg       0.93      0.94      0.94     73355\n",
      "\n"
     ]
    }
   ],
   "source": [
    "results_50 = cr(y_test, preds_50)\n",
    "print(results_50)"
   ]
  },
  {
   "cell_type": "markdown",
   "id": "b0d7b6cd",
   "metadata": {},
   "source": [
    "#### Con umbral=0.40"
   ]
  },
  {
   "cell_type": "code",
   "execution_count": 192,
   "id": "c85e47ba",
   "metadata": {},
   "outputs": [],
   "source": [
    "preds_40 = np.where(probs > 0.4, 1, 0)"
   ]
  },
  {
   "cell_type": "code",
   "execution_count": 193,
   "id": "f53bb4af",
   "metadata": {},
   "outputs": [
    {
     "name": "stdout",
     "output_type": "stream",
     "text": [
      "              precision    recall  f1-score   support\n",
      "\n",
      "         0.0       0.97      0.97      0.97     67845\n",
      "         1.0       0.59      0.57      0.58      5510\n",
      "\n",
      "    accuracy                           0.94     73355\n",
      "   macro avg       0.78      0.77      0.77     73355\n",
      "weighted avg       0.94      0.94      0.94     73355\n",
      "\n"
     ]
    }
   ],
   "source": [
    "results_40 = cr(y_test, preds_40)\n",
    "print(results_40)"
   ]
  },
  {
   "cell_type": "markdown",
   "id": "2bba50a5",
   "metadata": {},
   "source": [
    "#### Con umbral=0.30"
   ]
  },
  {
   "cell_type": "code",
   "execution_count": 194,
   "id": "c81c7e78",
   "metadata": {},
   "outputs": [],
   "source": [
    "preds_30 = np.where(probs > 0.3, 1, 0)"
   ]
  },
  {
   "cell_type": "code",
   "execution_count": 195,
   "id": "7af7dcc1",
   "metadata": {},
   "outputs": [
    {
     "name": "stdout",
     "output_type": "stream",
     "text": [
      "              precision    recall  f1-score   support\n",
      "\n",
      "         0.0       0.97      0.96      0.97     67845\n",
      "         1.0       0.58      0.64      0.61      5510\n",
      "\n",
      "    accuracy                           0.94     73355\n",
      "   macro avg       0.77      0.80      0.79     73355\n",
      "weighted avg       0.94      0.94      0.94     73355\n",
      "\n"
     ]
    }
   ],
   "source": [
    "results_30 = cr(y_ts, preds_30)\n",
    "print(results_30)"
   ]
  },
  {
   "cell_type": "markdown",
   "id": "0285332a",
   "metadata": {},
   "source": [
    "#### Con umbral=0.2"
   ]
  },
  {
   "cell_type": "code",
   "execution_count": 196,
   "id": "e4edc8b3",
   "metadata": {},
   "outputs": [],
   "source": [
    "preds_20 = np.where(probs > 0.2, 1, 0)"
   ]
  },
  {
   "cell_type": "code",
   "execution_count": 197,
   "id": "fc6e2d39",
   "metadata": {},
   "outputs": [
    {
     "name": "stdout",
     "output_type": "stream",
     "text": [
      "              precision    recall  f1-score   support\n",
      "\n",
      "         0.0       1.00      0.91      0.95     67845\n",
      "         1.0       0.46      0.95      0.62      5510\n",
      "\n",
      "    accuracy                           0.91     73355\n",
      "   macro avg       0.73      0.93      0.79     73355\n",
      "weighted avg       0.96      0.91      0.93     73355\n",
      "\n"
     ]
    }
   ],
   "source": [
    "results_20 = cr(y_test, preds_20)\n",
    "print(results_20)"
   ]
  },
  {
   "cell_type": "markdown",
   "id": "2de1b162",
   "metadata": {},
   "source": [
    "### Distribución de las probabilidades"
   ]
  },
  {
   "cell_type": "code",
   "execution_count": 199,
   "id": "2dc77e11",
   "metadata": {},
   "outputs": [
    {
     "data": {
      "image/png": "[encoded data removed]",
      "text/plain": [
       "<Figure size 432x288 with 1 Axes>"
      ]
     },
     "metadata": {
      "needs_background": "light"
     },
     "output_type": "display_data"
    }
   ],
   "source": [
    "plt.hist(probs, bins=25)\n",
    "plt.show()"
   ]
  },
  {
   "cell_type": "code",
   "execution_count": null,
   "id": "4d6edf57",
   "metadata": {},
   "outputs": [],
   "source": []
  }
 ],
 "metadata": {
  "kernelspec": {
   "display_name": "Python 3 (ipykernel)",
   "language": "python",
   "name": "python3"
  },
  "language_info": {
   "codemirror_mode": {
    "name": "ipython",
    "version": 3
   },
   "file_extension": ".py",
   "mimetype": "text/x-python",
   "name": "python",
   "nbconvert_exporter": "python",
   "pygments_lexer": "ipython3",
   "version": "3.10.8"
  }
 },
 "nbformat": 4,
 "nbformat_minor": 5
}
