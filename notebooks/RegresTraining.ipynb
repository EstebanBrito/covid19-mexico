{
 "cells": [
  {
   "cell_type": "markdown",
   "id": "182f79c3",
   "metadata": {},
   "source": [
    "# Clasificación de Pacientes"
   ]
  },
  {
   "cell_type": "markdown",
   "id": "bf268747",
   "metadata": {},
   "source": [
    "### Librerías y cargado de datos"
   ]
  },
  {
   "cell_type": "code",
   "execution_count": 84,
   "id": "8587b648",
   "metadata": {},
   "outputs": [],
   "source": [
    "import pandas as pd\n",
    "import numpy as np\n",
    "import matplotlib.pyplot as plt\n",
    "import seaborn as sns\n",
    "import os"
   ]
  },
  {
   "cell_type": "code",
   "execution_count": 85,
   "id": "c4a3117c",
   "metadata": {},
   "outputs": [],
   "source": [
    "SEED = 42"
   ]
  },
  {
   "cell_type": "code",
   "execution_count": 86,
   "id": "b8f7dd4b",
   "metadata": {},
   "outputs": [
    {
     "name": "stdout",
     "output_type": "stream",
     "text": [
      "..\\datasets\\subset_clasif.csv\n"
     ]
    }
   ],
   "source": [
    "DATASET_PATH = os.path.join('..', 'datasets', 'subset_clasif.csv')\n",
    "print(DATASET_PATH)"
   ]
  },
  {
   "cell_type": "code",
   "execution_count": 87,
   "id": "c305c536",
   "metadata": {},
   "outputs": [
    {
     "name": "stderr",
     "output_type": "stream",
     "text": [
      "C:\\Users\\Sebastián\\AppData\\Roaming\\Python\\Python38\\site-packages\\numpy\\lib\\arraysetops.py:580: FutureWarning: elementwise comparison failed; returning scalar instead, but in the future will perform elementwise comparison\n",
      "  mask |= (ar1 == a)\n"
     ]
    },
    {
     "data": {
      "text/html": [
       "<div>\n",
       "<style scoped>\n",
       "    .dataframe tbody tr th:only-of-type {\n",
       "        vertical-align: middle;\n",
       "    }\n",
       "\n",
       "    .dataframe tbody tr th {\n",
       "        vertical-align: top;\n",
       "    }\n",
       "\n",
       "    .dataframe thead th {\n",
       "        text-align: right;\n",
       "    }\n",
       "</style>\n",
       "<table border=\"1\" class=\"dataframe\">\n",
       "  <thead>\n",
       "    <tr style=\"text-align: right;\">\n",
       "      <th></th>\n",
       "      <th>SEXO</th>\n",
       "      <th>PAC_HOSPITALIZADO</th>\n",
       "      <th>NEUMONIA</th>\n",
       "      <th>EDAD</th>\n",
       "      <th>EMBARAZO</th>\n",
       "      <th>DIABETES</th>\n",
       "      <th>EPOC</th>\n",
       "      <th>ASMA</th>\n",
       "      <th>INMUSUPR</th>\n",
       "      <th>HIPERTENSION</th>\n",
       "      <th>CARDIOVASCULAR</th>\n",
       "      <th>OBESIDAD</th>\n",
       "      <th>RENAL_CRONICA</th>\n",
       "      <th>TABAQUISMO</th>\n",
       "      <th>DIAS_SINTOMAS</th>\n",
       "      <th>FALLECIDO</th>\n",
       "    </tr>\n",
       "  </thead>\n",
       "  <tbody>\n",
       "    <tr>\n",
       "      <th>0</th>\n",
       "      <td>0</td>\n",
       "      <td>0</td>\n",
       "      <td>0</td>\n",
       "      <td>41</td>\n",
       "      <td>0</td>\n",
       "      <td>0</td>\n",
       "      <td>0</td>\n",
       "      <td>0</td>\n",
       "      <td>0</td>\n",
       "      <td>0</td>\n",
       "      <td>0</td>\n",
       "      <td>0</td>\n",
       "      <td>0</td>\n",
       "      <td>0</td>\n",
       "      <td>0</td>\n",
       "      <td>0</td>\n",
       "    </tr>\n",
       "    <tr>\n",
       "      <th>1</th>\n",
       "      <td>1</td>\n",
       "      <td>1</td>\n",
       "      <td>1</td>\n",
       "      <td>66</td>\n",
       "      <td>0</td>\n",
       "      <td>1</td>\n",
       "      <td>0</td>\n",
       "      <td>0</td>\n",
       "      <td>0</td>\n",
       "      <td>1</td>\n",
       "      <td>0</td>\n",
       "      <td>1</td>\n",
       "      <td>0</td>\n",
       "      <td>0</td>\n",
       "      <td>3</td>\n",
       "      <td>1</td>\n",
       "    </tr>\n",
       "    <tr>\n",
       "      <th>8</th>\n",
       "      <td>0</td>\n",
       "      <td>0</td>\n",
       "      <td>0</td>\n",
       "      <td>47</td>\n",
       "      <td>0</td>\n",
       "      <td>1</td>\n",
       "      <td>0</td>\n",
       "      <td>0</td>\n",
       "      <td>0</td>\n",
       "      <td>0</td>\n",
       "      <td>0</td>\n",
       "      <td>0</td>\n",
       "      <td>0</td>\n",
       "      <td>0</td>\n",
       "      <td>2</td>\n",
       "      <td>0</td>\n",
       "    </tr>\n",
       "  </tbody>\n",
       "</table>\n",
       "</div>"
      ],
      "text/plain": [
       "   SEXO  PAC_HOSPITALIZADO  NEUMONIA  EDAD  EMBARAZO  DIABETES  EPOC  ASMA  \\\n",
       "0     0                  0         0    41         0         0     0     0   \n",
       "1     1                  1         1    66         0         1     0     0   \n",
       "8     0                  0         0    47         0         1     0     0   \n",
       "\n",
       "   INMUSUPR  HIPERTENSION  CARDIOVASCULAR  OBESIDAD  RENAL_CRONICA  \\\n",
       "0         0             0               0         0              0   \n",
       "1         0             1               0         1              0   \n",
       "8         0             0               0         0              0   \n",
       "\n",
       "   TABAQUISMO  DIAS_SINTOMAS  FALLECIDO  \n",
       "0           0              0          0  \n",
       "1           0              3          1  \n",
       "8           0              2          0  "
      ]
     },
     "execution_count": 87,
     "metadata": {},
     "output_type": "execute_result"
    }
   ],
   "source": [
    "df = pd.read_csv(DATASET_PATH, encoding='latin', index_col=0, dtype='uint8')\n",
    "df.head(3)"
   ]
  },
  {
   "cell_type": "code",
   "execution_count": 88,
   "id": "2f82a60d",
   "metadata": {},
   "outputs": [
    {
     "name": "stdout",
     "output_type": "stream",
     "text": [
      "<class 'pandas.core.frame.DataFrame'>\n",
      "UInt64Index: 3667730 entries, 0 to 11\n",
      "Data columns (total 16 columns):\n",
      " #   Column             Dtype\n",
      "---  ------             -----\n",
      " 0   SEXO               uint8\n",
      " 1   PAC_HOSPITALIZADO  uint8\n",
      " 2   NEUMONIA           uint8\n",
      " 3   EDAD               uint8\n",
      " 4   EMBARAZO           uint8\n",
      " 5   DIABETES           uint8\n",
      " 6   EPOC               uint8\n",
      " 7   ASMA               uint8\n",
      " 8   INMUSUPR           uint8\n",
      " 9   HIPERTENSION       uint8\n",
      " 10  CARDIOVASCULAR     uint8\n",
      " 11  OBESIDAD           uint8\n",
      " 12  RENAL_CRONICA      uint8\n",
      " 13  TABAQUISMO         uint8\n",
      " 14  DIAS_SINTOMAS      uint8\n",
      " 15  FALLECIDO          uint8\n",
      "dtypes: uint8(16)\n",
      "memory usage: 83.9 MB\n"
     ]
    }
   ],
   "source": [
    "df.info()"
   ]
  },
  {
   "cell_type": "code",
   "execution_count": 89,
   "id": "880dd787",
   "metadata": {},
   "outputs": [],
   "source": [
    "df_copy = df.copy()"
   ]
  },
  {
   "cell_type": "markdown",
   "id": "1c7650d7",
   "metadata": {},
   "source": [
    "## Preprocesamiento"
   ]
  },
  {
   "cell_type": "markdown",
   "id": "7833d2dd",
   "metadata": {},
   "source": [
    "### Tipado"
   ]
  },
  {
   "cell_type": "code",
   "execution_count": 121,
   "id": "7aeddfc6",
   "metadata": {},
   "outputs": [],
   "source": [
    "y = df['FALLECIDO'].values.astype('float32')\n",
    "X = df.drop(['FALLECIDO'], axis=1).values.astype('float32')"
   ]
  },
  {
   "cell_type": "markdown",
   "id": "8d8e5b2f",
   "metadata": {},
   "source": [
    "### Separación de Datos"
   ]
  },
  {
   "cell_type": "code",
   "execution_count": 122,
   "id": "3db0b044",
   "metadata": {},
   "outputs": [],
   "source": [
    "from sklearn.model_selection import train_test_split"
   ]
  },
  {
   "cell_type": "code",
   "execution_count": 125,
   "id": "481527c8",
   "metadata": {},
   "outputs": [],
   "source": [
    "X_train, X_test, y_train, y_test = train_test_split(X, y, test_size=0.2,\n",
    "                                                    random_state=SEED)"
   ]
  },
  {
   "cell_type": "code",
   "execution_count": 131,
   "id": "ed4bafce",
   "metadata": {},
   "outputs": [
    {
     "ename": "AttributeError",
     "evalue": "'numpy.ndarray' object has no attribute 'count'",
     "output_type": "error",
     "traceback": [
      "\u001b[1;31m---------------------------------------------------------------------------\u001b[0m",
      "\u001b[1;31mAttributeError\u001b[0m                            Traceback (most recent call last)",
      "\u001b[1;32m<ipython-input-131-c8bdd7d4be3a>\u001b[0m in \u001b[0;36m<module>\u001b[1;34m\u001b[0m\n\u001b[1;32m----> 1\u001b[1;33m \u001b[1;33m[\u001b[0m\u001b[0my_train\u001b[0m\u001b[1;33m.\u001b[0m\u001b[0mcount\u001b[0m\u001b[1;33m(\u001b[0m\u001b[0mx\u001b[0m\u001b[1;33m)\u001b[0m \u001b[1;32mfor\u001b[0m \u001b[0mx\u001b[0m \u001b[1;32min\u001b[0m \u001b[0mnp\u001b[0m\u001b[1;33m.\u001b[0m\u001b[0munique\u001b[0m\u001b[1;33m(\u001b[0m\u001b[0my_train\u001b[0m\u001b[1;33m)\u001b[0m\u001b[1;33m]\u001b[0m\u001b[1;33m\u001b[0m\u001b[1;33m\u001b[0m\u001b[0m\n\u001b[0m",
      "\u001b[1;32m<ipython-input-131-c8bdd7d4be3a>\u001b[0m in \u001b[0;36m<listcomp>\u001b[1;34m(.0)\u001b[0m\n\u001b[1;32m----> 1\u001b[1;33m \u001b[1;33m[\u001b[0m\u001b[0my_train\u001b[0m\u001b[1;33m.\u001b[0m\u001b[0mcount\u001b[0m\u001b[1;33m(\u001b[0m\u001b[0mx\u001b[0m\u001b[1;33m)\u001b[0m \u001b[1;32mfor\u001b[0m \u001b[0mx\u001b[0m \u001b[1;32min\u001b[0m \u001b[0mnp\u001b[0m\u001b[1;33m.\u001b[0m\u001b[0munique\u001b[0m\u001b[1;33m(\u001b[0m\u001b[0my_train\u001b[0m\u001b[1;33m)\u001b[0m\u001b[1;33m]\u001b[0m\u001b[1;33m\u001b[0m\u001b[1;33m\u001b[0m\u001b[0m\n\u001b[0m",
      "\u001b[1;31mAttributeError\u001b[0m: 'numpy.ndarray' object has no attribute 'count'"
     ]
    }
   ],
   "source": [
    "[y_train.count(x) for x in np.unique(y_train)]"
   ]
  },
  {
   "cell_type": "code",
   "execution_count": 105,
   "id": "4974ca65",
   "metadata": {},
   "outputs": [
    {
     "data": {
      "text/plain": [
       "(2934184, 733546)"
      ]
     },
     "execution_count": 105,
     "metadata": {},
     "output_type": "execute_result"
    }
   ],
   "source": [
    "# Número de registros en cada set\n",
    "X_train.shape[0], X_test.shape[0]"
   ]
  },
  {
   "cell_type": "markdown",
   "id": "f0199b4d",
   "metadata": {},
   "source": [
    "### Escalado de Datos"
   ]
  },
  {
   "cell_type": "code",
   "execution_count": 106,
   "id": "c1400f8e",
   "metadata": {},
   "outputs": [],
   "source": [
    "from sklearn.preprocessing import StandardScaler, MinMaxScaler"
   ]
  },
  {
   "cell_type": "code",
   "execution_count": 107,
   "id": "d890aca1",
   "metadata": {},
   "outputs": [
    {
     "data": {
      "text/plain": [
       "Index(['SEXO', 'PAC_HOSPITALIZADO', 'NEUMONIA', 'EDAD', 'EMBARAZO', 'DIABETES',\n",
       "       'EPOC', 'ASMA', 'INMUSUPR', 'HIPERTENSION', 'CARDIOVASCULAR',\n",
       "       'OBESIDAD', 'RENAL_CRONICA', 'TABAQUISMO', 'DIAS_SINTOMAS',\n",
       "       'FALLECIDO'],\n",
       "      dtype='object')"
      ]
     },
     "execution_count": 107,
     "metadata": {},
     "output_type": "execute_result"
    }
   ],
   "source": [
    "df.columns"
   ]
  },
  {
   "cell_type": "markdown",
   "id": "2b8da2e5",
   "metadata": {},
   "source": [
    "Rangos de las únicas variables discretas no binarias"
   ]
  },
  {
   "cell_type": "code",
   "execution_count": 108,
   "id": "d5750a1e",
   "metadata": {},
   "outputs": [
    {
     "data": {
      "text/plain": [
       "(0.0, 121.0)"
      ]
     },
     "execution_count": 108,
     "metadata": {},
     "output_type": "execute_result"
    }
   ],
   "source": [
    "# Edad\n",
    "X_train[:,3].min(), X_train[:,3].max()"
   ]
  },
  {
   "cell_type": "code",
   "execution_count": 109,
   "id": "946ed5ec",
   "metadata": {},
   "outputs": [
    {
     "data": {
      "text/plain": [
       "(0.0, 174.0)"
      ]
     },
     "execution_count": 109,
     "metadata": {},
     "output_type": "execute_result"
    }
   ],
   "source": [
    "# Dias Sintomas\n",
    "X_train[:,-1].min(), X_train[:,-1].max()"
   ]
  },
  {
   "cell_type": "markdown",
   "id": "7f59bcfe",
   "metadata": {},
   "source": [
    "Vamos a escalar estas variables usando normalización, en parte porque no presentan una distribución normal y también porque de esa manera mantenemos similares el rango de todas las entradas de la red."
   ]
  },
  {
   "cell_type": "code",
   "execution_count": 111,
   "id": "b7dc95f7",
   "metadata": {},
   "outputs": [],
   "source": [
    "scaler = MinMaxScaler().fit(X_train[:,[3,-1]])\n",
    "X_train[:,[3,-1]] = scaler.transform(X_train[:,[3,-1]])"
   ]
  },
  {
   "cell_type": "markdown",
   "id": "5d743185",
   "metadata": {},
   "source": [
    "Escalamos los datos de prueba usando los parámetros aprendidos en el subset de entrenamiento y el el dataset completo, ya que eso generaría contaminación de datos."
   ]
  },
  {
   "cell_type": "code",
   "execution_count": 116,
   "id": "167b4ce9",
   "metadata": {},
   "outputs": [],
   "source": [
    "X_test[:,[3,-1]] = scaler.transform(X_test[:,[3,-1]])"
   ]
  },
  {
   "cell_type": "markdown",
   "id": "53fde53d",
   "metadata": {},
   "source": [
    "## Modelado"
   ]
  },
  {
   "cell_type": "code",
   "execution_count": 119,
   "id": "12da495c",
   "metadata": {},
   "outputs": [],
   "source": [
    "import tensorflow as tf\n",
    "from tensorflow import keras"
   ]
  },
  {
   "cell_type": "code",
   "execution_count": null,
   "id": "3d4a70b9",
   "metadata": {},
   "outputs": [],
   "source": [
    "model = keras.Sequential([\n",
    "    keras.Dense(15),\n",
    "    keras.Dense(10),\n",
    "    keras.Dense(1)\n",
    "])"
   ]
  },
  {
   "cell_type": "code",
   "execution_count": null,
   "id": "4f258c6c",
   "metadata": {},
   "outputs": [],
   "source": [
    "model.compile(optimizer='Adam', lr=0.05, loss='binary', metrics=)"
   ]
  },
  {
   "cell_type": "code",
   "execution_count": null,
   "id": "93de7163",
   "metadata": {},
   "outputs": [],
   "source": []
  }
 ],
 "metadata": {
  "kernelspec": {
   "display_name": "Python 3",
   "language": "python",
   "name": "python3"
  },
  "language_info": {
   "codemirror_mode": {
    "name": "ipython",
    "version": 3
   },
   "file_extension": ".py",
   "mimetype": "text/x-python",
   "name": "python",
   "nbconvert_exporter": "python",
   "pygments_lexer": "ipython3",
   "version": "3.8.5"
  }
 },
 "nbformat": 4,
 "nbformat_minor": 5
}
