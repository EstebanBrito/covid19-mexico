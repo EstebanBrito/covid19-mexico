{
 "cells": [
  {
   "cell_type": "code",
   "execution_count": 1,
   "id": "46efde8f",
   "metadata": {},
   "outputs": [],
   "source": [
    "import pandas as pd\n",
    "import numpy as np\n",
    "import matplotlib.pyplot as plt\n",
    "import seaborn as sns"
   ]
  },
  {
   "cell_type": "code",
   "execution_count": 2,
   "id": "917ffc43",
   "metadata": {},
   "outputs": [],
   "source": [
    "import os"
   ]
  },
  {
   "cell_type": "code",
   "execution_count": 3,
   "id": "c11aebbf",
   "metadata": {},
   "outputs": [],
   "source": [
    "DATASETS_PATH = os.path.join('..', 'datasets')\n",
    "ANALISIS_SUBSET_PATH = os.path.join(DATASETS_PATH, 'subset_analisis.csv')\n",
    "ML_SUBSET1_PATH = os.path.join(DATASETS_PATH, 'subset_clasif.csv')\n",
    "ML_SUBSET2_PATH = os.path.join(DATASETS_PATH, 'subset_regres.csv')"
   ]
  },
  {
   "cell_type": "markdown",
   "id": "36ee2a7f",
   "metadata": {},
   "source": [
    "### Información útil"
   ]
  },
  {
   "cell_type": "code",
   "execution_count": 217,
   "id": "fd8524ae",
   "metadata": {},
   "outputs": [],
   "source": [
    "tipos_dic = {\n",
    "    0: 'Infectado',\n",
    "    1: 'Fallecido'\n",
    "}"
   ]
  },
  {
   "cell_type": "code",
   "execution_count": 224,
   "id": "2132ab03",
   "metadata": {},
   "outputs": [],
   "source": [
    "estados_dic = {\n",
    "    1: 'AGS',\n",
    "    2: 'BC',\n",
    "    3: 'BCS',\n",
    "    4: 'CAM',\n",
    "    5: 'COAH',\n",
    "    6: 'COL',\n",
    "    7: 'CHIA',\n",
    "    8: 'CHIH',\n",
    "    9: 'CDMX',\n",
    "    10: 'DUR',\n",
    "    11: 'GJTO',\n",
    "    12: 'GUE',\n",
    "    13: 'HID',\n",
    "    14: 'JAL',\n",
    "    15: 'EDOMEX',\n",
    "    16: 'MICH',\n",
    "    17: 'MOR',\n",
    "    18: 'NAY',\n",
    "    19: 'NLEON',\n",
    "    20: 'OAX',\n",
    "    21: 'PUE',\n",
    "    22: 'QUE',\n",
    "    23: 'QROO',\n",
    "    24: 'SLP',\n",
    "    25: 'SIN',\n",
    "    26: 'SON',\n",
    "    27: 'TAB',\n",
    "    28: 'TAM',\n",
    "    29: 'TLAX',\n",
    "    30: 'VER',\n",
    "    31: 'YUC',\n",
    "    32: 'ZAC',\n",
    "    36: 'EUM',\n",
    "    97: 'NA',\n",
    "    98: 'IGNORA',\n",
    "    99: 'NOESPEC'\n",
    "}"
   ]
  },
  {
   "cell_type": "code",
   "execution_count": 41,
   "id": "fd2e6b29",
   "metadata": {},
   "outputs": [],
   "source": [
    "dtypes = {\n",
    "    'SECTOR': np.int8,\n",
    "    'ENTIDAD_UM': np.int8,\n",
    "    'SEXO': np.int8,\n",
    "    'PAC_HOSPITALIZADO': np.int8,\n",
    "    'INTUBADO': np.int8,\n",
    "    'NEUMONIA': np.int8,\n",
    "    'EDAD': np.int8,\n",
    "    'EMBARAZO': np.int8,\n",
    "    'DIABETES': np.int8,\n",
    "    'EPOC': np.int8,\n",
    "    'ASMA': np.int8,\n",
    "    'INMUSUPR': np.int8,\n",
    "    'HIPERTENSION': np.int8,\n",
    "    'CARDIOVASCULAR': np.int8,\n",
    "    'OBESIDAD': np.int8,\n",
    "    'RENAL_CRONICA': np.int8,\n",
    "    'TABAQUISMO': np.int8,\n",
    "    'UCI': np.int8,\n",
    "    'MES_INGRESO': np.int8,\n",
    "    'AÃO_INGRESO': np.int16,\n",
    "    'MES_DEF': np.int8,\n",
    "    'AÃO_DEF': np.int16,\n",
    "}"
   ]
  },
  {
   "cell_type": "markdown",
   "id": "dc9ef7b9",
   "metadata": {},
   "source": [
    "### Cargando Datos"
   ]
  },
  {
   "cell_type": "code",
   "execution_count": 42,
   "id": "69c3764f",
   "metadata": {},
   "outputs": [
    {
     "name": "stdout",
     "output_type": "stream",
     "text": [
      "<class 'pandas.core.frame.DataFrame'>\n",
      "Int64Index: 3667730 entries, 0 to 10785803\n",
      "Data columns (total 22 columns):\n",
      " #   Column             Dtype\n",
      "---  ------             -----\n",
      " 0   SECTOR             int8 \n",
      " 1   ENTIDAD_UM         int8 \n",
      " 2   SEXO               int8 \n",
      " 3   PAC_HOSPITALIZADO  int8 \n",
      " 4   INTUBADO           int8 \n",
      " 5   NEUMONIA           int8 \n",
      " 6   EDAD               int8 \n",
      " 7   EMBARAZO           int8 \n",
      " 8   DIABETES           int8 \n",
      " 9   EPOC               int8 \n",
      " 10  ASMA               int8 \n",
      " 11  INMUSUPR           int8 \n",
      " 12  HIPERTENSION       int8 \n",
      " 13  CARDIOVASCULAR     int8 \n",
      " 14  OBESIDAD           int8 \n",
      " 15  RENAL_CRONICA      int8 \n",
      " 16  TABAQUISMO         int8 \n",
      " 17  UCI                int8 \n",
      " 18  MES_INGRESO        int8 \n",
      " 19  AÃO_INGRESO       int16\n",
      " 20  MES_DEF            int8 \n",
      " 21  AÃO_DEF           int16\n",
      "dtypes: int16(2), int8(20)\n",
      "memory usage: 111.9 MB\n"
     ]
    }
   ],
   "source": [
    "analisis_df = pd.read_csv(ANALISIS_SUBSET_PATH, dtype=dtypes, index_col=0, encoding='latin')\n",
    "analisis_df.info()"
   ]
  },
  {
   "cell_type": "code",
   "execution_count": 44,
   "id": "806c2ac2",
   "metadata": {},
   "outputs": [],
   "source": [
    "analisis_df.rename({'AÃO_INGRESO': 'AÑO_INGRESO', 'AÃO_DEF': 'AÑO_DEF'}, axis=1, inplace=True)"
   ]
  },
  {
   "cell_type": "code",
   "execution_count": 36,
   "id": "7bc532e3",
   "metadata": {},
   "outputs": [
    {
     "name": "stdout",
     "output_type": "stream",
     "text": [
      "<class 'pandas.core.frame.DataFrame'>\n",
      "Int64Index: 3667730 entries, 0 to 11\n",
      "Data columns (total 16 columns):\n",
      " #   Column             Dtype\n",
      "---  ------             -----\n",
      " 0   SEXO               int8 \n",
      " 1   PAC_HOSPITALIZADO  int8 \n",
      " 2   NEUMONIA           int8 \n",
      " 3   EDAD               int8 \n",
      " 4   EMBARAZO           int8 \n",
      " 5   DIABETES           int8 \n",
      " 6   EPOC               int8 \n",
      " 7   ASMA               int8 \n",
      " 8   INMUSUPR           int8 \n",
      " 9   HIPERTENSION       int8 \n",
      " 10  CARDIOVASCULAR     int8 \n",
      " 11  OBESIDAD           int8 \n",
      " 12  RENAL_CRONICA      int8 \n",
      " 13  TABAQUISMO         int8 \n",
      " 14  DIAS_SINTOMAS      int8 \n",
      " 15  FALLECIDO          int8 \n",
      "dtypes: int8(16)\n",
      "memory usage: 83.9 MB\n"
     ]
    }
   ],
   "source": [
    "clasif_df = pd.read_csv(ML_SUBSET1_PATH, dtype=np.int8, index_col=0)\n",
    "clasif_df.info()"
   ]
  },
  {
   "cell_type": "code",
   "execution_count": 24,
   "id": "63abdef7",
   "metadata": {},
   "outputs": [
    {
     "name": "stdout",
     "output_type": "stream",
     "text": [
      "<class 'pandas.core.frame.DataFrame'>\n",
      "Int64Index: 275496 entries, 1 to 86\n",
      "Data columns (total 16 columns):\n",
      " #   Column             Non-Null Count   Dtype\n",
      "---  ------             --------------   -----\n",
      " 0   SEXO               275496 non-null  int8 \n",
      " 1   PAC_HOSPITALIZADO  275496 non-null  int8 \n",
      " 2   NEUMONIA           275496 non-null  int8 \n",
      " 3   EDAD               275496 non-null  int8 \n",
      " 4   EMBARAZO           275496 non-null  int8 \n",
      " 5   DIABETES           275496 non-null  int8 \n",
      " 6   EPOC               275496 non-null  int8 \n",
      " 7   ASMA               275496 non-null  int8 \n",
      " 8   INMUSUPR           275496 non-null  int8 \n",
      " 9   HIPERTENSION       275496 non-null  int8 \n",
      " 10  CARDIOVASCULAR     275496 non-null  int8 \n",
      " 11  OBESIDAD           275496 non-null  int8 \n",
      " 12  RENAL_CRONICA      275496 non-null  int8 \n",
      " 13  TABAQUISMO         275496 non-null  int8 \n",
      " 14  DIAS_SINTOMAS      275496 non-null  int8 \n",
      " 15  DIAS_DEF           275496 non-null  int8 \n",
      "dtypes: int8(16)\n",
      "memory usage: 6.3 MB\n"
     ]
    }
   ],
   "source": [
    "regres_df = pd.read_csv(ML_SUBSET2_PATH, dtype=np.int8, index_col=0)\n",
    "regres_df.info()"
   ]
  },
  {
   "cell_type": "code",
   "execution_count": 63,
   "id": "76f47be8",
   "metadata": {},
   "outputs": [],
   "source": [
    "def is_dead(x):\n",
    "    if x==9999: return 0\n",
    "    else: return 1"
   ]
  },
  {
   "cell_type": "code",
   "execution_count": 64,
   "id": "0fcb7494",
   "metadata": {},
   "outputs": [],
   "source": [
    "analisis_df['FALLECIDO'] = analisis_df['AÑO_DEF'].apply(is_dead).astype(np.int8)"
   ]
  },
  {
   "cell_type": "markdown",
   "id": "bb5a54e0",
   "metadata": {},
   "source": [
    "# Generando gráficas interesantes"
   ]
  },
  {
   "cell_type": "markdown",
   "id": "f1b6bdfa",
   "metadata": {},
   "source": [
    "Tenemos planeado responder las siguientes cuestiones:\n",
    "\n",
    "- Comparación de infectados y muertos por estado (Gráf. vertical de barras apiladas)\n",
    "- Porcentaje de fallecidos e infectados por ordenados estado (Graf. vert de barras apiladas)\n",
    "- Comparación de infectados y muertos por género (Gráf. horizontal de barras apiladas)\n",
    "- Días que toma a un paciente fallecer según edad (Gráf . de dispersión)\n",
    "- Progreso de la pandemia cada mes (Gráf. de línea)\n",
    "- Distribución de pacientes según edad (Histograma)\n",
    "- Infectados y fallecidos según grupo de edad (Gráf. horiz. de barras apiladas)\n",
    "- Porcentaje de infectados vs. fallecidos según grupo de edad (Gráf. horiz. de barras apiladas)\n",
    "- Infectados y fallecidos según sectores de salud (Gráf. horiz. de barras apiladas)\n",
    "- Porcentaje de infectados vs. fallecidos según sectores de salud (Gráf. horiz. de barras apiladas)\n",
    "- Porcentaje de infectados vs. fallecidos según affeciones de salud previas (Graf. horiz. de barras apiladas)"
   ]
  },
  {
   "cell_type": "markdown",
   "id": "a122f274",
   "metadata": {},
   "source": [
    "## Comparación de infectados y fallecidos por estado"
   ]
  },
  {
   "cell_type": "markdown",
   "id": "6cd18c47",
   "metadata": {},
   "source": [
    "Primero agrupamos los datos por estado y luego por tipo de paciente, y después generamos el conteo"
   ]
  },
  {
   "cell_type": "code",
   "execution_count": 210,
   "id": "5428993a",
   "metadata": {},
   "outputs": [
    {
     "data": {
      "text/html": [
       "<div>\n",
       "<style scoped>\n",
       "    .dataframe tbody tr th:only-of-type {\n",
       "        vertical-align: middle;\n",
       "    }\n",
       "\n",
       "    .dataframe tbody tr th {\n",
       "        vertical-align: top;\n",
       "    }\n",
       "\n",
       "    .dataframe thead th {\n",
       "        text-align: right;\n",
       "    }\n",
       "</style>\n",
       "<table border=\"1\" class=\"dataframe\">\n",
       "  <thead>\n",
       "    <tr style=\"text-align: right;\">\n",
       "      <th></th>\n",
       "      <th></th>\n",
       "      <th>FALLECIDO</th>\n",
       "    </tr>\n",
       "    <tr>\n",
       "      <th>ENTIDAD_UM</th>\n",
       "      <th>FALLECIDO</th>\n",
       "      <th></th>\n",
       "    </tr>\n",
       "  </thead>\n",
       "  <tbody>\n",
       "    <tr>\n",
       "      <th rowspan=\"2\" valign=\"top\">1</th>\n",
       "      <th>0</th>\n",
       "      <td>31056</td>\n",
       "    </tr>\n",
       "    <tr>\n",
       "      <th>1</th>\n",
       "      <td>2816</td>\n",
       "    </tr>\n",
       "    <tr>\n",
       "      <th rowspan=\"2\" valign=\"top\">2</th>\n",
       "      <th>0</th>\n",
       "      <td>51847</td>\n",
       "    </tr>\n",
       "    <tr>\n",
       "      <th>1</th>\n",
       "      <td>8962</td>\n",
       "    </tr>\n",
       "    <tr>\n",
       "      <th>3</th>\n",
       "      <th>0</th>\n",
       "      <td>52610</td>\n",
       "    </tr>\n",
       "    <tr>\n",
       "      <th>...</th>\n",
       "      <th>...</th>\n",
       "      <td>...</td>\n",
       "    </tr>\n",
       "    <tr>\n",
       "      <th>30</th>\n",
       "      <th>1</th>\n",
       "      <td>13526</td>\n",
       "    </tr>\n",
       "    <tr>\n",
       "      <th rowspan=\"2\" valign=\"top\">31</th>\n",
       "      <th>0</th>\n",
       "      <td>65505</td>\n",
       "    </tr>\n",
       "    <tr>\n",
       "      <th>1</th>\n",
       "      <td>5402</td>\n",
       "    </tr>\n",
       "    <tr>\n",
       "      <th rowspan=\"2\" valign=\"top\">32</th>\n",
       "      <th>0</th>\n",
       "      <td>37475</td>\n",
       "    </tr>\n",
       "    <tr>\n",
       "      <th>1</th>\n",
       "      <td>3197</td>\n",
       "    </tr>\n",
       "  </tbody>\n",
       "</table>\n",
       "<p>64 rows × 1 columns</p>\n",
       "</div>"
      ],
      "text/plain": [
       "                      FALLECIDO\n",
       "ENTIDAD_UM FALLECIDO           \n",
       "1          0              31056\n",
       "           1               2816\n",
       "2          0              51847\n",
       "           1               8962\n",
       "3          0              52610\n",
       "...                         ...\n",
       "30         1              13526\n",
       "31         0              65505\n",
       "           1               5402\n",
       "32         0              37475\n",
       "           1               3197\n",
       "\n",
       "[64 rows x 1 columns]"
      ]
     },
     "execution_count": 210,
     "metadata": {},
     "output_type": "execute_result"
    }
   ],
   "source": [
    "conteo_estado = analisis_df[['FALLECIDO']].groupby([analisis_df['ENTIDAD_UM'], analisis_df['FALLECIDO']]).count()\n",
    "conteo_estado"
   ]
  },
  {
   "cell_type": "markdown",
   "id": "cd3eef1c",
   "metadata": {},
   "source": [
    "Los datos de la CDXM son mucho más altos que los demás, y esto puede causar que la gráfica se vea mal. Para ello, removemos los registros de la CDMX."
   ]
  },
  {
   "cell_type": "code",
   "execution_count": 211,
   "id": "5e5921c1",
   "metadata": {},
   "outputs": [],
   "source": [
    "conteo_estado.drop(9, axis=0, inplace=True)"
   ]
  },
  {
   "cell_type": "markdown",
   "id": "aa82263b",
   "metadata": {},
   "source": [
    "Para graficar los datos, necesitamos cambiar el formato de los datos, así como el nombre de las variables y los valores que poseen. Para ello, programamos una pequeña función que nos devuelve un dataframe en un formato que esté listo para graficar."
   ]
  },
  {
   "cell_type": "markdown",
   "id": "3e3d8be9",
   "metadata": {},
   "source": [
    "#### Funcion para formatear dataframe"
   ]
  },
  {
   "cell_type": "code",
   "execution_count": 225,
   "id": "aab8b58c",
   "metadata": {},
   "outputs": [],
   "source": [
    "def create_plot_dataframe(data, key1, key2, keyvals, newkey1, newkey2, newkeyvals, newvals1, newvals2):\n",
    "    df = data.copy()\n",
    "    # Cambiar nombre columna repetida\n",
    "    df.rename({keyvals: newkeyvals}, axis=1, inplace=True)\n",
    "    # Unravel\n",
    "    df.reset_index(inplace=True)\n",
    "    # Cambiar nombres columnas nuevas\n",
    "    df.rename({key1: newkey1, key2: newkey2}, axis=1, inplace=True)\n",
    "    # Cambiar valores\n",
    "    df[newkey1] = df[newkey1].apply(lambda x: newvals1[x])\n",
    "    df[newkey2] = df[newkey2].apply(lambda x: newvals2[x])\n",
    "    # Regresar pivote\n",
    "    return df.pivot(index=newkey1, columns=newkey2, values=newkeyvals)"
   ]
  },
  {
   "cell_type": "code",
   "execution_count": 226,
   "id": "bbade91d",
   "metadata": {},
   "outputs": [],
   "source": [
    "pivote = create_plot_dataframe(lol, 'ENTIDAD_UM', 'FALLECIDO', 'FALLECIDO', 'ENTIDAD', 'TIPO', 'CONTEO', estados_dic, tipos_dic)"
   ]
  },
  {
   "cell_type": "markdown",
   "id": "f14b06d0",
   "metadata": {},
   "source": [
    "Una vez formateado el dataframe, podemos graficar los datos en una sólo línea de código, usando la integración de Pandas con Matplotlib."
   ]
  },
  {
   "cell_type": "code",
   "execution_count": 227,
   "id": "58cc725d",
   "metadata": {},
   "outputs": [
    {
     "data": {
      "text/plain": [
       "<AxesSubplot:xlabel='ENTIDAD'>"
      ]
     },
     "execution_count": 227,
     "metadata": {},
     "output_type": "execute_result"
    },
    {
     "data": {
      "image/png": "[encoded data removed]",
      "text/plain": [
       "<Figure size 1152x360 with 1 Axes>"
      ]
     },
     "metadata": {
      "needs_background": "light"
     },
     "output_type": "display_data"
    }
   ],
   "source": [
    "pivote.plot(kind='bar', stacked=True, figsize=(16,5))"
   ]
  },
  {
   "cell_type": "markdown",
   "id": "2befb079",
   "metadata": {},
   "source": [
    "## Porcentaje de fallecidos por estado"
   ]
  },
  {
   "cell_type": "code",
   "execution_count": null,
   "id": "184de1bf",
   "metadata": {},
   "outputs": [],
   "source": []
  },
  {
   "cell_type": "code",
   "execution_count": null,
   "id": "52930cff",
   "metadata": {},
   "outputs": [],
   "source": []
  },
  {
   "cell_type": "code",
   "execution_count": null,
   "id": "e43a2f4e",
   "metadata": {},
   "outputs": [],
   "source": []
  }
 ],
 "metadata": {
  "kernelspec": {
   "display_name": "Python 3",
   "language": "python",
   "name": "python3"
  },
  "language_info": {
   "codemirror_mode": {
    "name": "ipython",
    "version": 3
   },
   "file_extension": ".py",
   "mimetype": "text/x-python",
   "name": "python",
   "nbconvert_exporter": "python",
   "pygments_lexer": "ipython3",
   "version": "3.8.5"
  }
 },
 "nbformat": 4,
 "nbformat_minor": 5
}
