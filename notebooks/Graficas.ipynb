{
 "cells": [
  {
   "cell_type": "code",
   "execution_count": 1,
   "id": "46efde8f",
   "metadata": {},
   "outputs": [],
   "source": [
    "import pandas as pd\n",
    "import numpy as np\n",
    "import matplotlib.pyplot as plt\n",
    "import seaborn as sns"
   ]
  },
  {
   "cell_type": "code",
   "execution_count": 2,
   "id": "917ffc43",
   "metadata": {},
   "outputs": [],
   "source": [
    "import os"
   ]
  },
  {
   "cell_type": "code",
   "execution_count": 3,
   "id": "c11aebbf",
   "metadata": {},
   "outputs": [],
   "source": [
    "DATASETS_PATH = os.path.join('..', 'datasets')\n",
    "ANALISIS_SUBSET_PATH = os.path.join(DATASETS_PATH, 'subset_analisis.csv')\n",
    "ML_SUBSET1_PATH = os.path.join(DATASETS_PATH, 'subset_clasif.csv')\n",
    "ML_SUBSET2_PATH = os.path.join(DATASETS_PATH, 'subset_regres.csv')"
   ]
  },
  {
   "cell_type": "markdown",
   "id": "36ee2a7f",
   "metadata": {},
   "source": [
    "### Información útil"
   ]
  },
  {
   "cell_type": "code",
   "execution_count": 4,
   "id": "fd8524ae",
   "metadata": {},
   "outputs": [],
   "source": [
    "tipos_dic = {\n",
    "    0: 'Infectado',\n",
    "    1: 'Fallecido'\n",
    "}"
   ]
  },
  {
   "cell_type": "code",
   "execution_count": 5,
   "id": "6f264d83",
   "metadata": {},
   "outputs": [],
   "source": [
    "generos_dic = {\n",
    "    0: 'Hombre',\n",
    "    1: 'Mujer'\n",
    "}"
   ]
  },
  {
   "cell_type": "code",
   "execution_count": 6,
   "id": "c8d4c4da",
   "metadata": {},
   "outputs": [],
   "source": [
    "sectores_dic = {\n",
    "    1: 'CRUZ ROJA',\n",
    "    2: 'DIF',\n",
    "    3: 'ESTATAL',\n",
    "    4: 'IMSS',\n",
    "    5: 'IMSS-BIENESTAR',\n",
    "    6: 'ISSSTE',\n",
    "    7: 'MUNICIPAL',\n",
    "    8: 'PEMEX',\n",
    "    9: 'PRIVADA',\n",
    "    10: 'SEDENA',\n",
    "    11: 'SEMAR',\n",
    "    12: 'SSA',\n",
    "    13: 'UNIVERSITARIO',\n",
    "    14: 'DESC.',\n",
    "    99: 'NO ESPEC.'\n",
    "}"
   ]
  },
  {
   "cell_type": "code",
   "execution_count": 7,
   "id": "2132ab03",
   "metadata": {},
   "outputs": [],
   "source": [
    "estados_dic = {\n",
    "    1: 'AGS',\n",
    "    2: 'BC',\n",
    "    3: 'BCS',\n",
    "    4: 'CAM',\n",
    "    5: 'COAH',\n",
    "    6: 'COL',\n",
    "    7: 'CHIA',\n",
    "    8: 'CHIH',\n",
    "    9: 'CDMX',\n",
    "    10: 'DUR',\n",
    "    11: 'GJTO',\n",
    "    12: 'GUE',\n",
    "    13: 'HID',\n",
    "    14: 'JAL',\n",
    "    15: 'EDOMEX',\n",
    "    16: 'MICH',\n",
    "    17: 'MOR',\n",
    "    18: 'NAY',\n",
    "    19: 'NLEON',\n",
    "    20: 'OAX',\n",
    "    21: 'PUE',\n",
    "    22: 'QUE',\n",
    "    23: 'QROO',\n",
    "    24: 'SLP',\n",
    "    25: 'SIN',\n",
    "    26: 'SON',\n",
    "    27: 'TAB',\n",
    "    28: 'TAM',\n",
    "    29: 'TLAX',\n",
    "    30: 'VER',\n",
    "    31: 'YUC',\n",
    "    32: 'ZAC',\n",
    "    36: 'EUM',\n",
    "    97: 'NA',\n",
    "    98: 'IGNORA',\n",
    "    99: 'NOESPEC'\n",
    "}"
   ]
  },
  {
   "cell_type": "code",
   "execution_count": 8,
   "id": "fd2e6b29",
   "metadata": {},
   "outputs": [],
   "source": [
    "dtypes = {\n",
    "    'SECTOR': np.int8,\n",
    "    'ENTIDAD_UM': np.int8,\n",
    "    'SEXO': np.int8,\n",
    "    'PAC_HOSPITALIZADO': np.int8,\n",
    "    'INTUBADO': np.int8,\n",
    "    'NEUMONIA': np.int8,\n",
    "    'EDAD': np.int8,\n",
    "    'EMBARAZO': np.int8,\n",
    "    'DIABETES': np.int8,\n",
    "    'EPOC': np.int8,\n",
    "    'ASMA': np.int8,\n",
    "    'INMUSUPR': np.int8,\n",
    "    'HIPERTENSION': np.int8,\n",
    "    'CARDIOVASCULAR': np.int8,\n",
    "    'OBESIDAD': np.int8,\n",
    "    'RENAL_CRONICA': np.int8,\n",
    "    'TABAQUISMO': np.int8,\n",
    "    'UCI': np.int8,\n",
    "    'MES_INGRESO': np.int8,\n",
    "    'AÃO_INGRESO': np.int16,\n",
    "    'MES_DEF': np.int8,\n",
    "    'AÃO_DEF': np.int16,\n",
    "}"
   ]
  },
  {
   "cell_type": "markdown",
   "id": "dc9ef7b9",
   "metadata": {},
   "source": [
    "### Cargando Datos"
   ]
  },
  {
   "cell_type": "code",
   "execution_count": 9,
   "id": "69c3764f",
   "metadata": {},
   "outputs": [
    {
     "name": "stderr",
     "output_type": "stream",
     "text": [
      "C:\\Users\\Sebastián\\AppData\\Roaming\\Python\\Python38\\site-packages\\numpy\\lib\\arraysetops.py:580: FutureWarning: elementwise comparison failed; returning scalar instead, but in the future will perform elementwise comparison\n",
      "  mask |= (ar1 == a)\n"
     ]
    },
    {
     "name": "stdout",
     "output_type": "stream",
     "text": [
      "<class 'pandas.core.frame.DataFrame'>\n",
      "Int64Index: 3667730 entries, 0 to 10785803\n",
      "Data columns (total 22 columns):\n",
      " #   Column             Dtype\n",
      "---  ------             -----\n",
      " 0   SECTOR             int8 \n",
      " 1   ENTIDAD_UM         int8 \n",
      " 2   SEXO               int8 \n",
      " 3   PAC_HOSPITALIZADO  int8 \n",
      " 4   INTUBADO           int8 \n",
      " 5   NEUMONIA           int8 \n",
      " 6   EDAD               int8 \n",
      " 7   EMBARAZO           int8 \n",
      " 8   DIABETES           int8 \n",
      " 9   EPOC               int8 \n",
      " 10  ASMA               int8 \n",
      " 11  INMUSUPR           int8 \n",
      " 12  HIPERTENSION       int8 \n",
      " 13  CARDIOVASCULAR     int8 \n",
      " 14  OBESIDAD           int8 \n",
      " 15  RENAL_CRONICA      int8 \n",
      " 16  TABAQUISMO         int8 \n",
      " 17  UCI                int8 \n",
      " 18  MES_INGRESO        int8 \n",
      " 19  AÃO_INGRESO       int16\n",
      " 20  MES_DEF            int8 \n",
      " 21  AÃO_DEF           int16\n",
      "dtypes: int16(2), int8(20)\n",
      "memory usage: 111.9 MB\n"
     ]
    }
   ],
   "source": [
    "analisis_df = pd.read_csv(ANALISIS_SUBSET_PATH, dtype=dtypes, index_col=0, encoding='latin')\n",
    "analisis_df.info()"
   ]
  },
  {
   "cell_type": "code",
   "execution_count": 10,
   "id": "806c2ac2",
   "metadata": {},
   "outputs": [],
   "source": [
    "analisis_df.rename({'AÃO_INGRESO': 'AÑO_INGRESO', 'AÃO_DEF': 'AÑO_DEF'}, axis=1, inplace=True)"
   ]
  },
  {
   "cell_type": "code",
   "execution_count": 11,
   "id": "7bc532e3",
   "metadata": {},
   "outputs": [
    {
     "name": "stdout",
     "output_type": "stream",
     "text": [
      "<class 'pandas.core.frame.DataFrame'>\n",
      "Int64Index: 3667730 entries, 0 to 11\n",
      "Data columns (total 16 columns):\n",
      " #   Column             Dtype\n",
      "---  ------             -----\n",
      " 0   SEXO               int8 \n",
      " 1   PAC_HOSPITALIZADO  int8 \n",
      " 2   NEUMONIA           int8 \n",
      " 3   EDAD               int8 \n",
      " 4   EMBARAZO           int8 \n",
      " 5   DIABETES           int8 \n",
      " 6   EPOC               int8 \n",
      " 7   ASMA               int8 \n",
      " 8   INMUSUPR           int8 \n",
      " 9   HIPERTENSION       int8 \n",
      " 10  CARDIOVASCULAR     int8 \n",
      " 11  OBESIDAD           int8 \n",
      " 12  RENAL_CRONICA      int8 \n",
      " 13  TABAQUISMO         int8 \n",
      " 14  DIAS_SINTOMAS      int8 \n",
      " 15  FALLECIDO          int8 \n",
      "dtypes: int8(16)\n",
      "memory usage: 83.9 MB\n"
     ]
    }
   ],
   "source": [
    "clasif_df = pd.read_csv(ML_SUBSET1_PATH, dtype=np.int8, index_col=0)\n",
    "clasif_df.info()"
   ]
  },
  {
   "cell_type": "code",
   "execution_count": 12,
   "id": "63abdef7",
   "metadata": {},
   "outputs": [
    {
     "name": "stdout",
     "output_type": "stream",
     "text": [
      "<class 'pandas.core.frame.DataFrame'>\n",
      "Int64Index: 275205 entries, 1 to -28330\n",
      "Data columns (total 16 columns):\n",
      " #   Column             Non-Null Count   Dtype\n",
      "---  ------             --------------   -----\n",
      " 0   SEXO               275205 non-null  int16\n",
      " 1   PAC_HOSPITALIZADO  275205 non-null  int16\n",
      " 2   NEUMONIA           275205 non-null  int16\n",
      " 3   EDAD               275205 non-null  int16\n",
      " 4   EMBARAZO           275205 non-null  int16\n",
      " 5   DIABETES           275205 non-null  int16\n",
      " 6   EPOC               275205 non-null  int16\n",
      " 7   ASMA               275205 non-null  int16\n",
      " 8   INMUSUPR           275205 non-null  int16\n",
      " 9   HIPERTENSION       275205 non-null  int16\n",
      " 10  CARDIOVASCULAR     275205 non-null  int16\n",
      " 11  OBESIDAD           275205 non-null  int16\n",
      " 12  RENAL_CRONICA      275205 non-null  int16\n",
      " 13  TABAQUISMO         275205 non-null  int16\n",
      " 14  DIAS_SINTOMAS      275205 non-null  int16\n",
      " 15  DIAS_DEF           275205 non-null  int16\n",
      "dtypes: int16(16)\n",
      "memory usage: 10.5 MB\n"
     ]
    }
   ],
   "source": [
    "regres_df = pd.read_csv(ML_SUBSET2_PATH, dtype=np.int16, index_col=0)\n",
    "regres_df.info()"
   ]
  },
  {
   "cell_type": "code",
   "execution_count": 13,
   "id": "76f47be8",
   "metadata": {},
   "outputs": [],
   "source": [
    "def is_dead(x):\n",
    "    if x==9999: return 0\n",
    "    else: return 1"
   ]
  },
  {
   "cell_type": "code",
   "execution_count": 14,
   "id": "0fcb7494",
   "metadata": {},
   "outputs": [],
   "source": [
    "analisis_df['FALLECIDO'] = analisis_df['AÑO_DEF'].apply(is_dead).astype(np.int8)"
   ]
  },
  {
   "cell_type": "markdown",
   "id": "bb5a54e0",
   "metadata": {},
   "source": [
    "# Generando gráficas interesantes"
   ]
  },
  {
   "cell_type": "markdown",
   "id": "f1b6bdfa",
   "metadata": {},
   "source": [
    "Tenemos planeado responder las siguientes cuestiones:\n",
    "\n",
    "- Comparación de infectados y muertos por estado (Gráf. vertical de barras apiladas)\n",
    "- Porcentaje de fallecidos e infectados por ordenados estado (Graf. vert de barras apiladas)\n",
    "- Comparación de infectados y muertos por género (Gráf. horizontal de barras apiladas)\n",
    "- Días que toma a un paciente fallecer según edad (Gráf . de dispersión)\n",
    "- Progreso de la pandemia cada mes (Gráf. de línea)\n",
    "- Distribución de pacientes según edad (Histograma)\n",
    "- Infectados y fallecidos según grupo de edad (Gráf. horiz. de barras apiladas)\n",
    "- Porcentaje de infectados vs. fallecidos según grupo de edad (Gráf. horiz. de barras apiladas)\n",
    "- Infectados y fallecidos según sectores de salud (Gráf. horiz. de barras apiladas)\n",
    "- Porcentaje de infectados vs. fallecidos según sectores de salud (Gráf. horiz. de barras apiladas)\n",
    "- Porcentaje de infectados vs. fallecidos según affeciones de salud previas (Graf. horiz. de barras apiladas)"
   ]
  },
  {
   "cell_type": "markdown",
   "id": "a122f274",
   "metadata": {},
   "source": [
    "## Comparación de infectados y fallecidos por estado"
   ]
  },
  {
   "cell_type": "markdown",
   "id": "6cd18c47",
   "metadata": {},
   "source": [
    "Primero agrupamos los datos por estado y luego por tipo de paciente, y después generamos el conteo"
   ]
  },
  {
   "cell_type": "code",
   "execution_count": 15,
   "id": "5428993a",
   "metadata": {},
   "outputs": [
    {
     "data": {
      "text/html": [
       "<div>\n",
       "<style scoped>\n",
       "    .dataframe tbody tr th:only-of-type {\n",
       "        vertical-align: middle;\n",
       "    }\n",
       "\n",
       "    .dataframe tbody tr th {\n",
       "        vertical-align: top;\n",
       "    }\n",
       "\n",
       "    .dataframe thead th {\n",
       "        text-align: right;\n",
       "    }\n",
       "</style>\n",
       "<table border=\"1\" class=\"dataframe\">\n",
       "  <thead>\n",
       "    <tr style=\"text-align: right;\">\n",
       "      <th></th>\n",
       "      <th></th>\n",
       "      <th>FALLECIDO</th>\n",
       "    </tr>\n",
       "    <tr>\n",
       "      <th>ENTIDAD_UM</th>\n",
       "      <th>FALLECIDO</th>\n",
       "      <th></th>\n",
       "    </tr>\n",
       "  </thead>\n",
       "  <tbody>\n",
       "    <tr>\n",
       "      <th rowspan=\"2\" valign=\"top\">1</th>\n",
       "      <th>0</th>\n",
       "      <td>31056</td>\n",
       "    </tr>\n",
       "    <tr>\n",
       "      <th>1</th>\n",
       "      <td>2816</td>\n",
       "    </tr>\n",
       "    <tr>\n",
       "      <th rowspan=\"2\" valign=\"top\">2</th>\n",
       "      <th>0</th>\n",
       "      <td>51847</td>\n",
       "    </tr>\n",
       "    <tr>\n",
       "      <th>1</th>\n",
       "      <td>8962</td>\n",
       "    </tr>\n",
       "    <tr>\n",
       "      <th>3</th>\n",
       "      <th>0</th>\n",
       "      <td>52610</td>\n",
       "    </tr>\n",
       "    <tr>\n",
       "      <th>...</th>\n",
       "      <th>...</th>\n",
       "      <td>...</td>\n",
       "    </tr>\n",
       "    <tr>\n",
       "      <th>30</th>\n",
       "      <th>1</th>\n",
       "      <td>13526</td>\n",
       "    </tr>\n",
       "    <tr>\n",
       "      <th rowspan=\"2\" valign=\"top\">31</th>\n",
       "      <th>0</th>\n",
       "      <td>65505</td>\n",
       "    </tr>\n",
       "    <tr>\n",
       "      <th>1</th>\n",
       "      <td>5402</td>\n",
       "    </tr>\n",
       "    <tr>\n",
       "      <th rowspan=\"2\" valign=\"top\">32</th>\n",
       "      <th>0</th>\n",
       "      <td>37475</td>\n",
       "    </tr>\n",
       "    <tr>\n",
       "      <th>1</th>\n",
       "      <td>3197</td>\n",
       "    </tr>\n",
       "  </tbody>\n",
       "</table>\n",
       "<p>64 rows × 1 columns</p>\n",
       "</div>"
      ],
      "text/plain": [
       "                      FALLECIDO\n",
       "ENTIDAD_UM FALLECIDO           \n",
       "1          0              31056\n",
       "           1               2816\n",
       "2          0              51847\n",
       "           1               8962\n",
       "3          0              52610\n",
       "...                         ...\n",
       "30         1              13526\n",
       "31         0              65505\n",
       "           1               5402\n",
       "32         0              37475\n",
       "           1               3197\n",
       "\n",
       "[64 rows x 1 columns]"
      ]
     },
     "execution_count": 15,
     "metadata": {},
     "output_type": "execute_result"
    }
   ],
   "source": [
    "conteo_estado = analisis_df[['FALLECIDO']].groupby([analisis_df['ENTIDAD_UM'], analisis_df['FALLECIDO']]).count()\n",
    "conteo_estado"
   ]
  },
  {
   "cell_type": "markdown",
   "id": "aa82263b",
   "metadata": {},
   "source": [
    "Para graficar los datos, necesitamos cambiar el formato de los datos, así como el nombre de las variables y los valores que poseen. Para ello, programamos una pequeña función que nos devuelve un dataframe en un formato que esté listo para graficar."
   ]
  },
  {
   "cell_type": "markdown",
   "id": "3e3d8be9",
   "metadata": {},
   "source": [
    "#### Funcion para formatear dataframe"
   ]
  },
  {
   "cell_type": "code",
   "execution_count": 16,
   "id": "aab8b58c",
   "metadata": {},
   "outputs": [],
   "source": [
    "def create_plot_dataframe(data, key1, key2, keyvals, newkey1, newkey2, newkeyvals, newvals1, newvals2):\n",
    "    df = data.copy()\n",
    "    # Cambiar nombre columna repetida\n",
    "    df.rename({keyvals: newkeyvals}, axis=1, inplace=True)\n",
    "    # Unravel\n",
    "    df.reset_index(inplace=True)\n",
    "    # Cambiar nombres columnas nuevas\n",
    "    df.rename({key1: newkey1, key2: newkey2}, axis=1, inplace=True)\n",
    "    # Cambiar valores\n",
    "    if(newvals1): df[newkey1] = df[newkey1].apply(lambda x: newvals1[x])\n",
    "    if(newvals2): df[newkey2] = df[newkey2].apply(lambda x: newvals2[x])\n",
    "    # Regresar pivote\n",
    "    pivote = df.pivot(index=newkey1, columns=newkey2, values=newkeyvals)\n",
    "    return pivote.fillna(0).astype('int64')"
   ]
  },
  {
   "cell_type": "code",
   "execution_count": 17,
   "id": "bbade91d",
   "metadata": {},
   "outputs": [],
   "source": [
    "conteo_estado = create_plot_dataframe(conteo_estado, 'ENTIDAD_UM', 'FALLECIDO', 'FALLECIDO', 'ENTIDAD', 'TIPO', 'CONTEO', estados_dic, tipos_dic)"
   ]
  },
  {
   "cell_type": "markdown",
   "id": "cd3eef1c",
   "metadata": {},
   "source": [
    "Los datos de la CDXM son mucho más altos que los demás, y esto puede causar que la gráfica se vea mal. Para evitar problemas, removemos los registros de la CDMX."
   ]
  },
  {
   "cell_type": "code",
   "execution_count": 18,
   "id": "5e5921c1",
   "metadata": {},
   "outputs": [],
   "source": [
    "conteo_estado_sin_cdmx = conteo_estado.drop('CDMX', axis=0)"
   ]
  },
  {
   "cell_type": "markdown",
   "id": "f14b06d0",
   "metadata": {},
   "source": [
    "Una vez formateado el dataframe, podemos graficar los datos en una sólo línea de código, usando la integración de Pandas con Matplotlib."
   ]
  },
  {
   "cell_type": "code",
   "execution_count": 19,
   "id": "58cc725d",
   "metadata": {},
   "outputs": [
    {
     "data": {
      "text/plain": [
       "<AxesSubplot:xlabel='ENTIDAD'>"
      ]
     },
     "execution_count": 19,
     "metadata": {},
     "output_type": "execute_result"
    },
    {
     "data": {
      "image/png": "[encoded data removed]",
      "text/plain": [
       "<Figure size 1152x360 with 1 Axes>"
      ]
     },
     "metadata": {
      "needs_background": "light"
     },
     "output_type": "display_data"
    }
   ],
   "source": [
    "conteo_estado_sin_cdmx.plot(kind='bar', stacked=True, figsize=(16,5))"
   ]
  },
  {
   "cell_type": "markdown",
   "id": "2befb079",
   "metadata": {},
   "source": [
    "## Porcentaje de fallecidos por estado"
   ]
  },
  {
   "cell_type": "code",
   "execution_count": 20,
   "id": "184de1bf",
   "metadata": {},
   "outputs": [],
   "source": [
    "conteo_estado['% de fallecidos'] = conteo_estado.apply(lambda x: (x.Fallecido/(x.Fallecido + x.Infectado))*100, axis=1)"
   ]
  },
  {
   "cell_type": "code",
   "execution_count": 21,
   "id": "52930cff",
   "metadata": {},
   "outputs": [
    {
     "data": {
      "text/html": [
       "<div>\n",
       "<style scoped>\n",
       "    .dataframe tbody tr th:only-of-type {\n",
       "        vertical-align: middle;\n",
       "    }\n",
       "\n",
       "    .dataframe tbody tr th {\n",
       "        vertical-align: top;\n",
       "    }\n",
       "\n",
       "    .dataframe thead th {\n",
       "        text-align: right;\n",
       "    }\n",
       "</style>\n",
       "<table border=\"1\" class=\"dataframe\">\n",
       "  <thead>\n",
       "    <tr style=\"text-align: right;\">\n",
       "      <th>TIPO</th>\n",
       "      <th>Fallecido</th>\n",
       "      <th>Infectado</th>\n",
       "      <th>% de fallecidos</th>\n",
       "    </tr>\n",
       "    <tr>\n",
       "      <th>ENTIDAD</th>\n",
       "      <th></th>\n",
       "      <th></th>\n",
       "      <th></th>\n",
       "    </tr>\n",
       "  </thead>\n",
       "  <tbody>\n",
       "    <tr>\n",
       "      <th>AGS</th>\n",
       "      <td>2816</td>\n",
       "      <td>31056</td>\n",
       "      <td>8.313651</td>\n",
       "    </tr>\n",
       "    <tr>\n",
       "      <th>BC</th>\n",
       "      <td>8962</td>\n",
       "      <td>51847</td>\n",
       "      <td>14.737950</td>\n",
       "    </tr>\n",
       "    <tr>\n",
       "      <th>BCS</th>\n",
       "      <td>2262</td>\n",
       "      <td>52610</td>\n",
       "      <td>4.122321</td>\n",
       "    </tr>\n",
       "  </tbody>\n",
       "</table>\n",
       "</div>"
      ],
      "text/plain": [
       "TIPO     Fallecido  Infectado  % de fallecidos\n",
       "ENTIDAD                                       \n",
       "AGS           2816      31056         8.313651\n",
       "BC            8962      51847        14.737950\n",
       "BCS           2262      52610         4.122321"
      ]
     },
     "execution_count": 21,
     "metadata": {},
     "output_type": "execute_result"
    }
   ],
   "source": [
    "conteo_estado.head(3)"
   ]
  },
  {
   "cell_type": "code",
   "execution_count": 22,
   "id": "4cc47cf5",
   "metadata": {},
   "outputs": [
    {
     "data": {
      "text/html": [
       "<div>\n",
       "<style scoped>\n",
       "    .dataframe tbody tr th:only-of-type {\n",
       "        vertical-align: middle;\n",
       "    }\n",
       "\n",
       "    .dataframe tbody tr th {\n",
       "        vertical-align: top;\n",
       "    }\n",
       "\n",
       "    .dataframe thead th {\n",
       "        text-align: right;\n",
       "    }\n",
       "</style>\n",
       "<table border=\"1\" class=\"dataframe\">\n",
       "  <thead>\n",
       "    <tr style=\"text-align: right;\">\n",
       "      <th>TIPO</th>\n",
       "      <th>Fallecido</th>\n",
       "      <th>Infectado</th>\n",
       "      <th>% de fallecidos</th>\n",
       "    </tr>\n",
       "    <tr>\n",
       "      <th>ENTIDAD</th>\n",
       "      <th></th>\n",
       "      <th></th>\n",
       "      <th></th>\n",
       "    </tr>\n",
       "  </thead>\n",
       "  <tbody>\n",
       "    <tr>\n",
       "      <th>BC</th>\n",
       "      <td>8962</td>\n",
       "      <td>51847</td>\n",
       "      <td>14.737950</td>\n",
       "    </tr>\n",
       "    <tr>\n",
       "      <th>EDOMEX</th>\n",
       "      <td>31642</td>\n",
       "      <td>195483</td>\n",
       "      <td>13.931535</td>\n",
       "    </tr>\n",
       "    <tr>\n",
       "      <th>HID</th>\n",
       "      <td>7430</td>\n",
       "      <td>51384</td>\n",
       "      <td>12.633047</td>\n",
       "    </tr>\n",
       "  </tbody>\n",
       "</table>\n",
       "</div>"
      ],
      "text/plain": [
       "TIPO     Fallecido  Infectado  % de fallecidos\n",
       "ENTIDAD                                       \n",
       "BC            8962      51847        14.737950\n",
       "EDOMEX       31642     195483        13.931535\n",
       "HID           7430      51384        12.633047"
      ]
     },
     "execution_count": 22,
     "metadata": {},
     "output_type": "execute_result"
    }
   ],
   "source": [
    "conteo_estado_ordenado = conteo_estado.sort_values('% de fallecidos', axis=0, ascending=False)\n",
    "conteo_estado_ordenado.head(3)"
   ]
  },
  {
   "cell_type": "code",
   "execution_count": 23,
   "id": "2d153ade",
   "metadata": {},
   "outputs": [
    {
     "data": {
      "image/png": "[encoded data removed]",
      "text/plain": [
       "<Figure size 1152x360 with 1 Axes>"
      ]
     },
     "metadata": {
      "needs_background": "light"
     },
     "output_type": "display_data"
    }
   ],
   "source": [
    "conteo_estado_ordenado.plot(y='% de fallecidos', kind='bar', figsize=(16, 5))\n",
    "_ = plt.ylabel('Porcentaje')"
   ]
  },
  {
   "cell_type": "markdown",
   "id": "69bf820c",
   "metadata": {},
   "source": [
    "## Comparación de infectados y muertos por género"
   ]
  },
  {
   "cell_type": "code",
   "execution_count": 24,
   "id": "fee226ec",
   "metadata": {},
   "outputs": [
    {
     "data": {
      "text/html": [
       "<div>\n",
       "<style scoped>\n",
       "    .dataframe tbody tr th:only-of-type {\n",
       "        vertical-align: middle;\n",
       "    }\n",
       "\n",
       "    .dataframe tbody tr th {\n",
       "        vertical-align: top;\n",
       "    }\n",
       "\n",
       "    .dataframe thead th {\n",
       "        text-align: right;\n",
       "    }\n",
       "</style>\n",
       "<table border=\"1\" class=\"dataframe\">\n",
       "  <thead>\n",
       "    <tr style=\"text-align: right;\">\n",
       "      <th></th>\n",
       "      <th></th>\n",
       "      <th>FALLECIDO</th>\n",
       "    </tr>\n",
       "    <tr>\n",
       "      <th>SEXO</th>\n",
       "      <th>FALLECIDO</th>\n",
       "      <th></th>\n",
       "    </tr>\n",
       "  </thead>\n",
       "  <tbody>\n",
       "    <tr>\n",
       "      <th rowspan=\"2\" valign=\"top\">0</th>\n",
       "      <th>0</th>\n",
       "      <td>1664626</td>\n",
       "    </tr>\n",
       "    <tr>\n",
       "      <th>1</th>\n",
       "      <td>170491</td>\n",
       "    </tr>\n",
       "    <tr>\n",
       "      <th rowspan=\"2\" valign=\"top\">1</th>\n",
       "      <th>0</th>\n",
       "      <td>1727608</td>\n",
       "    </tr>\n",
       "    <tr>\n",
       "      <th>1</th>\n",
       "      <td>105005</td>\n",
       "    </tr>\n",
       "  </tbody>\n",
       "</table>\n",
       "</div>"
      ],
      "text/plain": [
       "                FALLECIDO\n",
       "SEXO FALLECIDO           \n",
       "0    0            1664626\n",
       "     1             170491\n",
       "1    0            1727608\n",
       "     1             105005"
      ]
     },
     "execution_count": 24,
     "metadata": {},
     "output_type": "execute_result"
    }
   ],
   "source": [
    "conteo_genero = analisis_df[['FALLECIDO']].groupby([analisis_df['SEXO'], analisis_df['FALLECIDO']]).count()\n",
    "conteo_genero"
   ]
  },
  {
   "cell_type": "code",
   "execution_count": 25,
   "id": "166931c5",
   "metadata": {},
   "outputs": [
    {
     "data": {
      "text/html": [
       "<div>\n",
       "<style scoped>\n",
       "    .dataframe tbody tr th:only-of-type {\n",
       "        vertical-align: middle;\n",
       "    }\n",
       "\n",
       "    .dataframe tbody tr th {\n",
       "        vertical-align: top;\n",
       "    }\n",
       "\n",
       "    .dataframe thead th {\n",
       "        text-align: right;\n",
       "    }\n",
       "</style>\n",
       "<table border=\"1\" class=\"dataframe\">\n",
       "  <thead>\n",
       "    <tr style=\"text-align: right;\">\n",
       "      <th>RESULTADO</th>\n",
       "      <th>Fallecido</th>\n",
       "      <th>Infectado</th>\n",
       "    </tr>\n",
       "    <tr>\n",
       "      <th>SEXO</th>\n",
       "      <th></th>\n",
       "      <th></th>\n",
       "    </tr>\n",
       "  </thead>\n",
       "  <tbody>\n",
       "    <tr>\n",
       "      <th>Hombre</th>\n",
       "      <td>170491</td>\n",
       "      <td>1664626</td>\n",
       "    </tr>\n",
       "    <tr>\n",
       "      <th>Mujer</th>\n",
       "      <td>105005</td>\n",
       "      <td>1727608</td>\n",
       "    </tr>\n",
       "  </tbody>\n",
       "</table>\n",
       "</div>"
      ],
      "text/plain": [
       "RESULTADO  Fallecido  Infectado\n",
       "SEXO                           \n",
       "Hombre        170491    1664626\n",
       "Mujer         105005    1727608"
      ]
     },
     "execution_count": 25,
     "metadata": {},
     "output_type": "execute_result"
    }
   ],
   "source": [
    "conteo_genero = create_plot_dataframe(conteo_genero, 'SEXO', 'FALLECIDO', 'FALLECIDO', 'SEXO', 'RESULTADO', 'CONTEO',\n",
    "                                     generos_dic, tipos_dic)\n",
    "conteo_genero"
   ]
  },
  {
   "cell_type": "code",
   "execution_count": 26,
   "id": "4efacd2c",
   "metadata": {},
   "outputs": [
    {
     "data": {
      "text/plain": [
       "<AxesSubplot:xlabel='SEXO'>"
      ]
     },
     "execution_count": 26,
     "metadata": {},
     "output_type": "execute_result"
    },
    {
     "data": {
      "image/png": "[encoded data removed]",
      "text/plain": [
       "<Figure size 432x288 with 1 Axes>"
      ]
     },
     "metadata": {
      "needs_background": "light"
     },
     "output_type": "display_data"
    }
   ],
   "source": [
    "conteo_genero.plot(kind='bar', stacked=True)"
   ]
  },
  {
   "cell_type": "markdown",
   "id": "78f43ab1",
   "metadata": {},
   "source": [
    "No parece haber una diferencia sustancial entre la cantidad de infectados por género, aunque sí se nota un mayor número de fallecidos en el género masculino."
   ]
  },
  {
   "cell_type": "markdown",
   "id": "f6061701",
   "metadata": {},
   "source": [
    "## Días que toma a un paciente fallecer según edad"
   ]
  },
  {
   "cell_type": "markdown",
   "id": "63ad7b59",
   "metadata": {},
   "source": [
    "#### Diag. de Dispersión"
   ]
  },
  {
   "cell_type": "code",
   "execution_count": 27,
   "id": "b7d4514a",
   "metadata": {},
   "outputs": [
    {
     "data": {
      "image/png": "[encoded data removed]",
      "text/plain": [
       "<Figure size 432x288 with 1 Axes>"
      ]
     },
     "metadata": {
      "needs_background": "light"
     },
     "output_type": "display_data"
    }
   ],
   "source": [
    "plt.scatter(x=regres_df['EDAD'], y=regres_df['DIAS_DEF'], alpha=0.2)\n",
    "plt.xlabel('EDAD')\n",
    "plt.ylabel('Expectativa de vida (en días)')\n",
    "plt.show()"
   ]
  },
  {
   "cell_type": "markdown",
   "id": "d9e6ddef",
   "metadata": {},
   "source": [
    "El diag. de dispersión nos ayuda a interpretar la situación, pero vale la pena hcerlo de otra manera."
   ]
  },
  {
   "cell_type": "code",
   "execution_count": 28,
   "id": "bf069ef7",
   "metadata": {},
   "outputs": [],
   "source": [
    "def get_age_group(x):\n",
    "    if x <= 5: return 'Bebé'\n",
    "    elif x <= 12: return 'Infante'\n",
    "    elif x <= 21: return 'Adolescente'\n",
    "    elif x <= 40: return 'Adulto Joven'\n",
    "    elif x <= 65: return 'Adulto'\n",
    "    else: return 'Adulto Mayor'"
   ]
  },
  {
   "cell_type": "code",
   "execution_count": 29,
   "id": "d2a83553",
   "metadata": {},
   "outputs": [],
   "source": [
    "regres_df['GRUPO_EDAD'] = regres_df['EDAD'].apply(get_age_group)"
   ]
  },
  {
   "cell_type": "code",
   "execution_count": 30,
   "id": "0e6a0cb4",
   "metadata": {},
   "outputs": [
    {
     "data": {
      "text/html": [
       "<div>\n",
       "<style scoped>\n",
       "    .dataframe tbody tr th:only-of-type {\n",
       "        vertical-align: middle;\n",
       "    }\n",
       "\n",
       "    .dataframe tbody tr th {\n",
       "        vertical-align: top;\n",
       "    }\n",
       "\n",
       "    .dataframe thead th {\n",
       "        text-align: right;\n",
       "    }\n",
       "</style>\n",
       "<table border=\"1\" class=\"dataframe\">\n",
       "  <thead>\n",
       "    <tr style=\"text-align: right;\">\n",
       "      <th></th>\n",
       "      <th>EDAD</th>\n",
       "    </tr>\n",
       "    <tr>\n",
       "      <th>GRUPO_EDAD</th>\n",
       "      <th></th>\n",
       "    </tr>\n",
       "  </thead>\n",
       "  <tbody>\n",
       "    <tr>\n",
       "      <th>Adolescente</th>\n",
       "      <td>812</td>\n",
       "    </tr>\n",
       "    <tr>\n",
       "      <th>Adulto</th>\n",
       "      <td>130318</td>\n",
       "    </tr>\n",
       "    <tr>\n",
       "      <th>Adulto Joven</th>\n",
       "      <td>18553</td>\n",
       "    </tr>\n",
       "    <tr>\n",
       "      <th>Adulto Mayor</th>\n",
       "      <td>124890</td>\n",
       "    </tr>\n",
       "    <tr>\n",
       "      <th>Bebé</th>\n",
       "      <td>468</td>\n",
       "    </tr>\n",
       "    <tr>\n",
       "      <th>Infante</th>\n",
       "      <td>164</td>\n",
       "    </tr>\n",
       "  </tbody>\n",
       "</table>\n",
       "</div>"
      ],
      "text/plain": [
       "                EDAD\n",
       "GRUPO_EDAD          \n",
       "Adolescente      812\n",
       "Adulto        130318\n",
       "Adulto Joven   18553\n",
       "Adulto Mayor  124890\n",
       "Bebé             468\n",
       "Infante          164"
      ]
     },
     "execution_count": 30,
     "metadata": {},
     "output_type": "execute_result"
    }
   ],
   "source": [
    "fall_edades = regres_df[['GRUPO_EDAD', 'EDAD']].groupby(['GRUPO_EDAD']).count()\n",
    "# fall_edades.rename({'EDAD': 'No. de Fallecidos'}, axis=1, inplace=True)\n",
    "fall_edades"
   ]
  },
  {
   "cell_type": "markdown",
   "id": "cb117b9c",
   "metadata": {},
   "source": [
    "#### Diag. de caja y bigote"
   ]
  },
  {
   "cell_type": "code",
   "execution_count": 31,
   "id": "e999bdd7",
   "metadata": {},
   "outputs": [
    {
     "data": {
      "text/plain": [
       "<AxesSubplot:xlabel='GRUPO_EDAD', ylabel='DIAS_DEF'>"
      ]
     },
     "execution_count": 31,
     "metadata": {},
     "output_type": "execute_result"
    },
    {
     "data": {
      "image/png": "[encoded data removed]",
      "text/plain": [
       "<Figure size 432x288 with 1 Axes>"
      ]
     },
     "metadata": {
      "needs_background": "light"
     },
     "output_type": "display_data"
    }
   ],
   "source": [
    "sns.boxplot(x='GRUPO_EDAD', y=\"DIAS_DEF\", data=regres_df)"
   ]
  },
  {
   "cell_type": "markdown",
   "id": "2479818a",
   "metadata": {},
   "source": [
    "En variables con un gran sesgo, el diag. de caja nos muestra varios outliers y hace difícil la interpretación"
   ]
  },
  {
   "cell_type": "code",
   "execution_count": 32,
   "id": "105242e7",
   "metadata": {},
   "outputs": [
    {
     "data": {
      "text/html": [
       "<div>\n",
       "<style scoped>\n",
       "    .dataframe tbody tr th:only-of-type {\n",
       "        vertical-align: middle;\n",
       "    }\n",
       "\n",
       "    .dataframe tbody tr th {\n",
       "        vertical-align: top;\n",
       "    }\n",
       "\n",
       "    .dataframe thead th {\n",
       "        text-align: right;\n",
       "    }\n",
       "</style>\n",
       "<table border=\"1\" class=\"dataframe\">\n",
       "  <thead>\n",
       "    <tr style=\"text-align: right;\">\n",
       "      <th></th>\n",
       "      <th>SEXO</th>\n",
       "      <th>PAC_HOSPITALIZADO</th>\n",
       "      <th>NEUMONIA</th>\n",
       "      <th>EDAD</th>\n",
       "      <th>EMBARAZO</th>\n",
       "      <th>DIABETES</th>\n",
       "      <th>EPOC</th>\n",
       "      <th>ASMA</th>\n",
       "      <th>INMUSUPR</th>\n",
       "      <th>HIPERTENSION</th>\n",
       "      <th>CARDIOVASCULAR</th>\n",
       "      <th>OBESIDAD</th>\n",
       "      <th>RENAL_CRONICA</th>\n",
       "      <th>TABAQUISMO</th>\n",
       "      <th>DIAS_SINTOMAS</th>\n",
       "      <th>DIAS_DEF</th>\n",
       "      <th>GRUPO_EDAD</th>\n",
       "    </tr>\n",
       "  </thead>\n",
       "  <tbody>\n",
       "    <tr>\n",
       "      <th>1</th>\n",
       "      <td>1</td>\n",
       "      <td>1</td>\n",
       "      <td>1</td>\n",
       "      <td>66</td>\n",
       "      <td>0</td>\n",
       "      <td>1</td>\n",
       "      <td>0</td>\n",
       "      <td>0</td>\n",
       "      <td>0</td>\n",
       "      <td>1</td>\n",
       "      <td>0</td>\n",
       "      <td>1</td>\n",
       "      <td>0</td>\n",
       "      <td>0</td>\n",
       "      <td>3</td>\n",
       "      <td>1</td>\n",
       "      <td>Adulto Mayor</td>\n",
       "    </tr>\n",
       "    <tr>\n",
       "      <th>152</th>\n",
       "      <td>0</td>\n",
       "      <td>1</td>\n",
       "      <td>1</td>\n",
       "      <td>58</td>\n",
       "      <td>0</td>\n",
       "      <td>1</td>\n",
       "      <td>0</td>\n",
       "      <td>0</td>\n",
       "      <td>0</td>\n",
       "      <td>1</td>\n",
       "      <td>1</td>\n",
       "      <td>0</td>\n",
       "      <td>1</td>\n",
       "      <td>0</td>\n",
       "      <td>2</td>\n",
       "      <td>3</td>\n",
       "      <td>Adulto</td>\n",
       "    </tr>\n",
       "    <tr>\n",
       "      <th>174</th>\n",
       "      <td>1</td>\n",
       "      <td>1</td>\n",
       "      <td>1</td>\n",
       "      <td>30</td>\n",
       "      <td>0</td>\n",
       "      <td>0</td>\n",
       "      <td>0</td>\n",
       "      <td>0</td>\n",
       "      <td>0</td>\n",
       "      <td>0</td>\n",
       "      <td>0</td>\n",
       "      <td>0</td>\n",
       "      <td>1</td>\n",
       "      <td>0</td>\n",
       "      <td>0</td>\n",
       "      <td>0</td>\n",
       "      <td>Adulto Joven</td>\n",
       "    </tr>\n",
       "  </tbody>\n",
       "</table>\n",
       "</div>"
      ],
      "text/plain": [
       "     SEXO  PAC_HOSPITALIZADO  NEUMONIA  EDAD  EMBARAZO  DIABETES  EPOC  ASMA  \\\n",
       "1       1                  1         1    66         0         1     0     0   \n",
       "152     0                  1         1    58         0         1     0     0   \n",
       "174     1                  1         1    30         0         0     0     0   \n",
       "\n",
       "     INMUSUPR  HIPERTENSION  CARDIOVASCULAR  OBESIDAD  RENAL_CRONICA  \\\n",
       "1           0             1               0         1              0   \n",
       "152         0             1               1         0              1   \n",
       "174         0             0               0         0              1   \n",
       "\n",
       "     TABAQUISMO  DIAS_SINTOMAS  DIAS_DEF    GRUPO_EDAD  \n",
       "1             0              3         1  Adulto Mayor  \n",
       "152           0              2         3        Adulto  \n",
       "174           0              0         0  Adulto Joven  "
      ]
     },
     "execution_count": 32,
     "metadata": {},
     "output_type": "execute_result"
    }
   ],
   "source": [
    "regres_df.head(3)"
   ]
  },
  {
   "cell_type": "markdown",
   "id": "05598a93",
   "metadata": {},
   "source": [
    "#### Histograma"
   ]
  },
  {
   "cell_type": "code",
   "execution_count": 33,
   "id": "b7f62520",
   "metadata": {},
   "outputs": [],
   "source": [
    "# sns.displot(x='DIAS_DEF', hue='GRUPO_EDAD', data=regres_df)\n",
    "# Da error \"cannot reindex from a duplicate axis\""
   ]
  },
  {
   "cell_type": "markdown",
   "id": "069403d2",
   "metadata": {},
   "source": [
    "Para cada grupo de edad, es posible ver desde otra perspectiva la frecuencia con la que un paciente tarde en fallecer. Sin embargo, el diag. de dispersión anterior es más simple que este, por lo que lo elegimos para describir los días que le toma a un paciente fallecer según su edad."
   ]
  },
  {
   "cell_type": "markdown",
   "id": "333178cb",
   "metadata": {},
   "source": [
    "## Distribución de pacientes según edad (Histograma)"
   ]
  },
  {
   "cell_type": "code",
   "execution_count": 34,
   "id": "d0079e88",
   "metadata": {},
   "outputs": [
    {
     "data": {
      "text/plain": [
       "<AxesSubplot:ylabel='Frequency'>"
      ]
     },
     "execution_count": 34,
     "metadata": {},
     "output_type": "execute_result"
    },
    {
     "data": {
      "image/png": "[encoded data removed]",
      "text/plain": [
       "<Figure size 432x288 with 1 Axes>"
      ]
     },
     "metadata": {
      "needs_background": "light"
     },
     "output_type": "display_data"
    }
   ],
   "source": [
    "regres_df['EDAD'].plot(kind='hist', bins=30)"
   ]
  },
  {
   "cell_type": "markdown",
   "id": "4b91e189",
   "metadata": {},
   "source": [
    "Como pudimos comprobar en la sección anterior, la mayoría de pacientes se encuentran entre los 40 y los 80 años, con un ligero sesgo hacia la izquierda, es decir, hacia los adultos jóvenes."
   ]
  },
  {
   "cell_type": "markdown",
   "id": "30d31d55",
   "metadata": {},
   "source": [
    "## Infectados y fallecidos según grupo de edad (Gráf. horiz. de barras apiladas)"
   ]
  },
  {
   "cell_type": "markdown",
   "id": "b408e407",
   "metadata": {},
   "source": [
    "Creamos grupos de edad en el dataset y agrupamos por sector de edad y por número de infectados/fallecidos"
   ]
  },
  {
   "cell_type": "code",
   "execution_count": 35,
   "id": "d41ac106",
   "metadata": {},
   "outputs": [],
   "source": [
    "analisis_df['GRUPO_EDAD'] = analisis_df['EDAD'].apply(get_age_group)"
   ]
  },
  {
   "cell_type": "code",
   "execution_count": 36,
   "id": "cf6139c8",
   "metadata": {},
   "outputs": [],
   "source": [
    "conteo_grupo_edad= analisis_df[['FALLECIDO']].groupby([analisis_df['GRUPO_EDAD'], analisis_df['FALLECIDO']]).count()"
   ]
  },
  {
   "cell_type": "code",
   "execution_count": 37,
   "id": "505bdb57",
   "metadata": {},
   "outputs": [],
   "source": [
    "conteo_grupo_edad = create_plot_dataframe(conteo_grupo_edad, 'GRUPO_EDAD', 'FALLECIDO', 'FALLECIDO',\n",
    "                                      'GRUPO DE EDAD', 'RESULTADO', 'CONTEO',\n",
    "                                      None, tipos_dic)"
   ]
  },
  {
   "cell_type": "code",
   "execution_count": 38,
   "id": "3398d0ea",
   "metadata": {},
   "outputs": [],
   "source": [
    "conteo_grupo_edad = conteo_grupo_edad.reindex(axis=0, labels=['Bebé', 'Infante', 'Adolescente', 'Adulto Joven', 'Adulto', 'Adulto Mayor'])"
   ]
  },
  {
   "cell_type": "code",
   "execution_count": 39,
   "id": "1644529d",
   "metadata": {},
   "outputs": [
    {
     "data": {
      "text/html": [
       "<div>\n",
       "<style scoped>\n",
       "    .dataframe tbody tr th:only-of-type {\n",
       "        vertical-align: middle;\n",
       "    }\n",
       "\n",
       "    .dataframe tbody tr th {\n",
       "        vertical-align: top;\n",
       "    }\n",
       "\n",
       "    .dataframe thead th {\n",
       "        text-align: right;\n",
       "    }\n",
       "</style>\n",
       "<table border=\"1\" class=\"dataframe\">\n",
       "  <thead>\n",
       "    <tr style=\"text-align: right;\">\n",
       "      <th>RESULTADO</th>\n",
       "      <th>Fallecido</th>\n",
       "      <th>Infectado</th>\n",
       "    </tr>\n",
       "    <tr>\n",
       "      <th>GRUPO DE EDAD</th>\n",
       "      <th></th>\n",
       "      <th></th>\n",
       "    </tr>\n",
       "  </thead>\n",
       "  <tbody>\n",
       "    <tr>\n",
       "      <th>Bebé</th>\n",
       "      <td>468</td>\n",
       "      <td>30895</td>\n",
       "    </tr>\n",
       "    <tr>\n",
       "      <th>Infante</th>\n",
       "      <td>164</td>\n",
       "      <td>65369</td>\n",
       "    </tr>\n",
       "    <tr>\n",
       "      <th>Adolescente</th>\n",
       "      <td>815</td>\n",
       "      <td>287908</td>\n",
       "    </tr>\n",
       "    <tr>\n",
       "      <th>Adulto Joven</th>\n",
       "      <td>18568</td>\n",
       "      <td>1514760</td>\n",
       "    </tr>\n",
       "    <tr>\n",
       "      <th>Adulto</th>\n",
       "      <td>130460</td>\n",
       "      <td>1262236</td>\n",
       "    </tr>\n",
       "    <tr>\n",
       "      <th>Adulto Mayor</th>\n",
       "      <td>125021</td>\n",
       "      <td>231066</td>\n",
       "    </tr>\n",
       "  </tbody>\n",
       "</table>\n",
       "</div>"
      ],
      "text/plain": [
       "RESULTADO      Fallecido  Infectado\n",
       "GRUPO DE EDAD                      \n",
       "Bebé                 468      30895\n",
       "Infante              164      65369\n",
       "Adolescente          815     287908\n",
       "Adulto Joven       18568    1514760\n",
       "Adulto            130460    1262236\n",
       "Adulto Mayor      125021     231066"
      ]
     },
     "execution_count": 39,
     "metadata": {},
     "output_type": "execute_result"
    }
   ],
   "source": [
    "conteo_grupo_edad"
   ]
  },
  {
   "cell_type": "markdown",
   "id": "f82a7d3c",
   "metadata": {},
   "source": [
    "Una vez generados los datos, graficamos"
   ]
  },
  {
   "cell_type": "code",
   "execution_count": 40,
   "id": "fa89f94f",
   "metadata": {},
   "outputs": [
    {
     "data": {
      "image/png": "[encoded data removed]",
      "text/plain": [
       "<Figure size 576x360 with 1 Axes>"
      ]
     },
     "metadata": {
      "needs_background": "light"
     },
     "output_type": "display_data"
    }
   ],
   "source": [
    "conteo_grupo_edad.plot(kind='bar', stacked=True, figsize=(8, 5))\n",
    "plt.yticks(ticks=range(0, 2000000, 200000), labels=range(0, 2000000, 200000))\n",
    "plt.ylabel('Número de pacientes')\n",
    "plt.show()"
   ]
  },
  {
   "cell_type": "markdown",
   "id": "01696b1b",
   "metadata": {},
   "source": [
    "## Porcentaje de infectados vs. fallecidos según grupo de edad (Gráf. horiz. de barras apiladas)"
   ]
  },
  {
   "cell_type": "code",
   "execution_count": 41,
   "id": "09cb2efa",
   "metadata": {},
   "outputs": [],
   "source": [
    "func = lambda x: (x.Fallecido/(x.Fallecido + x.Infectado))*100\n",
    "conteo_grupo_edad['% de fallecidos'] = conteo_grupo_edad.apply(func, axis=1)"
   ]
  },
  {
   "cell_type": "code",
   "execution_count": 42,
   "id": "cdb2032a",
   "metadata": {},
   "outputs": [
    {
     "data": {
      "text/html": [
       "<div>\n",
       "<style scoped>\n",
       "    .dataframe tbody tr th:only-of-type {\n",
       "        vertical-align: middle;\n",
       "    }\n",
       "\n",
       "    .dataframe tbody tr th {\n",
       "        vertical-align: top;\n",
       "    }\n",
       "\n",
       "    .dataframe thead th {\n",
       "        text-align: right;\n",
       "    }\n",
       "</style>\n",
       "<table border=\"1\" class=\"dataframe\">\n",
       "  <thead>\n",
       "    <tr style=\"text-align: right;\">\n",
       "      <th>RESULTADO</th>\n",
       "      <th>Fallecido</th>\n",
       "      <th>Infectado</th>\n",
       "      <th>% de fallecidos</th>\n",
       "    </tr>\n",
       "    <tr>\n",
       "      <th>GRUPO DE EDAD</th>\n",
       "      <th></th>\n",
       "      <th></th>\n",
       "      <th></th>\n",
       "    </tr>\n",
       "  </thead>\n",
       "  <tbody>\n",
       "    <tr>\n",
       "      <th>Adulto Mayor</th>\n",
       "      <td>125021</td>\n",
       "      <td>231066</td>\n",
       "      <td>35.109678</td>\n",
       "    </tr>\n",
       "    <tr>\n",
       "      <th>Adulto</th>\n",
       "      <td>130460</td>\n",
       "      <td>1262236</td>\n",
       "      <td>9.367443</td>\n",
       "    </tr>\n",
       "    <tr>\n",
       "      <th>Bebé</th>\n",
       "      <td>468</td>\n",
       "      <td>30895</td>\n",
       "      <td>1.492204</td>\n",
       "    </tr>\n",
       "  </tbody>\n",
       "</table>\n",
       "</div>"
      ],
      "text/plain": [
       "RESULTADO      Fallecido  Infectado  % de fallecidos\n",
       "GRUPO DE EDAD                                       \n",
       "Adulto Mayor      125021     231066        35.109678\n",
       "Adulto            130460    1262236         9.367443\n",
       "Bebé                 468      30895         1.492204"
      ]
     },
     "execution_count": 42,
     "metadata": {},
     "output_type": "execute_result"
    }
   ],
   "source": [
    "conteo_grupo_edad_ordenado = conteo_grupo_edad.sort_values('% de fallecidos', axis=0, ascending=False)\n",
    "conteo_grupo_edad_ordenado.head(3)"
   ]
  },
  {
   "cell_type": "code",
   "execution_count": 43,
   "id": "ca3caa2a",
   "metadata": {},
   "outputs": [
    {
     "data": {
      "image/png": "[encoded data removed]",
      "text/plain": [
       "<Figure size 576x360 with 1 Axes>"
      ]
     },
     "metadata": {
      "needs_background": "light"
     },
     "output_type": "display_data"
    }
   ],
   "source": [
    "conteo_grupo_edad_ordenado.plot(y='% de fallecidos', kind='bar', figsize=(8, 5))\n",
    "_ = plt.ylabel('Porcentaje')"
   ]
  },
  {
   "cell_type": "markdown",
   "id": "c7d6406c",
   "metadata": {},
   "source": [
    "## Infectados y fallecidos según sectores de salud (Gráf. horiz. de barras apiladas)"
   ]
  },
  {
   "cell_type": "code",
   "execution_count": 51,
   "id": "71649635",
   "metadata": {},
   "outputs": [],
   "source": [
    "conteo_sectores = analisis_df.groupby(['SECTOR', 'FALLECIDO']).count()[['EDAD']]"
   ]
  },
  {
   "cell_type": "code",
   "execution_count": 52,
   "id": "df111031",
   "metadata": {},
   "outputs": [],
   "source": [
    "conteo_sectores = create_plot_dataframe(conteo_sectores, 'SECTOR', 'FALLECIDO', 'EDAD',\n",
    "                                       'SECTOR', 'RESULTADO', 'CONTEO',\n",
    "                                       sectores_dic, tipos_dic)"
   ]
  },
  {
   "cell_type": "code",
   "execution_count": 53,
   "id": "6fa238ea",
   "metadata": {},
   "outputs": [
    {
     "data": {
      "text/html": [
       "<div>\n",
       "<style scoped>\n",
       "    .dataframe tbody tr th:only-of-type {\n",
       "        vertical-align: middle;\n",
       "    }\n",
       "\n",
       "    .dataframe tbody tr th {\n",
       "        vertical-align: top;\n",
       "    }\n",
       "\n",
       "    .dataframe thead th {\n",
       "        text-align: right;\n",
       "    }\n",
       "</style>\n",
       "<table border=\"1\" class=\"dataframe\">\n",
       "  <thead>\n",
       "    <tr style=\"text-align: right;\">\n",
       "      <th>RESULTADO</th>\n",
       "      <th>Fallecido</th>\n",
       "      <th>Infectado</th>\n",
       "    </tr>\n",
       "    <tr>\n",
       "      <th>SECTOR</th>\n",
       "      <th></th>\n",
       "      <th></th>\n",
       "    </tr>\n",
       "  </thead>\n",
       "  <tbody>\n",
       "    <tr>\n",
       "      <th>CRUZ ROJA</th>\n",
       "      <td>28</td>\n",
       "      <td>304</td>\n",
       "    </tr>\n",
       "    <tr>\n",
       "      <th>DESC.</th>\n",
       "      <td>0</td>\n",
       "      <td>1</td>\n",
       "    </tr>\n",
       "    <tr>\n",
       "      <th>DIF</th>\n",
       "      <td>5</td>\n",
       "      <td>942</td>\n",
       "    </tr>\n",
       "  </tbody>\n",
       "</table>\n",
       "</div>"
      ],
      "text/plain": [
       "RESULTADO  Fallecido  Infectado\n",
       "SECTOR                         \n",
       "CRUZ ROJA         28        304\n",
       "DESC.              0          1\n",
       "DIF                5        942"
      ]
     },
     "execution_count": 53,
     "metadata": {},
     "output_type": "execute_result"
    }
   ],
   "source": [
    "conteo_sectores.head(3)"
   ]
  },
  {
   "cell_type": "markdown",
   "id": "acfcfad3",
   "metadata": {},
   "source": [
    "Hay sistemas que cuidan de una gran cantidad de pacientes, mientras que otros sólo han atendido a un puñado de ellos en relación a la población total de infectados. Vamos a eliminar de la gráfica aquellos sistemas que no contribuyen significativamente al conteo total de infectado y fallecidos (al menos 1% de los mismos), y agruparlos en una categoría llamada \"OTROS SISTEMAS\"."
   ]
  },
  {
   "cell_type": "code",
   "execution_count": 54,
   "id": "91c09c15",
   "metadata": {},
   "outputs": [],
   "source": [
    "# Encontramos aquellos sectores que no contribuyen al menos al 1% del total de infectados y fallecidos\n",
    "total_registros = conteo_sectores.sum().sum()\n",
    "minimo_sig = total_registros // 100\n",
    "sectores_no_sig = conteo_sectores.apply(lambda x: True if (x.Fallecido + x.Infectado) < minimo_sig else False, axis=1)"
   ]
  },
  {
   "cell_type": "code",
   "execution_count": 57,
   "id": "53913bca",
   "metadata": {},
   "outputs": [
    {
     "data": {
      "text/plain": [
       "RESULTADO\n",
       "Fallecido    11273\n",
       "Infectado    73528\n",
       "dtype: int64"
      ]
     },
     "execution_count": 57,
     "metadata": {},
     "output_type": "execute_result"
    }
   ],
   "source": [
    "# Calculamos el total de infectados y fallecidos de los sectores no significativos\n",
    "suma_otros_sistemas = conteo_sectores[sectores_no_sig].sum()\n",
    "suma_otros_sistemas"
   ]
  },
  {
   "cell_type": "code",
   "execution_count": 58,
   "id": "13392888",
   "metadata": {},
   "outputs": [],
   "source": [
    "# Eliminamos los sectores no significativos\n",
    "conteo_sectores_sig = conteo_sectores.drop(conteo_sectores[sectores_no_sig].index, axis=0)"
   ]
  },
  {
   "cell_type": "code",
   "execution_count": 59,
   "id": "cf134f47",
   "metadata": {},
   "outputs": [],
   "source": [
    "# Agregamos un nuevo registro representando todos los sectores no significativos\n",
    "conteo_sectores_sig.loc['OTROS SISTEMAS'] = suma_otros_sistemas.values"
   ]
  },
  {
   "cell_type": "code",
   "execution_count": 61,
   "id": "0e733c2d",
   "metadata": {},
   "outputs": [
    {
     "data": {
      "text/html": [
       "<div>\n",
       "<style scoped>\n",
       "    .dataframe tbody tr th:only-of-type {\n",
       "        vertical-align: middle;\n",
       "    }\n",
       "\n",
       "    .dataframe tbody tr th {\n",
       "        vertical-align: top;\n",
       "    }\n",
       "\n",
       "    .dataframe thead th {\n",
       "        text-align: right;\n",
       "    }\n",
       "</style>\n",
       "<table border=\"1\" class=\"dataframe\">\n",
       "  <thead>\n",
       "    <tr style=\"text-align: right;\">\n",
       "      <th>RESULTADO</th>\n",
       "      <th>Fallecido</th>\n",
       "      <th>Infectado</th>\n",
       "    </tr>\n",
       "    <tr>\n",
       "      <th>SECTOR</th>\n",
       "      <th></th>\n",
       "      <th></th>\n",
       "    </tr>\n",
       "  </thead>\n",
       "  <tbody>\n",
       "    <tr>\n",
       "      <th>ESTATAL</th>\n",
       "      <td>3820</td>\n",
       "      <td>36483</td>\n",
       "    </tr>\n",
       "    <tr>\n",
       "      <th>IMSS</th>\n",
       "      <td>156332</td>\n",
       "      <td>1248741</td>\n",
       "    </tr>\n",
       "    <tr>\n",
       "      <th>ISSSTE</th>\n",
       "      <td>20277</td>\n",
       "      <td>91390</td>\n",
       "    </tr>\n",
       "    <tr>\n",
       "      <th>PRIVADA</th>\n",
       "      <td>5117</td>\n",
       "      <td>94350</td>\n",
       "    </tr>\n",
       "    <tr>\n",
       "      <th>SSA</th>\n",
       "      <td>78677</td>\n",
       "      <td>1847742</td>\n",
       "    </tr>\n",
       "    <tr>\n",
       "      <th>OTROS SISTEMAS</th>\n",
       "      <td>11273</td>\n",
       "      <td>73528</td>\n",
       "    </tr>\n",
       "  </tbody>\n",
       "</table>\n",
       "</div>"
      ],
      "text/plain": [
       "RESULTADO       Fallecido  Infectado\n",
       "SECTOR                              \n",
       "ESTATAL              3820      36483\n",
       "IMSS               156332    1248741\n",
       "ISSSTE              20277      91390\n",
       "PRIVADA              5117      94350\n",
       "SSA                 78677    1847742\n",
       "OTROS SISTEMAS      11273      73528"
      ]
     },
     "execution_count": 61,
     "metadata": {},
     "output_type": "execute_result"
    }
   ],
   "source": [
    "conteo_sectores_sig"
   ]
  },
  {
   "cell_type": "markdown",
   "id": "d7bfb7d1",
   "metadata": {},
   "source": [
    "Una vez sintetizados los datos, procedemos a graficar"
   ]
  },
  {
   "cell_type": "code",
   "execution_count": 63,
   "id": "74265c65",
   "metadata": {},
   "outputs": [
    {
     "data": {
      "image/png": "[encoded data removed]",
      "text/plain": [
       "<Figure size 432x288 with 1 Axes>"
      ]
     },
     "metadata": {
      "needs_background": "light"
     },
     "output_type": "display_data"
    }
   ],
   "source": [
    "conteo_sectores_sig.plot(kind='bar', stacked=True, grid=True)\n",
    "plt.yticks(range(0, 2000000, 200000), range(0, 2000000, 200000))\n",
    "plt.ylabel('No. de pacientes')\n",
    "plt.show()"
   ]
  },
  {
   "cell_type": "markdown",
   "id": "cccf727f",
   "metadata": {},
   "source": [
    "## Porcentaje de infectados vs. fallecidos según sectores de salud (Gráf. horiz. de barras apiladas)"
   ]
  },
  {
   "cell_type": "code",
   "execution_count": 69,
   "id": "7aa1b7df",
   "metadata": {},
   "outputs": [],
   "source": [
    "conteo_sectores['% de fallecidos'] = conteo_sectores.apply(lambda x: x.Fallecido/(x.Fallecido+x.Infectado)*100, axis=1)"
   ]
  },
  {
   "cell_type": "code",
   "execution_count": 72,
   "id": "3182e5e8",
   "metadata": {},
   "outputs": [],
   "source": [
    "conteo_sectores_ord = conteo_sectores.sort_values('% de fallecidos', axis=0, ascending=False)"
   ]
  },
  {
   "cell_type": "code",
   "execution_count": 80,
   "id": "3a28ea63",
   "metadata": {},
   "outputs": [],
   "source": [
    "conteo_sectores_ord.drop(['DESC.', 'NO ESPEC.'], axis=0, inplace=True)"
   ]
  },
  {
   "cell_type": "code",
   "execution_count": 83,
   "id": "31c7f4ef",
   "metadata": {},
   "outputs": [
    {
     "data": {
      "image/png": "[encoded data removed]",
      "text/plain": [
       "<Figure size 720x288 with 1 Axes>"
      ]
     },
     "metadata": {
      "needs_background": "light"
     },
     "output_type": "display_data"
    }
   ],
   "source": [
    "conteo_sectores_ord.plot(y='% de fallecidos', kind='bar', grid=True, figsize=(10,4))\n",
    "plt.ylabel('Porcentaje de fallecidos')\n",
    "plt.yticks(range(0, 25, 5), range(0, 25, 5))\n",
    "plt.show()"
   ]
  },
  {
   "cell_type": "markdown",
   "id": "7eb7ef4d",
   "metadata": {},
   "source": [
    "## Porcentaje de infectados vs. fallecidos según affeciones de salud previas (Graf. horiz. de barras apiladas)"
   ]
  },
  {
   "cell_type": "code",
   "execution_count": null,
   "id": "836b3265",
   "metadata": {},
   "outputs": [],
   "source": []
  },
  {
   "cell_type": "code",
   "execution_count": null,
   "id": "a035d1da",
   "metadata": {},
   "outputs": [],
   "source": []
  }
 ],
 "metadata": {
  "kernelspec": {
   "display_name": "Python 3",
   "language": "python",
   "name": "python3"
  },
  "language_info": {
   "codemirror_mode": {
    "name": "ipython",
    "version": 3
   },
   "file_extension": ".py",
   "mimetype": "text/x-python",
   "name": "python",
   "nbconvert_exporter": "python",
   "pygments_lexer": "ipython3",
   "version": "3.8.5"
  }
 },
 "nbformat": 4,
 "nbformat_minor": 5
}
