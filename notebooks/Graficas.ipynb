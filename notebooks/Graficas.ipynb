{
 "cells": [
  {
   "cell_type": "code",
   "execution_count": 1,
   "id": "46efde8f",
   "metadata": {},
   "outputs": [],
   "source": [
    "import pandas as pd\n",
    "import numpy as np\n",
    "import matplotlib.pyplot as plt\n",
    "import seaborn as sns"
   ]
  },
  {
   "cell_type": "code",
   "execution_count": 2,
   "id": "917ffc43",
   "metadata": {},
   "outputs": [],
   "source": [
    "import os"
   ]
  },
  {
   "cell_type": "code",
   "execution_count": 3,
   "id": "c11aebbf",
   "metadata": {},
   "outputs": [],
   "source": [
    "DATASETS_PATH = os.path.join('..', 'datasets')\n",
    "ANALISIS_SUBSET_PATH = os.path.join(DATASETS_PATH, 'subset_analisis.csv')\n",
    "ML_SUBSET1_PATH = os.path.join(DATASETS_PATH, 'subset_clasif.csv')\n",
    "ML_SUBSET2_PATH = os.path.join(DATASETS_PATH, 'subset_regres.csv')"
   ]
  },
  {
   "cell_type": "markdown",
   "id": "36ee2a7f",
   "metadata": {},
   "source": [
    "### Información útil"
   ]
  },
  {
   "cell_type": "code",
   "execution_count": 4,
   "id": "fd8524ae",
   "metadata": {},
   "outputs": [],
   "source": [
    "tipos_dic = {\n",
    "    0: 'Infectado',\n",
    "    1: 'Fallecido'\n",
    "}"
   ]
  },
  {
   "cell_type": "code",
   "execution_count": 5,
   "id": "6f264d83",
   "metadata": {},
   "outputs": [],
   "source": [
    "generos_dic = {\n",
    "    0: 'Hombre',\n",
    "    1: 'Mujer'\n",
    "}"
   ]
  },
  {
   "cell_type": "code",
   "execution_count": 6,
   "id": "891c2ba7",
   "metadata": {},
   "outputs": [],
   "source": [
    "meses_dic = {\n",
    "    1: 'ENE',\n",
    "    2: 'FEB',\n",
    "    3: 'MAR',\n",
    "    4: 'ABR',\n",
    "    5: 'MAY',\n",
    "    6: 'JUN',\n",
    "    7: 'JUL',\n",
    "    8: 'AGO',\n",
    "    9: 'SEP',\n",
    "    10: 'OCT',\n",
    "    11: 'NOV',\n",
    "    12: 'DIC'\n",
    "}"
   ]
  },
  {
   "cell_type": "code",
   "execution_count": 7,
   "id": "c8d4c4da",
   "metadata": {},
   "outputs": [],
   "source": [
    "sectores_dic = {\n",
    "    1: 'CRUZ ROJA',\n",
    "    2: 'DIF',\n",
    "    3: 'ESTATAL',\n",
    "    4: 'IMSS',\n",
    "    5: 'IMSS-BIENESTAR',\n",
    "    6: 'ISSSTE',\n",
    "    7: 'MUNICIPAL',\n",
    "    8: 'PEMEX',\n",
    "    9: 'PRIVADA',\n",
    "    10: 'SEDENA',\n",
    "    11: 'SEMAR',\n",
    "    12: 'SSA',\n",
    "    13: 'UNIVERSITARIO',\n",
    "    14: 'DESC.',\n",
    "    99: 'NO ESPEC.'\n",
    "}"
   ]
  },
  {
   "cell_type": "code",
   "execution_count": 8,
   "id": "2132ab03",
   "metadata": {},
   "outputs": [],
   "source": [
    "estados_dic = {\n",
    "    1: 'AGS',\n",
    "    2: 'BC',\n",
    "    3: 'BCS',\n",
    "    4: 'CAM',\n",
    "    5: 'COAH',\n",
    "    6: 'COL',\n",
    "    7: 'CHIA',\n",
    "    8: 'CHIH',\n",
    "    9: 'CDMX',\n",
    "    10: 'DUR',\n",
    "    11: 'GJTO',\n",
    "    12: 'GUE',\n",
    "    13: 'HID',\n",
    "    14: 'JAL',\n",
    "    15: 'EDOMEX',\n",
    "    16: 'MICH',\n",
    "    17: 'MOR',\n",
    "    18: 'NAY',\n",
    "    19: 'NLEON',\n",
    "    20: 'OAX',\n",
    "    21: 'PUE',\n",
    "    22: 'QUE',\n",
    "    23: 'QROO',\n",
    "    24: 'SLP',\n",
    "    25: 'SIN',\n",
    "    26: 'SON',\n",
    "    27: 'TAB',\n",
    "    28: 'TAM',\n",
    "    29: 'TLAX',\n",
    "    30: 'VER',\n",
    "    31: 'YUC',\n",
    "    32: 'ZAC',\n",
    "    36: 'EUM',\n",
    "    97: 'NA',\n",
    "    98: 'IGNORA',\n",
    "    99: 'NOESPEC'\n",
    "}"
   ]
  },
  {
   "cell_type": "code",
   "execution_count": 9,
   "id": "fd2e6b29",
   "metadata": {},
   "outputs": [],
   "source": [
    "dtypes = {\n",
    "    'SECTOR': np.int8,\n",
    "    'ENTIDAD_UM': np.int8,\n",
    "    'SEXO': np.int8,\n",
    "    'PAC_HOSPITALIZADO': np.int8,\n",
    "    'INTUBADO': np.int8,\n",
    "    'NEUMONIA': np.int8,\n",
    "    'EDAD': np.int8,\n",
    "    'EMBARAZO': np.int8,\n",
    "    'DIABETES': np.int8,\n",
    "    'EPOC': np.int8,\n",
    "    'ASMA': np.int8,\n",
    "    'INMUSUPR': np.int8,\n",
    "    'HIPERTENSION': np.int8,\n",
    "    'CARDIOVASCULAR': np.int8,\n",
    "    'OBESIDAD': np.int8,\n",
    "    'RENAL_CRONICA': np.int8,\n",
    "    'TABAQUISMO': np.int8,\n",
    "    'UCI': np.int8,\n",
    "    'MES_INGRESO': np.int8,\n",
    "    'AÃO_INGRESO': np.int16,\n",
    "    'MES_DEF': np.int8,\n",
    "    'AÃO_DEF': np.int16,\n",
    "}"
   ]
  },
  {
   "cell_type": "markdown",
   "id": "dc9ef7b9",
   "metadata": {},
   "source": [
    "### Cargando Datos"
   ]
  },
  {
   "cell_type": "code",
   "execution_count": 10,
   "id": "69c3764f",
   "metadata": {},
   "outputs": [
    {
     "name": "stderr",
     "output_type": "stream",
     "text": [
      "C:\\Users\\Sebastián\\AppData\\Roaming\\Python\\Python38\\site-packages\\numpy\\lib\\arraysetops.py:580: FutureWarning: elementwise comparison failed; returning scalar instead, but in the future will perform elementwise comparison\n",
      "  mask |= (ar1 == a)\n"
     ]
    },
    {
     "name": "stdout",
     "output_type": "stream",
     "text": [
      "<class 'pandas.core.frame.DataFrame'>\n",
      "Int64Index: 3832786 entries, 0 to 11703510\n",
      "Data columns (total 22 columns):\n",
      " #   Column             Dtype\n",
      "---  ------             -----\n",
      " 0   SECTOR             int8 \n",
      " 1   ENTIDAD_UM         int8 \n",
      " 2   SEXO               int8 \n",
      " 3   PAC_HOSPITALIZADO  int8 \n",
      " 4   INTUBADO           int8 \n",
      " 5   NEUMONIA           int8 \n",
      " 6   EDAD               int8 \n",
      " 7   EMBARAZO           int8 \n",
      " 8   DIABETES           int8 \n",
      " 9   EPOC               int8 \n",
      " 10  ASMA               int8 \n",
      " 11  INMUSUPR           int8 \n",
      " 12  HIPERTENSION       int8 \n",
      " 13  CARDIOVASCULAR     int8 \n",
      " 14  OBESIDAD           int8 \n",
      " 15  RENAL_CRONICA      int8 \n",
      " 16  TABAQUISMO         int8 \n",
      " 17  UCI                int8 \n",
      " 18  MES_INGRESO        int8 \n",
      " 19  AÃO_INGRESO       int16\n",
      " 20  MES_DEF            int8 \n",
      " 21  AÃO_DEF           int16\n",
      "dtypes: int16(2), int8(20)\n",
      "memory usage: 117.0 MB\n"
     ]
    }
   ],
   "source": [
    "analisis_df = pd.read_csv(ANALISIS_SUBSET_PATH, dtype=dtypes, index_col=0, encoding='latin')\n",
    "analisis_df.info()"
   ]
  },
  {
   "cell_type": "code",
   "execution_count": 11,
   "id": "806c2ac2",
   "metadata": {},
   "outputs": [],
   "source": [
    "analisis_df.rename({'AÃO_INGRESO': 'AÑO_INGRESO', 'AÃO_DEF': 'AÑO_DEF'}, axis=1, inplace=True)"
   ]
  },
  {
   "cell_type": "code",
   "execution_count": 12,
   "id": "7bc532e3",
   "metadata": {},
   "outputs": [
    {
     "name": "stdout",
     "output_type": "stream",
     "text": [
      "<class 'pandas.core.frame.DataFrame'>\n",
      "Int64Index: 3832786 entries, 0 to -42\n",
      "Data columns (total 16 columns):\n",
      " #   Column             Dtype\n",
      "---  ------             -----\n",
      " 0   SEXO               int8 \n",
      " 1   PAC_HOSPITALIZADO  int8 \n",
      " 2   NEUMONIA           int8 \n",
      " 3   EDAD               int8 \n",
      " 4   EMBARAZO           int8 \n",
      " 5   DIABETES           int8 \n",
      " 6   EPOC               int8 \n",
      " 7   ASMA               int8 \n",
      " 8   INMUSUPR           int8 \n",
      " 9   HIPERTENSION       int8 \n",
      " 10  CARDIOVASCULAR     int8 \n",
      " 11  OBESIDAD           int8 \n",
      " 12  RENAL_CRONICA      int8 \n",
      " 13  TABAQUISMO         int8 \n",
      " 14  DIAS_SINTOMAS      int8 \n",
      " 15  FALLECIDO          int8 \n",
      "dtypes: int8(16)\n",
      "memory usage: 87.7 MB\n"
     ]
    }
   ],
   "source": [
    "clasif_df = pd.read_csv(ML_SUBSET1_PATH, dtype=np.int8, index_col=0)\n",
    "clasif_df.info()"
   ]
  },
  {
   "cell_type": "code",
   "execution_count": 13,
   "id": "63abdef7",
   "metadata": {},
   "outputs": [
    {
     "name": "stdout",
     "output_type": "stream",
     "text": [
      "<class 'pandas.core.frame.DataFrame'>\n",
      "Int64Index: 287282 entries, 73 to -29124\n",
      "Data columns (total 16 columns):\n",
      " #   Column             Non-Null Count   Dtype\n",
      "---  ------             --------------   -----\n",
      " 0   SEXO               287282 non-null  int16\n",
      " 1   PAC_HOSPITALIZADO  287282 non-null  int16\n",
      " 2   NEUMONIA           287282 non-null  int16\n",
      " 3   EDAD               287282 non-null  int16\n",
      " 4   EMBARAZO           287282 non-null  int16\n",
      " 5   DIABETES           287282 non-null  int16\n",
      " 6   EPOC               287282 non-null  int16\n",
      " 7   ASMA               287282 non-null  int16\n",
      " 8   INMUSUPR           287282 non-null  int16\n",
      " 9   HIPERTENSION       287282 non-null  int16\n",
      " 10  CARDIOVASCULAR     287282 non-null  int16\n",
      " 11  OBESIDAD           287282 non-null  int16\n",
      " 12  RENAL_CRONICA      287282 non-null  int16\n",
      " 13  TABAQUISMO         287282 non-null  int16\n",
      " 14  DIAS_SINTOMAS      287282 non-null  int16\n",
      " 15  DIAS_DEF           287282 non-null  int16\n",
      "dtypes: int16(16)\n",
      "memory usage: 11.0 MB\n"
     ]
    }
   ],
   "source": [
    "regres_df = pd.read_csv(ML_SUBSET2_PATH, dtype=np.int16, index_col=0)\n",
    "regres_df.info()"
   ]
  },
  {
   "cell_type": "code",
   "execution_count": 14,
   "id": "76f47be8",
   "metadata": {},
   "outputs": [],
   "source": [
    "def is_dead(x):\n",
    "    if x==9999: return 0\n",
    "    else: return 1"
   ]
  },
  {
   "cell_type": "code",
   "execution_count": 15,
   "id": "0fcb7494",
   "metadata": {},
   "outputs": [],
   "source": [
    "analisis_df['FALLECIDO'] = analisis_df['AÑO_DEF'].apply(is_dead).astype(np.int8)"
   ]
  },
  {
   "cell_type": "markdown",
   "id": "bb5a54e0",
   "metadata": {},
   "source": [
    "# Generando gráficas interesantes"
   ]
  },
  {
   "cell_type": "markdown",
   "id": "f1b6bdfa",
   "metadata": {},
   "source": [
    "Tenemos planeado responder las siguientes cuestiones:\n",
    "\n",
    "- Comparación de infectados y muertos por estado (Gráf. vertical de barras apiladas)\n",
    "- Porcentaje de fallecidos e infectados por ordenados estado (Graf. vert de barras apiladas)\n",
    "- Comparación de infectados y muertos por género (Gráf. horizontal de barras apiladas)\n",
    "- Días que toma a un paciente fallecer según edad (Gráf . de dispersión)\n",
    "- Progreso de la pandemia cada mes (Gráf. de línea)\n",
    "- Distribución de pacientes según edad (Histograma)\n",
    "- Infectados y fallecidos según grupo de edad (Gráf. horiz. de barras apiladas)\n",
    "- Porcentaje de infectados vs. fallecidos según grupo de edad (Gráf. horiz. de barras apiladas)\n",
    "- Infectados y fallecidos según sectores de salud (Gráf. horiz. de barras apiladas)\n",
    "- Porcentaje de infectados vs. fallecidos según sectores de salud (Gráf. horiz. de barras apiladas)\n",
    "- Porcentaje de infectados vs. fallecidos según affeciones de salud previas (Graf. horiz. de barras apiladas)"
   ]
  },
  {
   "cell_type": "markdown",
   "id": "a122f274",
   "metadata": {},
   "source": [
    "## Comparación de infectados y fallecidos por estado"
   ]
  },
  {
   "cell_type": "markdown",
   "id": "6cd18c47",
   "metadata": {},
   "source": [
    "Primero agrupamos los datos por estado y luego por tipo de paciente, y después generamos el conteo"
   ]
  },
  {
   "cell_type": "code",
   "execution_count": 91,
   "id": "5428993a",
   "metadata": {},
   "outputs": [],
   "source": [
    "conteo_estado = analisis_df[['FALLECIDO']].groupby([analisis_df['ENTIDAD_UM'], analisis_df['FALLECIDO']]).count()"
   ]
  },
  {
   "cell_type": "markdown",
   "id": "aa82263b",
   "metadata": {},
   "source": [
    "Para graficar los datos, necesitamos cambiar el formato de los datos, así como el nombre de las variables y los valores que poseen. Para ello, programamos una pequeña función que nos devuelve un dataframe en un formato que esté listo para graficar."
   ]
  },
  {
   "cell_type": "markdown",
   "id": "3e3d8be9",
   "metadata": {},
   "source": [
    "#### Funcion para formatear dataframe"
   ]
  },
  {
   "cell_type": "code",
   "execution_count": 92,
   "id": "aab8b58c",
   "metadata": {},
   "outputs": [],
   "source": [
    "def create_plot_dataframe(data, key1, key2, keyvals, newkey1, newkey2, newkeyvals, newvals1, newvals2):\n",
    "    df = data.copy()\n",
    "    # Cambiar nombre columna repetida\n",
    "    df.rename({keyvals: newkeyvals}, axis=1, inplace=True)\n",
    "    # Unravel\n",
    "    df.reset_index(inplace=True)\n",
    "    # Cambiar nombres columnas nuevas\n",
    "    df.rename({key1: newkey1, key2: newkey2}, axis=1, inplace=True)\n",
    "    # Cambiar valores\n",
    "    if(newvals1): df[newkey1] = df[newkey1].apply(lambda x: newvals1[x])\n",
    "    if(newvals2): df[newkey2] = df[newkey2].apply(lambda x: newvals2[x])\n",
    "    # Regresar pivote\n",
    "    pivote = df.pivot(index=newkey1, columns=newkey2, values=newkeyvals)\n",
    "    return pivote.fillna(0).astype('int64')"
   ]
  },
  {
   "cell_type": "code",
   "execution_count": 93,
   "id": "bbade91d",
   "metadata": {},
   "outputs": [],
   "source": [
    "conteo_estado = create_plot_dataframe(conteo_estado, 'ENTIDAD_UM', 'FALLECIDO', 'FALLECIDO', 'ENTIDAD', 'TIPO', 'CONTEO', estados_dic, tipos_dic)"
   ]
  },
  {
   "cell_type": "code",
   "execution_count": 96,
   "id": "03b41a73",
   "metadata": {},
   "outputs": [
    {
     "data": {
      "text/html": [
       "<div>\n",
       "<style scoped>\n",
       "    .dataframe tbody tr th:only-of-type {\n",
       "        vertical-align: middle;\n",
       "    }\n",
       "\n",
       "    .dataframe tbody tr th {\n",
       "        vertical-align: top;\n",
       "    }\n",
       "\n",
       "    .dataframe thead th {\n",
       "        text-align: right;\n",
       "    }\n",
       "</style>\n",
       "<table border=\"1\" class=\"dataframe\">\n",
       "  <thead>\n",
       "    <tr style=\"text-align: right;\">\n",
       "      <th>TIPO</th>\n",
       "      <th>Fallecido</th>\n",
       "      <th>Infectado</th>\n",
       "    </tr>\n",
       "    <tr>\n",
       "      <th>ENTIDAD</th>\n",
       "      <th></th>\n",
       "      <th></th>\n",
       "    </tr>\n",
       "  </thead>\n",
       "  <tbody>\n",
       "    <tr>\n",
       "      <th>AGS</th>\n",
       "      <td>2969</td>\n",
       "      <td>33515</td>\n",
       "    </tr>\n",
       "    <tr>\n",
       "      <th>BC</th>\n",
       "      <td>9687</td>\n",
       "      <td>66660</td>\n",
       "    </tr>\n",
       "    <tr>\n",
       "      <th>BCS</th>\n",
       "      <td>2323</td>\n",
       "      <td>53753</td>\n",
       "    </tr>\n",
       "    <tr>\n",
       "      <th>CAM</th>\n",
       "      <td>2016</td>\n",
       "      <td>22580</td>\n",
       "    </tr>\n",
       "    <tr>\n",
       "      <th>CDMX</th>\n",
       "      <td>51672</td>\n",
       "      <td>1063811</td>\n",
       "    </tr>\n",
       "    <tr>\n",
       "      <th>CHIA</th>\n",
       "      <td>2119</td>\n",
       "      <td>19967</td>\n",
       "    </tr>\n",
       "    <tr>\n",
       "      <th>CHIH</th>\n",
       "      <td>8121</td>\n",
       "      <td>62996</td>\n",
       "    </tr>\n",
       "    <tr>\n",
       "      <th>COAH</th>\n",
       "      <td>7518</td>\n",
       "      <td>87705</td>\n",
       "    </tr>\n",
       "    <tr>\n",
       "      <th>COL</th>\n",
       "      <td>2191</td>\n",
       "      <td>31498</td>\n",
       "    </tr>\n",
       "    <tr>\n",
       "      <th>DUR</th>\n",
       "      <td>2808</td>\n",
       "      <td>44751</td>\n",
       "    </tr>\n",
       "    <tr>\n",
       "      <th>EDOMEX</th>\n",
       "      <td>32332</td>\n",
       "      <td>202589</td>\n",
       "    </tr>\n",
       "    <tr>\n",
       "      <th>GJTO</th>\n",
       "      <td>12728</td>\n",
       "      <td>181187</td>\n",
       "    </tr>\n",
       "    <tr>\n",
       "      <th>GUE</th>\n",
       "      <td>5944</td>\n",
       "      <td>69468</td>\n",
       "    </tr>\n",
       "    <tr>\n",
       "      <th>HID</th>\n",
       "      <td>7674</td>\n",
       "      <td>52913</td>\n",
       "    </tr>\n",
       "    <tr>\n",
       "      <th>JAL</th>\n",
       "      <td>17041</td>\n",
       "      <td>144175</td>\n",
       "    </tr>\n",
       "    <tr>\n",
       "      <th>MICH</th>\n",
       "      <td>7770</td>\n",
       "      <td>64253</td>\n",
       "    </tr>\n",
       "    <tr>\n",
       "      <th>MOR</th>\n",
       "      <td>4751</td>\n",
       "      <td>44449</td>\n",
       "    </tr>\n",
       "    <tr>\n",
       "      <th>NAY</th>\n",
       "      <td>2939</td>\n",
       "      <td>31071</td>\n",
       "    </tr>\n",
       "    <tr>\n",
       "      <th>NLEON</th>\n",
       "      <td>13280</td>\n",
       "      <td>192482</td>\n",
       "    </tr>\n",
       "    <tr>\n",
       "      <th>OAX</th>\n",
       "      <td>5293</td>\n",
       "      <td>76285</td>\n",
       "    </tr>\n",
       "    <tr>\n",
       "      <th>PUE</th>\n",
       "      <td>15102</td>\n",
       "      <td>110568</td>\n",
       "    </tr>\n",
       "    <tr>\n",
       "      <th>QROO</th>\n",
       "      <td>3973</td>\n",
       "      <td>54789</td>\n",
       "    </tr>\n",
       "    <tr>\n",
       "      <th>QUE</th>\n",
       "      <td>5719</td>\n",
       "      <td>93387</td>\n",
       "    </tr>\n",
       "    <tr>\n",
       "      <th>SIN</th>\n",
       "      <td>8481</td>\n",
       "      <td>64011</td>\n",
       "    </tr>\n",
       "    <tr>\n",
       "      <th>SLP</th>\n",
       "      <td>6565</td>\n",
       "      <td>98278</td>\n",
       "    </tr>\n",
       "    <tr>\n",
       "      <th>SON</th>\n",
       "      <td>8277</td>\n",
       "      <td>106333</td>\n",
       "    </tr>\n",
       "    <tr>\n",
       "      <th>TAB</th>\n",
       "      <td>4974</td>\n",
       "      <td>138156</td>\n",
       "    </tr>\n",
       "    <tr>\n",
       "      <th>TAM</th>\n",
       "      <td>7097</td>\n",
       "      <td>96254</td>\n",
       "    </tr>\n",
       "    <tr>\n",
       "      <th>TLAX</th>\n",
       "      <td>2744</td>\n",
       "      <td>23940</td>\n",
       "    </tr>\n",
       "    <tr>\n",
       "      <th>VER</th>\n",
       "      <td>14356</td>\n",
       "      <td>105787</td>\n",
       "    </tr>\n",
       "    <tr>\n",
       "      <th>YUC</th>\n",
       "      <td>5769</td>\n",
       "      <td>69115</td>\n",
       "    </tr>\n",
       "    <tr>\n",
       "      <th>ZAC</th>\n",
       "      <td>3322</td>\n",
       "      <td>38505</td>\n",
       "    </tr>\n",
       "  </tbody>\n",
       "</table>\n",
       "</div>"
      ],
      "text/plain": [
       "TIPO     Fallecido  Infectado\n",
       "ENTIDAD                      \n",
       "AGS           2969      33515\n",
       "BC            9687      66660\n",
       "BCS           2323      53753\n",
       "CAM           2016      22580\n",
       "CDMX         51672    1063811\n",
       "CHIA          2119      19967\n",
       "CHIH          8121      62996\n",
       "COAH          7518      87705\n",
       "COL           2191      31498\n",
       "DUR           2808      44751\n",
       "EDOMEX       32332     202589\n",
       "GJTO         12728     181187\n",
       "GUE           5944      69468\n",
       "HID           7674      52913\n",
       "JAL          17041     144175\n",
       "MICH          7770      64253\n",
       "MOR           4751      44449\n",
       "NAY           2939      31071\n",
       "NLEON        13280     192482\n",
       "OAX           5293      76285\n",
       "PUE          15102     110568\n",
       "QROO          3973      54789\n",
       "QUE           5719      93387\n",
       "SIN           8481      64011\n",
       "SLP           6565      98278\n",
       "SON           8277     106333\n",
       "TAB           4974     138156\n",
       "TAM           7097      96254\n",
       "TLAX          2744      23940\n",
       "VER          14356     105787\n",
       "YUC           5769      69115\n",
       "ZAC           3322      38505"
      ]
     },
     "execution_count": 96,
     "metadata": {},
     "output_type": "execute_result"
    }
   ],
   "source": [
    "conteo_estado"
   ]
  },
  {
   "cell_type": "markdown",
   "id": "cd3eef1c",
   "metadata": {},
   "source": [
    "Los datos de la CDXM son mucho más altos que los demás, y esto puede causar que la gráfica se vea mal. Para evitar problemas, removemos los registros de la CDMX."
   ]
  },
  {
   "cell_type": "code",
   "execution_count": 94,
   "id": "5e5921c1",
   "metadata": {},
   "outputs": [],
   "source": [
    "conteo_estado_sin_cdmx = conteo_estado.drop('CDMX', axis=0)"
   ]
  },
  {
   "cell_type": "markdown",
   "id": "f14b06d0",
   "metadata": {},
   "source": [
    "Una vez formateado el dataframe, podemos graficar los datos en una sólo línea de código, usando la integración de Pandas con Matplotlib."
   ]
  },
  {
   "cell_type": "code",
   "execution_count": 95,
   "id": "58cc725d",
   "metadata": {},
   "outputs": [
    {
     "data": {
      "text/plain": [
       "<AxesSubplot:xlabel='ENTIDAD'>"
      ]
     },
     "execution_count": 95,
     "metadata": {},
     "output_type": "execute_result"
    },
    {
     "data": {
      "image/png": "[encoded data removed]",
      "text/plain": [
       "<Figure size 1152x360 with 1 Axes>"
      ]
     },
     "metadata": {
      "needs_background": "light"
     },
     "output_type": "display_data"
    }
   ],
   "source": [
    "conteo_estado_sin_cdmx.plot(kind='bar', stacked=True, figsize=(16,5), grid=True)"
   ]
  },
  {
   "cell_type": "markdown",
   "id": "b1c78830",
   "metadata": {},
   "source": [
    "#### Datos de la CDMX"
   ]
  },
  {
   "cell_type": "code",
   "execution_count": 97,
   "id": "cf35c2ce",
   "metadata": {},
   "outputs": [
    {
     "data": {
      "text/plain": [
       "<AxesSubplot:xlabel='TIPO'>"
      ]
     },
     "execution_count": 97,
     "metadata": {},
     "output_type": "execute_result"
    },
    {
     "data": {
      "image/png": "[encoded data removed]",
      "text/plain": [
       "<Figure size 432x288 with 1 Axes>"
      ]
     },
     "metadata": {
      "needs_background": "light"
     },
     "output_type": "display_data"
    }
   ],
   "source": [
    "conteo_estado.loc['CDMX'][['Fallecido', 'Infectado']].plot(kind='bar')"
   ]
  },
  {
   "cell_type": "markdown",
   "id": "2befb079",
   "metadata": {},
   "source": [
    "## Porcentaje de fallecidos por estado"
   ]
  },
  {
   "cell_type": "code",
   "execution_count": 21,
   "id": "184de1bf",
   "metadata": {},
   "outputs": [],
   "source": [
    "conteo_estado['% de fallecidos'] = conteo_estado.apply(lambda x: (x.Fallecido/(x.Fallecido + x.Infectado))*100, axis=1)"
   ]
  },
  {
   "cell_type": "code",
   "execution_count": 22,
   "id": "52930cff",
   "metadata": {},
   "outputs": [
    {
     "data": {
      "text/html": [
       "<div>\n",
       "<style scoped>\n",
       "    .dataframe tbody tr th:only-of-type {\n",
       "        vertical-align: middle;\n",
       "    }\n",
       "\n",
       "    .dataframe tbody tr th {\n",
       "        vertical-align: top;\n",
       "    }\n",
       "\n",
       "    .dataframe thead th {\n",
       "        text-align: right;\n",
       "    }\n",
       "</style>\n",
       "<table border=\"1\" class=\"dataframe\">\n",
       "  <thead>\n",
       "    <tr style=\"text-align: right;\">\n",
       "      <th>TIPO</th>\n",
       "      <th>Fallecido</th>\n",
       "      <th>Infectado</th>\n",
       "      <th>% de fallecidos</th>\n",
       "    </tr>\n",
       "    <tr>\n",
       "      <th>ENTIDAD</th>\n",
       "      <th></th>\n",
       "      <th></th>\n",
       "      <th></th>\n",
       "    </tr>\n",
       "  </thead>\n",
       "  <tbody>\n",
       "    <tr>\n",
       "      <th>AGS</th>\n",
       "      <td>2969</td>\n",
       "      <td>33515</td>\n",
       "      <td>8.137814</td>\n",
       "    </tr>\n",
       "    <tr>\n",
       "      <th>BC</th>\n",
       "      <td>9687</td>\n",
       "      <td>66660</td>\n",
       "      <td>12.688121</td>\n",
       "    </tr>\n",
       "    <tr>\n",
       "      <th>BCS</th>\n",
       "      <td>2323</td>\n",
       "      <td>53753</td>\n",
       "      <td>4.142592</td>\n",
       "    </tr>\n",
       "  </tbody>\n",
       "</table>\n",
       "</div>"
      ],
      "text/plain": [
       "TIPO     Fallecido  Infectado  % de fallecidos\n",
       "ENTIDAD                                       \n",
       "AGS           2969      33515         8.137814\n",
       "BC            9687      66660        12.688121\n",
       "BCS           2323      53753         4.142592"
      ]
     },
     "execution_count": 22,
     "metadata": {},
     "output_type": "execute_result"
    }
   ],
   "source": [
    "conteo_estado.head(3)"
   ]
  },
  {
   "cell_type": "code",
   "execution_count": 23,
   "id": "4cc47cf5",
   "metadata": {},
   "outputs": [
    {
     "data": {
      "text/html": [
       "<div>\n",
       "<style scoped>\n",
       "    .dataframe tbody tr th:only-of-type {\n",
       "        vertical-align: middle;\n",
       "    }\n",
       "\n",
       "    .dataframe tbody tr th {\n",
       "        vertical-align: top;\n",
       "    }\n",
       "\n",
       "    .dataframe thead th {\n",
       "        text-align: right;\n",
       "    }\n",
       "</style>\n",
       "<table border=\"1\" class=\"dataframe\">\n",
       "  <thead>\n",
       "    <tr style=\"text-align: right;\">\n",
       "      <th>TIPO</th>\n",
       "      <th>Fallecido</th>\n",
       "      <th>Infectado</th>\n",
       "      <th>% de fallecidos</th>\n",
       "    </tr>\n",
       "    <tr>\n",
       "      <th>ENTIDAD</th>\n",
       "      <th></th>\n",
       "      <th></th>\n",
       "      <th></th>\n",
       "    </tr>\n",
       "  </thead>\n",
       "  <tbody>\n",
       "    <tr>\n",
       "      <th>EDOMEX</th>\n",
       "      <td>32332</td>\n",
       "      <td>202589</td>\n",
       "      <td>13.762925</td>\n",
       "    </tr>\n",
       "    <tr>\n",
       "      <th>BC</th>\n",
       "      <td>9687</td>\n",
       "      <td>66660</td>\n",
       "      <td>12.688121</td>\n",
       "    </tr>\n",
       "    <tr>\n",
       "      <th>HID</th>\n",
       "      <td>7674</td>\n",
       "      <td>52913</td>\n",
       "      <td>12.666083</td>\n",
       "    </tr>\n",
       "  </tbody>\n",
       "</table>\n",
       "</div>"
      ],
      "text/plain": [
       "TIPO     Fallecido  Infectado  % de fallecidos\n",
       "ENTIDAD                                       \n",
       "EDOMEX       32332     202589        13.762925\n",
       "BC            9687      66660        12.688121\n",
       "HID           7674      52913        12.666083"
      ]
     },
     "execution_count": 23,
     "metadata": {},
     "output_type": "execute_result"
    }
   ],
   "source": [
    "conteo_estado_ordenado = conteo_estado.sort_values('% de fallecidos', axis=0, ascending=False)\n",
    "conteo_estado_ordenado.head(3)"
   ]
  },
  {
   "cell_type": "code",
   "execution_count": 24,
   "id": "2d153ade",
   "metadata": {},
   "outputs": [
    {
     "data": {
      "image/png": "[encoded data removed]",
      "text/plain": [
       "<Figure size 1152x360 with 1 Axes>"
      ]
     },
     "metadata": {
      "needs_background": "light"
     },
     "output_type": "display_data"
    }
   ],
   "source": [
    "conteo_estado_ordenado.plot(y='% de fallecidos', kind='bar', figsize=(16, 5), grid=True)\n",
    "_ = plt.ylabel('Porcentaje')"
   ]
  },
  {
   "cell_type": "markdown",
   "id": "69bf820c",
   "metadata": {},
   "source": [
    "## Comparación de infectados y muertos por género"
   ]
  },
  {
   "cell_type": "code",
   "execution_count": 25,
   "id": "fee226ec",
   "metadata": {},
   "outputs": [
    {
     "data": {
      "text/html": [
       "<div>\n",
       "<style scoped>\n",
       "    .dataframe tbody tr th:only-of-type {\n",
       "        vertical-align: middle;\n",
       "    }\n",
       "\n",
       "    .dataframe tbody tr th {\n",
       "        vertical-align: top;\n",
       "    }\n",
       "\n",
       "    .dataframe thead th {\n",
       "        text-align: right;\n",
       "    }\n",
       "</style>\n",
       "<table border=\"1\" class=\"dataframe\">\n",
       "  <thead>\n",
       "    <tr style=\"text-align: right;\">\n",
       "      <th></th>\n",
       "      <th></th>\n",
       "      <th>FALLECIDO</th>\n",
       "    </tr>\n",
       "    <tr>\n",
       "      <th>SEXO</th>\n",
       "      <th>FALLECIDO</th>\n",
       "      <th></th>\n",
       "    </tr>\n",
       "  </thead>\n",
       "  <tbody>\n",
       "    <tr>\n",
       "      <th rowspan=\"2\" valign=\"top\">0</th>\n",
       "      <th>0</th>\n",
       "      <td>1736432</td>\n",
       "    </tr>\n",
       "    <tr>\n",
       "      <th>1</th>\n",
       "      <td>177567</td>\n",
       "    </tr>\n",
       "    <tr>\n",
       "      <th rowspan=\"2\" valign=\"top\">1</th>\n",
       "      <th>0</th>\n",
       "      <td>1808799</td>\n",
       "    </tr>\n",
       "    <tr>\n",
       "      <th>1</th>\n",
       "      <td>109988</td>\n",
       "    </tr>\n",
       "  </tbody>\n",
       "</table>\n",
       "</div>"
      ],
      "text/plain": [
       "                FALLECIDO\n",
       "SEXO FALLECIDO           \n",
       "0    0            1736432\n",
       "     1             177567\n",
       "1    0            1808799\n",
       "     1             109988"
      ]
     },
     "execution_count": 25,
     "metadata": {},
     "output_type": "execute_result"
    }
   ],
   "source": [
    "conteo_genero = analisis_df[['FALLECIDO']].groupby([analisis_df['SEXO'], analisis_df['FALLECIDO']]).count()\n",
    "conteo_genero"
   ]
  },
  {
   "cell_type": "code",
   "execution_count": 26,
   "id": "166931c5",
   "metadata": {},
   "outputs": [
    {
     "data": {
      "text/html": [
       "<div>\n",
       "<style scoped>\n",
       "    .dataframe tbody tr th:only-of-type {\n",
       "        vertical-align: middle;\n",
       "    }\n",
       "\n",
       "    .dataframe tbody tr th {\n",
       "        vertical-align: top;\n",
       "    }\n",
       "\n",
       "    .dataframe thead th {\n",
       "        text-align: right;\n",
       "    }\n",
       "</style>\n",
       "<table border=\"1\" class=\"dataframe\">\n",
       "  <thead>\n",
       "    <tr style=\"text-align: right;\">\n",
       "      <th>RESULTADO</th>\n",
       "      <th>Fallecido</th>\n",
       "      <th>Infectado</th>\n",
       "    </tr>\n",
       "    <tr>\n",
       "      <th>SEXO</th>\n",
       "      <th></th>\n",
       "      <th></th>\n",
       "    </tr>\n",
       "  </thead>\n",
       "  <tbody>\n",
       "    <tr>\n",
       "      <th>Hombre</th>\n",
       "      <td>177567</td>\n",
       "      <td>1736432</td>\n",
       "    </tr>\n",
       "    <tr>\n",
       "      <th>Mujer</th>\n",
       "      <td>109988</td>\n",
       "      <td>1808799</td>\n",
       "    </tr>\n",
       "  </tbody>\n",
       "</table>\n",
       "</div>"
      ],
      "text/plain": [
       "RESULTADO  Fallecido  Infectado\n",
       "SEXO                           \n",
       "Hombre        177567    1736432\n",
       "Mujer         109988    1808799"
      ]
     },
     "execution_count": 26,
     "metadata": {},
     "output_type": "execute_result"
    }
   ],
   "source": [
    "conteo_genero = create_plot_dataframe(conteo_genero, 'SEXO', 'FALLECIDO', 'FALLECIDO', 'SEXO', 'RESULTADO', 'CONTEO',\n",
    "                                     generos_dic, tipos_dic)\n",
    "conteo_genero"
   ]
  },
  {
   "cell_type": "code",
   "execution_count": 27,
   "id": "4efacd2c",
   "metadata": {},
   "outputs": [
    {
     "data": {
      "text/plain": [
       "<AxesSubplot:xlabel='SEXO'>"
      ]
     },
     "execution_count": 27,
     "metadata": {},
     "output_type": "execute_result"
    },
    {
     "data": {
      "image/png": "[encoded data removed]",
      "text/plain": [
       "<Figure size 432x288 with 1 Axes>"
      ]
     },
     "metadata": {
      "needs_background": "light"
     },
     "output_type": "display_data"
    }
   ],
   "source": [
    "conteo_genero.plot(kind='bar', stacked=True)"
   ]
  },
  {
   "cell_type": "markdown",
   "id": "78f43ab1",
   "metadata": {},
   "source": [
    "No parece haber una diferencia sustancial entre la cantidad de infectados por género, aunque sí se nota un mayor número de fallecidos en el género masculino."
   ]
  },
  {
   "cell_type": "markdown",
   "id": "f6061701",
   "metadata": {},
   "source": [
    "## Días que toma a un paciente fallecer según edad"
   ]
  },
  {
   "cell_type": "markdown",
   "id": "63ad7b59",
   "metadata": {},
   "source": [
    "#### Diag. de Dispersión"
   ]
  },
  {
   "cell_type": "code",
   "execution_count": 28,
   "id": "b7d4514a",
   "metadata": {},
   "outputs": [
    {
     "data": {
      "image/png": "[encoded data removed]",
      "text/plain": [
       "<Figure size 432x288 with 1 Axes>"
      ]
     },
     "metadata": {
      "needs_background": "light"
     },
     "output_type": "display_data"
    }
   ],
   "source": [
    "plt.scatter(x=regres_df['EDAD'], y=regres_df['DIAS_DEF'], alpha=0.2)\n",
    "plt.xlabel('EDAD')\n",
    "plt.ylabel('Expectativa de vida (en días)')\n",
    "plt.show()"
   ]
  },
  {
   "cell_type": "markdown",
   "id": "d9e6ddef",
   "metadata": {},
   "source": [
    "El diag. de dispersión nos ayuda a interpretar la situación, pero vale la pena hcerlo de otra manera."
   ]
  },
  {
   "cell_type": "code",
   "execution_count": 29,
   "id": "bf069ef7",
   "metadata": {},
   "outputs": [],
   "source": [
    "def get_age_group(x):\n",
    "    if x <= 5: return 'Bebé'\n",
    "    elif x <= 12: return 'Infante'\n",
    "    elif x <= 21: return 'Adolescente'\n",
    "    elif x <= 40: return 'Adulto Joven'\n",
    "    elif x <= 65: return 'Adulto'\n",
    "    else: return 'Adulto Mayor'"
   ]
  },
  {
   "cell_type": "code",
   "execution_count": 30,
   "id": "d2a83553",
   "metadata": {},
   "outputs": [],
   "source": [
    "regres_df['GRUPO_EDAD'] = regres_df['EDAD'].apply(get_age_group)"
   ]
  },
  {
   "cell_type": "code",
   "execution_count": 31,
   "id": "0e6a0cb4",
   "metadata": {},
   "outputs": [
    {
     "data": {
      "text/html": [
       "<div>\n",
       "<style scoped>\n",
       "    .dataframe tbody tr th:only-of-type {\n",
       "        vertical-align: middle;\n",
       "    }\n",
       "\n",
       "    .dataframe tbody tr th {\n",
       "        vertical-align: top;\n",
       "    }\n",
       "\n",
       "    .dataframe thead th {\n",
       "        text-align: right;\n",
       "    }\n",
       "</style>\n",
       "<table border=\"1\" class=\"dataframe\">\n",
       "  <thead>\n",
       "    <tr style=\"text-align: right;\">\n",
       "      <th></th>\n",
       "      <th>EDAD</th>\n",
       "    </tr>\n",
       "    <tr>\n",
       "      <th>GRUPO_EDAD</th>\n",
       "      <th></th>\n",
       "    </tr>\n",
       "  </thead>\n",
       "  <tbody>\n",
       "    <tr>\n",
       "      <th>Adolescente</th>\n",
       "      <td>887</td>\n",
       "    </tr>\n",
       "    <tr>\n",
       "      <th>Adulto</th>\n",
       "      <td>135518</td>\n",
       "    </tr>\n",
       "    <tr>\n",
       "      <th>Adulto Joven</th>\n",
       "      <td>19509</td>\n",
       "    </tr>\n",
       "    <tr>\n",
       "      <th>Adulto Mayor</th>\n",
       "      <td>130694</td>\n",
       "    </tr>\n",
       "    <tr>\n",
       "      <th>Bebé</th>\n",
       "      <td>496</td>\n",
       "    </tr>\n",
       "    <tr>\n",
       "      <th>Infante</th>\n",
       "      <td>178</td>\n",
       "    </tr>\n",
       "  </tbody>\n",
       "</table>\n",
       "</div>"
      ],
      "text/plain": [
       "                EDAD\n",
       "GRUPO_EDAD          \n",
       "Adolescente      887\n",
       "Adulto        135518\n",
       "Adulto Joven   19509\n",
       "Adulto Mayor  130694\n",
       "Bebé             496\n",
       "Infante          178"
      ]
     },
     "execution_count": 31,
     "metadata": {},
     "output_type": "execute_result"
    }
   ],
   "source": [
    "fall_edades = regres_df[['GRUPO_EDAD', 'EDAD']].groupby(['GRUPO_EDAD']).count()\n",
    "# fall_edades.rename({'EDAD': 'No. de Fallecidos'}, axis=1, inplace=True)\n",
    "fall_edades"
   ]
  },
  {
   "cell_type": "markdown",
   "id": "cb117b9c",
   "metadata": {},
   "source": [
    "#### Diag. de caja y bigote"
   ]
  },
  {
   "cell_type": "code",
   "execution_count": 32,
   "id": "e999bdd7",
   "metadata": {},
   "outputs": [
    {
     "data": {
      "text/plain": [
       "<AxesSubplot:xlabel='GRUPO_EDAD', ylabel='DIAS_DEF'>"
      ]
     },
     "execution_count": 32,
     "metadata": {},
     "output_type": "execute_result"
    },
    {
     "data": {
      "image/png": "[encoded data removed]",
      "text/plain": [
       "<Figure size 432x288 with 1 Axes>"
      ]
     },
     "metadata": {
      "needs_background": "light"
     },
     "output_type": "display_data"
    }
   ],
   "source": [
    "sns.boxplot(x='GRUPO_EDAD', y=\"DIAS_DEF\", data=regres_df)"
   ]
  },
  {
   "cell_type": "markdown",
   "id": "2479818a",
   "metadata": {},
   "source": [
    "En variables con un gran sesgo, el diag. de caja nos muestra varios outliers y hace difícil la interpretación"
   ]
  },
  {
   "cell_type": "code",
   "execution_count": 33,
   "id": "105242e7",
   "metadata": {},
   "outputs": [
    {
     "data": {
      "text/html": [
       "<div>\n",
       "<style scoped>\n",
       "    .dataframe tbody tr th:only-of-type {\n",
       "        vertical-align: middle;\n",
       "    }\n",
       "\n",
       "    .dataframe tbody tr th {\n",
       "        vertical-align: top;\n",
       "    }\n",
       "\n",
       "    .dataframe thead th {\n",
       "        text-align: right;\n",
       "    }\n",
       "</style>\n",
       "<table border=\"1\" class=\"dataframe\">\n",
       "  <thead>\n",
       "    <tr style=\"text-align: right;\">\n",
       "      <th></th>\n",
       "      <th>SEXO</th>\n",
       "      <th>PAC_HOSPITALIZADO</th>\n",
       "      <th>NEUMONIA</th>\n",
       "      <th>EDAD</th>\n",
       "      <th>EMBARAZO</th>\n",
       "      <th>DIABETES</th>\n",
       "      <th>EPOC</th>\n",
       "      <th>ASMA</th>\n",
       "      <th>INMUSUPR</th>\n",
       "      <th>HIPERTENSION</th>\n",
       "      <th>CARDIOVASCULAR</th>\n",
       "      <th>OBESIDAD</th>\n",
       "      <th>RENAL_CRONICA</th>\n",
       "      <th>TABAQUISMO</th>\n",
       "      <th>DIAS_SINTOMAS</th>\n",
       "      <th>DIAS_DEF</th>\n",
       "      <th>GRUPO_EDAD</th>\n",
       "    </tr>\n",
       "  </thead>\n",
       "  <tbody>\n",
       "    <tr>\n",
       "      <th>73</th>\n",
       "      <td>1</td>\n",
       "      <td>1</td>\n",
       "      <td>1</td>\n",
       "      <td>66</td>\n",
       "      <td>0</td>\n",
       "      <td>1</td>\n",
       "      <td>0</td>\n",
       "      <td>0</td>\n",
       "      <td>0</td>\n",
       "      <td>1</td>\n",
       "      <td>0</td>\n",
       "      <td>1</td>\n",
       "      <td>0</td>\n",
       "      <td>0</td>\n",
       "      <td>3</td>\n",
       "      <td>1</td>\n",
       "      <td>Adulto Mayor</td>\n",
       "    </tr>\n",
       "    <tr>\n",
       "      <th>186</th>\n",
       "      <td>1</td>\n",
       "      <td>1</td>\n",
       "      <td>1</td>\n",
       "      <td>30</td>\n",
       "      <td>0</td>\n",
       "      <td>0</td>\n",
       "      <td>0</td>\n",
       "      <td>0</td>\n",
       "      <td>0</td>\n",
       "      <td>0</td>\n",
       "      <td>0</td>\n",
       "      <td>0</td>\n",
       "      <td>1</td>\n",
       "      <td>0</td>\n",
       "      <td>0</td>\n",
       "      <td>0</td>\n",
       "      <td>Adulto Joven</td>\n",
       "    </tr>\n",
       "    <tr>\n",
       "      <th>217</th>\n",
       "      <td>0</td>\n",
       "      <td>1</td>\n",
       "      <td>1</td>\n",
       "      <td>58</td>\n",
       "      <td>0</td>\n",
       "      <td>1</td>\n",
       "      <td>0</td>\n",
       "      <td>0</td>\n",
       "      <td>0</td>\n",
       "      <td>1</td>\n",
       "      <td>1</td>\n",
       "      <td>0</td>\n",
       "      <td>1</td>\n",
       "      <td>0</td>\n",
       "      <td>2</td>\n",
       "      <td>3</td>\n",
       "      <td>Adulto</td>\n",
       "    </tr>\n",
       "  </tbody>\n",
       "</table>\n",
       "</div>"
      ],
      "text/plain": [
       "     SEXO  PAC_HOSPITALIZADO  NEUMONIA  EDAD  EMBARAZO  DIABETES  EPOC  ASMA  \\\n",
       "73      1                  1         1    66         0         1     0     0   \n",
       "186     1                  1         1    30         0         0     0     0   \n",
       "217     0                  1         1    58         0         1     0     0   \n",
       "\n",
       "     INMUSUPR  HIPERTENSION  CARDIOVASCULAR  OBESIDAD  RENAL_CRONICA  \\\n",
       "73          0             1               0         1              0   \n",
       "186         0             0               0         0              1   \n",
       "217         0             1               1         0              1   \n",
       "\n",
       "     TABAQUISMO  DIAS_SINTOMAS  DIAS_DEF    GRUPO_EDAD  \n",
       "73            0              3         1  Adulto Mayor  \n",
       "186           0              0         0  Adulto Joven  \n",
       "217           0              2         3        Adulto  "
      ]
     },
     "execution_count": 33,
     "metadata": {},
     "output_type": "execute_result"
    }
   ],
   "source": [
    "regres_df.head(3)"
   ]
  },
  {
   "cell_type": "markdown",
   "id": "05598a93",
   "metadata": {},
   "source": [
    "#### Histograma"
   ]
  },
  {
   "cell_type": "code",
   "execution_count": 34,
   "id": "b7f62520",
   "metadata": {},
   "outputs": [],
   "source": [
    "# sns.displot(x='DIAS_DEF', hue='GRUPO_EDAD', data=regres_df)\n",
    "# Da error \"cannot reindex from a duplicate axis\""
   ]
  },
  {
   "cell_type": "markdown",
   "id": "069403d2",
   "metadata": {},
   "source": [
    "Para cada grupo de edad, es posible ver desde otra perspectiva la frecuencia con la que un paciente tarde en fallecer. Sin embargo, el diag. de dispersión anterior es más simple que este, por lo que lo elegimos para describir los días que le toma a un paciente fallecer según su edad."
   ]
  },
  {
   "cell_type": "markdown",
   "id": "333178cb",
   "metadata": {},
   "source": [
    "## Distribución de pacientes según edad (Histograma)"
   ]
  },
  {
   "cell_type": "code",
   "execution_count": 35,
   "id": "d0079e88",
   "metadata": {},
   "outputs": [
    {
     "data": {
      "text/plain": [
       "<AxesSubplot:ylabel='Frequency'>"
      ]
     },
     "execution_count": 35,
     "metadata": {},
     "output_type": "execute_result"
    },
    {
     "data": {
      "image/png": "[encoded data removed]",
      "text/plain": [
       "<Figure size 432x288 with 1 Axes>"
      ]
     },
     "metadata": {
      "needs_background": "light"
     },
     "output_type": "display_data"
    }
   ],
   "source": [
    "regres_df['EDAD'].plot(kind='hist', bins=30)"
   ]
  },
  {
   "cell_type": "markdown",
   "id": "4b91e189",
   "metadata": {},
   "source": [
    "Como pudimos comprobar en la sección anterior, la mayoría de pacientes se encuentran entre los 40 y los 80 años, con un ligero sesgo hacia la izquierda, es decir, hacia los adultos jóvenes."
   ]
  },
  {
   "cell_type": "markdown",
   "id": "30d31d55",
   "metadata": {},
   "source": [
    "## Infectados y fallecidos según grupo de edad (Gráf. horiz. de barras apiladas)"
   ]
  },
  {
   "cell_type": "markdown",
   "id": "b408e407",
   "metadata": {},
   "source": [
    "Creamos grupos de edad en el dataset y agrupamos por sector de edad y por número de infectados/fallecidos"
   ]
  },
  {
   "cell_type": "code",
   "execution_count": 36,
   "id": "d41ac106",
   "metadata": {},
   "outputs": [],
   "source": [
    "analisis_df['GRUPO_EDAD'] = analisis_df['EDAD'].apply(get_age_group)"
   ]
  },
  {
   "cell_type": "code",
   "execution_count": 37,
   "id": "cf6139c8",
   "metadata": {},
   "outputs": [],
   "source": [
    "conteo_grupo_edad= analisis_df[['FALLECIDO']].groupby([analisis_df['GRUPO_EDAD'], analisis_df['FALLECIDO']]).count()"
   ]
  },
  {
   "cell_type": "code",
   "execution_count": 38,
   "id": "505bdb57",
   "metadata": {},
   "outputs": [],
   "source": [
    "conteo_grupo_edad = create_plot_dataframe(conteo_grupo_edad, 'GRUPO_EDAD', 'FALLECIDO', 'FALLECIDO',\n",
    "                                      'GRUPO DE EDAD', 'RESULTADO', 'CONTEO',\n",
    "                                      None, tipos_dic)"
   ]
  },
  {
   "cell_type": "code",
   "execution_count": 39,
   "id": "3398d0ea",
   "metadata": {},
   "outputs": [],
   "source": [
    "conteo_grupo_edad = conteo_grupo_edad.reindex(axis=0, labels=['Bebé', 'Infante', 'Adolescente', 'Adulto Joven', 'Adulto', 'Adulto Mayor'])"
   ]
  },
  {
   "cell_type": "code",
   "execution_count": 40,
   "id": "1644529d",
   "metadata": {},
   "outputs": [
    {
     "data": {
      "text/html": [
       "<div>\n",
       "<style scoped>\n",
       "    .dataframe tbody tr th:only-of-type {\n",
       "        vertical-align: middle;\n",
       "    }\n",
       "\n",
       "    .dataframe tbody tr th {\n",
       "        vertical-align: top;\n",
       "    }\n",
       "\n",
       "    .dataframe thead th {\n",
       "        text-align: right;\n",
       "    }\n",
       "</style>\n",
       "<table border=\"1\" class=\"dataframe\">\n",
       "  <thead>\n",
       "    <tr style=\"text-align: right;\">\n",
       "      <th>RESULTADO</th>\n",
       "      <th>Fallecido</th>\n",
       "      <th>Infectado</th>\n",
       "    </tr>\n",
       "    <tr>\n",
       "      <th>GRUPO DE EDAD</th>\n",
       "      <th></th>\n",
       "      <th></th>\n",
       "    </tr>\n",
       "  </thead>\n",
       "  <tbody>\n",
       "    <tr>\n",
       "      <th>Bebé</th>\n",
       "      <td>496</td>\n",
       "      <td>34199</td>\n",
       "    </tr>\n",
       "    <tr>\n",
       "      <th>Infante</th>\n",
       "      <td>179</td>\n",
       "      <td>72031</td>\n",
       "    </tr>\n",
       "    <tr>\n",
       "      <th>Adolescente</th>\n",
       "      <td>890</td>\n",
       "      <td>305972</td>\n",
       "    </tr>\n",
       "    <tr>\n",
       "      <th>Adulto Joven</th>\n",
       "      <td>19524</td>\n",
       "      <td>1579942</td>\n",
       "    </tr>\n",
       "    <tr>\n",
       "      <th>Adulto</th>\n",
       "      <td>135649</td>\n",
       "      <td>1311249</td>\n",
       "    </tr>\n",
       "    <tr>\n",
       "      <th>Adulto Mayor</th>\n",
       "      <td>130817</td>\n",
       "      <td>241838</td>\n",
       "    </tr>\n",
       "  </tbody>\n",
       "</table>\n",
       "</div>"
      ],
      "text/plain": [
       "RESULTADO      Fallecido  Infectado\n",
       "GRUPO DE EDAD                      \n",
       "Bebé                 496      34199\n",
       "Infante              179      72031\n",
       "Adolescente          890     305972\n",
       "Adulto Joven       19524    1579942\n",
       "Adulto            135649    1311249\n",
       "Adulto Mayor      130817     241838"
      ]
     },
     "execution_count": 40,
     "metadata": {},
     "output_type": "execute_result"
    }
   ],
   "source": [
    "conteo_grupo_edad"
   ]
  },
  {
   "cell_type": "markdown",
   "id": "f82a7d3c",
   "metadata": {},
   "source": [
    "Una vez generados los datos, graficamos"
   ]
  },
  {
   "cell_type": "code",
   "execution_count": 41,
   "id": "fa89f94f",
   "metadata": {},
   "outputs": [
    {
     "data": {
      "image/png": "[encoded data removed]",
      "text/plain": [
       "<Figure size 576x360 with 1 Axes>"
      ]
     },
     "metadata": {
      "needs_background": "light"
     },
     "output_type": "display_data"
    }
   ],
   "source": [
    "conteo_grupo_edad.plot(kind='bar', stacked=True, figsize=(8, 5))\n",
    "plt.yticks(ticks=range(0, 2000000, 200000), labels=range(0, 2000000, 200000))\n",
    "plt.ylabel('Número de pacientes')\n",
    "plt.show()"
   ]
  },
  {
   "cell_type": "markdown",
   "id": "01696b1b",
   "metadata": {},
   "source": [
    "## Porcentaje de infectados vs. fallecidos según grupo de edad (Gráf. horiz. de barras apiladas)"
   ]
  },
  {
   "cell_type": "code",
   "execution_count": 42,
   "id": "09cb2efa",
   "metadata": {},
   "outputs": [],
   "source": [
    "func = lambda x: (x.Fallecido/(x.Fallecido + x.Infectado))*100\n",
    "conteo_grupo_edad['% de fallecidos'] = conteo_grupo_edad.apply(func, axis=1)"
   ]
  },
  {
   "cell_type": "code",
   "execution_count": 43,
   "id": "cdb2032a",
   "metadata": {},
   "outputs": [
    {
     "data": {
      "text/html": [
       "<div>\n",
       "<style scoped>\n",
       "    .dataframe tbody tr th:only-of-type {\n",
       "        vertical-align: middle;\n",
       "    }\n",
       "\n",
       "    .dataframe tbody tr th {\n",
       "        vertical-align: top;\n",
       "    }\n",
       "\n",
       "    .dataframe thead th {\n",
       "        text-align: right;\n",
       "    }\n",
       "</style>\n",
       "<table border=\"1\" class=\"dataframe\">\n",
       "  <thead>\n",
       "    <tr style=\"text-align: right;\">\n",
       "      <th>RESULTADO</th>\n",
       "      <th>Fallecido</th>\n",
       "      <th>Infectado</th>\n",
       "      <th>% de fallecidos</th>\n",
       "    </tr>\n",
       "    <tr>\n",
       "      <th>GRUPO DE EDAD</th>\n",
       "      <th></th>\n",
       "      <th></th>\n",
       "      <th></th>\n",
       "    </tr>\n",
       "  </thead>\n",
       "  <tbody>\n",
       "    <tr>\n",
       "      <th>Adulto Mayor</th>\n",
       "      <td>130817</td>\n",
       "      <td>241838</td>\n",
       "      <td>35.104051</td>\n",
       "    </tr>\n",
       "    <tr>\n",
       "      <th>Adulto</th>\n",
       "      <td>135649</td>\n",
       "      <td>1311249</td>\n",
       "      <td>9.375160</td>\n",
       "    </tr>\n",
       "    <tr>\n",
       "      <th>Bebé</th>\n",
       "      <td>496</td>\n",
       "      <td>34199</td>\n",
       "      <td>1.429601</td>\n",
       "    </tr>\n",
       "  </tbody>\n",
       "</table>\n",
       "</div>"
      ],
      "text/plain": [
       "RESULTADO      Fallecido  Infectado  % de fallecidos\n",
       "GRUPO DE EDAD                                       \n",
       "Adulto Mayor      130817     241838        35.104051\n",
       "Adulto            135649    1311249         9.375160\n",
       "Bebé                 496      34199         1.429601"
      ]
     },
     "execution_count": 43,
     "metadata": {},
     "output_type": "execute_result"
    }
   ],
   "source": [
    "conteo_grupo_edad_ordenado = conteo_grupo_edad.sort_values('% de fallecidos', axis=0, ascending=False)\n",
    "conteo_grupo_edad_ordenado.head(3)"
   ]
  },
  {
   "cell_type": "code",
   "execution_count": 44,
   "id": "ca3caa2a",
   "metadata": {},
   "outputs": [
    {
     "data": {
      "image/png": "[encoded data removed]",
      "text/plain": [
       "<Figure size 576x360 with 1 Axes>"
      ]
     },
     "metadata": {
      "needs_background": "light"
     },
     "output_type": "display_data"
    }
   ],
   "source": [
    "conteo_grupo_edad_ordenado.plot(y='% de fallecidos', kind='bar', figsize=(8, 5))\n",
    "_ = plt.ylabel('Porcentaje')"
   ]
  },
  {
   "cell_type": "markdown",
   "id": "c7d6406c",
   "metadata": {},
   "source": [
    "## Infectados y fallecidos según sectores de salud (Gráf. horiz. de barras apiladas)"
   ]
  },
  {
   "cell_type": "code",
   "execution_count": 45,
   "id": "71649635",
   "metadata": {},
   "outputs": [],
   "source": [
    "conteo_sectores = analisis_df.groupby(['SECTOR', 'FALLECIDO']).count()[['EDAD']]"
   ]
  },
  {
   "cell_type": "code",
   "execution_count": 46,
   "id": "df111031",
   "metadata": {},
   "outputs": [],
   "source": [
    "conteo_sectores = create_plot_dataframe(conteo_sectores, 'SECTOR', 'FALLECIDO', 'EDAD',\n",
    "                                       'SECTOR', 'RESULTADO', 'CONTEO',\n",
    "                                       sectores_dic, tipos_dic)"
   ]
  },
  {
   "cell_type": "code",
   "execution_count": 47,
   "id": "6fa238ea",
   "metadata": {},
   "outputs": [
    {
     "data": {
      "text/html": [
       "<div>\n",
       "<style scoped>\n",
       "    .dataframe tbody tr th:only-of-type {\n",
       "        vertical-align: middle;\n",
       "    }\n",
       "\n",
       "    .dataframe tbody tr th {\n",
       "        vertical-align: top;\n",
       "    }\n",
       "\n",
       "    .dataframe thead th {\n",
       "        text-align: right;\n",
       "    }\n",
       "</style>\n",
       "<table border=\"1\" class=\"dataframe\">\n",
       "  <thead>\n",
       "    <tr style=\"text-align: right;\">\n",
       "      <th>RESULTADO</th>\n",
       "      <th>Fallecido</th>\n",
       "      <th>Infectado</th>\n",
       "    </tr>\n",
       "    <tr>\n",
       "      <th>SECTOR</th>\n",
       "      <th></th>\n",
       "      <th></th>\n",
       "    </tr>\n",
       "  </thead>\n",
       "  <tbody>\n",
       "    <tr>\n",
       "      <th>CRUZ ROJA</th>\n",
       "      <td>30</td>\n",
       "      <td>338</td>\n",
       "    </tr>\n",
       "    <tr>\n",
       "      <th>DESC.</th>\n",
       "      <td>0</td>\n",
       "      <td>1</td>\n",
       "    </tr>\n",
       "    <tr>\n",
       "      <th>DIF</th>\n",
       "      <td>5</td>\n",
       "      <td>948</td>\n",
       "    </tr>\n",
       "  </tbody>\n",
       "</table>\n",
       "</div>"
      ],
      "text/plain": [
       "RESULTADO  Fallecido  Infectado\n",
       "SECTOR                         \n",
       "CRUZ ROJA         30        338\n",
       "DESC.              0          1\n",
       "DIF                5        948"
      ]
     },
     "execution_count": 47,
     "metadata": {},
     "output_type": "execute_result"
    }
   ],
   "source": [
    "conteo_sectores.head(3)"
   ]
  },
  {
   "cell_type": "markdown",
   "id": "acfcfad3",
   "metadata": {},
   "source": [
    "Hay sistemas que cuidan de una gran cantidad de pacientes, mientras que otros sólo han atendido a un puñado de ellos en relación a la población total de infectados. Vamos a eliminar de la gráfica aquellos sistemas que no contribuyen significativamente al conteo total de infectado y fallecidos (al menos 1% de los mismos), y agruparlos en una categoría llamada \"OTROS SISTEMAS\"."
   ]
  },
  {
   "cell_type": "code",
   "execution_count": 48,
   "id": "91c09c15",
   "metadata": {},
   "outputs": [],
   "source": [
    "# Encontramos aquellos sectores que no contribuyen al menos al 1% del total de infectados y fallecidos\n",
    "total_registros = conteo_sectores.sum().sum()\n",
    "minimo_sig = total_registros // 100\n",
    "sectores_no_sig = conteo_sectores.apply(lambda x: True if (x.Fallecido + x.Infectado) < minimo_sig else False, axis=1)"
   ]
  },
  {
   "cell_type": "code",
   "execution_count": 49,
   "id": "53913bca",
   "metadata": {},
   "outputs": [
    {
     "data": {
      "text/plain": [
       "RESULTADO\n",
       "Fallecido    11890\n",
       "Infectado    76594\n",
       "dtype: int64"
      ]
     },
     "execution_count": 49,
     "metadata": {},
     "output_type": "execute_result"
    }
   ],
   "source": [
    "# Calculamos el total de infectados y fallecidos de los sectores no significativos\n",
    "suma_otros_sistemas = conteo_sectores[sectores_no_sig].sum()\n",
    "suma_otros_sistemas"
   ]
  },
  {
   "cell_type": "code",
   "execution_count": 50,
   "id": "13392888",
   "metadata": {},
   "outputs": [],
   "source": [
    "# Eliminamos los sectores no significativos\n",
    "conteo_sectores_sig = conteo_sectores.drop(conteo_sectores[sectores_no_sig].index, axis=0)"
   ]
  },
  {
   "cell_type": "code",
   "execution_count": 51,
   "id": "cf134f47",
   "metadata": {},
   "outputs": [],
   "source": [
    "# Agregamos un nuevo registro representando todos los sectores no significativos\n",
    "conteo_sectores_sig.loc['OTROS SISTEMAS'] = suma_otros_sistemas.values"
   ]
  },
  {
   "cell_type": "code",
   "execution_count": 52,
   "id": "6d02a0bf",
   "metadata": {},
   "outputs": [
    {
     "data": {
      "text/html": [
       "<div>\n",
       "<style scoped>\n",
       "    .dataframe tbody tr th:only-of-type {\n",
       "        vertical-align: middle;\n",
       "    }\n",
       "\n",
       "    .dataframe tbody tr th {\n",
       "        vertical-align: top;\n",
       "    }\n",
       "\n",
       "    .dataframe thead th {\n",
       "        text-align: right;\n",
       "    }\n",
       "</style>\n",
       "<table border=\"1\" class=\"dataframe\">\n",
       "  <thead>\n",
       "    <tr style=\"text-align: right;\">\n",
       "      <th>RESULTADO</th>\n",
       "      <th>Fallecido</th>\n",
       "      <th>Infectado</th>\n",
       "    </tr>\n",
       "    <tr>\n",
       "      <th>SECTOR</th>\n",
       "      <th></th>\n",
       "      <th></th>\n",
       "    </tr>\n",
       "  </thead>\n",
       "  <tbody>\n",
       "    <tr>\n",
       "      <th>ESTATAL</th>\n",
       "      <td>3985</td>\n",
       "      <td>38640</td>\n",
       "    </tr>\n",
       "    <tr>\n",
       "      <th>IMSS</th>\n",
       "      <td>161083</td>\n",
       "      <td>1321244</td>\n",
       "    </tr>\n",
       "    <tr>\n",
       "      <th>ISSSTE</th>\n",
       "      <td>21020</td>\n",
       "      <td>94638</td>\n",
       "    </tr>\n",
       "    <tr>\n",
       "      <th>PRIVADA</th>\n",
       "      <td>5704</td>\n",
       "      <td>101271</td>\n",
       "    </tr>\n",
       "    <tr>\n",
       "      <th>SSA</th>\n",
       "      <td>83873</td>\n",
       "      <td>1912844</td>\n",
       "    </tr>\n",
       "    <tr>\n",
       "      <th>OTROS SISTEMAS</th>\n",
       "      <td>11890</td>\n",
       "      <td>76594</td>\n",
       "    </tr>\n",
       "  </tbody>\n",
       "</table>\n",
       "</div>"
      ],
      "text/plain": [
       "RESULTADO       Fallecido  Infectado\n",
       "SECTOR                              \n",
       "ESTATAL              3985      38640\n",
       "IMSS               161083    1321244\n",
       "ISSSTE              21020      94638\n",
       "PRIVADA              5704     101271\n",
       "SSA                 83873    1912844\n",
       "OTROS SISTEMAS      11890      76594"
      ]
     },
     "execution_count": 52,
     "metadata": {},
     "output_type": "execute_result"
    }
   ],
   "source": [
    "conteo_sectores_sig"
   ]
  },
  {
   "cell_type": "markdown",
   "id": "287f10ef",
   "metadata": {},
   "source": [
    "Una vez sintetizados los datos, procedemos a graficar"
   ]
  },
  {
   "cell_type": "code",
   "execution_count": 53,
   "id": "0b664973",
   "metadata": {},
   "outputs": [
    {
     "data": {
      "image/png": "[encoded data removed]",
      "text/plain": [
       "<Figure size 432x288 with 1 Axes>"
      ]
     },
     "metadata": {
      "needs_background": "light"
     },
     "output_type": "display_data"
    }
   ],
   "source": [
    "conteo_sectores_sig.plot(kind='bar', stacked=True, grid=True)\n",
    "plt.yticks(range(0, 2000000, 200000), range(0, 2000000, 200000))\n",
    "plt.ylabel('No. de pacientes')\n",
    "plt.show()"
   ]
  },
  {
   "cell_type": "markdown",
   "id": "cccf727f",
   "metadata": {},
   "source": [
    "## Porcentaje de infectados vs. fallecidos según sectores de salud (Gráf. horiz. de barras apiladas)"
   ]
  },
  {
   "cell_type": "code",
   "execution_count": 54,
   "id": "7aa1b7df",
   "metadata": {},
   "outputs": [],
   "source": [
    "conteo_sectores['% de fallecidos'] = conteo_sectores.apply(lambda x: x.Fallecido/(x.Fallecido+x.Infectado)*100, axis=1)"
   ]
  },
  {
   "cell_type": "code",
   "execution_count": 55,
   "id": "6e4e56a9",
   "metadata": {},
   "outputs": [],
   "source": [
    "conteo_sectores_ord = conteo_sectores.sort_values('% de fallecidos', axis=0, ascending=False)"
   ]
  },
  {
   "cell_type": "code",
   "execution_count": 56,
   "id": "1c2d1c6c",
   "metadata": {},
   "outputs": [],
   "source": [
    "conteo_sectores_ord.drop(['DESC.', 'NO ESPEC.'], axis=0, inplace=True)"
   ]
  },
  {
   "cell_type": "code",
   "execution_count": 57,
   "id": "31c7f4ef",
   "metadata": {},
   "outputs": [
    {
     "data": {
      "image/png": "[encoded data removed]",
      "text/plain": [
       "<Figure size 720x288 with 1 Axes>"
      ]
     },
     "metadata": {
      "needs_background": "light"
     },
     "output_type": "display_data"
    }
   ],
   "source": [
    "conteo_sectores_ord.plot(y='% de fallecidos', kind='bar', grid=True, figsize=(10,4))\n",
    "plt.ylabel('Porcentaje de fallecidos')\n",
    "plt.yticks(range(0, 25, 5), range(0, 25, 5))\n",
    "plt.show()"
   ]
  },
  {
   "cell_type": "markdown",
   "id": "f644d49d",
   "metadata": {},
   "source": [
    "## Avance de la pandemia en México (infectados por mes)"
   ]
  },
  {
   "cell_type": "markdown",
   "id": "d1d85963",
   "metadata": {},
   "source": [
    "Para graficar los infectados y fallecidos por mes, tenemos que calcular los datos por separado (ya que los datos de los pacientes indican dos fechas: de ingreso y de defunción)"
   ]
  },
  {
   "cell_type": "code",
   "execution_count": 58,
   "id": "1f266512",
   "metadata": {},
   "outputs": [],
   "source": [
    "# Conteo de infectados por mes y año\n",
    "conteo_infectados = analisis_df.groupby(['AÑO_INGRESO', 'MES_INGRESO']).count()[['EDAD']]\n",
    "conteo_infectados.rename({'EDAD': 'Infectados'}, axis=1, inplace=True)\n",
    "conteo_infectados.index.rename(['AÑO', 'MES'], inplace=True)"
   ]
  },
  {
   "cell_type": "code",
   "execution_count": 61,
   "id": "3164af20",
   "metadata": {},
   "outputs": [],
   "source": [
    "# Conteo de fallecidos por mes y año\n",
    "conteo_fallecidos = analisis_df.groupby(['AÑO_DEF', 'MES_DEF']).count()[['EDAD']]\n",
    "conteo_fallecidos.rename({'EDAD': 'Fallecidos'}, axis=1, inplace=True)\n",
    "conteo_fallecidos.index.rename(['AÑO', 'MES'], inplace=True)"
   ]
  },
  {
   "cell_type": "code",
   "execution_count": 64,
   "id": "ee5a1484",
   "metadata": {},
   "outputs": [],
   "source": [
    "# Dropeamos los meses de 9999, que se refieren a personas que no fallecieron\n",
    "conteo_fallecidos.drop(9999, axis=0, inplace=True)"
   ]
  },
  {
   "cell_type": "markdown",
   "id": "31ce2ab4",
   "metadata": {},
   "source": [
    "Después, unimos estos datos en una sola tabla y les damos formato, ya que los meses se representan con números y no con letras."
   ]
  },
  {
   "cell_type": "code",
   "execution_count": 66,
   "id": "783676f0",
   "metadata": {},
   "outputs": [],
   "source": [
    "conteo_meses = pd.merge(conteo_infectados, conteo_fallecidos, left_index=True, right_index=True, how='outer')\n",
    "conteo_meses = conteo_meses.fillna(0).astype('int32')"
   ]
  },
  {
   "cell_type": "markdown",
   "id": "da3f6dec",
   "metadata": {},
   "source": [
    "Una vez listos los datos, podemos graficar"
   ]
  },
  {
   "cell_type": "code",
   "execution_count": 80,
   "id": "fbd34ecf",
   "metadata": {},
   "outputs": [],
   "source": [
    "meses = [f'{meses_dic[x[1]]}-{x[0]}' for x in conteo_meses.index]"
   ]
  },
  {
   "cell_type": "code",
   "execution_count": 81,
   "id": "1a8bb656",
   "metadata": {},
   "outputs": [
    {
     "data": {
      "image/png": "[encoded data removed]",
      "text/plain": [
       "<Figure size 864x432 with 1 Axes>"
      ]
     },
     "metadata": {
      "needs_background": "light"
     },
     "output_type": "display_data"
    }
   ],
   "source": [
    "conteo_meses.plot(figsize=(12, 6), grid=True)\n",
    "plt.xlabel('MES')\n",
    "plt.ylabel('No. de pacientes')\n",
    "plt.xticks(range(len(meses)), meses, rotation='vertical')\n",
    "plt.show()"
   ]
  },
  {
   "cell_type": "code",
   "execution_count": 71,
   "id": "da257ae7",
   "metadata": {},
   "outputs": [
    {
     "data": {
      "text/html": [
       "<div>\n",
       "<style scoped>\n",
       "    .dataframe tbody tr th:only-of-type {\n",
       "        vertical-align: middle;\n",
       "    }\n",
       "\n",
       "    .dataframe tbody tr th {\n",
       "        vertical-align: top;\n",
       "    }\n",
       "\n",
       "    .dataframe thead th {\n",
       "        text-align: right;\n",
       "    }\n",
       "</style>\n",
       "<table border=\"1\" class=\"dataframe\">\n",
       "  <thead>\n",
       "    <tr style=\"text-align: right;\">\n",
       "      <th></th>\n",
       "      <th></th>\n",
       "      <th>Infectados</th>\n",
       "      <th>Fallecidos</th>\n",
       "    </tr>\n",
       "    <tr>\n",
       "      <th>AÑO</th>\n",
       "      <th>MES</th>\n",
       "      <th></th>\n",
       "      <th></th>\n",
       "    </tr>\n",
       "  </thead>\n",
       "  <tbody>\n",
       "    <tr>\n",
       "      <th rowspan=\"11\" valign=\"top\">2020</th>\n",
       "      <th>2</th>\n",
       "      <td>8</td>\n",
       "      <td>0</td>\n",
       "    </tr>\n",
       "    <tr>\n",
       "      <th>3</th>\n",
       "      <td>2982</td>\n",
       "      <td>91</td>\n",
       "    </tr>\n",
       "    <tr>\n",
       "      <th>4</th>\n",
       "      <td>28927</td>\n",
       "      <td>4452</td>\n",
       "    </tr>\n",
       "    <tr>\n",
       "      <th>5</th>\n",
       "      <td>90701</td>\n",
       "      <td>15547</td>\n",
       "    </tr>\n",
       "    <tr>\n",
       "      <th>6</th>\n",
       "      <td>156641</td>\n",
       "      <td>19929</td>\n",
       "    </tr>\n",
       "    <tr>\n",
       "      <th>7</th>\n",
       "      <td>209642</td>\n",
       "      <td>23012</td>\n",
       "    </tr>\n",
       "    <tr>\n",
       "      <th>8</th>\n",
       "      <td>168888</td>\n",
       "      <td>18531</td>\n",
       "    </tr>\n",
       "    <tr>\n",
       "      <th>9</th>\n",
       "      <td>146006</td>\n",
       "      <td>12591</td>\n",
       "    </tr>\n",
       "    <tr>\n",
       "      <th>10</th>\n",
       "      <td>170306</td>\n",
       "      <td>12648</td>\n",
       "    </tr>\n",
       "    <tr>\n",
       "      <th>11</th>\n",
       "      <td>204469</td>\n",
       "      <td>15925</td>\n",
       "    </tr>\n",
       "    <tr>\n",
       "      <th>12</th>\n",
       "      <td>327646</td>\n",
       "      <td>23269</td>\n",
       "    </tr>\n",
       "    <tr>\n",
       "      <th rowspan=\"11\" valign=\"top\">2021</th>\n",
       "      <th>1</th>\n",
       "      <td>418643</td>\n",
       "      <td>38177</td>\n",
       "    </tr>\n",
       "    <tr>\n",
       "      <th>2</th>\n",
       "      <td>193539</td>\n",
       "      <td>22800</td>\n",
       "    </tr>\n",
       "    <tr>\n",
       "      <th>3</th>\n",
       "      <td>140853</td>\n",
       "      <td>12637</td>\n",
       "    </tr>\n",
       "    <tr>\n",
       "      <th>4</th>\n",
       "      <td>91283</td>\n",
       "      <td>7265</td>\n",
       "    </tr>\n",
       "    <tr>\n",
       "      <th>5</th>\n",
       "      <td>64319</td>\n",
       "      <td>3794</td>\n",
       "    </tr>\n",
       "    <tr>\n",
       "      <th>6</th>\n",
       "      <td>105628</td>\n",
       "      <td>2961</td>\n",
       "    </tr>\n",
       "    <tr>\n",
       "      <th>7</th>\n",
       "      <td>374525</td>\n",
       "      <td>8154</td>\n",
       "    </tr>\n",
       "    <tr>\n",
       "      <th>8</th>\n",
       "      <td>513970</td>\n",
       "      <td>21037</td>\n",
       "    </tr>\n",
       "    <tr>\n",
       "      <th>9</th>\n",
       "      <td>260501</td>\n",
       "      <td>15153</td>\n",
       "    </tr>\n",
       "    <tr>\n",
       "      <th>10</th>\n",
       "      <td>114596</td>\n",
       "      <td>7175</td>\n",
       "    </tr>\n",
       "    <tr>\n",
       "      <th>11</th>\n",
       "      <td>48713</td>\n",
       "      <td>2407</td>\n",
       "    </tr>\n",
       "  </tbody>\n",
       "</table>\n",
       "</div>"
      ],
      "text/plain": [
       "          Infectados  Fallecidos\n",
       "AÑO  MES                        \n",
       "2020 2             8           0\n",
       "     3          2982          91\n",
       "     4         28927        4452\n",
       "     5         90701       15547\n",
       "     6        156641       19929\n",
       "     7        209642       23012\n",
       "     8        168888       18531\n",
       "     9        146006       12591\n",
       "     10       170306       12648\n",
       "     11       204469       15925\n",
       "     12       327646       23269\n",
       "2021 1        418643       38177\n",
       "     2        193539       22800\n",
       "     3        140853       12637\n",
       "     4         91283        7265\n",
       "     5         64319        3794\n",
       "     6        105628        2961\n",
       "     7        374525        8154\n",
       "     8        513970       21037\n",
       "     9        260501       15153\n",
       "     10       114596        7175\n",
       "     11        48713        2407"
      ]
     },
     "execution_count": 71,
     "metadata": {},
     "output_type": "execute_result"
    }
   ],
   "source": [
    "conteo_meses"
   ]
  },
  {
   "cell_type": "markdown",
   "id": "7eb7ef4d",
   "metadata": {},
   "source": [
    "## Porcentaje de infectados vs. fallecidos según afecciones de salud previas"
   ]
  },
  {
   "cell_type": "code",
   "execution_count": 123,
   "id": "5718bd61",
   "metadata": {},
   "outputs": [],
   "source": [
    "afecciones = ['NEUMONIA', 'EMBARAZO', 'DIABETES', 'EPOC', 'ASMA', 'INMUSUPR', 'HIPERTENSION',\n",
    "             'CARDIOVASCULAR', 'OBESIDAD', 'RENAL_CRONICA', 'TABAQUISMO']\n",
    "datos_afecciones = []\n",
    "for afecc in afecciones:\n",
    "    afecc_rows = (analisis_df[afecc]==1).values\n",
    "    group = analisis_df[afecc_rows].groupby(analisis_df['FALLECIDO']).count()[afecc]\n",
    "    datos_afecciones.append(group.values)\n",
    "conteo_afecciones = pd.DataFrame(datos_afecciones, index=afecciones, columns=['Infectado', 'Fallecido'])"
   ]
  },
  {
   "cell_type": "code",
   "execution_count": 124,
   "id": "28b26b5a",
   "metadata": {},
   "outputs": [],
   "source": [
    "conteo_afecciones['% de fallecidos'] = conteo_afecciones.apply(lambda x: (x.Fallecido/(x.Fallecido + x.Infectado))*100, axis=1)"
   ]
  },
  {
   "cell_type": "code",
   "execution_count": 125,
   "id": "3059ea99",
   "metadata": {},
   "outputs": [],
   "source": [
    "conteo_afecciones_ordenado = conteo_afecciones.sort_values('% de fallecidos', axis=0, ascending=False)"
   ]
  },
  {
   "cell_type": "code",
   "execution_count": 127,
   "id": "44fc73e2",
   "metadata": {},
   "outputs": [
    {
     "data": {
      "text/html": [
       "<div>\n",
       "<style scoped>\n",
       "    .dataframe tbody tr th:only-of-type {\n",
       "        vertical-align: middle;\n",
       "    }\n",
       "\n",
       "    .dataframe tbody tr th {\n",
       "        vertical-align: top;\n",
       "    }\n",
       "\n",
       "    .dataframe thead th {\n",
       "        text-align: right;\n",
       "    }\n",
       "</style>\n",
       "<table border=\"1\" class=\"dataframe\">\n",
       "  <thead>\n",
       "    <tr style=\"text-align: right;\">\n",
       "      <th></th>\n",
       "      <th>Infectado</th>\n",
       "      <th>Fallecido</th>\n",
       "      <th>% de fallecidos</th>\n",
       "    </tr>\n",
       "  </thead>\n",
       "  <tbody>\n",
       "    <tr>\n",
       "      <th>NEUMONIA</th>\n",
       "      <td>236932</td>\n",
       "      <td>206699</td>\n",
       "      <td>46.592551</td>\n",
       "    </tr>\n",
       "    <tr>\n",
       "      <th>RENAL_CRONICA</th>\n",
       "      <td>27527</td>\n",
       "      <td>19430</td>\n",
       "      <td>41.378282</td>\n",
       "    </tr>\n",
       "    <tr>\n",
       "      <th>EPOC</th>\n",
       "      <td>22061</td>\n",
       "      <td>12213</td>\n",
       "      <td>35.633425</td>\n",
       "    </tr>\n",
       "    <tr>\n",
       "      <th>CARDIOVASCULAR</th>\n",
       "      <td>33503</td>\n",
       "      <td>13906</td>\n",
       "      <td>29.331983</td>\n",
       "    </tr>\n",
       "    <tr>\n",
       "      <th>DIABETES</th>\n",
       "      <td>321700</td>\n",
       "      <td>105507</td>\n",
       "      <td>24.696927</td>\n",
       "    </tr>\n",
       "    <tr>\n",
       "      <th>INMUSUPR</th>\n",
       "      <td>19415</td>\n",
       "      <td>6232</td>\n",
       "      <td>24.299138</td>\n",
       "    </tr>\n",
       "    <tr>\n",
       "      <th>HIPERTENSION</th>\n",
       "      <td>426937</td>\n",
       "      <td>126774</td>\n",
       "      <td>22.895337</td>\n",
       "    </tr>\n",
       "    <tr>\n",
       "      <th>OBESIDAD</th>\n",
       "      <td>405085</td>\n",
       "      <td>61342</td>\n",
       "      <td>13.151469</td>\n",
       "    </tr>\n",
       "    <tr>\n",
       "      <th>TABAQUISMO</th>\n",
       "      <td>232342</td>\n",
       "      <td>21342</td>\n",
       "      <td>8.412829</td>\n",
       "    </tr>\n",
       "    <tr>\n",
       "      <th>ASMA</th>\n",
       "      <td>70733</td>\n",
       "      <td>4922</td>\n",
       "      <td>6.505849</td>\n",
       "    </tr>\n",
       "    <tr>\n",
       "      <th>EMBARAZO</th>\n",
       "      <td>29082</td>\n",
       "      <td>337</td>\n",
       "      <td>1.145518</td>\n",
       "    </tr>\n",
       "  </tbody>\n",
       "</table>\n",
       "</div>"
      ],
      "text/plain": [
       "                Infectado  Fallecido  % de fallecidos\n",
       "NEUMONIA           236932     206699        46.592551\n",
       "RENAL_CRONICA       27527      19430        41.378282\n",
       "EPOC                22061      12213        35.633425\n",
       "CARDIOVASCULAR      33503      13906        29.331983\n",
       "DIABETES           321700     105507        24.696927\n",
       "INMUSUPR            19415       6232        24.299138\n",
       "HIPERTENSION       426937     126774        22.895337\n",
       "OBESIDAD           405085      61342        13.151469\n",
       "TABAQUISMO         232342      21342         8.412829\n",
       "ASMA                70733       4922         6.505849\n",
       "EMBARAZO            29082        337         1.145518"
      ]
     },
     "execution_count": 127,
     "metadata": {},
     "output_type": "execute_result"
    }
   ],
   "source": [
    "conteo_afecciones_ordenado"
   ]
  },
  {
   "cell_type": "markdown",
   "id": "dddb4c5a",
   "metadata": {},
   "source": [
    "- Neumonía: 1 de 2\n",
    "- Renal Cronica: 2 de 5\n",
    "- EPOC: 1 de 3\n",
    "- Cardiovascular: 1 de 3\n",
    "- Diabetes: 1 de 4\n",
    "- Inmunosupr: 1 de 4\n",
    "- Hipertension: 1 de 5\n",
    "- Obesidad: 1 de cada 8\n",
    "- Tabaquismo: 1 de cada 12\n",
    "- Asma: 1 de cada 15\n",
    "- Embarazo: 1 de cada 100"
   ]
  },
  {
   "cell_type": "markdown",
   "id": "875ed647",
   "metadata": {},
   "source": [
    "## Porcentaje de infectados vs. fallecidos según complicaciones presentadas"
   ]
  },
  {
   "cell_type": "code",
   "execution_count": 128,
   "id": "3a3f96c4",
   "metadata": {},
   "outputs": [],
   "source": [
    "complicaciones = ['INTUBADO', 'UCI']\n",
    "datos_complicaciones = []\n",
    "for compl in complicaciones:\n",
    "    compl_rows = (analisis_df[compl]==1).values\n",
    "    group = analisis_df[compl_rows].groupby(analisis_df['FALLECIDO']).count()[compl]\n",
    "    datos_complicaciones.append(group.values)\n",
    "conteo_complicaciones = pd.DataFrame(datos_complicaciones, index=complicaciones, columns=['Infectado', 'Fallecido'])"
   ]
  },
  {
   "cell_type": "code",
   "execution_count": 129,
   "id": "2c00a0c9",
   "metadata": {},
   "outputs": [],
   "source": [
    "conteo_complicaciones['% de fallecidos'] = conteo_complicaciones.apply(lambda x: (x.Fallecido/(x.Fallecido + x.Infectado))*100, axis=1)"
   ]
  },
  {
   "cell_type": "code",
   "execution_count": 130,
   "id": "a2843193",
   "metadata": {},
   "outputs": [
    {
     "data": {
      "text/html": [
       "<div>\n",
       "<style scoped>\n",
       "    .dataframe tbody tr th:only-of-type {\n",
       "        vertical-align: middle;\n",
       "    }\n",
       "\n",
       "    .dataframe tbody tr th {\n",
       "        vertical-align: top;\n",
       "    }\n",
       "\n",
       "    .dataframe thead th {\n",
       "        text-align: right;\n",
       "    }\n",
       "</style>\n",
       "<table border=\"1\" class=\"dataframe\">\n",
       "  <thead>\n",
       "    <tr style=\"text-align: right;\">\n",
       "      <th></th>\n",
       "      <th>Infectado</th>\n",
       "      <th>Fallecido</th>\n",
       "      <th>% de fallecidos</th>\n",
       "    </tr>\n",
       "  </thead>\n",
       "  <tbody>\n",
       "    <tr>\n",
       "      <th>INTUBADO</th>\n",
       "      <td>12470</td>\n",
       "      <td>64263</td>\n",
       "      <td>83.748843</td>\n",
       "    </tr>\n",
       "    <tr>\n",
       "      <th>UCI</th>\n",
       "      <td>19899</td>\n",
       "      <td>27490</td>\n",
       "      <td>58.009243</td>\n",
       "    </tr>\n",
       "  </tbody>\n",
       "</table>\n",
       "</div>"
      ],
      "text/plain": [
       "          Infectado  Fallecido  % de fallecidos\n",
       "INTUBADO      12470      64263        83.748843\n",
       "UCI           19899      27490        58.009243"
      ]
     },
     "execution_count": 130,
     "metadata": {},
     "output_type": "execute_result"
    }
   ],
   "source": [
    "conteo_complicaciones"
   ]
  },
  {
   "cell_type": "markdown",
   "id": "9fb391d5",
   "metadata": {},
   "source": [
    "- Intubado: 4 de cada 5\n",
    "- UCI: 3 de cada 5"
   ]
  }
 ],
 "metadata": {
  "kernelspec": {
   "display_name": "Python 3",
   "language": "python",
   "name": "python3"
  },
  "language_info": {
   "codemirror_mode": {
    "name": "ipython",
    "version": 3
   },
   "file_extension": ".py",
   "mimetype": "text/x-python",
   "name": "python",
   "nbconvert_exporter": "python",
   "pygments_lexer": "ipython3",
   "version": "3.8.5"
  }
 },
 "nbformat": 4,
 "nbformat_minor": 5
}
