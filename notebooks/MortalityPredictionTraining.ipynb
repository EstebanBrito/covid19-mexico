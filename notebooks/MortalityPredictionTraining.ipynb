{
 "cells": [
  {
   "cell_type": "markdown",
   "id": "5b4ea569",
   "metadata": {},
   "source": [
    "# MORTALITY PREDICTION TRAINING"
   ]
  },
  {
   "cell_type": "code",
   "execution_count": 62,
   "id": "e5e9bacb",
   "metadata": {},
   "outputs": [],
   "source": [
    "import numpy as np\n",
    "import pandas as pd\n",
    "import os\n",
    "import matplotlib.pyplot as plt\n",
    "import seaborn as sns\n",
    "import tensorflow as tf\n",
    "from tensorflow import keras"
   ]
  },
  {
   "cell_type": "code",
   "execution_count": 10,
   "id": "0fe6031c",
   "metadata": {},
   "outputs": [],
   "source": [
    "from sklearn.preprocessing import StandardScaler\n",
    "from sklearn.model_selection import train_test_split"
   ]
  },
  {
   "cell_type": "code",
   "execution_count": 11,
   "id": "5f93c7ca",
   "metadata": {},
   "outputs": [],
   "source": [
    "SEED = 42"
   ]
  },
  {
   "cell_type": "code",
   "execution_count": 12,
   "id": "6e7bfb81",
   "metadata": {},
   "outputs": [],
   "source": [
    "TRAIN_SET_PATH = os.path.join('..', 'datasets', 'mort_pred_train.csv')\n",
    "TEST_SET_PATH = os.path.join('..', 'datasets', 'mort_pred_test.csv')"
   ]
  },
  {
   "cell_type": "code",
   "execution_count": 20,
   "id": "3e464854",
   "metadata": {},
   "outputs": [],
   "source": [
    "train_df = pd.read_csv(TRAIN_SET_PATH, index_col=None)\n",
    "test_df = pd.read_csv(TEST_SET_PATH, index_col=None)"
   ]
  },
  {
   "cell_type": "markdown",
   "id": "05ac9da0",
   "metadata": {},
   "source": [
    "### Feature Scaling"
   ]
  },
  {
   "cell_type": "code",
   "execution_count": 21,
   "id": "db4d1eca",
   "metadata": {},
   "outputs": [],
   "source": [
    "num_cols = ['EDAD', 'DIAS_SINTOMAS']"
   ]
  },
  {
   "cell_type": "code",
   "execution_count": 22,
   "id": "ebb8b688",
   "metadata": {},
   "outputs": [],
   "source": [
    "scaler = StandardScaler().fit(train_df[num_cols])\n",
    "train_df[num_cols] = scaler.transform(train_df[num_cols])\n",
    "test_df[num_cols] = scaler.transform(test_df[num_cols])"
   ]
  },
  {
   "cell_type": "code",
   "execution_count": 23,
   "id": "4b2f291d",
   "metadata": {},
   "outputs": [
    {
     "data": {
      "text/html": [
       "<div>\n",
       "<style scoped>\n",
       "    .dataframe tbody tr th:only-of-type {\n",
       "        vertical-align: middle;\n",
       "    }\n",
       "\n",
       "    .dataframe tbody tr th {\n",
       "        vertical-align: top;\n",
       "    }\n",
       "\n",
       "    .dataframe thead th {\n",
       "        text-align: right;\n",
       "    }\n",
       "</style>\n",
       "<table border=\"1\" class=\"dataframe\">\n",
       "  <thead>\n",
       "    <tr style=\"text-align: right;\">\n",
       "      <th></th>\n",
       "      <th>SEXO</th>\n",
       "      <th>PAC_HOSPITALIZADO</th>\n",
       "      <th>NEUMONIA</th>\n",
       "      <th>EDAD</th>\n",
       "      <th>EMBARAZO</th>\n",
       "      <th>DIABETES</th>\n",
       "      <th>EPOC</th>\n",
       "      <th>ASMA</th>\n",
       "      <th>INMUSUPR</th>\n",
       "      <th>HIPERTENSION</th>\n",
       "      <th>CARDIOVASCULAR</th>\n",
       "      <th>OBESIDAD</th>\n",
       "      <th>RENAL_CRONICA</th>\n",
       "      <th>TABAQUISMO</th>\n",
       "      <th>DIAS_SINTOMAS</th>\n",
       "      <th>FALLECIDO</th>\n",
       "    </tr>\n",
       "  </thead>\n",
       "  <tbody>\n",
       "    <tr>\n",
       "      <th>0</th>\n",
       "      <td>1</td>\n",
       "      <td>0</td>\n",
       "      <td>0</td>\n",
       "      <td>-0.635606</td>\n",
       "      <td>0</td>\n",
       "      <td>0</td>\n",
       "      <td>0</td>\n",
       "      <td>0</td>\n",
       "      <td>0</td>\n",
       "      <td>0</td>\n",
       "      <td>0</td>\n",
       "      <td>0</td>\n",
       "      <td>0</td>\n",
       "      <td>0</td>\n",
       "      <td>-0.905514</td>\n",
       "      <td>0</td>\n",
       "    </tr>\n",
       "    <tr>\n",
       "      <th>1</th>\n",
       "      <td>0</td>\n",
       "      <td>0</td>\n",
       "      <td>0</td>\n",
       "      <td>-0.806863</td>\n",
       "      <td>0</td>\n",
       "      <td>0</td>\n",
       "      <td>0</td>\n",
       "      <td>0</td>\n",
       "      <td>0</td>\n",
       "      <td>0</td>\n",
       "      <td>0</td>\n",
       "      <td>0</td>\n",
       "      <td>0</td>\n",
       "      <td>0</td>\n",
       "      <td>0.157481</td>\n",
       "      <td>0</td>\n",
       "    </tr>\n",
       "    <tr>\n",
       "      <th>2</th>\n",
       "      <td>1</td>\n",
       "      <td>0</td>\n",
       "      <td>0</td>\n",
       "      <td>-0.592792</td>\n",
       "      <td>0</td>\n",
       "      <td>0</td>\n",
       "      <td>0</td>\n",
       "      <td>0</td>\n",
       "      <td>0</td>\n",
       "      <td>0</td>\n",
       "      <td>0</td>\n",
       "      <td>1</td>\n",
       "      <td>0</td>\n",
       "      <td>0</td>\n",
       "      <td>-0.905514</td>\n",
       "      <td>0</td>\n",
       "    </tr>\n",
       "    <tr>\n",
       "      <th>3</th>\n",
       "      <td>1</td>\n",
       "      <td>0</td>\n",
       "      <td>0</td>\n",
       "      <td>-1.363449</td>\n",
       "      <td>0</td>\n",
       "      <td>0</td>\n",
       "      <td>0</td>\n",
       "      <td>0</td>\n",
       "      <td>0</td>\n",
       "      <td>0</td>\n",
       "      <td>0</td>\n",
       "      <td>0</td>\n",
       "      <td>0</td>\n",
       "      <td>0</td>\n",
       "      <td>-0.196851</td>\n",
       "      <td>0</td>\n",
       "    </tr>\n",
       "    <tr>\n",
       "      <th>4</th>\n",
       "      <td>0</td>\n",
       "      <td>0</td>\n",
       "      <td>0</td>\n",
       "      <td>-1.406263</td>\n",
       "      <td>0</td>\n",
       "      <td>0</td>\n",
       "      <td>0</td>\n",
       "      <td>0</td>\n",
       "      <td>0</td>\n",
       "      <td>0</td>\n",
       "      <td>0</td>\n",
       "      <td>0</td>\n",
       "      <td>0</td>\n",
       "      <td>0</td>\n",
       "      <td>-0.905514</td>\n",
       "      <td>0</td>\n",
       "    </tr>\n",
       "    <tr>\n",
       "      <th>...</th>\n",
       "      <td>...</td>\n",
       "      <td>...</td>\n",
       "      <td>...</td>\n",
       "      <td>...</td>\n",
       "      <td>...</td>\n",
       "      <td>...</td>\n",
       "      <td>...</td>\n",
       "      <td>...</td>\n",
       "      <td>...</td>\n",
       "      <td>...</td>\n",
       "      <td>...</td>\n",
       "      <td>...</td>\n",
       "      <td>...</td>\n",
       "      <td>...</td>\n",
       "      <td>...</td>\n",
       "      <td>...</td>\n",
       "    </tr>\n",
       "    <tr>\n",
       "      <th>2470</th>\n",
       "      <td>1</td>\n",
       "      <td>1</td>\n",
       "      <td>0</td>\n",
       "      <td>1.034151</td>\n",
       "      <td>0</td>\n",
       "      <td>1</td>\n",
       "      <td>0</td>\n",
       "      <td>0</td>\n",
       "      <td>0</td>\n",
       "      <td>1</td>\n",
       "      <td>1</td>\n",
       "      <td>0</td>\n",
       "      <td>0</td>\n",
       "      <td>0</td>\n",
       "      <td>0.511812</td>\n",
       "      <td>1</td>\n",
       "    </tr>\n",
       "    <tr>\n",
       "      <th>2471</th>\n",
       "      <td>1</td>\n",
       "      <td>1</td>\n",
       "      <td>0</td>\n",
       "      <td>-0.935306</td>\n",
       "      <td>0</td>\n",
       "      <td>0</td>\n",
       "      <td>0</td>\n",
       "      <td>0</td>\n",
       "      <td>0</td>\n",
       "      <td>0</td>\n",
       "      <td>0</td>\n",
       "      <td>0</td>\n",
       "      <td>0</td>\n",
       "      <td>0</td>\n",
       "      <td>-0.905514</td>\n",
       "      <td>1</td>\n",
       "    </tr>\n",
       "    <tr>\n",
       "      <th>2472</th>\n",
       "      <td>1</td>\n",
       "      <td>1</td>\n",
       "      <td>1</td>\n",
       "      <td>1.119780</td>\n",
       "      <td>0</td>\n",
       "      <td>1</td>\n",
       "      <td>0</td>\n",
       "      <td>0</td>\n",
       "      <td>0</td>\n",
       "      <td>1</td>\n",
       "      <td>0</td>\n",
       "      <td>0</td>\n",
       "      <td>0</td>\n",
       "      <td>0</td>\n",
       "      <td>-0.905514</td>\n",
       "      <td>1</td>\n",
       "    </tr>\n",
       "    <tr>\n",
       "      <th>2473</th>\n",
       "      <td>0</td>\n",
       "      <td>1</td>\n",
       "      <td>1</td>\n",
       "      <td>-0.892492</td>\n",
       "      <td>0</td>\n",
       "      <td>0</td>\n",
       "      <td>0</td>\n",
       "      <td>0</td>\n",
       "      <td>0</td>\n",
       "      <td>0</td>\n",
       "      <td>0</td>\n",
       "      <td>0</td>\n",
       "      <td>0</td>\n",
       "      <td>0</td>\n",
       "      <td>-0.551183</td>\n",
       "      <td>1</td>\n",
       "    </tr>\n",
       "    <tr>\n",
       "      <th>2474</th>\n",
       "      <td>1</td>\n",
       "      <td>1</td>\n",
       "      <td>0</td>\n",
       "      <td>-0.464349</td>\n",
       "      <td>0</td>\n",
       "      <td>0</td>\n",
       "      <td>0</td>\n",
       "      <td>0</td>\n",
       "      <td>0</td>\n",
       "      <td>0</td>\n",
       "      <td>0</td>\n",
       "      <td>0</td>\n",
       "      <td>0</td>\n",
       "      <td>0</td>\n",
       "      <td>0.157481</td>\n",
       "      <td>1</td>\n",
       "    </tr>\n",
       "  </tbody>\n",
       "</table>\n",
       "<p>2475 rows × 16 columns</p>\n",
       "</div>"
      ],
      "text/plain": [
       "      SEXO  PAC_HOSPITALIZADO  NEUMONIA      EDAD  EMBARAZO  DIABETES  EPOC  \\\n",
       "0        1                  0         0 -0.635606         0         0     0   \n",
       "1        0                  0         0 -0.806863         0         0     0   \n",
       "2        1                  0         0 -0.592792         0         0     0   \n",
       "3        1                  0         0 -1.363449         0         0     0   \n",
       "4        0                  0         0 -1.406263         0         0     0   \n",
       "...    ...                ...       ...       ...       ...       ...   ...   \n",
       "2470     1                  1         0  1.034151         0         1     0   \n",
       "2471     1                  1         0 -0.935306         0         0     0   \n",
       "2472     1                  1         1  1.119780         0         1     0   \n",
       "2473     0                  1         1 -0.892492         0         0     0   \n",
       "2474     1                  1         0 -0.464349         0         0     0   \n",
       "\n",
       "      ASMA  INMUSUPR  HIPERTENSION  CARDIOVASCULAR  OBESIDAD  RENAL_CRONICA  \\\n",
       "0        0         0             0               0         0              0   \n",
       "1        0         0             0               0         0              0   \n",
       "2        0         0             0               0         1              0   \n",
       "3        0         0             0               0         0              0   \n",
       "4        0         0             0               0         0              0   \n",
       "...    ...       ...           ...             ...       ...            ...   \n",
       "2470     0         0             1               1         0              0   \n",
       "2471     0         0             0               0         0              0   \n",
       "2472     0         0             1               0         0              0   \n",
       "2473     0         0             0               0         0              0   \n",
       "2474     0         0             0               0         0              0   \n",
       "\n",
       "      TABAQUISMO  DIAS_SINTOMAS  FALLECIDO  \n",
       "0              0      -0.905514          0  \n",
       "1              0       0.157481          0  \n",
       "2              0      -0.905514          0  \n",
       "3              0      -0.196851          0  \n",
       "4              0      -0.905514          0  \n",
       "...          ...            ...        ...  \n",
       "2470           0       0.511812          1  \n",
       "2471           0      -0.905514          1  \n",
       "2472           0      -0.905514          1  \n",
       "2473           0      -0.551183          1  \n",
       "2474           0       0.157481          1  \n",
       "\n",
       "[2475 rows x 16 columns]"
      ]
     },
     "execution_count": 23,
     "metadata": {},
     "output_type": "execute_result"
    }
   ],
   "source": [
    "train_df"
   ]
  },
  {
   "cell_type": "markdown",
   "id": "34017098",
   "metadata": {},
   "source": [
    "### Preparing Data"
   ]
  },
  {
   "cell_type": "code",
   "execution_count": 26,
   "id": "80c4aa74",
   "metadata": {},
   "outputs": [],
   "source": [
    "X_tr, y_tr = train_df.drop(['FALLECIDO'], axis='columns', inplace=False), train_df['FALLECIDO']\n",
    "X_ts, y_ts = test_df.drop(['FALLECIDO'], axis='columns', inplace=False), test_df['FALLECIDO']"
   ]
  },
  {
   "cell_type": "markdown",
   "id": "197bde3b",
   "metadata": {},
   "source": [
    "## Model Training"
   ]
  },
  {
   "cell_type": "code",
   "execution_count": 63,
   "id": "480a0de7",
   "metadata": {},
   "outputs": [],
   "source": [
    "# For replicability purposes\n",
    "tf.random.set_seed(SEED)"
   ]
  },
  {
   "cell_type": "code",
   "execution_count": 64,
   "id": "e15506d0",
   "metadata": {},
   "outputs": [
    {
     "data": {
      "text/plain": [
       "15"
      ]
     },
     "execution_count": 64,
     "metadata": {},
     "output_type": "execute_result"
    }
   ],
   "source": [
    "input_shape = X_tr.shape[1]\n",
    "input_shape"
   ]
  },
  {
   "cell_type": "code",
   "execution_count": 65,
   "id": "2042c97c",
   "metadata": {},
   "outputs": [],
   "source": [
    "model = keras.Sequential([\n",
    "    keras.layers.Dense(30, activation='relu', input_shape=[input_shape]),\n",
    "    keras.layers.Dense(10, activation='relu'),\n",
    "    keras.layers.Dense(1, activation='sigmoid')\n",
    "])\n",
    "\n",
    "model.compile(loss='binary_crossentropy', optimizer='sgd', metrics=['accuracy'])"
   ]
  },
  {
   "cell_type": "code",
   "execution_count": 66,
   "id": "4bf28c7c",
   "metadata": {},
   "outputs": [
    {
     "name": "stdout",
     "output_type": "stream",
     "text": [
      "Epoch 1/10\n",
      "99/99 [==============================] - 3s 12ms/step - loss: 0.5910 - accuracy: 0.8035 - val_loss: 0.5172 - val_accuracy: 0.8404\n",
      "Epoch 2/10\n",
      "99/99 [==============================] - 1s 6ms/step - loss: 0.4816 - accuracy: 0.8626 - val_loss: 0.4179 - val_accuracy: 0.8606\n",
      "Epoch 3/10\n",
      "99/99 [==============================] - 1s 6ms/step - loss: 0.3860 - accuracy: 0.8949 - val_loss: 0.3680 - val_accuracy: 0.8707\n",
      "Epoch 4/10\n",
      "99/99 [==============================] - 1s 6ms/step - loss: 0.3147 - accuracy: 0.9126 - val_loss: 0.3428 - val_accuracy: 0.8707\n",
      "Epoch 5/10\n",
      "99/99 [==============================] - 1s 8ms/step - loss: 0.2624 - accuracy: 0.9232 - val_loss: 0.3017 - val_accuracy: 0.8869\n",
      "Epoch 6/10\n",
      "99/99 [==============================] - 1s 7ms/step - loss: 0.2222 - accuracy: 0.9364 - val_loss: 0.2643 - val_accuracy: 0.8949\n",
      "Epoch 7/10\n",
      "99/99 [==============================] - 1s 8ms/step - loss: 0.1901 - accuracy: 0.9485 - val_loss: 0.2253 - val_accuracy: 0.9172\n",
      "Epoch 8/10\n",
      "99/99 [==============================] - 1s 9ms/step - loss: 0.1635 - accuracy: 0.9611 - val_loss: 0.1926 - val_accuracy: 0.9333\n",
      "Epoch 9/10\n",
      "99/99 [==============================] - 1s 6ms/step - loss: 0.1421 - accuracy: 0.9667 - val_loss: 0.1610 - val_accuracy: 0.9455\n",
      "Epoch 10/10\n",
      "99/99 [==============================] - 1s 6ms/step - loss: 0.1253 - accuracy: 0.9732 - val_loss: 0.1358 - val_accuracy: 0.9556\n"
     ]
    }
   ],
   "source": [
    "history = model.fit(X_tr, y_tr, epochs=10, batch_size=20, validation_split=0.2)"
   ]
  },
  {
   "cell_type": "code",
   "execution_count": 71,
   "id": "d33723b4",
   "metadata": {},
   "outputs": [
    {
     "data": {
      "text/html": [
       "<div>\n",
       "<style scoped>\n",
       "    .dataframe tbody tr th:only-of-type {\n",
       "        vertical-align: middle;\n",
       "    }\n",
       "\n",
       "    .dataframe tbody tr th {\n",
       "        vertical-align: top;\n",
       "    }\n",
       "\n",
       "    .dataframe thead th {\n",
       "        text-align: right;\n",
       "    }\n",
       "</style>\n",
       "<table border=\"1\" class=\"dataframe\">\n",
       "  <thead>\n",
       "    <tr style=\"text-align: right;\">\n",
       "      <th></th>\n",
       "      <th>loss</th>\n",
       "      <th>accuracy</th>\n",
       "      <th>val_loss</th>\n",
       "      <th>val_accuracy</th>\n",
       "    </tr>\n",
       "  </thead>\n",
       "  <tbody>\n",
       "    <tr>\n",
       "      <th>0</th>\n",
       "      <td>0.590966</td>\n",
       "      <td>0.803535</td>\n",
       "      <td>0.517211</td>\n",
       "      <td>0.840404</td>\n",
       "    </tr>\n",
       "    <tr>\n",
       "      <th>1</th>\n",
       "      <td>0.481551</td>\n",
       "      <td>0.862626</td>\n",
       "      <td>0.417897</td>\n",
       "      <td>0.860606</td>\n",
       "    </tr>\n",
       "    <tr>\n",
       "      <th>2</th>\n",
       "      <td>0.386035</td>\n",
       "      <td>0.894949</td>\n",
       "      <td>0.367973</td>\n",
       "      <td>0.870707</td>\n",
       "    </tr>\n",
       "    <tr>\n",
       "      <th>3</th>\n",
       "      <td>0.314653</td>\n",
       "      <td>0.912626</td>\n",
       "      <td>0.342810</td>\n",
       "      <td>0.870707</td>\n",
       "    </tr>\n",
       "    <tr>\n",
       "      <th>4</th>\n",
       "      <td>0.262429</td>\n",
       "      <td>0.923232</td>\n",
       "      <td>0.301684</td>\n",
       "      <td>0.886869</td>\n",
       "    </tr>\n",
       "    <tr>\n",
       "      <th>5</th>\n",
       "      <td>0.222226</td>\n",
       "      <td>0.936364</td>\n",
       "      <td>0.264302</td>\n",
       "      <td>0.894949</td>\n",
       "    </tr>\n",
       "    <tr>\n",
       "      <th>6</th>\n",
       "      <td>0.190070</td>\n",
       "      <td>0.948485</td>\n",
       "      <td>0.225252</td>\n",
       "      <td>0.917172</td>\n",
       "    </tr>\n",
       "    <tr>\n",
       "      <th>7</th>\n",
       "      <td>0.163501</td>\n",
       "      <td>0.961111</td>\n",
       "      <td>0.192557</td>\n",
       "      <td>0.933333</td>\n",
       "    </tr>\n",
       "    <tr>\n",
       "      <th>8</th>\n",
       "      <td>0.142096</td>\n",
       "      <td>0.966667</td>\n",
       "      <td>0.161043</td>\n",
       "      <td>0.945455</td>\n",
       "    </tr>\n",
       "    <tr>\n",
       "      <th>9</th>\n",
       "      <td>0.125266</td>\n",
       "      <td>0.973232</td>\n",
       "      <td>0.135770</td>\n",
       "      <td>0.955556</td>\n",
       "    </tr>\n",
       "  </tbody>\n",
       "</table>\n",
       "</div>"
      ],
      "text/plain": [
       "       loss  accuracy  val_loss  val_accuracy\n",
       "0  0.590966  0.803535  0.517211      0.840404\n",
       "1  0.481551  0.862626  0.417897      0.860606\n",
       "2  0.386035  0.894949  0.367973      0.870707\n",
       "3  0.314653  0.912626  0.342810      0.870707\n",
       "4  0.262429  0.923232  0.301684      0.886869\n",
       "5  0.222226  0.936364  0.264302      0.894949\n",
       "6  0.190070  0.948485  0.225252      0.917172\n",
       "7  0.163501  0.961111  0.192557      0.933333\n",
       "8  0.142096  0.966667  0.161043      0.945455\n",
       "9  0.125266  0.973232  0.135770      0.955556"
      ]
     },
     "execution_count": 71,
     "metadata": {},
     "output_type": "execute_result"
    }
   ],
   "source": [
    "foo = pd.DataFrame(history.history)\n",
    "foo"
   ]
  },
  {
   "cell_type": "markdown",
   "id": "9f3a7354",
   "metadata": {},
   "source": [
    "## Model Evaluation"
   ]
  },
  {
   "cell_type": "markdown",
   "id": "06b41d77",
   "metadata": {},
   "source": [
    "### Learning Curves"
   ]
  },
  {
   "cell_type": "code",
   "execution_count": 67,
   "id": "f06c5242",
   "metadata": {},
   "outputs": [
    {
     "data": {
      "image/png": "[encoded data removed]",
      "text/plain": [
       "<Figure size 600x300 with 1 Axes>"
      ]
     },
     "metadata": {},
     "output_type": "display_data"
    }
   ],
   "source": [
    "plt.figure(figsize=(6, 3))\n",
    "plt.plot(history.history['accuracy'], 'b', label='Train')\n",
    "plt.plot(history.history['val_accuracy'], 'y', label='Validation')\n",
    "plt.title('Learning Curves')\n",
    "plt.xlabel('Epoch')\n",
    "plt.ylabel('Accuracy')\n",
    "plt.ylim([0.0, 1.0])\n",
    "plt.grid(True)\n",
    "plt.legend()\n",
    "plt.show()"
   ]
  },
  {
   "cell_type": "markdown",
   "id": "0d67e2cf",
   "metadata": {},
   "source": [
    "### Metric Evaluation"
   ]
  },
  {
   "cell_type": "code",
   "execution_count": 55,
   "id": "3a157eb3",
   "metadata": {},
   "outputs": [],
   "source": [
    "from sklearn.metrics import classification_report as clfn_rep\n",
    "from sklearn.metrics import confusion_matrix as conf_mx"
   ]
  },
  {
   "cell_type": "code",
   "execution_count": 56,
   "id": "d05f5ec9",
   "metadata": {},
   "outputs": [
    {
     "name": "stdout",
     "output_type": "stream",
     "text": [
      "7/7 [==============================] - 0s 11ms/step\n"
     ]
    }
   ],
   "source": [
    "probs = model.predict(X_ts)"
   ]
  },
  {
   "cell_type": "markdown",
   "id": "0865c1ac",
   "metadata": {},
   "source": [
    "#### Threshold = 0.5"
   ]
  },
  {
   "cell_type": "code",
   "execution_count": 88,
   "id": "0e1de012",
   "metadata": {},
   "outputs": [],
   "source": [
    "preds_50 = np.where(probs > 0.5, 1, 0)"
   ]
  },
  {
   "cell_type": "code",
   "execution_count": 89,
   "id": "38c905cd",
   "metadata": {},
   "outputs": [
    {
     "name": "stdout",
     "output_type": "stream",
     "text": [
      "              precision    recall  f1-score   support\n",
      "\n",
      "    Survives       0.99      0.96      0.97       121\n",
      "        Dies       0.94      0.99      0.97        86\n",
      "\n",
      "    accuracy                           0.97       207\n",
      "   macro avg       0.97      0.97      0.97       207\n",
      "weighted avg       0.97      0.97      0.97       207\n",
      "\n"
     ]
    }
   ],
   "source": [
    "results_50 = clfn_rep(y_ts, preds_50, target_names=['Survives', 'Dies'])\n",
    "print(results_50)"
   ]
  },
  {
   "cell_type": "code",
   "execution_count": 92,
   "id": "5d8291f1",
   "metadata": {},
   "outputs": [],
   "source": [
    "def conf_mx_df(y_true, y_pred, target_names):\n",
    "    mx = conf_mx(y_ts, preds_50)\n",
    "    tuples_index = [('Actual', name) for name in target_names]\n",
    "    tuples_columns = [('Predicted', name) for name in target_names]\n",
    "    index = pd.MultiIndex.from_tuples(tuples_index)\n",
    "    columns = pd.MultiIndex.from_tuples(tuples_columns)\n",
    "    return pd.DataFrame(mx, index=index, columns=columns)"
   ]
  },
  {
   "cell_type": "code",
   "execution_count": 93,
   "id": "d08ffcfb",
   "metadata": {},
   "outputs": [
    {
     "data": {
      "text/html": [
       "<div>\n",
       "<style scoped>\n",
       "    .dataframe tbody tr th:only-of-type {\n",
       "        vertical-align: middle;\n",
       "    }\n",
       "\n",
       "    .dataframe tbody tr th {\n",
       "        vertical-align: top;\n",
       "    }\n",
       "\n",
       "    .dataframe thead tr th {\n",
       "        text-align: left;\n",
       "    }\n",
       "</style>\n",
       "<table border=\"1\" class=\"dataframe\">\n",
       "  <thead>\n",
       "    <tr>\n",
       "      <th></th>\n",
       "      <th></th>\n",
       "      <th colspan=\"2\" halign=\"left\">Predicted</th>\n",
       "    </tr>\n",
       "    <tr>\n",
       "      <th></th>\n",
       "      <th></th>\n",
       "      <th>Survives</th>\n",
       "      <th>Dies</th>\n",
       "    </tr>\n",
       "  </thead>\n",
       "  <tbody>\n",
       "    <tr>\n",
       "      <th rowspan=\"2\" valign=\"top\">Actual</th>\n",
       "      <th>Survives</th>\n",
       "      <td>116</td>\n",
       "      <td>5</td>\n",
       "    </tr>\n",
       "    <tr>\n",
       "      <th>Dies</th>\n",
       "      <td>1</td>\n",
       "      <td>85</td>\n",
       "    </tr>\n",
       "  </tbody>\n",
       "</table>\n",
       "</div>"
      ],
      "text/plain": [
       "                Predicted     \n",
       "                 Survives Dies\n",
       "Actual Survives       116    5\n",
       "       Dies             1   85"
      ]
     },
     "execution_count": 93,
     "metadata": {},
     "output_type": "execute_result"
    }
   ],
   "source": [
    "conf_mx_df(y_ts, preds_50, ['Survives', 'Dies'])"
   ]
  },
  {
   "cell_type": "code",
   "execution_count": null,
   "id": "29a7392f",
   "metadata": {},
   "outputs": [],
   "source": []
  },
  {
   "cell_type": "code",
   "execution_count": null,
   "id": "767238e6",
   "metadata": {},
   "outputs": [],
   "source": []
  },
  {
   "cell_type": "code",
   "execution_count": null,
   "id": "5c19f1a1",
   "metadata": {},
   "outputs": [],
   "source": []
  }
 ],
 "metadata": {
  "kernelspec": {
   "display_name": "Python 3 (ipykernel)",
   "language": "python",
   "name": "python3"
  },
  "language_info": {
   "codemirror_mode": {
    "name": "ipython",
    "version": 3
   },
   "file_extension": ".py",
   "mimetype": "text/x-python",
   "name": "python",
   "nbconvert_exporter": "python",
   "pygments_lexer": "ipython3",
   "version": "3.10.8"
  }
 },
 "nbformat": 4,
 "nbformat_minor": 5
}
