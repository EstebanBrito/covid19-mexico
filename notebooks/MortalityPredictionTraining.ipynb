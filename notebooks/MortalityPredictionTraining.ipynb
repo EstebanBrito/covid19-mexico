{
 "cells": [
  {
   "cell_type": "markdown",
   "id": "5b4ea569",
   "metadata": {},
   "source": [
    "# MORTALITY PREDICTION"
   ]
  },
  {
   "cell_type": "code",
   "execution_count": 1,
   "id": "e5e9bacb",
   "metadata": {},
   "outputs": [],
   "source": [
    "import numpy as np\n",
    "import pandas as pd\n",
    "import os\n",
    "import matplotlib.pyplot as plt\n",
    "import seaborn as sns\n",
    "import tensorflow as tf\n",
    "from tensorflow import keras"
   ]
  },
  {
   "cell_type": "code",
   "execution_count": 2,
   "id": "0fe6031c",
   "metadata": {},
   "outputs": [],
   "source": [
    "from sklearn.preprocessing import MinMaxScaler, StandardScaler\n",
    "from sklearn.model_selection import train_test_split"
   ]
  },
  {
   "cell_type": "code",
   "execution_count": 3,
   "id": "5f93c7ca",
   "metadata": {},
   "outputs": [],
   "source": [
    "SEED = 42"
   ]
  },
  {
   "cell_type": "code",
   "execution_count": 4,
   "id": "c679ce44",
   "metadata": {},
   "outputs": [],
   "source": [
    "# For replicability purposes\n",
    "tf.random.set_seed(SEED)"
   ]
  },
  {
   "cell_type": "markdown",
   "id": "c3d7f6aa",
   "metadata": {},
   "source": [
    "# 1- Loading Data"
   ]
  },
  {
   "cell_type": "code",
   "execution_count": 5,
   "id": "6e7bfb81",
   "metadata": {},
   "outputs": [],
   "source": [
    "TRAIN_SET_PATH = os.path.join('..', 'datasets', 'mort_pred_train.csv')\n",
    "TEST_SET_PATH = os.path.join('..', 'datasets', 'mort_pred_test.csv')"
   ]
  },
  {
   "cell_type": "code",
   "execution_count": 6,
   "id": "3e464854",
   "metadata": {},
   "outputs": [],
   "source": [
    "train_df = pd.read_csv(TRAIN_SET_PATH, index_col=None)\n",
    "test_df = pd.read_csv(TEST_SET_PATH, index_col=None)"
   ]
  },
  {
   "cell_type": "code",
   "execution_count": 7,
   "id": "23031b9e",
   "metadata": {},
   "outputs": [
    {
     "data": {
      "text/plain": [
       "((2475, 16), (207, 16))"
      ]
     },
     "execution_count": 7,
     "metadata": {},
     "output_type": "execute_result"
    }
   ],
   "source": [
    "train_df.shape, test_df.shape"
   ]
  },
  {
   "cell_type": "markdown",
   "id": "aac6087e",
   "metadata": {},
   "source": [
    "# 2 - Data Preprocessing"
   ]
  },
  {
   "cell_type": "markdown",
   "id": "05ac9da0",
   "metadata": {},
   "source": [
    "## Feature Scaling"
   ]
  },
  {
   "cell_type": "code",
   "execution_count": 8,
   "id": "db4d1eca",
   "metadata": {},
   "outputs": [],
   "source": [
    "num_cols = ['EDAD', 'DIAS_SINTOMAS']"
   ]
  },
  {
   "cell_type": "code",
   "execution_count": 9,
   "id": "ebb8b688",
   "metadata": {},
   "outputs": [],
   "source": [
    "# Feature scaling parameters are learned only from the training set...\n",
    "scaler = MinMaxScaler().fit(train_df[num_cols])\n",
    "# ...but are used to scale both training and testing sets\n",
    "train_df[num_cols] = scaler.transform(train_df[num_cols])\n",
    "test_df[num_cols] = scaler.transform(test_df[num_cols])"
   ]
  },
  {
   "cell_type": "markdown",
   "id": "45a735aa",
   "metadata": {},
   "source": [
    "Let's take on last look at our data in order to detect any inconsistencies."
   ]
  },
  {
   "cell_type": "code",
   "execution_count": 10,
   "id": "4b2f291d",
   "metadata": {},
   "outputs": [
    {
     "data": {
      "text/html": [
       "<div>\n",
       "<style scoped>\n",
       "    .dataframe tbody tr th:only-of-type {\n",
       "        vertical-align: middle;\n",
       "    }\n",
       "\n",
       "    .dataframe tbody tr th {\n",
       "        vertical-align: top;\n",
       "    }\n",
       "\n",
       "    .dataframe thead th {\n",
       "        text-align: right;\n",
       "    }\n",
       "</style>\n",
       "<table border=\"1\" class=\"dataframe\">\n",
       "  <thead>\n",
       "    <tr style=\"text-align: right;\">\n",
       "      <th></th>\n",
       "      <th>SEXO</th>\n",
       "      <th>PAC_HOSPITALIZADO</th>\n",
       "      <th>NEUMONIA</th>\n",
       "      <th>EDAD</th>\n",
       "      <th>EMBARAZO</th>\n",
       "      <th>DIABETES</th>\n",
       "      <th>EPOC</th>\n",
       "      <th>ASMA</th>\n",
       "      <th>INMUSUPR</th>\n",
       "      <th>HIPERTENSION</th>\n",
       "      <th>CARDIOVASCULAR</th>\n",
       "      <th>OBESIDAD</th>\n",
       "      <th>RENAL_CRONICA</th>\n",
       "      <th>TABAQUISMO</th>\n",
       "      <th>DIAS_SINTOMAS</th>\n",
       "      <th>FALLECIDO</th>\n",
       "    </tr>\n",
       "  </thead>\n",
       "  <tbody>\n",
       "    <tr>\n",
       "      <th>0</th>\n",
       "      <td>1</td>\n",
       "      <td>0</td>\n",
       "      <td>0</td>\n",
       "      <td>0.370370</td>\n",
       "      <td>0</td>\n",
       "      <td>0</td>\n",
       "      <td>0</td>\n",
       "      <td>0</td>\n",
       "      <td>0</td>\n",
       "      <td>0</td>\n",
       "      <td>0</td>\n",
       "      <td>0</td>\n",
       "      <td>0</td>\n",
       "      <td>0</td>\n",
       "      <td>0.000000</td>\n",
       "      <td>0</td>\n",
       "    </tr>\n",
       "    <tr>\n",
       "      <th>1</th>\n",
       "      <td>0</td>\n",
       "      <td>0</td>\n",
       "      <td>0</td>\n",
       "      <td>0.333333</td>\n",
       "      <td>0</td>\n",
       "      <td>0</td>\n",
       "      <td>0</td>\n",
       "      <td>0</td>\n",
       "      <td>0</td>\n",
       "      <td>0</td>\n",
       "      <td>0</td>\n",
       "      <td>0</td>\n",
       "      <td>0</td>\n",
       "      <td>0</td>\n",
       "      <td>0.083333</td>\n",
       "      <td>0</td>\n",
       "    </tr>\n",
       "    <tr>\n",
       "      <th>2</th>\n",
       "      <td>1</td>\n",
       "      <td>0</td>\n",
       "      <td>0</td>\n",
       "      <td>0.379630</td>\n",
       "      <td>0</td>\n",
       "      <td>0</td>\n",
       "      <td>0</td>\n",
       "      <td>0</td>\n",
       "      <td>0</td>\n",
       "      <td>0</td>\n",
       "      <td>0</td>\n",
       "      <td>1</td>\n",
       "      <td>0</td>\n",
       "      <td>0</td>\n",
       "      <td>0.000000</td>\n",
       "      <td>0</td>\n",
       "    </tr>\n",
       "  </tbody>\n",
       "</table>\n",
       "</div>"
      ],
      "text/plain": [
       "   SEXO  PAC_HOSPITALIZADO  NEUMONIA      EDAD  EMBARAZO  DIABETES  EPOC  \\\n",
       "0     1                  0         0  0.370370         0         0     0   \n",
       "1     0                  0         0  0.333333         0         0     0   \n",
       "2     1                  0         0  0.379630         0         0     0   \n",
       "\n",
       "   ASMA  INMUSUPR  HIPERTENSION  CARDIOVASCULAR  OBESIDAD  RENAL_CRONICA  \\\n",
       "0     0         0             0               0         0              0   \n",
       "1     0         0             0               0         0              0   \n",
       "2     0         0             0               0         1              0   \n",
       "\n",
       "   TABAQUISMO  DIAS_SINTOMAS  FALLECIDO  \n",
       "0           0       0.000000          0  \n",
       "1           0       0.083333          0  \n",
       "2           0       0.000000          0  "
      ]
     },
     "execution_count": 10,
     "metadata": {},
     "output_type": "execute_result"
    }
   ],
   "source": [
    "train_df.head(3)"
   ]
  },
  {
   "cell_type": "code",
   "execution_count": 11,
   "id": "3c4af5cb",
   "metadata": {},
   "outputs": [
    {
     "data": {
      "text/html": [
       "<div>\n",
       "<style scoped>\n",
       "    .dataframe tbody tr th:only-of-type {\n",
       "        vertical-align: middle;\n",
       "    }\n",
       "\n",
       "    .dataframe tbody tr th {\n",
       "        vertical-align: top;\n",
       "    }\n",
       "\n",
       "    .dataframe thead th {\n",
       "        text-align: right;\n",
       "    }\n",
       "</style>\n",
       "<table border=\"1\" class=\"dataframe\">\n",
       "  <thead>\n",
       "    <tr style=\"text-align: right;\">\n",
       "      <th></th>\n",
       "      <th>SEXO</th>\n",
       "      <th>PAC_HOSPITALIZADO</th>\n",
       "      <th>NEUMONIA</th>\n",
       "      <th>EDAD</th>\n",
       "      <th>EMBARAZO</th>\n",
       "      <th>DIABETES</th>\n",
       "      <th>EPOC</th>\n",
       "      <th>ASMA</th>\n",
       "      <th>INMUSUPR</th>\n",
       "      <th>HIPERTENSION</th>\n",
       "      <th>CARDIOVASCULAR</th>\n",
       "      <th>OBESIDAD</th>\n",
       "      <th>RENAL_CRONICA</th>\n",
       "      <th>TABAQUISMO</th>\n",
       "      <th>DIAS_SINTOMAS</th>\n",
       "      <th>FALLECIDO</th>\n",
       "    </tr>\n",
       "  </thead>\n",
       "  <tbody>\n",
       "    <tr>\n",
       "      <th>2472</th>\n",
       "      <td>1</td>\n",
       "      <td>1</td>\n",
       "      <td>1</td>\n",
       "      <td>0.750000</td>\n",
       "      <td>0</td>\n",
       "      <td>1</td>\n",
       "      <td>0</td>\n",
       "      <td>0</td>\n",
       "      <td>0</td>\n",
       "      <td>1</td>\n",
       "      <td>0</td>\n",
       "      <td>0</td>\n",
       "      <td>0</td>\n",
       "      <td>0</td>\n",
       "      <td>0.000000</td>\n",
       "      <td>1</td>\n",
       "    </tr>\n",
       "    <tr>\n",
       "      <th>2473</th>\n",
       "      <td>0</td>\n",
       "      <td>1</td>\n",
       "      <td>1</td>\n",
       "      <td>0.314815</td>\n",
       "      <td>0</td>\n",
       "      <td>0</td>\n",
       "      <td>0</td>\n",
       "      <td>0</td>\n",
       "      <td>0</td>\n",
       "      <td>0</td>\n",
       "      <td>0</td>\n",
       "      <td>0</td>\n",
       "      <td>0</td>\n",
       "      <td>0</td>\n",
       "      <td>0.027778</td>\n",
       "      <td>1</td>\n",
       "    </tr>\n",
       "    <tr>\n",
       "      <th>2474</th>\n",
       "      <td>1</td>\n",
       "      <td>1</td>\n",
       "      <td>0</td>\n",
       "      <td>0.407407</td>\n",
       "      <td>0</td>\n",
       "      <td>0</td>\n",
       "      <td>0</td>\n",
       "      <td>0</td>\n",
       "      <td>0</td>\n",
       "      <td>0</td>\n",
       "      <td>0</td>\n",
       "      <td>0</td>\n",
       "      <td>0</td>\n",
       "      <td>0</td>\n",
       "      <td>0.083333</td>\n",
       "      <td>1</td>\n",
       "    </tr>\n",
       "  </tbody>\n",
       "</table>\n",
       "</div>"
      ],
      "text/plain": [
       "      SEXO  PAC_HOSPITALIZADO  NEUMONIA      EDAD  EMBARAZO  DIABETES  EPOC  \\\n",
       "2472     1                  1         1  0.750000         0         1     0   \n",
       "2473     0                  1         1  0.314815         0         0     0   \n",
       "2474     1                  1         0  0.407407         0         0     0   \n",
       "\n",
       "      ASMA  INMUSUPR  HIPERTENSION  CARDIOVASCULAR  OBESIDAD  RENAL_CRONICA  \\\n",
       "2472     0         0             1               0         0              0   \n",
       "2473     0         0             0               0         0              0   \n",
       "2474     0         0             0               0         0              0   \n",
       "\n",
       "      TABAQUISMO  DIAS_SINTOMAS  FALLECIDO  \n",
       "2472           0       0.000000          1  \n",
       "2473           0       0.027778          1  \n",
       "2474           0       0.083333          1  "
      ]
     },
     "execution_count": 11,
     "metadata": {},
     "output_type": "execute_result"
    }
   ],
   "source": [
    "train_df.tail(3)"
   ]
  },
  {
   "cell_type": "markdown",
   "id": "1f0186e2",
   "metadata": {},
   "source": [
    "The recently scaledn features are within the [0, 1] range, and all the other features are binary in nature, so we're ready to proceed with next stage of this notebook."
   ]
  },
  {
   "cell_type": "markdown",
   "id": "34017098",
   "metadata": {},
   "source": [
    "## Preparing Data"
   ]
  },
  {
   "cell_type": "code",
   "execution_count": 12,
   "id": "80c4aa74",
   "metadata": {},
   "outputs": [],
   "source": [
    "# Features and labels for the training set\n",
    "X_tr, y_tr = train_df.drop(['FALLECIDO'], axis='columns', inplace=False), train_df['FALLECIDO']\n",
    "# Features and labels for the testing set\n",
    "X_ts, y_ts = test_df.drop(['FALLECIDO'], axis='columns', inplace=False), test_df['FALLECIDO']"
   ]
  },
  {
   "cell_type": "markdown",
   "id": "197bde3b",
   "metadata": {},
   "source": [
    "# 3 - Model Training"
   ]
  },
  {
   "cell_type": "code",
   "execution_count": 13,
   "id": "e15506d0",
   "metadata": {},
   "outputs": [
    {
     "data": {
      "text/plain": [
       "15"
      ]
     },
     "execution_count": 13,
     "metadata": {},
     "output_type": "execute_result"
    }
   ],
   "source": [
    "input_shape = X_tr.shape[1]\n",
    "input_shape"
   ]
  },
  {
   "cell_type": "markdown",
   "id": "97c2043d",
   "metadata": {},
   "source": [
    "## Neural Network Architecture"
   ]
  },
  {
   "cell_type": "code",
   "execution_count": 14,
   "id": "2042c97c",
   "metadata": {},
   "outputs": [],
   "source": [
    "model = keras.Sequential([\n",
    "    keras.layers.Dense(30, activation='relu', input_shape=[input_shape]),\n",
    "    keras.layers.Dense(10, activation='relu'),\n",
    "    keras.layers.Dense(1, activation='sigmoid')\n",
    "])\n",
    "\n",
    "model.compile(loss='binary_crossentropy', optimizer='sgd', metrics=['accuracy'])"
   ]
  },
  {
   "cell_type": "markdown",
   "id": "155f7a47",
   "metadata": {},
   "source": [
    "## Training"
   ]
  },
  {
   "cell_type": "code",
   "execution_count": 15,
   "id": "4bf28c7c",
   "metadata": {},
   "outputs": [
    {
     "name": "stdout",
     "output_type": "stream",
     "text": [
      "Epoch 1/10\n",
      "62/62 [==============================] - 7s 64ms/step - loss: 0.6703 - accuracy: 0.6838 - val_loss: 0.7118 - val_accuracy: 0.4545\n",
      "Epoch 2/10\n",
      "62/62 [==============================] - 1s 17ms/step - loss: 0.6141 - accuracy: 0.7980 - val_loss: 0.6487 - val_accuracy: 0.7091\n",
      "Epoch 3/10\n",
      "62/62 [==============================] - 1s 18ms/step - loss: 0.5564 - accuracy: 0.9086 - val_loss: 0.5805 - val_accuracy: 0.8707\n",
      "Epoch 4/10\n",
      "62/62 [==============================] - 1s 13ms/step - loss: 0.4921 - accuracy: 0.9576 - val_loss: 0.5058 - val_accuracy: 0.9414\n",
      "Epoch 5/10\n",
      "62/62 [==============================] - 1s 8ms/step - loss: 0.4222 - accuracy: 0.9677 - val_loss: 0.4136 - val_accuracy: 0.9697\n",
      "Epoch 6/10\n",
      "62/62 [==============================] - 1s 11ms/step - loss: 0.3517 - accuracy: 0.9732 - val_loss: 0.3301 - val_accuracy: 0.9758\n",
      "Epoch 7/10\n",
      "62/62 [==============================] - 1s 12ms/step - loss: 0.2877 - accuracy: 0.9768 - val_loss: 0.2594 - val_accuracy: 0.9838\n",
      "Epoch 8/10\n",
      "62/62 [==============================] - 1s 11ms/step - loss: 0.2354 - accuracy: 0.9778 - val_loss: 0.2084 - val_accuracy: 0.9899\n",
      "Epoch 9/10\n",
      "62/62 [==============================] - 1s 12ms/step - loss: 0.1955 - accuracy: 0.9778 - val_loss: 0.1686 - val_accuracy: 0.9899\n",
      "Epoch 10/10\n",
      "62/62 [==============================] - 1s 9ms/step - loss: 0.1662 - accuracy: 0.9788 - val_loss: 0.1416 - val_accuracy: 0.9899\n"
     ]
    }
   ],
   "source": [
    "history = model.fit(X_tr, y_tr, epochs=10, batch_size=32, validation_split=0.2)"
   ]
  },
  {
   "cell_type": "code",
   "execution_count": 16,
   "id": "d33723b4",
   "metadata": {},
   "outputs": [
    {
     "data": {
      "text/html": [
       "<div>\n",
       "<style scoped>\n",
       "    .dataframe tbody tr th:only-of-type {\n",
       "        vertical-align: middle;\n",
       "    }\n",
       "\n",
       "    .dataframe tbody tr th {\n",
       "        vertical-align: top;\n",
       "    }\n",
       "\n",
       "    .dataframe thead th {\n",
       "        text-align: right;\n",
       "    }\n",
       "</style>\n",
       "<table border=\"1\" class=\"dataframe\">\n",
       "  <thead>\n",
       "    <tr style=\"text-align: right;\">\n",
       "      <th></th>\n",
       "      <th>loss</th>\n",
       "      <th>accuracy</th>\n",
       "      <th>val_loss</th>\n",
       "      <th>val_accuracy</th>\n",
       "    </tr>\n",
       "  </thead>\n",
       "  <tbody>\n",
       "    <tr>\n",
       "      <th>0</th>\n",
       "      <td>0.670339</td>\n",
       "      <td>0.683838</td>\n",
       "      <td>0.711817</td>\n",
       "      <td>0.454545</td>\n",
       "    </tr>\n",
       "    <tr>\n",
       "      <th>1</th>\n",
       "      <td>0.614137</td>\n",
       "      <td>0.797980</td>\n",
       "      <td>0.648700</td>\n",
       "      <td>0.709091</td>\n",
       "    </tr>\n",
       "    <tr>\n",
       "      <th>2</th>\n",
       "      <td>0.556405</td>\n",
       "      <td>0.908586</td>\n",
       "      <td>0.580501</td>\n",
       "      <td>0.870707</td>\n",
       "    </tr>\n",
       "    <tr>\n",
       "      <th>3</th>\n",
       "      <td>0.492128</td>\n",
       "      <td>0.957576</td>\n",
       "      <td>0.505788</td>\n",
       "      <td>0.941414</td>\n",
       "    </tr>\n",
       "    <tr>\n",
       "      <th>4</th>\n",
       "      <td>0.422241</td>\n",
       "      <td>0.967677</td>\n",
       "      <td>0.413571</td>\n",
       "      <td>0.969697</td>\n",
       "    </tr>\n",
       "    <tr>\n",
       "      <th>5</th>\n",
       "      <td>0.351683</td>\n",
       "      <td>0.973232</td>\n",
       "      <td>0.330144</td>\n",
       "      <td>0.975758</td>\n",
       "    </tr>\n",
       "    <tr>\n",
       "      <th>6</th>\n",
       "      <td>0.287699</td>\n",
       "      <td>0.976768</td>\n",
       "      <td>0.259429</td>\n",
       "      <td>0.983838</td>\n",
       "    </tr>\n",
       "    <tr>\n",
       "      <th>7</th>\n",
       "      <td>0.235358</td>\n",
       "      <td>0.977778</td>\n",
       "      <td>0.208443</td>\n",
       "      <td>0.989899</td>\n",
       "    </tr>\n",
       "    <tr>\n",
       "      <th>8</th>\n",
       "      <td>0.195531</td>\n",
       "      <td>0.977778</td>\n",
       "      <td>0.168637</td>\n",
       "      <td>0.989899</td>\n",
       "    </tr>\n",
       "    <tr>\n",
       "      <th>9</th>\n",
       "      <td>0.166169</td>\n",
       "      <td>0.978788</td>\n",
       "      <td>0.141580</td>\n",
       "      <td>0.989899</td>\n",
       "    </tr>\n",
       "  </tbody>\n",
       "</table>\n",
       "</div>"
      ],
      "text/plain": [
       "       loss  accuracy  val_loss  val_accuracy\n",
       "0  0.670339  0.683838  0.711817      0.454545\n",
       "1  0.614137  0.797980  0.648700      0.709091\n",
       "2  0.556405  0.908586  0.580501      0.870707\n",
       "3  0.492128  0.957576  0.505788      0.941414\n",
       "4  0.422241  0.967677  0.413571      0.969697\n",
       "5  0.351683  0.973232  0.330144      0.975758\n",
       "6  0.287699  0.976768  0.259429      0.983838\n",
       "7  0.235358  0.977778  0.208443      0.989899\n",
       "8  0.195531  0.977778  0.168637      0.989899\n",
       "9  0.166169  0.978788  0.141580      0.989899"
      ]
     },
     "execution_count": 16,
     "metadata": {},
     "output_type": "execute_result"
    }
   ],
   "source": [
    "history_df = pd.DataFrame(history.history)\n",
    "history_df"
   ]
  },
  {
   "cell_type": "markdown",
   "id": "36610da4",
   "metadata": {},
   "source": [
    "### Saving Model and Training Results"
   ]
  },
  {
   "cell_type": "code",
   "execution_count": 17,
   "id": "21138713",
   "metadata": {},
   "outputs": [],
   "source": [
    "RESULTS_FOLDER_PATH = os.path.join('..', 'results')"
   ]
  },
  {
   "cell_type": "code",
   "execution_count": 18,
   "id": "12fdbbb7",
   "metadata": {},
   "outputs": [
    {
     "name": "stderr",
     "output_type": "stream",
     "text": [
      "WARNING:absl:Found untraced functions such as _update_step_xla while saving (showing 1 of 1). These functions will not be directly callable after loading.\n"
     ]
    },
    {
     "name": "stdout",
     "output_type": "stream",
     "text": [
      "INFO:tensorflow:Assets written to: ..\\results\\mort-pred-nn\\assets\n"
     ]
    },
    {
     "name": "stderr",
     "output_type": "stream",
     "text": [
      "INFO:tensorflow:Assets written to: ..\\results\\mort-pred-nn\\assets\n"
     ]
    }
   ],
   "source": [
    "MODEL_PATH = os.path.join(RESULTS_FOLDER_PATH, 'mort-pred-nn')\n",
    "model.save(MODEL_PATH)"
   ]
  },
  {
   "cell_type": "code",
   "execution_count": 19,
   "id": "d2d78bfb",
   "metadata": {},
   "outputs": [],
   "source": [
    "RESULTS_FILE_PATH = os.path.join(RESULTS_FOLDER_PATH, 'mort-pred-tr-results.csv')\n",
    "history_df.to_csv(RESULTS_FILE_PATH)"
   ]
  },
  {
   "cell_type": "markdown",
   "id": "06b41d77",
   "metadata": {},
   "source": [
    "## Learning Curves"
   ]
  },
  {
   "cell_type": "code",
   "execution_count": 20,
   "id": "f06c5242",
   "metadata": {},
   "outputs": [
    {
     "data": {
      "image/png": "[encoded data removed]",
      "text/plain": [
       "<Figure size 600x300 with 1 Axes>"
      ]
     },
     "metadata": {},
     "output_type": "display_data"
    }
   ],
   "source": [
    "plt.figure(figsize=(6, 3))\n",
    "plt.plot(history.history['accuracy'], 'b.-', label='Train')\n",
    "plt.plot(history.history['val_accuracy'], 'y.-', label='Validation')\n",
    "plt.title('Learning Curves')\n",
    "plt.xlabel('Epoch')\n",
    "plt.ylabel('Accuracy')\n",
    "plt.ylim([0.0, 1.0])\n",
    "plt.xticks(range(0, 10), range(1, 11))\n",
    "plt.grid(True)\n",
    "plt.legend(loc='lower right')\n",
    "plt.show()"
   ]
  },
  {
   "cell_type": "markdown",
   "id": "9f3a7354",
   "metadata": {},
   "source": [
    "# 4 - Model Evaluation"
   ]
  },
  {
   "cell_type": "markdown",
   "id": "0d67e2cf",
   "metadata": {},
   "source": [
    "## Metrics and Confussion Matrix"
   ]
  },
  {
   "cell_type": "code",
   "execution_count": 21,
   "id": "3a157eb3",
   "metadata": {},
   "outputs": [],
   "source": [
    "from sklearn.metrics import classification_report as clfn_rep\n",
    "from sklearn.metrics import confusion_matrix as conf_mx"
   ]
  },
  {
   "cell_type": "code",
   "execution_count": 22,
   "id": "d05f5ec9",
   "metadata": {},
   "outputs": [
    {
     "name": "stdout",
     "output_type": "stream",
     "text": [
      "7/7 [==============================] - 1s 4ms/step\n"
     ]
    }
   ],
   "source": [
    "probs = model.predict(X_ts)"
   ]
  },
  {
   "cell_type": "markdown",
   "id": "0865c1ac",
   "metadata": {},
   "source": [
    "### Using a 50% Classification Threshold"
   ]
  },
  {
   "cell_type": "code",
   "execution_count": 23,
   "id": "0e1de012",
   "metadata": {},
   "outputs": [],
   "source": [
    "preds_50 = np.where(probs > 0.5, 1, 0)"
   ]
  },
  {
   "cell_type": "code",
   "execution_count": 24,
   "id": "38c905cd",
   "metadata": {},
   "outputs": [
    {
     "name": "stdout",
     "output_type": "stream",
     "text": [
      "              precision    recall  f1-score   support\n",
      "\n",
      "Not Deceased       0.99      0.96      0.97       121\n",
      "    Deceased       0.94      0.99      0.97        86\n",
      "\n",
      "    accuracy                           0.97       207\n",
      "   macro avg       0.97      0.97      0.97       207\n",
      "weighted avg       0.97      0.97      0.97       207\n",
      "\n"
     ]
    }
   ],
   "source": [
    "results_50 = clfn_rep(y_ts, preds_50, target_names=['Not Deceased', 'Deceased'])\n",
    "print(results_50)"
   ]
  },
  {
   "cell_type": "code",
   "execution_count": 25,
   "id": "5d8291f1",
   "metadata": {},
   "outputs": [],
   "source": [
    "def conf_mx_df(y_true, y_pred, target_names):\n",
    "    mx = conf_mx(y_ts, preds_50)\n",
    "    tuples_index = [('TRUE CLASSES', name) for name in target_names]\n",
    "    tuples_columns = [('PREDICTED CLASSES', name) for name in target_names]\n",
    "    index = pd.MultiIndex.from_tuples(tuples_index)\n",
    "    columns = pd.MultiIndex.from_tuples(tuples_columns)\n",
    "    return pd.DataFrame(mx, index=index, columns=columns)"
   ]
  },
  {
   "cell_type": "code",
   "execution_count": 26,
   "id": "d08ffcfb",
   "metadata": {},
   "outputs": [
    {
     "data": {
      "text/html": [
       "<div>\n",
       "<style scoped>\n",
       "    .dataframe tbody tr th:only-of-type {\n",
       "        vertical-align: middle;\n",
       "    }\n",
       "\n",
       "    .dataframe tbody tr th {\n",
       "        vertical-align: top;\n",
       "    }\n",
       "\n",
       "    .dataframe thead tr th {\n",
       "        text-align: left;\n",
       "    }\n",
       "</style>\n",
       "<table border=\"1\" class=\"dataframe\">\n",
       "  <thead>\n",
       "    <tr>\n",
       "      <th></th>\n",
       "      <th></th>\n",
       "      <th colspan=\"2\" halign=\"left\">PREDICTED CLASSES</th>\n",
       "    </tr>\n",
       "    <tr>\n",
       "      <th></th>\n",
       "      <th></th>\n",
       "      <th>Not Deceased</th>\n",
       "      <th>Deceased</th>\n",
       "    </tr>\n",
       "  </thead>\n",
       "  <tbody>\n",
       "    <tr>\n",
       "      <th rowspan=\"2\" valign=\"top\">TRUE CLASSES</th>\n",
       "      <th>Not Deceased</th>\n",
       "      <td>116</td>\n",
       "      <td>5</td>\n",
       "    </tr>\n",
       "    <tr>\n",
       "      <th>Deceased</th>\n",
       "      <td>1</td>\n",
       "      <td>85</td>\n",
       "    </tr>\n",
       "  </tbody>\n",
       "</table>\n",
       "</div>"
      ],
      "text/plain": [
       "                          PREDICTED CLASSES         \n",
       "                               Not Deceased Deceased\n",
       "TRUE CLASSES Not Deceased               116        5\n",
       "             Deceased                     1       85"
      ]
     },
     "execution_count": 26,
     "metadata": {},
     "output_type": "execute_result"
    }
   ],
   "source": [
    "conf_mx_df(y_ts, preds_50, ['Not Deceased', 'Deceased'])"
   ]
  },
  {
   "cell_type": "code",
   "execution_count": null,
   "id": "6ce77421",
   "metadata": {},
   "outputs": [],
   "source": []
  }
 ],
 "metadata": {
  "kernelspec": {
   "display_name": "Python 3 (ipykernel)",
   "language": "python",
   "name": "python3"
  },
  "language_info": {
   "codemirror_mode": {
    "name": "ipython",
    "version": 3
   },
   "file_extension": ".py",
   "mimetype": "text/x-python",
   "name": "python",
   "nbconvert_exporter": "python",
   "pygments_lexer": "ipython3",
   "version": "3.10.8"
  }
 },
 "nbformat": 4,
 "nbformat_minor": 5
}
