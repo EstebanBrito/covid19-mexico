{
 "cells": [
  {
   "cell_type": "markdown",
   "id": "cd68004f",
   "metadata": {},
   "source": [
    "# DATA PREPROCESSING FOR MORTALITY DETECTION"
   ]
  },
  {
   "cell_type": "markdown",
   "id": "1a90456b",
   "metadata": {},
   "source": [
    "## Objectives\n",
    "\n",
    "Vamos a entrenar dos modelos de aprendizaje automático para:\n",
    "1. Detectar si una persona morirá por COVID-19, tomando en cuenta las afeccione sque padece además de otra información médica y\n",
    "2. En caso de resultar en un pronóstico positivo, pronosticar cuánto tiempo de vida le queda\n",
    "\n",
    "Estos dos modelos predictivos ayudarán en el diagnóstico médico de nuevos pacientes que ingresan a hospitales todos los días, reduciendo la carga de trbajo del personal médico y permitíendoles detectar con mayor facilidad a los pacientes que requiere cuidado prioritario.\n",
    "\n",
    "Los atributos que se usarán para entrenar los modelos son:\n",
    "- Edad\n",
    "- Si es paciente hospitalizado o ambulatorio\n",
    "- Afecciones previas con las que cuenta\n",
    "- Días que han pasado desde que presentó los síntomas hasta que fue hospitalizado\n",
    "   \n",
    "Obviamente, debido a que entrenaremos dos modelos, uno de clasificación y otro de regresión, necesitamos dos etiquetas diferentes. Estas etiquetas son:\n",
    "\n",
    "- Si la personas falleció o no\n",
    "- Días que pasaron desde que la persona fue hospitalizado hasta que falleció\n",
    "\n",
    "Los dos subsets de datos compartirán las mismas características, pero un subset tendrá la primera etiqueta mientras que el otro subset se que da con la etiqueta restante"
   ]
  },
  {
   "cell_type": "code",
   "execution_count": 116,
   "id": "d0292e0e",
   "metadata": {},
   "outputs": [],
   "source": [
    "import numpy as np\n",
    "import pandas as pd\n",
    "import os\n",
    "from datetime import datetime as dt\n",
    "from dateutil.relativedelta import relativedelta as reldelta"
   ]
  },
  {
   "cell_type": "code",
   "execution_count": 117,
   "id": "c2095f50",
   "metadata": {},
   "outputs": [],
   "source": [
    "SEED = 42"
   ]
  },
  {
   "cell_type": "markdown",
   "id": "68a42511",
   "metadata": {},
   "source": [
    "# 1 - Loading Data"
   ]
  },
  {
   "cell_type": "code",
   "execution_count": 118,
   "id": "d08a7458",
   "metadata": {},
   "outputs": [],
   "source": [
    "EXEC_MONTH = 'dec22'"
   ]
  },
  {
   "cell_type": "code",
   "execution_count": 119,
   "id": "9398ad3e",
   "metadata": {},
   "outputs": [],
   "source": [
    "FILE_PATH = os.path.join('..', 'datasets', f'clean_covid_dataset_{EXEC_MONTH}.csv')"
   ]
  },
  {
   "cell_type": "code",
   "execution_count": 120,
   "id": "ae0558aa",
   "metadata": {},
   "outputs": [],
   "source": [
    "types = {\n",
    "    'SECTOR': np.int8,\n",
    "    'ENTIDAD_UM': np.int8,\n",
    "    'SEXO': np.int8,\n",
    "    'PAC_HOSPITALIZADO': np.int8,\n",
    "    'FECHA_INGRESO': 'string',\n",
    "    'FECHA_SINTOMAS': 'string',\n",
    "    'FECHA_DEF': 'string',\n",
    "    'INTUBADO': np.int8,\n",
    "    'NEUMONIA': np.int8,\n",
    "    'EDAD': np.int8,\n",
    "    'EMBARAZO': np.int8,\n",
    "    'DIABETES': np.int8,\n",
    "    'EPOC': np.int8,\n",
    "    'ASMA': np.int8,\n",
    "    'INMUSUPR': np.int8,\n",
    "    'HIPERTENSION':np.int8,\n",
    "    'CARDIOVASCULAR': np.int8,\n",
    "    'OBESIDAD': np.int8,\n",
    "    'RENAL_CRONICA': np.int8,\n",
    "    'TABAQUISMO': np.int8,\n",
    "    'UCI': np.int8\n",
    "}"
   ]
  },
  {
   "cell_type": "code",
   "execution_count": 121,
   "id": "ff1349d6",
   "metadata": {},
   "outputs": [],
   "source": [
    "date_cols = ['FECHA_INGRESO', 'FECHA_SINTOMAS']"
   ]
  },
  {
   "cell_type": "code",
   "execution_count": 122,
   "id": "c13b0ad9",
   "metadata": {},
   "outputs": [],
   "source": [
    "# 'latin' porque contiene acentos\n",
    "df = pd.read_csv(FILE_PATH, encoding='latin', dtype=types, index_col=None)"
   ]
  },
  {
   "cell_type": "code",
   "execution_count": 123,
   "id": "ee571217",
   "metadata": {},
   "outputs": [],
   "source": [
    "# Datestrings are parsed as datetime objects\n",
    "for col in date_cols:\n",
    "    df[col] = pd.to_datetime(df[col], format='%Y-%m-%d')"
   ]
  },
  {
   "cell_type": "markdown",
   "id": "7813cbac",
   "metadata": {},
   "source": [
    "## General Info"
   ]
  },
  {
   "cell_type": "markdown",
   "id": "86841c49",
   "metadata": {},
   "source": [
    "#### How does the data look like?"
   ]
  },
  {
   "cell_type": "code",
   "execution_count": 124,
   "id": "f39e46b8",
   "metadata": {},
   "outputs": [
    {
     "data": {
      "text/html": [
       "<div>\n",
       "<style scoped>\n",
       "    .dataframe tbody tr th:only-of-type {\n",
       "        vertical-align: middle;\n",
       "    }\n",
       "\n",
       "    .dataframe tbody tr th {\n",
       "        vertical-align: top;\n",
       "    }\n",
       "\n",
       "    .dataframe thead th {\n",
       "        text-align: right;\n",
       "    }\n",
       "</style>\n",
       "<table border=\"1\" class=\"dataframe\">\n",
       "  <thead>\n",
       "    <tr style=\"text-align: right;\">\n",
       "      <th></th>\n",
       "      <th>SECTOR</th>\n",
       "      <th>ENTIDAD_UM</th>\n",
       "      <th>SEXO</th>\n",
       "      <th>PAC_HOSPITALIZADO</th>\n",
       "      <th>FECHA_INGRESO</th>\n",
       "      <th>FECHA_SINTOMAS</th>\n",
       "      <th>FECHA_DEF</th>\n",
       "      <th>INTUBADO</th>\n",
       "      <th>NEUMONIA</th>\n",
       "      <th>EDAD</th>\n",
       "      <th>...</th>\n",
       "      <th>DIABETES</th>\n",
       "      <th>EPOC</th>\n",
       "      <th>ASMA</th>\n",
       "      <th>INMUSUPR</th>\n",
       "      <th>HIPERTENSION</th>\n",
       "      <th>CARDIOVASCULAR</th>\n",
       "      <th>OBESIDAD</th>\n",
       "      <th>RENAL_CRONICA</th>\n",
       "      <th>TABAQUISMO</th>\n",
       "      <th>UCI</th>\n",
       "    </tr>\n",
       "  </thead>\n",
       "  <tbody>\n",
       "    <tr>\n",
       "      <th>0</th>\n",
       "      <td>12</td>\n",
       "      <td>18</td>\n",
       "      <td>1</td>\n",
       "      <td>0</td>\n",
       "      <td>2022-02-08</td>\n",
       "      <td>2022-02-05</td>\n",
       "      <td>9999-99-99</td>\n",
       "      <td>0</td>\n",
       "      <td>0</td>\n",
       "      <td>24</td>\n",
       "      <td>...</td>\n",
       "      <td>0</td>\n",
       "      <td>0</td>\n",
       "      <td>1</td>\n",
       "      <td>0</td>\n",
       "      <td>0</td>\n",
       "      <td>0</td>\n",
       "      <td>0</td>\n",
       "      <td>0</td>\n",
       "      <td>0</td>\n",
       "      <td>0</td>\n",
       "    </tr>\n",
       "    <tr>\n",
       "      <th>1</th>\n",
       "      <td>12</td>\n",
       "      <td>14</td>\n",
       "      <td>1</td>\n",
       "      <td>0</td>\n",
       "      <td>2022-08-09</td>\n",
       "      <td>2022-08-06</td>\n",
       "      <td>9999-99-99</td>\n",
       "      <td>0</td>\n",
       "      <td>0</td>\n",
       "      <td>57</td>\n",
       "      <td>...</td>\n",
       "      <td>0</td>\n",
       "      <td>0</td>\n",
       "      <td>0</td>\n",
       "      <td>0</td>\n",
       "      <td>0</td>\n",
       "      <td>0</td>\n",
       "      <td>0</td>\n",
       "      <td>0</td>\n",
       "      <td>0</td>\n",
       "      <td>0</td>\n",
       "    </tr>\n",
       "    <tr>\n",
       "      <th>2</th>\n",
       "      <td>12</td>\n",
       "      <td>9</td>\n",
       "      <td>0</td>\n",
       "      <td>0</td>\n",
       "      <td>2022-01-13</td>\n",
       "      <td>2022-01-10</td>\n",
       "      <td>9999-99-99</td>\n",
       "      <td>0</td>\n",
       "      <td>0</td>\n",
       "      <td>39</td>\n",
       "      <td>...</td>\n",
       "      <td>0</td>\n",
       "      <td>0</td>\n",
       "      <td>0</td>\n",
       "      <td>0</td>\n",
       "      <td>0</td>\n",
       "      <td>0</td>\n",
       "      <td>0</td>\n",
       "      <td>0</td>\n",
       "      <td>0</td>\n",
       "      <td>0</td>\n",
       "    </tr>\n",
       "  </tbody>\n",
       "</table>\n",
       "<p>3 rows × 21 columns</p>\n",
       "</div>"
      ],
      "text/plain": [
       "   SECTOR  ENTIDAD_UM  SEXO  PAC_HOSPITALIZADO FECHA_INGRESO FECHA_SINTOMAS  \\\n",
       "0      12          18     1                  0    2022-02-08     2022-02-05   \n",
       "1      12          14     1                  0    2022-08-09     2022-08-06   \n",
       "2      12           9     0                  0    2022-01-13     2022-01-10   \n",
       "\n",
       "    FECHA_DEF  INTUBADO  NEUMONIA  EDAD  ...  DIABETES  EPOC  ASMA  INMUSUPR  \\\n",
       "0  9999-99-99         0         0    24  ...         0     0     1         0   \n",
       "1  9999-99-99         0         0    57  ...         0     0     0         0   \n",
       "2  9999-99-99         0         0    39  ...         0     0     0         0   \n",
       "\n",
       "   HIPERTENSION  CARDIOVASCULAR  OBESIDAD  RENAL_CRONICA  TABAQUISMO  UCI  \n",
       "0             0               0         0              0           0    0  \n",
       "1             0               0         0              0           0    0  \n",
       "2             0               0         0              0           0    0  \n",
       "\n",
       "[3 rows x 21 columns]"
      ]
     },
     "execution_count": 124,
     "metadata": {},
     "output_type": "execute_result"
    }
   ],
   "source": [
    "df.head(3)"
   ]
  },
  {
   "cell_type": "code",
   "execution_count": 125,
   "id": "6274e493",
   "metadata": {},
   "outputs": [
    {
     "data": {
      "text/html": [
       "<div>\n",
       "<style scoped>\n",
       "    .dataframe tbody tr th:only-of-type {\n",
       "        vertical-align: middle;\n",
       "    }\n",
       "\n",
       "    .dataframe tbody tr th {\n",
       "        vertical-align: top;\n",
       "    }\n",
       "\n",
       "    .dataframe thead th {\n",
       "        text-align: right;\n",
       "    }\n",
       "</style>\n",
       "<table border=\"1\" class=\"dataframe\">\n",
       "  <thead>\n",
       "    <tr style=\"text-align: right;\">\n",
       "      <th></th>\n",
       "      <th>SECTOR</th>\n",
       "      <th>ENTIDAD_UM</th>\n",
       "      <th>SEXO</th>\n",
       "      <th>PAC_HOSPITALIZADO</th>\n",
       "      <th>FECHA_INGRESO</th>\n",
       "      <th>FECHA_SINTOMAS</th>\n",
       "      <th>FECHA_DEF</th>\n",
       "      <th>INTUBADO</th>\n",
       "      <th>NEUMONIA</th>\n",
       "      <th>EDAD</th>\n",
       "      <th>...</th>\n",
       "      <th>DIABETES</th>\n",
       "      <th>EPOC</th>\n",
       "      <th>ASMA</th>\n",
       "      <th>INMUSUPR</th>\n",
       "      <th>HIPERTENSION</th>\n",
       "      <th>CARDIOVASCULAR</th>\n",
       "      <th>OBESIDAD</th>\n",
       "      <th>RENAL_CRONICA</th>\n",
       "      <th>TABAQUISMO</th>\n",
       "      <th>UCI</th>\n",
       "    </tr>\n",
       "  </thead>\n",
       "  <tbody>\n",
       "    <tr>\n",
       "      <th>6686125</th>\n",
       "      <td>9</td>\n",
       "      <td>9</td>\n",
       "      <td>1</td>\n",
       "      <td>0</td>\n",
       "      <td>2020-12-06</td>\n",
       "      <td>2020-12-01</td>\n",
       "      <td>9999-99-99</td>\n",
       "      <td>0</td>\n",
       "      <td>0</td>\n",
       "      <td>23</td>\n",
       "      <td>...</td>\n",
       "      <td>0</td>\n",
       "      <td>0</td>\n",
       "      <td>0</td>\n",
       "      <td>0</td>\n",
       "      <td>0</td>\n",
       "      <td>0</td>\n",
       "      <td>0</td>\n",
       "      <td>0</td>\n",
       "      <td>0</td>\n",
       "      <td>0</td>\n",
       "    </tr>\n",
       "    <tr>\n",
       "      <th>6686126</th>\n",
       "      <td>9</td>\n",
       "      <td>9</td>\n",
       "      <td>1</td>\n",
       "      <td>0</td>\n",
       "      <td>2020-12-06</td>\n",
       "      <td>2020-11-30</td>\n",
       "      <td>9999-99-99</td>\n",
       "      <td>0</td>\n",
       "      <td>0</td>\n",
       "      <td>42</td>\n",
       "      <td>...</td>\n",
       "      <td>0</td>\n",
       "      <td>0</td>\n",
       "      <td>0</td>\n",
       "      <td>0</td>\n",
       "      <td>0</td>\n",
       "      <td>0</td>\n",
       "      <td>0</td>\n",
       "      <td>0</td>\n",
       "      <td>0</td>\n",
       "      <td>0</td>\n",
       "    </tr>\n",
       "    <tr>\n",
       "      <th>6686127</th>\n",
       "      <td>9</td>\n",
       "      <td>9</td>\n",
       "      <td>1</td>\n",
       "      <td>1</td>\n",
       "      <td>2020-12-29</td>\n",
       "      <td>2020-12-25</td>\n",
       "      <td>2021-01-02</td>\n",
       "      <td>0</td>\n",
       "      <td>0</td>\n",
       "      <td>86</td>\n",
       "      <td>...</td>\n",
       "      <td>0</td>\n",
       "      <td>0</td>\n",
       "      <td>0</td>\n",
       "      <td>0</td>\n",
       "      <td>1</td>\n",
       "      <td>0</td>\n",
       "      <td>0</td>\n",
       "      <td>0</td>\n",
       "      <td>0</td>\n",
       "      <td>0</td>\n",
       "    </tr>\n",
       "  </tbody>\n",
       "</table>\n",
       "<p>3 rows × 21 columns</p>\n",
       "</div>"
      ],
      "text/plain": [
       "         SECTOR  ENTIDAD_UM  SEXO  PAC_HOSPITALIZADO FECHA_INGRESO  \\\n",
       "6686125       9           9     1                  0    2020-12-06   \n",
       "6686126       9           9     1                  0    2020-12-06   \n",
       "6686127       9           9     1                  1    2020-12-29   \n",
       "\n",
       "        FECHA_SINTOMAS   FECHA_DEF  INTUBADO  NEUMONIA  EDAD  ...  DIABETES  \\\n",
       "6686125     2020-12-01  9999-99-99         0         0    23  ...         0   \n",
       "6686126     2020-11-30  9999-99-99         0         0    42  ...         0   \n",
       "6686127     2020-12-25  2021-01-02         0         0    86  ...         0   \n",
       "\n",
       "         EPOC  ASMA  INMUSUPR  HIPERTENSION  CARDIOVASCULAR  OBESIDAD  \\\n",
       "6686125     0     0         0             0               0         0   \n",
       "6686126     0     0         0             0               0         0   \n",
       "6686127     0     0         0             1               0         0   \n",
       "\n",
       "         RENAL_CRONICA  TABAQUISMO  UCI  \n",
       "6686125              0           0    0  \n",
       "6686126              0           0    0  \n",
       "6686127              0           0    0  \n",
       "\n",
       "[3 rows x 21 columns]"
      ]
     },
     "execution_count": 125,
     "metadata": {},
     "output_type": "execute_result"
    }
   ],
   "source": [
    "df.tail(3)"
   ]
  },
  {
   "cell_type": "markdown",
   "id": "0f08c817",
   "metadata": {},
   "source": [
    "#### Datatypes and memory used"
   ]
  },
  {
   "cell_type": "code",
   "execution_count": 126,
   "id": "b12b61e0",
   "metadata": {},
   "outputs": [
    {
     "name": "stdout",
     "output_type": "stream",
     "text": [
      "<class 'pandas.core.frame.DataFrame'>\n",
      "RangeIndex: 6686128 entries, 0 to 6686127\n",
      "Data columns (total 21 columns):\n",
      " #   Column             Dtype         \n",
      "---  ------             -----         \n",
      " 0   SECTOR             int8          \n",
      " 1   ENTIDAD_UM         int8          \n",
      " 2   SEXO               int8          \n",
      " 3   PAC_HOSPITALIZADO  int8          \n",
      " 4   FECHA_INGRESO      datetime64[ns]\n",
      " 5   FECHA_SINTOMAS     datetime64[ns]\n",
      " 6   FECHA_DEF          string        \n",
      " 7   INTUBADO           int8          \n",
      " 8   NEUMONIA           int8          \n",
      " 9   EDAD               int8          \n",
      " 10  EMBARAZO           int8          \n",
      " 11  DIABETES           int8          \n",
      " 12  EPOC               int8          \n",
      " 13  ASMA               int8          \n",
      " 14  INMUSUPR           int8          \n",
      " 15  HIPERTENSION       int8          \n",
      " 16  CARDIOVASCULAR     int8          \n",
      " 17  OBESIDAD           int8          \n",
      " 18  RENAL_CRONICA      int8          \n",
      " 19  TABAQUISMO         int8          \n",
      " 20  UCI                int8          \n",
      "dtypes: datetime64[ns](2), int8(18), string(1)\n",
      "memory usage: 267.8 MB\n"
     ]
    }
   ],
   "source": [
    "df.info()"
   ]
  },
  {
   "cell_type": "markdown",
   "id": "d1ad2384",
   "metadata": {},
   "source": [
    "### Datetime Operations"
   ]
  },
  {
   "cell_type": "markdown",
   "id": "ee7bbed3",
   "metadata": {},
   "source": [
    "* Stratified subsampling using datetime (maybe a split per month)\n",
    "* ~~Grab rows generated before or after a certain date (DONE)~~"
   ]
  },
  {
   "cell_type": "markdown",
   "id": "798bb77c",
   "metadata": {},
   "source": [
    "# 2 - Data Selection"
   ]
  },
  {
   "cell_type": "markdown",
   "id": "09b61f8d",
   "metadata": {},
   "source": [
    "### Removing useless fields"
   ]
  },
  {
   "cell_type": "markdown",
   "id": "20f08a89",
   "metadata": {},
   "source": [
    "Cuatro columnas no son de nuestro interés en ninguno de los modelos: SECTOR, ENTIDAD_UM, INTUBADO y UCI por lo que se eliminarán"
   ]
  },
  {
   "cell_type": "code",
   "execution_count": 127,
   "id": "ee44aa89",
   "metadata": {},
   "outputs": [],
   "source": [
    "df.drop(['SECTOR', 'ENTIDAD_UM', 'INTUBADO', 'UCI'], axis='columns', inplace=True)"
   ]
  },
  {
   "cell_type": "markdown",
   "id": "f05c86b5",
   "metadata": {},
   "source": [
    "### Removing useless instances"
   ]
  },
  {
   "cell_type": "markdown",
   "id": "6478d5ad",
   "metadata": {},
   "source": [
    "Machine learning techniques will be only use recent data, to properly model the recent changes in the phenomenom of COVID-19 mortality prediction. Specifically, the data in the most recent month will be used as testing data, while the previous 3 months will serve as training data. At this point of time, we'll select the data from the 4 most recent months, apply the preprocessing tasks over them, and finally split them and save them. "
   ]
  },
  {
   "cell_type": "code",
   "execution_count": 128,
   "id": "4f2ef1aa",
   "metadata": {},
   "outputs": [],
   "source": [
    "# Filters a DataFrame if the dates of a certain datetime field belong to a specific date range\n",
    "def filter_by_dates_in_range(df, col, start_date=None, end_date=None):\n",
    "    if start_date is None: start_date = '2010-01-01' # oldest date\n",
    "    if end_date is None: end_date = '2030-01-01' # earliest date\n",
    "    # start_date is inclusive, end_date is exclusive\n",
    "    idxs = (df[col] >= start_date) & (df[col] < end_date)\n",
    "    return df[idxs]"
   ]
  },
  {
   "cell_type": "code",
   "execution_count": 129,
   "id": "c01a2c96",
   "metadata": {},
   "outputs": [],
   "source": [
    "# Functions that calculate dates. Used when filtering by dates.\n",
    "def get_first_date_current_month():\n",
    "    return dt.now().replace(day=1).strftime('%Y-%m-%d')\n",
    "\n",
    "def get_first_date_next_month():\n",
    "    return (dt.now() + reldelta(months = 1)).replace(day=1).strftime('%Y-%m-%d')\n",
    "\n",
    "def get_first_date_x_months_ago(x):\n",
    "    return (dt.now() - reldelta(months = x)).replace(day=1).strftime('%Y-%m-%d')"
   ]
  },
  {
   "cell_type": "code",
   "execution_count": 130,
   "id": "23b3c0d7",
   "metadata": {},
   "outputs": [
    {
     "name": "stdout",
     "output_type": "stream",
     "text": [
      "2022-08-01 2022-12-01\n"
     ]
    }
   ],
   "source": [
    "start_date = get_first_date_x_months_ago(4)\n",
    "end_date = get_first_date_current_month()\n",
    "print(start_date, end_date)"
   ]
  },
  {
   "cell_type": "code",
   "execution_count": 131,
   "id": "6cd2b6cc",
   "metadata": {},
   "outputs": [],
   "source": [
    "df = filter_by_dates_in_range(df, 'FECHA_INGRESO', start_date, end_date)"
   ]
  },
  {
   "cell_type": "code",
   "execution_count": 132,
   "id": "5272dbc0",
   "metadata": {},
   "outputs": [
    {
     "data": {
      "text/plain": [
       "(254079, 17)"
      ]
     },
     "execution_count": 132,
     "metadata": {},
     "output_type": "execute_result"
    }
   ],
   "source": [
    "df.shape"
   ]
  },
  {
   "cell_type": "markdown",
   "id": "8e6db458",
   "metadata": {},
   "source": [
    "# 3 - Feature Extraction"
   ]
  },
  {
   "cell_type": "markdown",
   "id": "2f4fd5b3",
   "metadata": {},
   "source": [
    "Some information can be extracted from previously existing fields so the ML model to be trained can perfome better. Specifically, we need to calculate two features:\n",
    "* Days passed from the first date symptoms appeared on the pacient to the date him/her was admitted to the hospital\n",
    "* Wheter the pacient died of COVID or not"
   ]
  },
  {
   "cell_type": "markdown",
   "id": "6929d917",
   "metadata": {},
   "source": [
    "### Days passed since first symptoms"
   ]
  },
  {
   "cell_type": "code",
   "execution_count": 133,
   "id": "9937afbb",
   "metadata": {},
   "outputs": [],
   "source": [
    "def get_days_since_admission(row):\n",
    "    return (row['FECHA_INGRESO'] - row['FECHA_SINTOMAS']).days"
   ]
  },
  {
   "cell_type": "code",
   "execution_count": 134,
   "id": "f22ab108",
   "metadata": {},
   "outputs": [],
   "source": [
    "df['DIAS_SINTOMAS'] = df.apply(get_days_since_admission, axis='columns').astype('int16')"
   ]
  },
  {
   "cell_type": "code",
   "execution_count": 135,
   "id": "06437347",
   "metadata": {},
   "outputs": [
    {
     "name": "stdout",
     "output_type": "stream",
     "text": [
      "0 243\n"
     ]
    }
   ],
   "source": [
    "# Checking min and max values of created feature.\n",
    "# Negative values should not exist\n",
    "print(df['DIAS_SINTOMAS'].min(), df['DIAS_SINTOMAS'].max())"
   ]
  },
  {
   "cell_type": "code",
   "execution_count": 136,
   "id": "65f72239",
   "metadata": {},
   "outputs": [],
   "source": [
    "# Date fields used in calculations can be safely deleted\n",
    "df.drop(['FECHA_SINTOMAS'], axis='columns', inplace=True)"
   ]
  },
  {
   "cell_type": "markdown",
   "id": "a4660468",
   "metadata": {},
   "source": [
    "### Generating Mortality Prediction Label"
   ]
  },
  {
   "cell_type": "code",
   "execution_count": 137,
   "id": "cce6f737",
   "metadata": {},
   "outputs": [],
   "source": [
    "def is_deceased(x):\n",
    "    year = x[:4] # first 4 letters of data string represent year\n",
    "    if year == '9999': return 0 # The year 9999 means the person did not die\n",
    "    else: return 1"
   ]
  },
  {
   "cell_type": "code",
   "execution_count": 138,
   "id": "66dd6535",
   "metadata": {},
   "outputs": [],
   "source": [
    "df['FALLECIDO'] = df['FECHA_DEF'].apply(is_deceased).astype('int8')"
   ]
  },
  {
   "cell_type": "code",
   "execution_count": 139,
   "id": "ab0a2b80",
   "metadata": {},
   "outputs": [],
   "source": [
    "# \"FECHA_DEF\" can be safely deleted\n",
    "df.drop(['FECHA_DEF'], axis='columns', inplace=True)"
   ]
  },
  {
   "cell_type": "markdown",
   "id": "d084bbe6",
   "metadata": {},
   "source": [
    "# Data Transformation"
   ]
  },
  {
   "cell_type": "code",
   "execution_count": 157,
   "id": "0e75283a",
   "metadata": {},
   "outputs": [],
   "source": [
    "def get_age_groups(age):\n",
    "    if age < 1: return 'BEBE'\n",
    "    if age < 5: return 'INFANTE_PEQ'\n",
    "    if age < 12: return 'INFANTE'\n",
    "    if age < 19: return 'ADOLESCENTE'\n",
    "    if age < 35: return 'ADULTO JOVEN'\n",
    "    if age < 65: return 'ADULTO'\n",
    "    else: return 'ADULTO MAYOR'"
   ]
  },
  {
   "cell_type": "markdown",
   "id": "fdef52de",
   "metadata": {},
   "source": [
    "# 4 - Splitting Data"
   ]
  },
  {
   "cell_type": "markdown",
   "id": "098cfd46",
   "metadata": {},
   "source": [
    "### Splitting Train and Test Data"
   ]
  },
  {
   "cell_type": "code",
   "execution_count": 193,
   "id": "312a29ca",
   "metadata": {},
   "outputs": [
    {
     "data": {
      "text/plain": [
       "'2022-11-01'"
      ]
     },
     "execution_count": 193,
     "metadata": {},
     "output_type": "execute_result"
    }
   ],
   "source": [
    "split_date = get_first_date_x_months_ago(1)\n",
    "split_date"
   ]
  },
  {
   "cell_type": "code",
   "execution_count": 194,
   "id": "f1ecd0cc",
   "metadata": {},
   "outputs": [],
   "source": [
    "train_df = filter_by_dates_in_range(df, 'FECHA_INGRESO', end_date = split_date).copy()\n",
    "test_df = filter_by_dates_in_range(df, 'FECHA_INGRESO', start_date = split_date).copy()"
   ]
  },
  {
   "cell_type": "code",
   "execution_count": 195,
   "id": "7c3c0640",
   "metadata": {},
   "outputs": [
    {
     "data": {
      "text/plain": [
       "((229705, 17), (24374, 17))"
      ]
     },
     "execution_count": 195,
     "metadata": {},
     "output_type": "execute_result"
    }
   ],
   "source": [
    "train_df.shape, test_df.shape"
   ]
  },
  {
   "cell_type": "markdown",
   "id": "b4becddd",
   "metadata": {},
   "source": [
    "### Stratified Subsampling of Train Data"
   ]
  },
  {
   "cell_type": "code",
   "execution_count": 196,
   "id": "b785f792",
   "metadata": {},
   "outputs": [],
   "source": [
    "from sklearn.model_selection import train_test_split"
   ]
  },
  {
   "cell_type": "code",
   "execution_count": 197,
   "id": "7b6351ac",
   "metadata": {},
   "outputs": [],
   "source": [
    "age_groups = train_df['EDAD'].apply(get_age_groups)"
   ]
  },
  {
   "cell_type": "code",
   "execution_count": 198,
   "id": "07ef0c3a",
   "metadata": {},
   "outputs": [],
   "source": [
    "train_df, _ = train_test_split(train_df, train_size=0.10, stratify=age_groups, shuffle=True, random_state=SEED)"
   ]
  },
  {
   "cell_type": "code",
   "execution_count": 199,
   "id": "9f1a0351",
   "metadata": {},
   "outputs": [
    {
     "data": {
      "text/plain": [
       "((22970, 17), (24374, 17))"
      ]
     },
     "execution_count": 199,
     "metadata": {},
     "output_type": "execute_result"
    }
   ],
   "source": [
    "train_df.shape, test_df.shape"
   ]
  },
  {
   "cell_type": "markdown",
   "id": "19b5f841",
   "metadata": {},
   "source": [
    "#### Deletion of \"FECHA_INGRESO\" field"
   ]
  },
  {
   "cell_type": "code",
   "execution_count": 200,
   "id": "3fc3422c",
   "metadata": {},
   "outputs": [],
   "source": [
    "train_df.drop(['FECHA_INGRESO'], axis='columns', inplace=True)\n",
    "test_df.drop(['FECHA_INGRESO'], axis='columns', inplace=True)"
   ]
  },
  {
   "cell_type": "markdown",
   "id": "16605443",
   "metadata": {},
   "source": [
    "# 5 - Saving Data"
   ]
  },
  {
   "cell_type": "markdown",
   "id": "e4c34b01",
   "metadata": {},
   "source": [
    "Una vez generados los subsets de datos, solo habrá que salvarlos en dos archivos diferentes"
   ]
  },
  {
   "cell_type": "code",
   "execution_count": 201,
   "id": "b77b1b99",
   "metadata": {},
   "outputs": [],
   "source": [
    "TRAIN_DF_PATH = os.path.join('..', 'datasets', 'mort_pred_train.csv')\n",
    "TEST_DF_PATH = os.path.join('..', 'datasets', 'mort_pred_test.csv')"
   ]
  },
  {
   "cell_type": "code",
   "execution_count": 202,
   "id": "07eeb369",
   "metadata": {},
   "outputs": [],
   "source": [
    "train_df.to_csv(TRAIN_DF_PATH, index=False)"
   ]
  },
  {
   "cell_type": "code",
   "execution_count": 204,
   "id": "c1872f0a",
   "metadata": {},
   "outputs": [],
   "source": [
    "test_df.to_csv(TEST_DF_PATH, index=False)"
   ]
  },
  {
   "cell_type": "code",
   "execution_count": null,
   "id": "ff6440f4",
   "metadata": {},
   "outputs": [],
   "source": []
  }
 ],
 "metadata": {
  "kernelspec": {
   "display_name": "Python 3 (ipykernel)",
   "language": "python",
   "name": "python3"
  },
  "language_info": {
   "codemirror_mode": {
    "name": "ipython",
    "version": 3
   },
   "file_extension": ".py",
   "mimetype": "text/x-python",
   "name": "python",
   "nbconvert_exporter": "python",
   "pygments_lexer": "ipython3",
   "version": "3.10.8"
  }
 },
 "nbformat": 4,
 "nbformat_minor": 5
}
