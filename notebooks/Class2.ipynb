{
 "cells": [
  {
   "cell_type": "code",
   "execution_count": 1,
   "metadata": {},
   "outputs": [],
   "source": [
    "import numpy as np\n",
    "import pandas as pd"
   ]
  },
  {
   "cell_type": "markdown",
   "metadata": {},
   "source": [
    "# Preparación de Subconjuntos de Datos"
   ]
  },
  {
   "cell_type": "markdown",
   "metadata": {},
   "source": [
    "## Carga de Datos ##"
   ]
  },
  {
   "cell_type": "code",
   "execution_count": 2,
   "metadata": {},
   "outputs": [
    {
     "name": "stdout",
     "output_type": "stream",
     "text": [
      "..\\datasets\\211006COVID19MEXICO.csv\n"
     ]
    }
   ],
   "source": [
    "import os\n",
    "\n",
    "COVID_URL = os.path.join('..', 'datasets', '211006COVID19MEXICO.csv')\n",
    "print(COVID_URL)"
   ]
  },
  {
   "cell_type": "code",
   "execution_count": 3,
   "metadata": {},
   "outputs": [],
   "source": [
    "# Definir el tipo de dato hace el proceso más eficiente\n",
    "types = {\n",
    "    'FECHA_ACTUALIZACION': 'object',\n",
    "    'ID_REGISTRO': 'object',\n",
    "    'ORIGEN': np.int8,\n",
    "    'SECTOR': np.int8,\n",
    "    'ENTIDAD_UM': np.int8,\n",
    "    'SEXO': np.int8,\n",
    "    'ENTIDAD_NAC': np.int8,\n",
    "    'ENTIDAD_RES': np.int8,\n",
    "    'MUNICIPIO_RES': np.int8,\n",
    "    'TIPO_PACIENTE': np.int8,\n",
    "    'FECHA_INGRESO': 'object',\n",
    "    'FECHA_SINTOMAS': 'object',\n",
    "    'FECHA_DEF': 'object',\n",
    "    'INTUBADO': np.int8,\n",
    "    'NEUMONIA': np.int8,\n",
    "    'EDAD': np.int8,\n",
    "    'NACIONALIDAD': np.int8,\n",
    "    'EMBARAZO': np.int8,\n",
    "    'HABLA_LENGUA_INDIG': np.int8,\n",
    "    'INDIGENA': np.int8,\n",
    "    'DIABETES': np.int8,\n",
    "    'EPOC': np.int8,\n",
    "    'ASMA': np.int8,\n",
    "    'INMUSUPR': np.int8,\n",
    "    'HIPERTENSION':np.int8,\n",
    "    'OTRAS_COM': np.int8,\n",
    "    'CARDIOVASCULAR': np.int8,\n",
    "    'OBESIDAD': np.int8,\n",
    "    'RENAL_CRONICA': np.int8,\n",
    "    'TABAQUISMO': np.int8,\n",
    "    'OTRO_CASO': np.int8,\n",
    "    'TOMA_MUESTRA_LAB': np.int8,\n",
    "    'RESULTADO_LAB': np.int8,\n",
    "    'TOMA_MUESTRA_ANTIGENO': np.int8,\n",
    "    'RESULTADO_ANTIGENO': np.int8,\n",
    "    'CLASIFICACION_FINAL': np.int8,\n",
    "    'MIGRANTE': np.int8,\n",
    "    'PAIS_NACIONALIDAD': 'object',\n",
    "    'PAIS_ORIGEN': 'object',\n",
    "    'UCI': np.int8\n",
    "}"
   ]
  },
  {
   "cell_type": "code",
   "execution_count": 4,
   "metadata": {},
   "outputs": [],
   "source": [
    "# 'latin' porque contiene acentos\n",
    "df = pd.read_csv(COVID_URL, encoding='latin', dtype=types)"
   ]
  },
  {
   "cell_type": "code",
   "execution_count": 5,
   "metadata": {},
   "outputs": [
    {
     "data": {
      "text/html": [
       "<div>\n",
       "<style scoped>\n",
       "    .dataframe tbody tr th:only-of-type {\n",
       "        vertical-align: middle;\n",
       "    }\n",
       "\n",
       "    .dataframe tbody tr th {\n",
       "        vertical-align: top;\n",
       "    }\n",
       "\n",
       "    .dataframe thead th {\n",
       "        text-align: right;\n",
       "    }\n",
       "</style>\n",
       "<table border=\"1\" class=\"dataframe\">\n",
       "  <thead>\n",
       "    <tr style=\"text-align: right;\">\n",
       "      <th></th>\n",
       "      <th>FECHA_ACTUALIZACION</th>\n",
       "      <th>ID_REGISTRO</th>\n",
       "      <th>ORIGEN</th>\n",
       "      <th>SECTOR</th>\n",
       "      <th>ENTIDAD_UM</th>\n",
       "      <th>SEXO</th>\n",
       "      <th>ENTIDAD_NAC</th>\n",
       "      <th>ENTIDAD_RES</th>\n",
       "      <th>MUNICIPIO_RES</th>\n",
       "      <th>TIPO_PACIENTE</th>\n",
       "      <th>...</th>\n",
       "      <th>OTRO_CASO</th>\n",
       "      <th>TOMA_MUESTRA_LAB</th>\n",
       "      <th>RESULTADO_LAB</th>\n",
       "      <th>TOMA_MUESTRA_ANTIGENO</th>\n",
       "      <th>RESULTADO_ANTIGENO</th>\n",
       "      <th>CLASIFICACION_FINAL</th>\n",
       "      <th>MIGRANTE</th>\n",
       "      <th>PAIS_NACIONALIDAD</th>\n",
       "      <th>PAIS_ORIGEN</th>\n",
       "      <th>UCI</th>\n",
       "    </tr>\n",
       "  </thead>\n",
       "  <tbody>\n",
       "    <tr>\n",
       "      <th>0</th>\n",
       "      <td>2021-10-06</td>\n",
       "      <td>z482b8</td>\n",
       "      <td>2</td>\n",
       "      <td>12</td>\n",
       "      <td>9</td>\n",
       "      <td>2</td>\n",
       "      <td>9</td>\n",
       "      <td>9</td>\n",
       "      <td>12</td>\n",
       "      <td>1</td>\n",
       "      <td>...</td>\n",
       "      <td>2</td>\n",
       "      <td>2</td>\n",
       "      <td>97</td>\n",
       "      <td>2</td>\n",
       "      <td>97</td>\n",
       "      <td>1</td>\n",
       "      <td>99</td>\n",
       "      <td>MÃ©xico</td>\n",
       "      <td>97</td>\n",
       "      <td>97</td>\n",
       "    </tr>\n",
       "    <tr>\n",
       "      <th>1</th>\n",
       "      <td>2021-10-06</td>\n",
       "      <td>z49a69</td>\n",
       "      <td>1</td>\n",
       "      <td>12</td>\n",
       "      <td>23</td>\n",
       "      <td>1</td>\n",
       "      <td>23</td>\n",
       "      <td>23</td>\n",
       "      <td>4</td>\n",
       "      <td>2</td>\n",
       "      <td>...</td>\n",
       "      <td>1</td>\n",
       "      <td>2</td>\n",
       "      <td>97</td>\n",
       "      <td>2</td>\n",
       "      <td>97</td>\n",
       "      <td>2</td>\n",
       "      <td>99</td>\n",
       "      <td>MÃ©xico</td>\n",
       "      <td>97</td>\n",
       "      <td>1</td>\n",
       "    </tr>\n",
       "    <tr>\n",
       "      <th>2</th>\n",
       "      <td>2021-10-06</td>\n",
       "      <td>z23d9d</td>\n",
       "      <td>1</td>\n",
       "      <td>12</td>\n",
       "      <td>22</td>\n",
       "      <td>2</td>\n",
       "      <td>24</td>\n",
       "      <td>22</td>\n",
       "      <td>9</td>\n",
       "      <td>1</td>\n",
       "      <td>...</td>\n",
       "      <td>2</td>\n",
       "      <td>2</td>\n",
       "      <td>97</td>\n",
       "      <td>2</td>\n",
       "      <td>97</td>\n",
       "      <td>6</td>\n",
       "      <td>99</td>\n",
       "      <td>MÃ©xico</td>\n",
       "      <td>97</td>\n",
       "      <td>97</td>\n",
       "    </tr>\n",
       "    <tr>\n",
       "      <th>3</th>\n",
       "      <td>2021-10-06</td>\n",
       "      <td>z24953</td>\n",
       "      <td>1</td>\n",
       "      <td>12</td>\n",
       "      <td>9</td>\n",
       "      <td>1</td>\n",
       "      <td>9</td>\n",
       "      <td>9</td>\n",
       "      <td>10</td>\n",
       "      <td>1</td>\n",
       "      <td>...</td>\n",
       "      <td>1</td>\n",
       "      <td>1</td>\n",
       "      <td>2</td>\n",
       "      <td>2</td>\n",
       "      <td>97</td>\n",
       "      <td>7</td>\n",
       "      <td>99</td>\n",
       "      <td>MÃ©xico</td>\n",
       "      <td>97</td>\n",
       "      <td>97</td>\n",
       "    </tr>\n",
       "    <tr>\n",
       "      <th>4</th>\n",
       "      <td>2021-10-06</td>\n",
       "      <td>zz8e77</td>\n",
       "      <td>2</td>\n",
       "      <td>12</td>\n",
       "      <td>9</td>\n",
       "      <td>2</td>\n",
       "      <td>9</td>\n",
       "      <td>9</td>\n",
       "      <td>2</td>\n",
       "      <td>1</td>\n",
       "      <td>...</td>\n",
       "      <td>2</td>\n",
       "      <td>2</td>\n",
       "      <td>97</td>\n",
       "      <td>2</td>\n",
       "      <td>97</td>\n",
       "      <td>6</td>\n",
       "      <td>99</td>\n",
       "      <td>MÃ©xico</td>\n",
       "      <td>97</td>\n",
       "      <td>97</td>\n",
       "    </tr>\n",
       "  </tbody>\n",
       "</table>\n",
       "<p>5 rows × 40 columns</p>\n",
       "</div>"
      ],
      "text/plain": [
       "  FECHA_ACTUALIZACION ID_REGISTRO  ORIGEN  SECTOR  ENTIDAD_UM  SEXO  \\\n",
       "0          2021-10-06      z482b8       2      12           9     2   \n",
       "1          2021-10-06      z49a69       1      12          23     1   \n",
       "2          2021-10-06      z23d9d       1      12          22     2   \n",
       "3          2021-10-06      z24953       1      12           9     1   \n",
       "4          2021-10-06      zz8e77       2      12           9     2   \n",
       "\n",
       "   ENTIDAD_NAC  ENTIDAD_RES  MUNICIPIO_RES  TIPO_PACIENTE  ... OTRO_CASO  \\\n",
       "0            9            9             12              1  ...         2   \n",
       "1           23           23              4              2  ...         1   \n",
       "2           24           22              9              1  ...         2   \n",
       "3            9            9             10              1  ...         1   \n",
       "4            9            9              2              1  ...         2   \n",
       "\n",
       "  TOMA_MUESTRA_LAB RESULTADO_LAB  TOMA_MUESTRA_ANTIGENO  RESULTADO_ANTIGENO  \\\n",
       "0                2            97                      2                  97   \n",
       "1                2            97                      2                  97   \n",
       "2                2            97                      2                  97   \n",
       "3                1             2                      2                  97   \n",
       "4                2            97                      2                  97   \n",
       "\n",
       "   CLASIFICACION_FINAL  MIGRANTE  PAIS_NACIONALIDAD  PAIS_ORIGEN  UCI  \n",
       "0                    1        99            MÃ©xico           97   97  \n",
       "1                    2        99            MÃ©xico           97    1  \n",
       "2                    6        99            MÃ©xico           97   97  \n",
       "3                    7        99            MÃ©xico           97   97  \n",
       "4                    6        99            MÃ©xico           97   97  \n",
       "\n",
       "[5 rows x 40 columns]"
      ]
     },
     "execution_count": 5,
     "metadata": {},
     "output_type": "execute_result"
    }
   ],
   "source": [
    "df.head(5)"
   ]
  },
  {
   "cell_type": "code",
   "execution_count": 6,
   "metadata": {
    "scrolled": true
   },
   "outputs": [
    {
     "name": "stdout",
     "output_type": "stream",
     "text": [
      "<class 'pandas.core.frame.DataFrame'>\n",
      "RangeIndex: 10807151 entries, 0 to 10807150\n",
      "Data columns (total 40 columns):\n",
      " #   Column                 Dtype \n",
      "---  ------                 ----- \n",
      " 0   FECHA_ACTUALIZACION    object\n",
      " 1   ID_REGISTRO            object\n",
      " 2   ORIGEN                 int8  \n",
      " 3   SECTOR                 int8  \n",
      " 4   ENTIDAD_UM             int8  \n",
      " 5   SEXO                   int8  \n",
      " 6   ENTIDAD_NAC            int8  \n",
      " 7   ENTIDAD_RES            int8  \n",
      " 8   MUNICIPIO_RES          int8  \n",
      " 9   TIPO_PACIENTE          int8  \n",
      " 10  FECHA_INGRESO          object\n",
      " 11  FECHA_SINTOMAS         object\n",
      " 12  FECHA_DEF              object\n",
      " 13  INTUBADO               int8  \n",
      " 14  NEUMONIA               int8  \n",
      " 15  EDAD                   int8  \n",
      " 16  NACIONALIDAD           int8  \n",
      " 17  EMBARAZO               int8  \n",
      " 18  HABLA_LENGUA_INDIG     int8  \n",
      " 19  INDIGENA               int8  \n",
      " 20  DIABETES               int8  \n",
      " 21  EPOC                   int8  \n",
      " 22  ASMA                   int8  \n",
      " 23  INMUSUPR               int8  \n",
      " 24  HIPERTENSION           int8  \n",
      " 25  OTRA_COM               int64 \n",
      " 26  CARDIOVASCULAR         int8  \n",
      " 27  OBESIDAD               int8  \n",
      " 28  RENAL_CRONICA          int8  \n",
      " 29  TABAQUISMO             int8  \n",
      " 30  OTRO_CASO              int8  \n",
      " 31  TOMA_MUESTRA_LAB       int8  \n",
      " 32  RESULTADO_LAB          int8  \n",
      " 33  TOMA_MUESTRA_ANTIGENO  int8  \n",
      " 34  RESULTADO_ANTIGENO     int8  \n",
      " 35  CLASIFICACION_FINAL    int8  \n",
      " 36  MIGRANTE               int8  \n",
      " 37  PAIS_NACIONALIDAD      object\n",
      " 38  PAIS_ORIGEN            object\n",
      " 39  UCI                    int8  \n",
      "dtypes: int64(1), int8(32), object(7)\n",
      "memory usage: 989.4+ MB\n"
     ]
    }
   ],
   "source": [
    "# Los tipos que definimos se respetan. Los otros se intuyen (no de manera óptima)\n",
    "df.info()"
   ]
  },
  {
   "cell_type": "markdown",
   "metadata": {},
   "source": [
    "## Estrategia para el análisis ##"
   ]
  },
  {
   "cell_type": "markdown",
   "metadata": {},
   "source": [
    "* Eliminar campos que no nos sirven ahora: ID Registro, Municipio de procedencia, Origen, Entidad_UM, Fecha de Síntomas, País de Origen, País de Nacionalidad, Migrante, Otro Caso, Tipo de Paciente, Habla lengua indígena, Fecha de actualización.\n",
    "* Indagar y trabajar más sobre campos útiles: Fecha de actualización, Fecha de defunción, Fecha de ingreso.\n",
    "* Identificar preguntas que queremos responder\n",
    "    * ¿Cuántos hombres y mujeres se infectaron o fallecieron?\n",
    "    * ¿Qué estados han sufrido más por el COVID?\n",
    "    * ¿Cómo ha ido avanzando la pandemia en México?\n",
    "    * ¿Cuál ha sido el rendimiento de los diferentes sistemas de salud durante la pandemia?\n",
    "    * ¿Cuál es el efecto de enfermedades existentes en los infectados de COVID?\n",
    "    * ¿Cuál es el efecto de las complicaciones presentadas en lso infectados?\n",
    "    * ¿Cómo se distribuyen los infectados y fallecidos según en el espectro de edades?\n",
    "    * ¿Existe alguna correlación entre el tiempo en morir y las edades?"
   ]
  },
  {
   "cell_type": "markdown",
   "metadata": {},
   "source": [
    "## Selección de Datos\n",
    "Seleccionar implica, como su nombre dice, elegir aquelas columnas o filas que servirán en posteriores análisis. En nuestro caso, eliminaremos ciertos campos y registros innecesarios."
   ]
  },
  {
   "cell_type": "markdown",
   "metadata": {},
   "source": [
    "### Eliminar registros innecesarios para el análisis"
   ]
  },
  {
   "cell_type": "code",
   "execution_count": 7,
   "metadata": {},
   "outputs": [
    {
     "data": {
      "text/plain": [
       "Int64Index([       2,        3,        4,        5,        6,        7,\n",
       "                   9,       10,       11,       12,\n",
       "            ...\n",
       "            10807141, 10807142, 10807143, 10807144, 10807145, 10807146,\n",
       "            10807147, 10807148, 10807149, 10807150],\n",
       "           dtype='int64', length=7107530)"
      ]
     },
     "execution_count": 7,
     "metadata": {},
     "output_type": "execute_result"
    }
   ],
   "source": [
    "# Eliminamos registros no relacionados al COVID (casos negativos o sospechosos)\n",
    "rows = df[df.CLASIFICACION_FINAL>3].index\n",
    "rows"
   ]
  },
  {
   "cell_type": "code",
   "execution_count": 8,
   "metadata": {},
   "outputs": [],
   "source": [
    "df.drop(rows, inplace=True)"
   ]
  },
  {
   "cell_type": "markdown",
   "metadata": {},
   "source": [
    "### Eliminar columnas innecesarias para el análisis"
   ]
  },
  {
   "cell_type": "code",
   "execution_count": 10,
   "metadata": {},
   "outputs": [],
   "source": [
    "# Eliminamos columnas innecesarias\n",
    "cols = ['FECHA_ACTUALIZACION', 'ID_REGISTRO', 'ORIGEN', 'ENTIDAD_NAC', 'ENTIDAD_RES',\n",
    "       'MUNICIPIO_RES', 'NACIONALIDAD', 'HABLA_LENGUA_INDIG', 'INDIGENA',\n",
    "       'OTRA_COM', 'OTRO_CASO', 'TOMA_MUESTRA_LAB', 'RESULTADO_LAB', 'TOMA_MUESTRA_ANTIGENO', 'RESULTADO_ANTIGENO',\n",
    "        'CLASIFICACION_FINAL', 'MIGRANTE', 'PAIS_NACIONALIDAD', 'PAIS_ORIGEN']\n",
    "df.drop(cols, axis=1, inplace=True)"
   ]
  },
  {
   "cell_type": "code",
   "execution_count": 11,
   "metadata": {},
   "outputs": [
    {
     "name": "stdout",
     "output_type": "stream",
     "text": [
      "<class 'pandas.core.frame.DataFrame'>\n",
      "Int64Index: 3699621 entries, 0 to 10807130\n",
      "Data columns (total 22 columns):\n",
      " #   Column               Dtype \n",
      "---  ------               ----- \n",
      " 0   SECTOR               int8  \n",
      " 1   ENTIDAD_UM           int8  \n",
      " 2   SEXO                 int8  \n",
      " 3   TIPO_PACIENTE        int8  \n",
      " 4   FECHA_INGRESO        object\n",
      " 5   FECHA_SINTOMAS       object\n",
      " 6   FECHA_DEF            object\n",
      " 7   INTUBADO             int8  \n",
      " 8   NEUMONIA             int8  \n",
      " 9   EDAD                 int8  \n",
      " 10  EMBARAZO             int8  \n",
      " 11  DIABETES             int8  \n",
      " 12  EPOC                 int8  \n",
      " 13  ASMA                 int8  \n",
      " 14  INMUSUPR             int8  \n",
      " 15  HIPERTENSION         int8  \n",
      " 16  CARDIOVASCULAR       int8  \n",
      " 17  OBESIDAD             int8  \n",
      " 18  RENAL_CRONICA        int8  \n",
      " 19  TABAQUISMO           int8  \n",
      " 20  CLASIFICACION_FINAL  int8  \n",
      " 21  UCI                  int8  \n",
      "dtypes: int8(19), object(3)\n",
      "memory usage: 179.9+ MB\n"
     ]
    }
   ],
   "source": [
    "# La memoria se ha reducido drásticamente\n",
    "df.info()"
   ]
  },
  {
   "cell_type": "code",
   "execution_count": 12,
   "metadata": {},
   "outputs": [
    {
     "data": {
      "text/html": [
       "<div>\n",
       "<style scoped>\n",
       "    .dataframe tbody tr th:only-of-type {\n",
       "        vertical-align: middle;\n",
       "    }\n",
       "\n",
       "    .dataframe tbody tr th {\n",
       "        vertical-align: top;\n",
       "    }\n",
       "\n",
       "    .dataframe thead th {\n",
       "        text-align: right;\n",
       "    }\n",
       "</style>\n",
       "<table border=\"1\" class=\"dataframe\">\n",
       "  <thead>\n",
       "    <tr style=\"text-align: right;\">\n",
       "      <th></th>\n",
       "      <th>SECTOR</th>\n",
       "      <th>ENTIDAD_UM</th>\n",
       "      <th>SEXO</th>\n",
       "      <th>TIPO_PACIENTE</th>\n",
       "      <th>FECHA_INGRESO</th>\n",
       "      <th>FECHA_SINTOMAS</th>\n",
       "      <th>FECHA_DEF</th>\n",
       "      <th>INTUBADO</th>\n",
       "      <th>NEUMONIA</th>\n",
       "      <th>EDAD</th>\n",
       "      <th>...</th>\n",
       "      <th>EPOC</th>\n",
       "      <th>ASMA</th>\n",
       "      <th>INMUSUPR</th>\n",
       "      <th>HIPERTENSION</th>\n",
       "      <th>CARDIOVASCULAR</th>\n",
       "      <th>OBESIDAD</th>\n",
       "      <th>RENAL_CRONICA</th>\n",
       "      <th>TABAQUISMO</th>\n",
       "      <th>CLASIFICACION_FINAL</th>\n",
       "      <th>UCI</th>\n",
       "    </tr>\n",
       "  </thead>\n",
       "  <tbody>\n",
       "    <tr>\n",
       "      <th>0</th>\n",
       "      <td>12</td>\n",
       "      <td>9</td>\n",
       "      <td>2</td>\n",
       "      <td>1</td>\n",
       "      <td>2020-10-16</td>\n",
       "      <td>2020-10-16</td>\n",
       "      <td>9999-99-99</td>\n",
       "      <td>97</td>\n",
       "      <td>2</td>\n",
       "      <td>41</td>\n",
       "      <td>...</td>\n",
       "      <td>2</td>\n",
       "      <td>2</td>\n",
       "      <td>2</td>\n",
       "      <td>2</td>\n",
       "      <td>2</td>\n",
       "      <td>2</td>\n",
       "      <td>2</td>\n",
       "      <td>2</td>\n",
       "      <td>1</td>\n",
       "      <td>97</td>\n",
       "    </tr>\n",
       "    <tr>\n",
       "      <th>1</th>\n",
       "      <td>12</td>\n",
       "      <td>23</td>\n",
       "      <td>1</td>\n",
       "      <td>2</td>\n",
       "      <td>2020-07-20</td>\n",
       "      <td>2020-07-17</td>\n",
       "      <td>2020-07-21</td>\n",
       "      <td>1</td>\n",
       "      <td>1</td>\n",
       "      <td>66</td>\n",
       "      <td>...</td>\n",
       "      <td>2</td>\n",
       "      <td>2</td>\n",
       "      <td>2</td>\n",
       "      <td>1</td>\n",
       "      <td>2</td>\n",
       "      <td>1</td>\n",
       "      <td>2</td>\n",
       "      <td>2</td>\n",
       "      <td>2</td>\n",
       "      <td>1</td>\n",
       "    </tr>\n",
       "    <tr>\n",
       "      <th>8</th>\n",
       "      <td>12</td>\n",
       "      <td>12</td>\n",
       "      <td>2</td>\n",
       "      <td>1</td>\n",
       "      <td>2020-08-19</td>\n",
       "      <td>2020-08-17</td>\n",
       "      <td>9999-99-99</td>\n",
       "      <td>97</td>\n",
       "      <td>2</td>\n",
       "      <td>47</td>\n",
       "      <td>...</td>\n",
       "      <td>2</td>\n",
       "      <td>2</td>\n",
       "      <td>2</td>\n",
       "      <td>2</td>\n",
       "      <td>2</td>\n",
       "      <td>2</td>\n",
       "      <td>2</td>\n",
       "      <td>2</td>\n",
       "      <td>3</td>\n",
       "      <td>97</td>\n",
       "    </tr>\n",
       "    <tr>\n",
       "      <th>14</th>\n",
       "      <td>6</td>\n",
       "      <td>22</td>\n",
       "      <td>2</td>\n",
       "      <td>1</td>\n",
       "      <td>2020-08-31</td>\n",
       "      <td>2020-08-26</td>\n",
       "      <td>9999-99-99</td>\n",
       "      <td>97</td>\n",
       "      <td>2</td>\n",
       "      <td>54</td>\n",
       "      <td>...</td>\n",
       "      <td>2</td>\n",
       "      <td>2</td>\n",
       "      <td>2</td>\n",
       "      <td>2</td>\n",
       "      <td>2</td>\n",
       "      <td>2</td>\n",
       "      <td>2</td>\n",
       "      <td>2</td>\n",
       "      <td>3</td>\n",
       "      <td>97</td>\n",
       "    </tr>\n",
       "    <tr>\n",
       "      <th>15</th>\n",
       "      <td>12</td>\n",
       "      <td>9</td>\n",
       "      <td>1</td>\n",
       "      <td>1</td>\n",
       "      <td>2020-09-08</td>\n",
       "      <td>2020-09-03</td>\n",
       "      <td>9999-99-99</td>\n",
       "      <td>97</td>\n",
       "      <td>2</td>\n",
       "      <td>26</td>\n",
       "      <td>...</td>\n",
       "      <td>2</td>\n",
       "      <td>2</td>\n",
       "      <td>2</td>\n",
       "      <td>2</td>\n",
       "      <td>2</td>\n",
       "      <td>2</td>\n",
       "      <td>2</td>\n",
       "      <td>2</td>\n",
       "      <td>3</td>\n",
       "      <td>97</td>\n",
       "    </tr>\n",
       "  </tbody>\n",
       "</table>\n",
       "<p>5 rows × 22 columns</p>\n",
       "</div>"
      ],
      "text/plain": [
       "    SECTOR  ENTIDAD_UM  SEXO  TIPO_PACIENTE FECHA_INGRESO FECHA_SINTOMAS  \\\n",
       "0       12           9     2              1    2020-10-16     2020-10-16   \n",
       "1       12          23     1              2    2020-07-20     2020-07-17   \n",
       "8       12          12     2              1    2020-08-19     2020-08-17   \n",
       "14       6          22     2              1    2020-08-31     2020-08-26   \n",
       "15      12           9     1              1    2020-09-08     2020-09-03   \n",
       "\n",
       "     FECHA_DEF  INTUBADO  NEUMONIA  EDAD  ...  EPOC  ASMA  INMUSUPR  \\\n",
       "0   9999-99-99        97         2    41  ...     2     2         2   \n",
       "1   2020-07-21         1         1    66  ...     2     2         2   \n",
       "8   9999-99-99        97         2    47  ...     2     2         2   \n",
       "14  9999-99-99        97         2    54  ...     2     2         2   \n",
       "15  9999-99-99        97         2    26  ...     2     2         2   \n",
       "\n",
       "    HIPERTENSION  CARDIOVASCULAR  OBESIDAD  RENAL_CRONICA  TABAQUISMO  \\\n",
       "0              2               2         2              2           2   \n",
       "1              1               2         1              2           2   \n",
       "8              2               2         2              2           2   \n",
       "14             2               2         2              2           2   \n",
       "15             2               2         2              2           2   \n",
       "\n",
       "    CLASIFICACION_FINAL  UCI  \n",
       "0                     1   97  \n",
       "1                     2    1  \n",
       "8                     3   97  \n",
       "14                    3   97  \n",
       "15                    3   97  \n",
       "\n",
       "[5 rows x 22 columns]"
      ]
     },
     "execution_count": 12,
     "metadata": {},
     "output_type": "execute_result"
    }
   ],
   "source": [
    "df.head(5)"
   ]
  },
  {
   "cell_type": "markdown",
   "metadata": {},
   "source": [
    "## Limpieza de datos\n",
    "Limpiar involucra el proceso de convertir los datos a un formato legible y estandarizado para su procesamiento"
   ]
  },
  {
   "cell_type": "markdown",
   "metadata": {},
   "source": [
    "Existen varias a considerar al filtrar los datos. Estos son mayormente conversiones de categorías.\n",
    "- El campo SEXO se compone de 3 valores (1 para mujeres, 2 para hombres y 99 en caso de no ser especificado). Los campos con valor 99 se desecharán y convertiremos la variable sexo en una variable binaria (0 para hombres, 1 para mujeres).\n",
    "- Los campos que representna a las afecciones previas y las complicaciones del paciente (EMBARAZO, INTUBADO, etc.) presentan un catálogo de datos de 5 valores (1 es SI, 2 es NO, 97 es NO APLICA, 98 es SE IGNORA y  99 es NO ESPECIFICADO). Queremos convertir estos campos a tipo binario, para que sólo existan valores 0 para NO y 1 para SI.\n",
    "- El campo TIPO PACIENTE presenta 3 valores (1 es Ambulatorio, 2 es Hospitalizado y 99 es No ESPECIFICADO). Queremos convertirlo a una variable binario, con Ambulatorio como 0 y Hospitalizado como 1. Los valores NO ESPECIFICADO pueden eliminarse en caso necesario."
   ]
  },
  {
   "cell_type": "markdown",
   "metadata": {},
   "source": [
    "### Limpieza de Sexo"
   ]
  },
  {
   "cell_type": "code",
   "execution_count": 20,
   "metadata": {},
   "outputs": [],
   "source": [
    "# Desechamos registros con valor 99\n",
    "rows = df[df.SEXO==99].index\n",
    "df.drop(rows, inplace=True)"
   ]
  },
  {
   "cell_type": "code",
   "execution_count": 32,
   "metadata": {},
   "outputs": [],
   "source": [
    "# Función de conversión\n",
    "clean_sex = lambda x: 1 if x==1 else 0"
   ]
  },
  {
   "cell_type": "code",
   "execution_count": 33,
   "metadata": {},
   "outputs": [],
   "source": [
    "# Aplicamos la conversión y guardamos los datos en la misma columna\n",
    "df['SEXO'] = df['SEXO'].apply(clean_sex).astype('int8') # astype permite conservar el tipo de dato original"
   ]
  },
  {
   "cell_type": "markdown",
   "metadata": {},
   "source": [
    "### Limpieza de Afecciones y Complicaciones"
   ]
  },
  {
   "cell_type": "code",
   "execution_count": 58,
   "metadata": {},
   "outputs": [],
   "source": [
    "cols = ['INTUBADO', 'NEUMONIA', 'EMBARAZO', 'DIABETES', 'EPOC',\n",
    "       'ASMA', 'INMUSUPR', 'HIPERTENSION', 'CARDIOVASCULAR', 'OBESIDAD',\n",
    "       'RENAL_CRONICA', 'TABAQUISMO', 'UCI']"
   ]
  },
  {
   "cell_type": "markdown",
   "metadata": {},
   "source": [
    "Antes de filtrar valores, queremos verificar cuantos registros se borarrían."
   ]
  },
  {
   "cell_type": "code",
   "execution_count": 70,
   "metadata": {},
   "outputs": [
    {
     "data": {
      "text/plain": [
       "3699621"
      ]
     },
     "execution_count": 70,
     "metadata": {},
     "output_type": "execute_result"
    }
   ],
   "source": [
    "df.shape[0]"
   ]
  },
  {
   "cell_type": "code",
   "execution_count": 77,
   "metadata": {},
   "outputs": [],
   "source": [
    "def count_per_case(case):\n",
    "    # case puede ser: 1 (SI), 2(NO), 97(NO APLICA), 98(SE IGNORA), 99(NO ESPEC.)\n",
    "    count = 0\n",
    "    for col in cols:\n",
    "        value_counts = (df[col]==case).value_counts()\n",
    "        try:\n",
    "            print(col, value_counts[True])\n",
    "            count += value_counts[True]\n",
    "        except:\n",
    "            print(col, 0)\n",
    "    print('TOTAL:', count, ' --- ', count/df.shape[0]*100, '% del dataset')"
   ]
  },
  {
   "cell_type": "code",
   "execution_count": 78,
   "metadata": {},
   "outputs": [
    {
     "name": "stdout",
     "output_type": "stream",
     "text": [
      "INTUBADO 3119753\n",
      "NEUMONIA 0\n",
      "EMBARAZO 1846448\n",
      "DIABETES 0\n",
      "EPOC 0\n",
      "ASMA 0\n",
      "INMUSUPR 0\n",
      "HIPERTENSION 0\n",
      "CARDIOVASCULAR 0\n",
      "OBESIDAD 0\n",
      "RENAL_CRONICA 0\n",
      "TABAQUISMO 0\n",
      "UCI 3119753\n",
      "TOTAL: 8085954  ---  218.56168510233886 % del dataset\n"
     ]
    }
   ],
   "source": [
    "# Casos de NO APLICA\n",
    "count_per_case(97)"
   ]
  },
  {
   "cell_type": "markdown",
   "metadata": {},
   "source": [
    "En este caso, es obvio que casos de NO APLICA en la columna EMBARAZO son en gran mayoría en los pacientes hombres. Esto se puede solucionar simplemente ajustando el valor a 2 (NO).   \n",
    "Para los INTUBADOS y UCI, el que tengan los valores tan exactos significa que aplican a un segmento específico de la población, que se presume son los pacientes no fallecidos. También puede ajustarse el valor a NO.   \n",
    "De esta forma no es necesario eliminar los registros con valores 97 (que ya de por sí serían todos)."
   ]
  },
  {
   "cell_type": "code",
   "execution_count": 83,
   "metadata": {},
   "outputs": [],
   "source": [
    "# Función de conversión\n",
    "def func_no_aplica(x):\n",
    "    if x==1: return 1 # Caso SI\n",
    "    if x==2: return 0 # Caso NO\n",
    "    if x==97: return 0 # Caso NO APLICA\n",
    "    else: return x # Otros casos (98, 99)"
   ]
  },
  {
   "cell_type": "code",
   "execution_count": 84,
   "metadata": {},
   "outputs": [],
   "source": [
    "cols_no_aplica = ['INTUBADO', 'EMBARAZO', 'UCI']\n",
    "for col in cols_no_aplica:\n",
    "    df[col] = df[col].apply(func_no_aplica).astype('int8')"
   ]
  },
  {
   "cell_type": "code",
   "execution_count": 85,
   "metadata": {},
   "outputs": [
    {
     "name": "stdout",
     "output_type": "stream",
     "text": [
      "INTUBADO 0\n",
      "NEUMONIA 0\n",
      "EMBARAZO 11301\n",
      "DIABETES 8600\n",
      "EPOC 7993\n",
      "ASMA 7832\n",
      "INMUSUPR 8049\n",
      "HIPERTENSION 8030\n",
      "CARDIOVASCULAR 8011\n",
      "OBESIDAD 7576\n",
      "RENAL_CRONICA 7946\n",
      "TABAQUISMO 8344\n",
      "UCI 0\n",
      "TOTAL: 83682  ---  2.2619073683493527 % del dataset\n"
     ]
    }
   ],
   "source": [
    "# Casos de SE IGNORA\n",
    "count_per_case(98)"
   ]
  },
  {
   "cell_type": "code",
   "execution_count": 86,
   "metadata": {},
   "outputs": [
    {
     "name": "stdout",
     "output_type": "stream",
     "text": [
      "INTUBADO 5058\n",
      "NEUMONIA 2977\n",
      "EMBARAZO 2\n",
      "DIABETES 0\n",
      "EPOC 0\n",
      "ASMA 0\n",
      "INMUSUPR 0\n",
      "HIPERTENSION 0\n",
      "CARDIOVASCULAR 0\n",
      "OBESIDAD 0\n",
      "RENAL_CRONICA 0\n",
      "TABAQUISMO 0\n",
      "UCI 5069\n",
      "TOTAL: 13106  ---  0.35425250316181034 % del dataset\n"
     ]
    }
   ],
   "source": [
    "# Casos de NO ESPEC.\n",
    "count_per_case(99)"
   ]
  },
  {
   "cell_type": "code",
   "execution_count": 109,
   "metadata": {},
   "outputs": [],
   "source": [
    "df_copy = df.copy()"
   ]
  },
  {
   "cell_type": "markdown",
   "metadata": {},
   "source": [
    "Tanto en los casos de SE IGNORA como NO ESPEC, el porcentaje de registros con tales valores asciende a menos del 5 % del dataset, por lo que se decide eliminarlos del mismo."
   ]
  },
  {
   "cell_type": "code",
   "execution_count": 110,
   "metadata": {},
   "outputs": [],
   "source": [
    "values_to_delete = [98,99]\n",
    "for col in cols:\n",
    "    for value in values_to_delete:\n",
    "        rows_to_delete = (df[df[col]==value]).index\n",
    "        df.drop(rows_to_delete, inplace=True)"
   ]
  },
  {
   "cell_type": "markdown",
   "metadata": {},
   "source": [
    "### Limpieza de TIPO _PACIENTE"
   ]
  },
  {
   "cell_type": "code",
   "execution_count": 113,
   "metadata": {},
   "outputs": [],
   "source": [
    "rows = df[df['TIPO_PACIENTE']==99].index\n",
    "df.drop(rows, axis=0, inplace=True)"
   ]
  },
  {
   "cell_type": "markdown",
   "metadata": {},
   "source": [
    "Una vez terminado la limpieza, podemos guardar los datos"
   ]
  },
  {
   "cell_type": "code",
   "execution_count": 115,
   "metadata": {},
   "outputs": [
    {
     "data": {
      "text/plain": [
       "99.12783783783784"
      ]
     },
     "execution_count": 115,
     "metadata": {},
     "output_type": "execute_result"
    }
   ],
   "source": [
    "# Porcentaje de datos originales con los que quedamos\n",
    "df.shape[0]/3700000 * 100"
   ]
  },
  {
   "cell_type": "markdown",
   "metadata": {},
   "source": [
    "### Salvar un checkpoint de los datos"
   ]
  },
  {
   "cell_type": "code",
   "execution_count": 116,
   "metadata": {},
   "outputs": [],
   "source": [
    "clean_dataset_path = os.path.join('..', 'datasets', 'clean_covid_dataset.csv')\n",
    "df.to_csv(clean_dataset_path)"
   ]
  },
  {
   "cell_type": "code",
   "execution_count": 117,
   "metadata": {},
   "outputs": [
    {
     "name": "stdout",
     "output_type": "stream",
     "text": [
      "<class 'pandas.core.frame.DataFrame'>\n",
      "Int64Index: 3667730 entries, 0 to 10785803\n",
      "Data columns (total 22 columns):\n",
      " #   Column               Dtype \n",
      "---  ------               ----- \n",
      " 0   SECTOR               int8  \n",
      " 1   ENTIDAD_UM           int8  \n",
      " 2   SEXO                 int8  \n",
      " 3   TIPO_PACIENTE        int8  \n",
      " 4   FECHA_INGRESO        object\n",
      " 5   FECHA_SINTOMAS       object\n",
      " 6   FECHA_DEF            object\n",
      " 7   INTUBADO             int8  \n",
      " 8   NEUMONIA             int8  \n",
      " 9   EDAD                 int8  \n",
      " 10  EMBARAZO             int8  \n",
      " 11  DIABETES             int8  \n",
      " 12  EPOC                 int8  \n",
      " 13  ASMA                 int8  \n",
      " 14  INMUSUPR             int8  \n",
      " 15  HIPERTENSION         int8  \n",
      " 16  CARDIOVASCULAR       int8  \n",
      " 17  OBESIDAD             int8  \n",
      " 18  RENAL_CRONICA        int8  \n",
      " 19  TABAQUISMO           int8  \n",
      " 20  CLASIFICACION_FINAL  int8  \n",
      " 21  UCI                  int8  \n",
      "dtypes: int8(19), object(3)\n",
      "memory usage: 307.4+ MB\n"
     ]
    }
   ],
   "source": [
    "df.info()"
   ]
  },
  {
   "cell_type": "markdown",
   "metadata": {},
   "source": [
    "# Generación del Primer Subset de Datos"
   ]
  },
  {
   "cell_type": "markdown",
   "metadata": {},
   "source": [
    "## Transformación de datos\n",
    "De vez en cuando debemos modificar los datos que ya tenemos o agregar nuevos dependiendo de la información del dataset.\n",
    "* datetime() convierte datos de cualquier tipo al ofrmato Datatime, que permite condensar información sobre fechas, como años, meses, días, etc.\n",
    "* apply() es una función que se aplica a cada columna o fila de un DataFrame, con el fin de calcular valores que serán retornado al final en forma de un Series. Normalmente es usado para hacer agregación de datos, pero igual puede ser utilizado para crear nuevos campos."
   ]
  },
  {
   "cell_type": "code",
   "execution_count": null,
   "metadata": {},
   "outputs": [],
   "source": []
  },
  {
   "cell_type": "code",
   "execution_count": 11,
   "metadata": {},
   "outputs": [],
   "source": [
    "# Convertimos la fecha de tipo String a tipo Datetime\n",
    "df['FECHA_SINTOMAS'] = pd.to_datetime(df['FECHA_SINTOMAS'], format='%Y-%m-%d')"
   ]
  },
  {
   "cell_type": "code",
   "execution_count": 12,
   "metadata": {},
   "outputs": [
    {
     "data": {
      "text/plain": [
       "28"
      ]
     },
     "execution_count": 12,
     "metadata": {},
     "output_type": "execute_result"
    }
   ],
   "source": [
    "# Ahora podemos saber el año, mes y día de forma más sencilla\n",
    "df.iloc[5].FECHA_SINTOMAS.day # month, year"
   ]
  },
  {
   "cell_type": "code",
   "execution_count": 13,
   "metadata": {
    "scrolled": true
   },
   "outputs": [
    {
     "data": {
      "text/plain": [
       "0          2000-01-01\n",
       "1          2000-01-01\n",
       "2          2000-01-01\n",
       "3          2000-01-01\n",
       "4          2020-03-30\n",
       "              ...    \n",
       "2023452    2000-01-01\n",
       "2023453    2000-01-01\n",
       "2023454    2000-01-01\n",
       "2023455    2000-01-01\n",
       "2023456    2000-01-01\n",
       "Length: 796399, dtype: object"
      ]
     },
     "execution_count": 13,
     "metadata": {},
     "output_type": "execute_result"
    }
   ],
   "source": [
    "# FECHA_DEF no puede ser convertido directamente, debido a que posee fechas incorrectas ('9999-99-99')\n",
    "# Establecemos 2000-01-01 como fecha de def. para los no fallecidos\n",
    "fecha_modif = df.apply(lambda fila: '2000-01-01' if fila.FECHA_DEF=='9999-99-99' else fila.FECHA_DEF, axis='columns')\n",
    "fecha_modif"
   ]
  },
  {
   "cell_type": "code",
   "execution_count": 14,
   "metadata": {},
   "outputs": [],
   "source": [
    "# El resultado lo asignamos al campo...\n",
    "df['FECHA_DEF'] = fecha_modif"
   ]
  },
  {
   "cell_type": "code",
   "execution_count": 15,
   "metadata": {},
   "outputs": [],
   "source": [
    "# ...y luego lo convertimos.\n",
    "df['FECHA_DEF'] = pd.to_datetime(df['FECHA_DEF'], format='%Y-%m-%d')"
   ]
  },
  {
   "cell_type": "code",
   "execution_count": 16,
   "metadata": {},
   "outputs": [],
   "source": [
    "# Sobre la fecha de ingreso, sólo necesitamos el mes\n",
    "df['FECHA_INGRESO'] = df.apply(lambda x: int(x.FECHA_INGRESO.split('-')[1]), axis='columns')"
   ]
  },
  {
   "cell_type": "code",
   "execution_count": 17,
   "metadata": {},
   "outputs": [],
   "source": [
    "# Cambiamos el nombre de FECHA_INGRESO A MES_INGRESO\n",
    "df.rename(columns={'FECHA_INGRESO': 'MES_INGRESO'}, inplace=True)"
   ]
  },
  {
   "cell_type": "code",
   "execution_count": 18,
   "metadata": {},
   "outputs": [],
   "source": [
    "# Finalmente, agregamos un campo para filtrar con mayor comodidad\n",
    "df['RESULTADO'] = df.apply(lambda x: 1 if x.FECHA_DEF.year==2000 else 0, axis='columns')"
   ]
  },
  {
   "cell_type": "code",
   "execution_count": 19,
   "metadata": {},
   "outputs": [
    {
     "name": "stdout",
     "output_type": "stream",
     "text": [
      "<class 'pandas.core.frame.DataFrame'>\n",
      "Int64Index: 796399 entries, 0 to 2023456\n",
      "Data columns (total 23 columns):\n",
      " #   Column          Non-Null Count   Dtype         \n",
      "---  ------          --------------   -----         \n",
      " 0   SECTOR          796399 non-null  int8          \n",
      " 1   SEXO            796399 non-null  int8          \n",
      " 2   ENTIDAD_RES     796399 non-null  int8          \n",
      " 3   MES_INGRESO     796399 non-null  int64         \n",
      " 4   FECHA_SINTOMAS  796399 non-null  datetime64[ns]\n",
      " 5   FECHA_DEF       796399 non-null  datetime64[ns]\n",
      " 6   INTUBADO        796399 non-null  int8          \n",
      " 7   NEUMONIA        796399 non-null  int8          \n",
      " 8   EDAD            796399 non-null  int8          \n",
      " 9   EMBARAZO        796399 non-null  int8          \n",
      " 10  DIABETES        796399 non-null  int8          \n",
      " 11  EPOC            796399 non-null  int8          \n",
      " 12  ASMA            796399 non-null  int8          \n",
      " 13  INMUSUPR        796399 non-null  int8          \n",
      " 14  HIPERTENSION    796399 non-null  int8          \n",
      " 15  OTRA_COM        796399 non-null  int8          \n",
      " 16  CARDIOVASCULAR  796399 non-null  int8          \n",
      " 17  OBESIDAD        796399 non-null  int8          \n",
      " 18  RENAL_CRONICA   796399 non-null  int8          \n",
      " 19  TABAQUISMO      796399 non-null  int8          \n",
      " 20  RESULTADO_LAB   796399 non-null  int8          \n",
      " 21  UCI             796399 non-null  int8          \n",
      " 22  RESULTADO       796399 non-null  int64         \n",
      "dtypes: datetime64[ns](2), int64(2), int8(19)\n",
      "memory usage: 44.8 MB\n"
     ]
    }
   ],
   "source": [
    "# Podemos ver que los tipos de dato han cambiado\n",
    "# Podríamos mejorar el uso de memoria de datetime en un futuro\n",
    "df.info()"
   ]
  },
  {
   "cell_type": "markdown",
   "metadata": {},
   "source": [
    "### Salvemos los datos ###\n",
    "Todos los datos necesitan ser guardados en un archivo, normalmente un formato sencillo llamado CSV."
   ]
  },
  {
   "cell_type": "code",
   "execution_count": 20,
   "metadata": {},
   "outputs": [],
   "source": [
    "CLEAN_COVID_URL = os.path.join('..', 'datasets', 'Clean_Covid_Dataset.csv')\n",
    "df.to_csv(CLEAN_COVID_URL)"
   ]
  },
  {
   "cell_type": "code",
   "execution_count": 21,
   "metadata": {},
   "outputs": [
    {
     "name": "stdout",
     "output_type": "stream",
     "text": [
      " El volumen de la unidad C es Windows\n",
      " El n£mero de serie del volumen es: E854-2EA9\n",
      "\n",
      " Directorio de C:\\Users\\Sebasti n\\Desktop\\MLDiv\\data-analysis-workshop-mldiv\\datasets\n",
      "\n",
      "19/10/2020  11:18 p. m.    <DIR>          .\n",
      "19/10/2020  11:18 p. m.    <DIR>          ..\n",
      "12/10/2020  01:23 p. m.       328,967,538 201012COVID19MEXICO.csv\n",
      "07/10/2020  05:23 p. m.            87,935 Catalogos_071020.xlsx\n",
      "19/10/2020  11:58 p. m.        61,089,883 Clean_Covid_Dataset.csv\n",
      "13/10/2020  01:43 a. m.    <DIR>          clean_data\n",
      "07/10/2020  05:23 p. m.            15,552 Descriptores_071020.xlsx\n",
      "               4 archivos    390,160,908 bytes\n",
      "               3 dirs  145,152,606,208 bytes libres\n"
     ]
    }
   ],
   "source": [
    "!dir ..\\datasets"
   ]
  },
  {
   "cell_type": "code",
   "execution_count": 22,
   "metadata": {},
   "outputs": [],
   "source": [
    "# Creamos una función que guarde cualquier archivo\n",
    "CLEAN_DATA_FOLDER = os.path.join('..', 'datasets', 'clean_data')\n",
    "\n",
    "if not os.path.exists(CLEAN_DATA_FOLDER): os.mkdir(CLEAN_DATA_FOLDER)\n",
    "\n",
    "def save_csv(df, name):\n",
    "    file_url = os.path.join(CLEAN_DATA_FOLDER, f'{name}.csv')\n",
    "    df.to_csv(file_url)"
   ]
  },
  {
   "cell_type": "markdown",
   "metadata": {},
   "source": [
    "### Agrupaciones y Agregaciones ###\n",
    "A veces, se necesita hacer una análisis no a todo el dataset, pero a grupos específicos del mismo. Normalmente lo que se desea es \"agregar la información\" o, en otras palabras, conseguir ciertos valores que describan esas poblaciones de datos.   \n",
    "Agregaciones comunes son el promedio, la mediana, el rango, etc.\n",
    "\n",
    "En esta sección responderemos las preguntas\n",
    "* ¿Cuántos hombres y mujeres se infectaron o fallecieron?\n",
    "* ¿Qué estados han sufrido más por el COVID?\n",
    "* ¿Cómo ha ido avanzando la pandemia en México?\n",
    "* ¿Cuál ha sido el rendimiento de los diferentes sistemas de salud durante la pandemia?\n",
    "* ¿Cuál es el efecto de enfermedades existentes en los infectados de COVID?\n",
    "* ¿Qué tipo de complicaciones presentaron los hospitalizados?"
   ]
  },
  {
   "cell_type": "markdown",
   "metadata": {},
   "source": [
    "#### ¿Cuántos hombres y mujeres se infectaron o fallecieron? ####"
   ]
  },
  {
   "cell_type": "code",
   "execution_count": 23,
   "metadata": {},
   "outputs": [
    {
     "data": {
      "text/html": [
       "<div>\n",
       "<style scoped>\n",
       "    .dataframe tbody tr th:only-of-type {\n",
       "        vertical-align: middle;\n",
       "    }\n",
       "\n",
       "    .dataframe tbody tr th {\n",
       "        vertical-align: top;\n",
       "    }\n",
       "\n",
       "    .dataframe thead th {\n",
       "        text-align: right;\n",
       "    }\n",
       "</style>\n",
       "<table border=\"1\" class=\"dataframe\">\n",
       "  <thead>\n",
       "    <tr style=\"text-align: right;\">\n",
       "      <th></th>\n",
       "      <th></th>\n",
       "      <th>RESULTADO</th>\n",
       "    </tr>\n",
       "    <tr>\n",
       "      <th>SEXO</th>\n",
       "      <th>RESULTADO</th>\n",
       "      <th></th>\n",
       "    </tr>\n",
       "  </thead>\n",
       "  <tbody>\n",
       "    <tr>\n",
       "      <th rowspan=\"2\" valign=\"top\">1</th>\n",
       "      <th>0</th>\n",
       "      <td>29273</td>\n",
       "    </tr>\n",
       "    <tr>\n",
       "      <th>1</th>\n",
       "      <td>355383</td>\n",
       "    </tr>\n",
       "    <tr>\n",
       "      <th rowspan=\"2\" valign=\"top\">2</th>\n",
       "      <th>0</th>\n",
       "      <td>52147</td>\n",
       "    </tr>\n",
       "    <tr>\n",
       "      <th>1</th>\n",
       "      <td>359596</td>\n",
       "    </tr>\n",
       "  </tbody>\n",
       "</table>\n",
       "</div>"
      ],
      "text/plain": [
       "                RESULTADO\n",
       "SEXO RESULTADO           \n",
       "1    0              29273\n",
       "     1             355383\n",
       "2    0              52147\n",
       "     1             359596"
      ]
     },
     "execution_count": 23,
     "metadata": {},
     "output_type": "execute_result"
    }
   ],
   "source": [
    "# Agrupemos por sexo y luego por resultado\n",
    "covid_por_genero = df[['RESULTADO']].groupby([df['SEXO'], df['RESULTADO']]).count()\n",
    "covid_por_genero"
   ]
  },
  {
   "cell_type": "code",
   "execution_count": 24,
   "metadata": {},
   "outputs": [
    {
     "data": {
      "text/html": [
       "<div>\n",
       "<style scoped>\n",
       "    .dataframe tbody tr th:only-of-type {\n",
       "        vertical-align: middle;\n",
       "    }\n",
       "\n",
       "    .dataframe tbody tr th {\n",
       "        vertical-align: top;\n",
       "    }\n",
       "\n",
       "    .dataframe thead th {\n",
       "        text-align: right;\n",
       "    }\n",
       "</style>\n",
       "<table border=\"1\" class=\"dataframe\">\n",
       "  <thead>\n",
       "    <tr style=\"text-align: right;\">\n",
       "      <th></th>\n",
       "      <th>FALLECIDOS</th>\n",
       "      <th>INFECTADOS</th>\n",
       "    </tr>\n",
       "    <tr>\n",
       "      <th>GENERO</th>\n",
       "      <th></th>\n",
       "      <th></th>\n",
       "    </tr>\n",
       "  </thead>\n",
       "  <tbody>\n",
       "    <tr>\n",
       "      <th>HOMBRES</th>\n",
       "      <td>29273</td>\n",
       "      <td>355383</td>\n",
       "    </tr>\n",
       "    <tr>\n",
       "      <th>MUJERES</th>\n",
       "      <td>52147</td>\n",
       "      <td>359596</td>\n",
       "    </tr>\n",
       "  </tbody>\n",
       "</table>\n",
       "</div>"
      ],
      "text/plain": [
       "         FALLECIDOS  INFECTADOS\n",
       "GENERO                         \n",
       "HOMBRES       29273      355383\n",
       "MUJERES       52147      359596"
      ]
     },
     "execution_count": 24,
     "metadata": {},
     "output_type": "execute_result"
    }
   ],
   "source": [
    "# Reordenamos los datos\n",
    "# unstack() crea una copia de los datos\n",
    "covid_por_genero = covid_por_genero.unstack()\n",
    "covid_por_genero.columns = pd.Index(['FALLECIDOS', 'INFECTADOS'])\n",
    "covid_por_genero.index = pd.Index(['HOMBRES', 'MUJERES'], name='GENERO')\n",
    "covid_por_genero"
   ]
  },
  {
   "cell_type": "code",
   "execution_count": 25,
   "metadata": {},
   "outputs": [],
   "source": [
    "# Diseñamos una func. para simplificar el proceso anterior\n",
    "def format_dataframe(data, index_arr, index_name):\n",
    "    df = data.unstack()\n",
    "    df.columns = pd.Index(['FALLECIDOS', 'INFECTADOS'])\n",
    "    df.index = pd.Index(index_arr, name=index_name)\n",
    "    return df"
   ]
  },
  {
   "cell_type": "code",
   "execution_count": 26,
   "metadata": {},
   "outputs": [],
   "source": [
    "# Guardamos los datos\n",
    "save_csv(covid_por_genero, 'covid_por_genero')"
   ]
  },
  {
   "cell_type": "markdown",
   "metadata": {},
   "source": [
    "#### ¿Qué estados han sufrido más por el COVID? ####"
   ]
  },
  {
   "cell_type": "code",
   "execution_count": 27,
   "metadata": {},
   "outputs": [
    {
     "data": {
      "text/html": [
       "<div>\n",
       "<style scoped>\n",
       "    .dataframe tbody tr th:only-of-type {\n",
       "        vertical-align: middle;\n",
       "    }\n",
       "\n",
       "    .dataframe tbody tr th {\n",
       "        vertical-align: top;\n",
       "    }\n",
       "\n",
       "    .dataframe thead th {\n",
       "        text-align: right;\n",
       "    }\n",
       "</style>\n",
       "<table border=\"1\" class=\"dataframe\">\n",
       "  <thead>\n",
       "    <tr style=\"text-align: right;\">\n",
       "      <th></th>\n",
       "      <th></th>\n",
       "      <th>RESULTADO</th>\n",
       "    </tr>\n",
       "    <tr>\n",
       "      <th>ENTIDAD_RES</th>\n",
       "      <th>RESULTADO</th>\n",
       "      <th></th>\n",
       "    </tr>\n",
       "  </thead>\n",
       "  <tbody>\n",
       "    <tr>\n",
       "      <th rowspan=\"2\" valign=\"top\">1</th>\n",
       "      <th>0</th>\n",
       "      <td>682</td>\n",
       "    </tr>\n",
       "    <tr>\n",
       "      <th>1</th>\n",
       "      <td>7274</td>\n",
       "    </tr>\n",
       "    <tr>\n",
       "      <th rowspan=\"2\" valign=\"top\">2</th>\n",
       "      <th>0</th>\n",
       "      <td>3689</td>\n",
       "    </tr>\n",
       "    <tr>\n",
       "      <th>1</th>\n",
       "      <td>16708</td>\n",
       "    </tr>\n",
       "    <tr>\n",
       "      <th>3</th>\n",
       "      <th>0</th>\n",
       "      <td>550</td>\n",
       "    </tr>\n",
       "    <tr>\n",
       "      <th>...</th>\n",
       "      <th>...</th>\n",
       "      <td>...</td>\n",
       "    </tr>\n",
       "    <tr>\n",
       "      <th>30</th>\n",
       "      <th>1</th>\n",
       "      <td>30277</td>\n",
       "    </tr>\n",
       "    <tr>\n",
       "      <th rowspan=\"2\" valign=\"top\">31</th>\n",
       "      <th>0</th>\n",
       "      <td>1646</td>\n",
       "    </tr>\n",
       "    <tr>\n",
       "      <th>1</th>\n",
       "      <td>17715</td>\n",
       "    </tr>\n",
       "    <tr>\n",
       "      <th rowspan=\"2\" valign=\"top\">32</th>\n",
       "      <th>0</th>\n",
       "      <td>790</td>\n",
       "    </tr>\n",
       "    <tr>\n",
       "      <th>1</th>\n",
       "      <td>7641</td>\n",
       "    </tr>\n",
       "  </tbody>\n",
       "</table>\n",
       "<p>64 rows × 1 columns</p>\n",
       "</div>"
      ],
      "text/plain": [
       "                       RESULTADO\n",
       "ENTIDAD_RES RESULTADO           \n",
       "1           0                682\n",
       "            1               7274\n",
       "2           0               3689\n",
       "            1              16708\n",
       "3           0                550\n",
       "...                          ...\n",
       "30          1              30277\n",
       "31          0               1646\n",
       "            1              17715\n",
       "32          0                790\n",
       "            1               7641\n",
       "\n",
       "[64 rows x 1 columns]"
      ]
     },
     "execution_count": 27,
     "metadata": {},
     "output_type": "execute_result"
    }
   ],
   "source": [
    "# Agrupamos por estado y luego por resultado\n",
    "covid_por_estado = df[['RESULTADO']].groupby([df['ENTIDAD_RES'], df['RESULTADO']]).count()\n",
    "covid_por_estado"
   ]
  },
  {
   "cell_type": "code",
   "execution_count": 28,
   "metadata": {},
   "outputs": [],
   "source": [
    "estados = [\n",
    "    'AGUASCALIENTES',\n",
    "    'BAJA CALIFORNIA',\n",
    "    'BAJA CALIFORNIA SUR',\n",
    "    'CAMPECHE',\n",
    "    'COAHUILA',\n",
    "    'COLIMA',\n",
    "    'CHIAPAS',\n",
    "    'CHIHUAHUA',\n",
    "    'CDMX',\n",
    "    'DURANGO',\n",
    "    'GUANAJUATO',\n",
    "    'GUERRERO',\n",
    "    'HIDALGO',\n",
    "    'JALISCO',\n",
    "    'EDOMEX',\n",
    "    'MICHOACAN',\n",
    "    'MORELOS',\n",
    "    'NAYARIT',\n",
    "    'NUEVO LEON',\n",
    "    'OAXACA',\n",
    "    'PUEBLA',\n",
    "    'QUERETARO',\n",
    "    'Q. ROO',\n",
    "    'SLP',\n",
    "    'SINALOA',\n",
    "    'SONORA',\n",
    "    'TABASCO',\n",
    "    'TAMAULIPAS',\n",
    "    'TLAXCALA',\n",
    "    'VERACRUZ',\n",
    "    'YUCATAN',\n",
    "    'ZACATECAS'\n",
    "]"
   ]
  },
  {
   "cell_type": "code",
   "execution_count": 29,
   "metadata": {
    "scrolled": true
   },
   "outputs": [
    {
     "data": {
      "text/html": [
       "<div>\n",
       "<style scoped>\n",
       "    .dataframe tbody tr th:only-of-type {\n",
       "        vertical-align: middle;\n",
       "    }\n",
       "\n",
       "    .dataframe tbody tr th {\n",
       "        vertical-align: top;\n",
       "    }\n",
       "\n",
       "    .dataframe thead th {\n",
       "        text-align: right;\n",
       "    }\n",
       "</style>\n",
       "<table border=\"1\" class=\"dataframe\">\n",
       "  <thead>\n",
       "    <tr style=\"text-align: right;\">\n",
       "      <th></th>\n",
       "      <th>FALLECIDOS</th>\n",
       "      <th>INFECTADOS</th>\n",
       "    </tr>\n",
       "    <tr>\n",
       "      <th>ESTADOS</th>\n",
       "      <th></th>\n",
       "      <th></th>\n",
       "    </tr>\n",
       "  </thead>\n",
       "  <tbody>\n",
       "    <tr>\n",
       "      <th>AGUASCALIENTES</th>\n",
       "      <td>682</td>\n",
       "      <td>7274</td>\n",
       "    </tr>\n",
       "    <tr>\n",
       "      <th>BAJA CALIFORNIA</th>\n",
       "      <td>3689</td>\n",
       "      <td>16708</td>\n",
       "    </tr>\n",
       "    <tr>\n",
       "      <th>BAJA CALIFORNIA SUR</th>\n",
       "      <td>550</td>\n",
       "      <td>10597</td>\n",
       "    </tr>\n",
       "    <tr>\n",
       "      <th>CAMPECHE</th>\n",
       "      <td>833</td>\n",
       "      <td>5267</td>\n",
       "    </tr>\n",
       "    <tr>\n",
       "      <th>COAHUILA</th>\n",
       "      <td>2008</td>\n",
       "      <td>26678</td>\n",
       "    </tr>\n",
       "    <tr>\n",
       "      <th>COLIMA</th>\n",
       "      <td>585</td>\n",
       "      <td>4968</td>\n",
       "    </tr>\n",
       "    <tr>\n",
       "      <th>CHIAPAS</th>\n",
       "      <td>1101</td>\n",
       "      <td>5537</td>\n",
       "    </tr>\n",
       "    <tr>\n",
       "      <th>CHIHUAHUA</th>\n",
       "      <td>1479</td>\n",
       "      <td>11260</td>\n",
       "    </tr>\n",
       "    <tr>\n",
       "      <th>CDMX</th>\n",
       "      <td>10072</td>\n",
       "      <td>127304</td>\n",
       "    </tr>\n",
       "    <tr>\n",
       "      <th>DURANGO</th>\n",
       "      <td>692</td>\n",
       "      <td>9422</td>\n",
       "    </tr>\n",
       "    <tr>\n",
       "      <th>GUANAJUATO</th>\n",
       "      <td>3105</td>\n",
       "      <td>40281</td>\n",
       "    </tr>\n",
       "    <tr>\n",
       "      <th>GUERRERO</th>\n",
       "      <td>2039</td>\n",
       "      <td>18475</td>\n",
       "    </tr>\n",
       "    <tr>\n",
       "      <th>HIDALGO</th>\n",
       "      <td>2068</td>\n",
       "      <td>11528</td>\n",
       "    </tr>\n",
       "    <tr>\n",
       "      <th>JALISCO</th>\n",
       "      <td>3551</td>\n",
       "      <td>26137</td>\n",
       "    </tr>\n",
       "    <tr>\n",
       "      <th>EDOMEX</th>\n",
       "      <td>12170</td>\n",
       "      <td>73433</td>\n",
       "    </tr>\n",
       "    <tr>\n",
       "      <th>MICHOACAN</th>\n",
       "      <td>1800</td>\n",
       "      <td>20442</td>\n",
       "    </tr>\n",
       "    <tr>\n",
       "      <th>MORELOS</th>\n",
       "      <td>1119</td>\n",
       "      <td>5128</td>\n",
       "    </tr>\n",
       "    <tr>\n",
       "      <th>NAYARIT</th>\n",
       "      <td>779</td>\n",
       "      <td>5468</td>\n",
       "    </tr>\n",
       "    <tr>\n",
       "      <th>NUEVO LEON</th>\n",
       "      <td>3317</td>\n",
       "      <td>41540</td>\n",
       "    </tr>\n",
       "    <tr>\n",
       "      <th>OAXACA</th>\n",
       "      <td>1516</td>\n",
       "      <td>16898</td>\n",
       "    </tr>\n",
       "    <tr>\n",
       "      <th>PUEBLA</th>\n",
       "      <td>4161</td>\n",
       "      <td>28299</td>\n",
       "    </tr>\n",
       "    <tr>\n",
       "      <th>QUERETARO</th>\n",
       "      <td>1011</td>\n",
       "      <td>9393</td>\n",
       "    </tr>\n",
       "    <tr>\n",
       "      <th>Q. ROO</th>\n",
       "      <td>1704</td>\n",
       "      <td>10755</td>\n",
       "    </tr>\n",
       "    <tr>\n",
       "      <th>SLP</th>\n",
       "      <td>1797</td>\n",
       "      <td>22997</td>\n",
       "    </tr>\n",
       "    <tr>\n",
       "      <th>SINALOA</th>\n",
       "      <td>3343</td>\n",
       "      <td>16442</td>\n",
       "    </tr>\n",
       "    <tr>\n",
       "      <th>SONORA</th>\n",
       "      <td>2948</td>\n",
       "      <td>22684</td>\n",
       "    </tr>\n",
       "    <tr>\n",
       "      <th>TABASCO</th>\n",
       "      <td>2817</td>\n",
       "      <td>30052</td>\n",
       "    </tr>\n",
       "    <tr>\n",
       "      <th>TAMAULIPAS</th>\n",
       "      <td>2382</td>\n",
       "      <td>27615</td>\n",
       "    </tr>\n",
       "    <tr>\n",
       "      <th>TLAXCALA</th>\n",
       "      <td>1117</td>\n",
       "      <td>6764</td>\n",
       "    </tr>\n",
       "    <tr>\n",
       "      <th>VERACRUZ</th>\n",
       "      <td>4549</td>\n",
       "      <td>30277</td>\n",
       "    </tr>\n",
       "    <tr>\n",
       "      <th>YUCATAN</th>\n",
       "      <td>1646</td>\n",
       "      <td>17715</td>\n",
       "    </tr>\n",
       "    <tr>\n",
       "      <th>ZACATECAS</th>\n",
       "      <td>790</td>\n",
       "      <td>7641</td>\n",
       "    </tr>\n",
       "  </tbody>\n",
       "</table>\n",
       "</div>"
      ],
      "text/plain": [
       "                     FALLECIDOS  INFECTADOS\n",
       "ESTADOS                                    \n",
       "AGUASCALIENTES              682        7274\n",
       "BAJA CALIFORNIA            3689       16708\n",
       "BAJA CALIFORNIA SUR         550       10597\n",
       "CAMPECHE                    833        5267\n",
       "COAHUILA                   2008       26678\n",
       "COLIMA                      585        4968\n",
       "CHIAPAS                    1101        5537\n",
       "CHIHUAHUA                  1479       11260\n",
       "CDMX                      10072      127304\n",
       "DURANGO                     692        9422\n",
       "GUANAJUATO                 3105       40281\n",
       "GUERRERO                   2039       18475\n",
       "HIDALGO                    2068       11528\n",
       "JALISCO                    3551       26137\n",
       "EDOMEX                    12170       73433\n",
       "MICHOACAN                  1800       20442\n",
       "MORELOS                    1119        5128\n",
       "NAYARIT                     779        5468\n",
       "NUEVO LEON                 3317       41540\n",
       "OAXACA                     1516       16898\n",
       "PUEBLA                     4161       28299\n",
       "QUERETARO                  1011        9393\n",
       "Q. ROO                     1704       10755\n",
       "SLP                        1797       22997\n",
       "SINALOA                    3343       16442\n",
       "SONORA                     2948       22684\n",
       "TABASCO                    2817       30052\n",
       "TAMAULIPAS                 2382       27615\n",
       "TLAXCALA                   1117        6764\n",
       "VERACRUZ                   4549       30277\n",
       "YUCATAN                    1646       17715\n",
       "ZACATECAS                   790        7641"
      ]
     },
     "execution_count": 29,
     "metadata": {},
     "output_type": "execute_result"
    }
   ],
   "source": [
    "covid_por_estado = format_dataframe(covid_por_estado, estados, 'ESTADOS')\n",
    "covid_por_estado"
   ]
  },
  {
   "cell_type": "code",
   "execution_count": 30,
   "metadata": {},
   "outputs": [],
   "source": [
    "save_csv(covid_por_estado, 'covid_por_estado')"
   ]
  },
  {
   "cell_type": "markdown",
   "metadata": {},
   "source": [
    "#### ¿Cómo ha ido avanzando la pandemia en México? ####"
   ]
  },
  {
   "cell_type": "code",
   "execution_count": 31,
   "metadata": {
    "scrolled": true
   },
   "outputs": [
    {
     "data": {
      "text/html": [
       "<div>\n",
       "<style scoped>\n",
       "    .dataframe tbody tr th:only-of-type {\n",
       "        vertical-align: middle;\n",
       "    }\n",
       "\n",
       "    .dataframe tbody tr th {\n",
       "        vertical-align: top;\n",
       "    }\n",
       "\n",
       "    .dataframe thead th {\n",
       "        text-align: right;\n",
       "    }\n",
       "</style>\n",
       "<table border=\"1\" class=\"dataframe\">\n",
       "  <thead>\n",
       "    <tr style=\"text-align: right;\">\n",
       "      <th></th>\n",
       "      <th></th>\n",
       "      <th>RESULTADO</th>\n",
       "    </tr>\n",
       "    <tr>\n",
       "      <th>MES_INGRESO</th>\n",
       "      <th>RESULTADO</th>\n",
       "      <th></th>\n",
       "    </tr>\n",
       "  </thead>\n",
       "  <tbody>\n",
       "    <tr>\n",
       "      <th>1</th>\n",
       "      <th>1</th>\n",
       "      <td>2</td>\n",
       "    </tr>\n",
       "    <tr>\n",
       "      <th rowspan=\"2\" valign=\"top\">2</th>\n",
       "      <th>0</th>\n",
       "      <td>1</td>\n",
       "    </tr>\n",
       "    <tr>\n",
       "      <th>1</th>\n",
       "      <td>8</td>\n",
       "    </tr>\n",
       "    <tr>\n",
       "      <th rowspan=\"2\" valign=\"top\">3</th>\n",
       "      <th>0</th>\n",
       "      <td>355</td>\n",
       "    </tr>\n",
       "    <tr>\n",
       "      <th>1</th>\n",
       "      <td>2185</td>\n",
       "    </tr>\n",
       "    <tr>\n",
       "      <th rowspan=\"2\" valign=\"top\">4</th>\n",
       "      <th>0</th>\n",
       "      <td>5643</td>\n",
       "    </tr>\n",
       "    <tr>\n",
       "      <th>1</th>\n",
       "      <td>21003</td>\n",
       "    </tr>\n",
       "    <tr>\n",
       "      <th rowspan=\"2\" valign=\"top\">5</th>\n",
       "      <th>0</th>\n",
       "      <td>14379</td>\n",
       "    </tr>\n",
       "    <tr>\n",
       "      <th>1</th>\n",
       "      <td>72565</td>\n",
       "    </tr>\n",
       "    <tr>\n",
       "      <th rowspan=\"2\" valign=\"top\">6</th>\n",
       "      <th>0</th>\n",
       "      <td>18759</td>\n",
       "    </tr>\n",
       "    <tr>\n",
       "      <th>1</th>\n",
       "      <td>134691</td>\n",
       "    </tr>\n",
       "    <tr>\n",
       "      <th rowspan=\"2\" valign=\"top\">7</th>\n",
       "      <th>0</th>\n",
       "      <td>19773</td>\n",
       "    </tr>\n",
       "    <tr>\n",
       "      <th>1</th>\n",
       "      <td>180861</td>\n",
       "    </tr>\n",
       "    <tr>\n",
       "      <th rowspan=\"2\" valign=\"top\">8</th>\n",
       "      <th>0</th>\n",
       "      <td>13808</td>\n",
       "    </tr>\n",
       "    <tr>\n",
       "      <th>1</th>\n",
       "      <td>144933</td>\n",
       "    </tr>\n",
       "    <tr>\n",
       "      <th rowspan=\"2\" valign=\"top\">9</th>\n",
       "      <th>0</th>\n",
       "      <td>8063</td>\n",
       "    </tr>\n",
       "    <tr>\n",
       "      <th>1</th>\n",
       "      <td>128091</td>\n",
       "    </tr>\n",
       "    <tr>\n",
       "      <th rowspan=\"2\" valign=\"top\">10</th>\n",
       "      <th>0</th>\n",
       "      <td>639</td>\n",
       "    </tr>\n",
       "    <tr>\n",
       "      <th>1</th>\n",
       "      <td>30640</td>\n",
       "    </tr>\n",
       "  </tbody>\n",
       "</table>\n",
       "</div>"
      ],
      "text/plain": [
       "                       RESULTADO\n",
       "MES_INGRESO RESULTADO           \n",
       "1           1                  2\n",
       "2           0                  1\n",
       "            1                  8\n",
       "3           0                355\n",
       "            1               2185\n",
       "4           0               5643\n",
       "            1              21003\n",
       "5           0              14379\n",
       "            1              72565\n",
       "6           0              18759\n",
       "            1             134691\n",
       "7           0              19773\n",
       "            1             180861\n",
       "8           0              13808\n",
       "            1             144933\n",
       "9           0               8063\n",
       "            1             128091\n",
       "10          0                639\n",
       "            1              30640"
      ]
     },
     "execution_count": 31,
     "metadata": {},
     "output_type": "execute_result"
    }
   ],
   "source": [
    "# ¿Cómo ha ido avanzando la pandemia en México?\n",
    "covid_por_mes = df[['RESULTADO']].groupby([df['MES_INGRESO'], df['RESULTADO']]).count()\n",
    "covid_por_mes"
   ]
  },
  {
   "cell_type": "code",
   "execution_count": 32,
   "metadata": {},
   "outputs": [],
   "source": [
    "meses = [\n",
    "    'ENERO',\n",
    "    'FEBRERO',\n",
    "    'MARZO',\n",
    "    'ABRIL',\n",
    "    'MAYO',\n",
    "    'JUNIO',\n",
    "    'JULIO',\n",
    "    'AGOSTO',\n",
    "    'SEPTIEMBRE',\n",
    "    'OCTUBRE'\n",
    "]"
   ]
  },
  {
   "cell_type": "code",
   "execution_count": 33,
   "metadata": {
    "scrolled": true
   },
   "outputs": [
    {
     "data": {
      "text/html": [
       "<div>\n",
       "<style scoped>\n",
       "    .dataframe tbody tr th:only-of-type {\n",
       "        vertical-align: middle;\n",
       "    }\n",
       "\n",
       "    .dataframe tbody tr th {\n",
       "        vertical-align: top;\n",
       "    }\n",
       "\n",
       "    .dataframe thead th {\n",
       "        text-align: right;\n",
       "    }\n",
       "</style>\n",
       "<table border=\"1\" class=\"dataframe\">\n",
       "  <thead>\n",
       "    <tr style=\"text-align: right;\">\n",
       "      <th></th>\n",
       "      <th>FALLECIDOS</th>\n",
       "      <th>INFECTADOS</th>\n",
       "    </tr>\n",
       "    <tr>\n",
       "      <th>MESES</th>\n",
       "      <th></th>\n",
       "      <th></th>\n",
       "    </tr>\n",
       "  </thead>\n",
       "  <tbody>\n",
       "    <tr>\n",
       "      <th>ENERO</th>\n",
       "      <td>NaN</td>\n",
       "      <td>2.0</td>\n",
       "    </tr>\n",
       "    <tr>\n",
       "      <th>FEBRERO</th>\n",
       "      <td>1.0</td>\n",
       "      <td>8.0</td>\n",
       "    </tr>\n",
       "    <tr>\n",
       "      <th>MARZO</th>\n",
       "      <td>355.0</td>\n",
       "      <td>2185.0</td>\n",
       "    </tr>\n",
       "    <tr>\n",
       "      <th>ABRIL</th>\n",
       "      <td>5643.0</td>\n",
       "      <td>21003.0</td>\n",
       "    </tr>\n",
       "    <tr>\n",
       "      <th>MAYO</th>\n",
       "      <td>14379.0</td>\n",
       "      <td>72565.0</td>\n",
       "    </tr>\n",
       "    <tr>\n",
       "      <th>JUNIO</th>\n",
       "      <td>18759.0</td>\n",
       "      <td>134691.0</td>\n",
       "    </tr>\n",
       "    <tr>\n",
       "      <th>JULIO</th>\n",
       "      <td>19773.0</td>\n",
       "      <td>180861.0</td>\n",
       "    </tr>\n",
       "    <tr>\n",
       "      <th>AGOSTO</th>\n",
       "      <td>13808.0</td>\n",
       "      <td>144933.0</td>\n",
       "    </tr>\n",
       "    <tr>\n",
       "      <th>SEPTIEMBRE</th>\n",
       "      <td>8063.0</td>\n",
       "      <td>128091.0</td>\n",
       "    </tr>\n",
       "    <tr>\n",
       "      <th>OCTUBRE</th>\n",
       "      <td>639.0</td>\n",
       "      <td>30640.0</td>\n",
       "    </tr>\n",
       "  </tbody>\n",
       "</table>\n",
       "</div>"
      ],
      "text/plain": [
       "            FALLECIDOS  INFECTADOS\n",
       "MESES                             \n",
       "ENERO              NaN         2.0\n",
       "FEBRERO            1.0         8.0\n",
       "MARZO            355.0      2185.0\n",
       "ABRIL           5643.0     21003.0\n",
       "MAYO           14379.0     72565.0\n",
       "JUNIO          18759.0    134691.0\n",
       "JULIO          19773.0    180861.0\n",
       "AGOSTO         13808.0    144933.0\n",
       "SEPTIEMBRE      8063.0    128091.0\n",
       "OCTUBRE          639.0     30640.0"
      ]
     },
     "execution_count": 33,
     "metadata": {},
     "output_type": "execute_result"
    }
   ],
   "source": [
    "covid_por_mes = format_dataframe(covid_por_mes, meses, 'MESES')\n",
    "covid_por_mes"
   ]
  },
  {
   "cell_type": "code",
   "execution_count": 34,
   "metadata": {},
   "outputs": [],
   "source": [
    "# Rellenamos datos vacíos antes de guardar\n",
    "covid_por_mes = covid_por_mes.fillna(0)\n",
    "covid_por_mes = covid_por_mes.astype(np.int32)"
   ]
  },
  {
   "cell_type": "code",
   "execution_count": 35,
   "metadata": {},
   "outputs": [
    {
     "data": {
      "text/html": [
       "<div>\n",
       "<style scoped>\n",
       "    .dataframe tbody tr th:only-of-type {\n",
       "        vertical-align: middle;\n",
       "    }\n",
       "\n",
       "    .dataframe tbody tr th {\n",
       "        vertical-align: top;\n",
       "    }\n",
       "\n",
       "    .dataframe thead th {\n",
       "        text-align: right;\n",
       "    }\n",
       "</style>\n",
       "<table border=\"1\" class=\"dataframe\">\n",
       "  <thead>\n",
       "    <tr style=\"text-align: right;\">\n",
       "      <th></th>\n",
       "      <th>FALLECIDOS</th>\n",
       "      <th>INFECTADOS</th>\n",
       "    </tr>\n",
       "    <tr>\n",
       "      <th>MESES</th>\n",
       "      <th></th>\n",
       "      <th></th>\n",
       "    </tr>\n",
       "  </thead>\n",
       "  <tbody>\n",
       "    <tr>\n",
       "      <th>ENERO</th>\n",
       "      <td>0</td>\n",
       "      <td>2</td>\n",
       "    </tr>\n",
       "    <tr>\n",
       "      <th>FEBRERO</th>\n",
       "      <td>1</td>\n",
       "      <td>8</td>\n",
       "    </tr>\n",
       "    <tr>\n",
       "      <th>MARZO</th>\n",
       "      <td>355</td>\n",
       "      <td>2185</td>\n",
       "    </tr>\n",
       "    <tr>\n",
       "      <th>ABRIL</th>\n",
       "      <td>5643</td>\n",
       "      <td>21003</td>\n",
       "    </tr>\n",
       "    <tr>\n",
       "      <th>MAYO</th>\n",
       "      <td>14379</td>\n",
       "      <td>72565</td>\n",
       "    </tr>\n",
       "    <tr>\n",
       "      <th>JUNIO</th>\n",
       "      <td>18759</td>\n",
       "      <td>134691</td>\n",
       "    </tr>\n",
       "    <tr>\n",
       "      <th>JULIO</th>\n",
       "      <td>19773</td>\n",
       "      <td>180861</td>\n",
       "    </tr>\n",
       "    <tr>\n",
       "      <th>AGOSTO</th>\n",
       "      <td>13808</td>\n",
       "      <td>144933</td>\n",
       "    </tr>\n",
       "    <tr>\n",
       "      <th>SEPTIEMBRE</th>\n",
       "      <td>8063</td>\n",
       "      <td>128091</td>\n",
       "    </tr>\n",
       "    <tr>\n",
       "      <th>OCTUBRE</th>\n",
       "      <td>639</td>\n",
       "      <td>30640</td>\n",
       "    </tr>\n",
       "  </tbody>\n",
       "</table>\n",
       "</div>"
      ],
      "text/plain": [
       "            FALLECIDOS  INFECTADOS\n",
       "MESES                             \n",
       "ENERO                0           2\n",
       "FEBRERO              1           8\n",
       "MARZO              355        2185\n",
       "ABRIL             5643       21003\n",
       "MAYO             14379       72565\n",
       "JUNIO            18759      134691\n",
       "JULIO            19773      180861\n",
       "AGOSTO           13808      144933\n",
       "SEPTIEMBRE        8063      128091\n",
       "OCTUBRE            639       30640"
      ]
     },
     "execution_count": 35,
     "metadata": {},
     "output_type": "execute_result"
    }
   ],
   "source": [
    "covid_por_mes"
   ]
  },
  {
   "cell_type": "code",
   "execution_count": 36,
   "metadata": {},
   "outputs": [],
   "source": [
    "save_csv(covid_por_mes, 'covid_por_mes')"
   ]
  },
  {
   "cell_type": "markdown",
   "metadata": {},
   "source": [
    "#### ¿Cuál ha sido el rendimiento de los diferentes sistemas de salud durante la pandemia? ####"
   ]
  },
  {
   "cell_type": "code",
   "execution_count": 37,
   "metadata": {
    "scrolled": true
   },
   "outputs": [
    {
     "data": {
      "text/html": [
       "<div>\n",
       "<style scoped>\n",
       "    .dataframe tbody tr th:only-of-type {\n",
       "        vertical-align: middle;\n",
       "    }\n",
       "\n",
       "    .dataframe tbody tr th {\n",
       "        vertical-align: top;\n",
       "    }\n",
       "\n",
       "    .dataframe thead th {\n",
       "        text-align: right;\n",
       "    }\n",
       "</style>\n",
       "<table border=\"1\" class=\"dataframe\">\n",
       "  <thead>\n",
       "    <tr style=\"text-align: right;\">\n",
       "      <th></th>\n",
       "      <th></th>\n",
       "      <th>RESULTADO</th>\n",
       "    </tr>\n",
       "    <tr>\n",
       "      <th>SECTOR</th>\n",
       "      <th>RESULTADO</th>\n",
       "      <th></th>\n",
       "    </tr>\n",
       "  </thead>\n",
       "  <tbody>\n",
       "    <tr>\n",
       "      <th rowspan=\"2\" valign=\"top\">1</th>\n",
       "      <th>0</th>\n",
       "      <td>3</td>\n",
       "    </tr>\n",
       "    <tr>\n",
       "      <th>1</th>\n",
       "      <td>62</td>\n",
       "    </tr>\n",
       "    <tr>\n",
       "      <th>2</th>\n",
       "      <th>1</th>\n",
       "      <td>510</td>\n",
       "    </tr>\n",
       "    <tr>\n",
       "      <th rowspan=\"2\" valign=\"top\">3</th>\n",
       "      <th>0</th>\n",
       "      <td>1673</td>\n",
       "    </tr>\n",
       "    <tr>\n",
       "      <th>1</th>\n",
       "      <td>12764</td>\n",
       "    </tr>\n",
       "    <tr>\n",
       "      <th rowspan=\"2\" valign=\"top\">4</th>\n",
       "      <th>0</th>\n",
       "      <td>45523</td>\n",
       "    </tr>\n",
       "    <tr>\n",
       "      <th>1</th>\n",
       "      <td>206592</td>\n",
       "    </tr>\n",
       "    <tr>\n",
       "      <th rowspan=\"2\" valign=\"top\">5</th>\n",
       "      <th>0</th>\n",
       "      <td>753</td>\n",
       "    </tr>\n",
       "    <tr>\n",
       "      <th>1</th>\n",
       "      <td>5232</td>\n",
       "    </tr>\n",
       "    <tr>\n",
       "      <th rowspan=\"2\" valign=\"top\">6</th>\n",
       "      <th>0</th>\n",
       "      <td>5451</td>\n",
       "    </tr>\n",
       "    <tr>\n",
       "      <th>1</th>\n",
       "      <td>28464</td>\n",
       "    </tr>\n",
       "    <tr>\n",
       "      <th rowspan=\"2\" valign=\"top\">7</th>\n",
       "      <th>0</th>\n",
       "      <td>30</td>\n",
       "    </tr>\n",
       "    <tr>\n",
       "      <th>1</th>\n",
       "      <td>680</td>\n",
       "    </tr>\n",
       "    <tr>\n",
       "      <th rowspan=\"2\" valign=\"top\">8</th>\n",
       "      <th>0</th>\n",
       "      <td>1244</td>\n",
       "    </tr>\n",
       "    <tr>\n",
       "      <th>1</th>\n",
       "      <td>6639</td>\n",
       "    </tr>\n",
       "    <tr>\n",
       "      <th rowspan=\"2\" valign=\"top\">9</th>\n",
       "      <th>0</th>\n",
       "      <td>1082</td>\n",
       "    </tr>\n",
       "    <tr>\n",
       "      <th>1</th>\n",
       "      <td>23097</td>\n",
       "    </tr>\n",
       "    <tr>\n",
       "      <th rowspan=\"2\" valign=\"top\">10</th>\n",
       "      <th>0</th>\n",
       "      <td>805</td>\n",
       "    </tr>\n",
       "    <tr>\n",
       "      <th>1</th>\n",
       "      <td>4479</td>\n",
       "    </tr>\n",
       "    <tr>\n",
       "      <th rowspan=\"2\" valign=\"top\">11</th>\n",
       "      <th>0</th>\n",
       "      <td>361</td>\n",
       "    </tr>\n",
       "    <tr>\n",
       "      <th>1</th>\n",
       "      <td>4776</td>\n",
       "    </tr>\n",
       "    <tr>\n",
       "      <th rowspan=\"2\" valign=\"top\">12</th>\n",
       "      <th>0</th>\n",
       "      <td>24424</td>\n",
       "    </tr>\n",
       "    <tr>\n",
       "      <th>1</th>\n",
       "      <td>421218</td>\n",
       "    </tr>\n",
       "    <tr>\n",
       "      <th rowspan=\"2\" valign=\"top\">13</th>\n",
       "      <th>0</th>\n",
       "      <td>71</td>\n",
       "    </tr>\n",
       "    <tr>\n",
       "      <th>1</th>\n",
       "      <td>466</td>\n",
       "    </tr>\n",
       "  </tbody>\n",
       "</table>\n",
       "</div>"
      ],
      "text/plain": [
       "                  RESULTADO\n",
       "SECTOR RESULTADO           \n",
       "1      0                  3\n",
       "       1                 62\n",
       "2      1                510\n",
       "3      0               1673\n",
       "       1              12764\n",
       "4      0              45523\n",
       "       1             206592\n",
       "5      0                753\n",
       "       1               5232\n",
       "6      0               5451\n",
       "       1              28464\n",
       "7      0                 30\n",
       "       1                680\n",
       "8      0               1244\n",
       "       1               6639\n",
       "9      0               1082\n",
       "       1              23097\n",
       "10     0                805\n",
       "       1               4479\n",
       "11     0                361\n",
       "       1               4776\n",
       "12     0              24424\n",
       "       1             421218\n",
       "13     0                 71\n",
       "       1                466"
      ]
     },
     "execution_count": 37,
     "metadata": {},
     "output_type": "execute_result"
    }
   ],
   "source": [
    "covid_por_sistema = df[['RESULTADO']].groupby([df['SECTOR'], df['RESULTADO']]).count()\n",
    "covid_por_sistema"
   ]
  },
  {
   "cell_type": "code",
   "execution_count": 38,
   "metadata": {},
   "outputs": [],
   "source": [
    "sistemas = [\n",
    "    'CRUZ_ROJA',\n",
    "    'DIF',\n",
    "    'ESTATAL',\n",
    "    'IMSS',\n",
    "    'IMSS-BIENESTAR',\n",
    "    'ISSSTE',\n",
    "    'MUNICIPAL',\n",
    "    'PEMEX',\n",
    "    'PRIVADA',\n",
    "    'SEDENA',\n",
    "    'SEMAR',\n",
    "    'SSA',\n",
    "    'UNIVERSITARIO',\n",
    "]"
   ]
  },
  {
   "cell_type": "code",
   "execution_count": 39,
   "metadata": {},
   "outputs": [
    {
     "data": {
      "text/html": [
       "<div>\n",
       "<style scoped>\n",
       "    .dataframe tbody tr th:only-of-type {\n",
       "        vertical-align: middle;\n",
       "    }\n",
       "\n",
       "    .dataframe tbody tr th {\n",
       "        vertical-align: top;\n",
       "    }\n",
       "\n",
       "    .dataframe thead th {\n",
       "        text-align: right;\n",
       "    }\n",
       "</style>\n",
       "<table border=\"1\" class=\"dataframe\">\n",
       "  <thead>\n",
       "    <tr style=\"text-align: right;\">\n",
       "      <th></th>\n",
       "      <th>FALLECIDOS</th>\n",
       "      <th>INFECTADOS</th>\n",
       "    </tr>\n",
       "    <tr>\n",
       "      <th>SISTEMA</th>\n",
       "      <th></th>\n",
       "      <th></th>\n",
       "    </tr>\n",
       "  </thead>\n",
       "  <tbody>\n",
       "    <tr>\n",
       "      <th>CRUZ_ROJA</th>\n",
       "      <td>3.0</td>\n",
       "      <td>62.0</td>\n",
       "    </tr>\n",
       "    <tr>\n",
       "      <th>DIF</th>\n",
       "      <td>NaN</td>\n",
       "      <td>510.0</td>\n",
       "    </tr>\n",
       "    <tr>\n",
       "      <th>ESTATAL</th>\n",
       "      <td>1673.0</td>\n",
       "      <td>12764.0</td>\n",
       "    </tr>\n",
       "    <tr>\n",
       "      <th>IMSS</th>\n",
       "      <td>45523.0</td>\n",
       "      <td>206592.0</td>\n",
       "    </tr>\n",
       "    <tr>\n",
       "      <th>IMSS-BIENESTAR</th>\n",
       "      <td>753.0</td>\n",
       "      <td>5232.0</td>\n",
       "    </tr>\n",
       "    <tr>\n",
       "      <th>ISSSTE</th>\n",
       "      <td>5451.0</td>\n",
       "      <td>28464.0</td>\n",
       "    </tr>\n",
       "    <tr>\n",
       "      <th>MUNICIPAL</th>\n",
       "      <td>30.0</td>\n",
       "      <td>680.0</td>\n",
       "    </tr>\n",
       "    <tr>\n",
       "      <th>PEMEX</th>\n",
       "      <td>1244.0</td>\n",
       "      <td>6639.0</td>\n",
       "    </tr>\n",
       "    <tr>\n",
       "      <th>PRIVADA</th>\n",
       "      <td>1082.0</td>\n",
       "      <td>23097.0</td>\n",
       "    </tr>\n",
       "    <tr>\n",
       "      <th>SEDENA</th>\n",
       "      <td>805.0</td>\n",
       "      <td>4479.0</td>\n",
       "    </tr>\n",
       "    <tr>\n",
       "      <th>SEMAR</th>\n",
       "      <td>361.0</td>\n",
       "      <td>4776.0</td>\n",
       "    </tr>\n",
       "    <tr>\n",
       "      <th>SSA</th>\n",
       "      <td>24424.0</td>\n",
       "      <td>421218.0</td>\n",
       "    </tr>\n",
       "    <tr>\n",
       "      <th>UNIVERSITARIO</th>\n",
       "      <td>71.0</td>\n",
       "      <td>466.0</td>\n",
       "    </tr>\n",
       "  </tbody>\n",
       "</table>\n",
       "</div>"
      ],
      "text/plain": [
       "                FALLECIDOS  INFECTADOS\n",
       "SISTEMA                               \n",
       "CRUZ_ROJA              3.0        62.0\n",
       "DIF                    NaN       510.0\n",
       "ESTATAL             1673.0     12764.0\n",
       "IMSS               45523.0    206592.0\n",
       "IMSS-BIENESTAR       753.0      5232.0\n",
       "ISSSTE              5451.0     28464.0\n",
       "MUNICIPAL             30.0       680.0\n",
       "PEMEX               1244.0      6639.0\n",
       "PRIVADA             1082.0     23097.0\n",
       "SEDENA               805.0      4479.0\n",
       "SEMAR                361.0      4776.0\n",
       "SSA                24424.0    421218.0\n",
       "UNIVERSITARIO         71.0       466.0"
      ]
     },
     "execution_count": 39,
     "metadata": {},
     "output_type": "execute_result"
    }
   ],
   "source": [
    "covid_por_sistema = format_dataframe(covid_por_sistema, sistemas, 'SISTEMA')\n",
    "covid_por_sistema"
   ]
  },
  {
   "cell_type": "code",
   "execution_count": 40,
   "metadata": {},
   "outputs": [],
   "source": [
    "# Antes de guardar, necesitamos rellenar el dato vacío y optimizar el DF\n",
    "covid_por_sistema = covid_por_sistema.fillna(0)\n",
    "covid_por_sistema = covid_por_sistema.astype(np.int32)"
   ]
  },
  {
   "cell_type": "code",
   "execution_count": 41,
   "metadata": {
    "scrolled": true
   },
   "outputs": [
    {
     "data": {
      "text/html": [
       "<div>\n",
       "<style scoped>\n",
       "    .dataframe tbody tr th:only-of-type {\n",
       "        vertical-align: middle;\n",
       "    }\n",
       "\n",
       "    .dataframe tbody tr th {\n",
       "        vertical-align: top;\n",
       "    }\n",
       "\n",
       "    .dataframe thead th {\n",
       "        text-align: right;\n",
       "    }\n",
       "</style>\n",
       "<table border=\"1\" class=\"dataframe\">\n",
       "  <thead>\n",
       "    <tr style=\"text-align: right;\">\n",
       "      <th></th>\n",
       "      <th>FALLECIDOS</th>\n",
       "      <th>INFECTADOS</th>\n",
       "    </tr>\n",
       "    <tr>\n",
       "      <th>SISTEMA</th>\n",
       "      <th></th>\n",
       "      <th></th>\n",
       "    </tr>\n",
       "  </thead>\n",
       "  <tbody>\n",
       "    <tr>\n",
       "      <th>CRUZ_ROJA</th>\n",
       "      <td>3</td>\n",
       "      <td>62</td>\n",
       "    </tr>\n",
       "    <tr>\n",
       "      <th>DIF</th>\n",
       "      <td>0</td>\n",
       "      <td>510</td>\n",
       "    </tr>\n",
       "    <tr>\n",
       "      <th>ESTATAL</th>\n",
       "      <td>1673</td>\n",
       "      <td>12764</td>\n",
       "    </tr>\n",
       "    <tr>\n",
       "      <th>IMSS</th>\n",
       "      <td>45523</td>\n",
       "      <td>206592</td>\n",
       "    </tr>\n",
       "    <tr>\n",
       "      <th>IMSS-BIENESTAR</th>\n",
       "      <td>753</td>\n",
       "      <td>5232</td>\n",
       "    </tr>\n",
       "    <tr>\n",
       "      <th>ISSSTE</th>\n",
       "      <td>5451</td>\n",
       "      <td>28464</td>\n",
       "    </tr>\n",
       "    <tr>\n",
       "      <th>MUNICIPAL</th>\n",
       "      <td>30</td>\n",
       "      <td>680</td>\n",
       "    </tr>\n",
       "    <tr>\n",
       "      <th>PEMEX</th>\n",
       "      <td>1244</td>\n",
       "      <td>6639</td>\n",
       "    </tr>\n",
       "    <tr>\n",
       "      <th>PRIVADA</th>\n",
       "      <td>1082</td>\n",
       "      <td>23097</td>\n",
       "    </tr>\n",
       "    <tr>\n",
       "      <th>SEDENA</th>\n",
       "      <td>805</td>\n",
       "      <td>4479</td>\n",
       "    </tr>\n",
       "    <tr>\n",
       "      <th>SEMAR</th>\n",
       "      <td>361</td>\n",
       "      <td>4776</td>\n",
       "    </tr>\n",
       "    <tr>\n",
       "      <th>SSA</th>\n",
       "      <td>24424</td>\n",
       "      <td>421218</td>\n",
       "    </tr>\n",
       "    <tr>\n",
       "      <th>UNIVERSITARIO</th>\n",
       "      <td>71</td>\n",
       "      <td>466</td>\n",
       "    </tr>\n",
       "  </tbody>\n",
       "</table>\n",
       "</div>"
      ],
      "text/plain": [
       "                FALLECIDOS  INFECTADOS\n",
       "SISTEMA                               \n",
       "CRUZ_ROJA                3          62\n",
       "DIF                      0         510\n",
       "ESTATAL               1673       12764\n",
       "IMSS                 45523      206592\n",
       "IMSS-BIENESTAR         753        5232\n",
       "ISSSTE                5451       28464\n",
       "MUNICIPAL               30         680\n",
       "PEMEX                 1244        6639\n",
       "PRIVADA               1082       23097\n",
       "SEDENA                 805        4479\n",
       "SEMAR                  361        4776\n",
       "SSA                  24424      421218\n",
       "UNIVERSITARIO           71         466"
      ]
     },
     "execution_count": 41,
     "metadata": {},
     "output_type": "execute_result"
    }
   ],
   "source": [
    "covid_por_sistema"
   ]
  },
  {
   "cell_type": "code",
   "execution_count": 42,
   "metadata": {},
   "outputs": [],
   "source": [
    "save_csv(covid_por_sistema, 'covid_por_sistema')"
   ]
  },
  {
   "cell_type": "markdown",
   "metadata": {},
   "source": [
    "### Concatenando DataFrames ###\n",
    "Otra función común al hacer análissi de datos, es juntar dos o más DataFrames. Aunque se pueden hacer combinaciones interesantes con merge() y join(), en este caso sólo necesitamos \"pegar\" dos DataFrames, no mezclarlos.\n",
    "\n",
    "Aquí respondemos las preguntas:\n",
    "* ¿Cuál es el efecto de enfermedades existentes en los infectados de COVID?\n",
    "* ¿Cuál es el efecto de las complicaciones presentadas en lso infectados?"
   ]
  },
  {
   "cell_type": "markdown",
   "metadata": {},
   "source": [
    "#### ¿Cuál es el efecto de enfermedades existentes en los infectados de COVID? ¿Cuántos muertos han producido estas enfermedades preexistentes? ####"
   ]
  },
  {
   "cell_type": "code",
   "execution_count": 43,
   "metadata": {},
   "outputs": [
    {
     "data": {
      "text/html": [
       "<div>\n",
       "<style scoped>\n",
       "    .dataframe tbody tr th:only-of-type {\n",
       "        vertical-align: middle;\n",
       "    }\n",
       "\n",
       "    .dataframe tbody tr th {\n",
       "        vertical-align: top;\n",
       "    }\n",
       "\n",
       "    .dataframe thead th {\n",
       "        text-align: right;\n",
       "    }\n",
       "</style>\n",
       "<table border=\"1\" class=\"dataframe\">\n",
       "  <thead>\n",
       "    <tr style=\"text-align: right;\">\n",
       "      <th></th>\n",
       "      <th>HIPERTENSION</th>\n",
       "    </tr>\n",
       "    <tr>\n",
       "      <th>RESULTADO</th>\n",
       "      <th></th>\n",
       "    </tr>\n",
       "  </thead>\n",
       "  <tbody>\n",
       "    <tr>\n",
       "      <th>0</th>\n",
       "      <td>36669</td>\n",
       "    </tr>\n",
       "    <tr>\n",
       "      <th>1</th>\n",
       "      <td>115890</td>\n",
       "    </tr>\n",
       "  </tbody>\n",
       "</table>\n",
       "</div>"
      ],
      "text/plain": [
       "           HIPERTENSION\n",
       "RESULTADO              \n",
       "0                 36669\n",
       "1                115890"
      ]
     },
     "execution_count": 43,
     "metadata": {},
     "output_type": "execute_result"
    }
   ],
   "source": [
    "# Primero seleccionamos los registros de personas con HIPERTENSIÓN\n",
    "# Luego agrupamos por personas fallecidas y no fallecidas\n",
    "# Calculamos el número de registros en cada grupo\n",
    "# Y seleccionamos el campo de HIPERTENSIÓN para un mejor presentación\n",
    "covid_por_hiper = df[df['HIPERTENSION']==1].groupby([df['RESULTADO']]).count()[['HIPERTENSION']]\n",
    "covid_por_hiper"
   ]
  },
  {
   "cell_type": "code",
   "execution_count": 44,
   "metadata": {},
   "outputs": [
    {
     "data": {
      "text/html": [
       "<div>\n",
       "<style scoped>\n",
       "    .dataframe tbody tr th:only-of-type {\n",
       "        vertical-align: middle;\n",
       "    }\n",
       "\n",
       "    .dataframe tbody tr th {\n",
       "        vertical-align: top;\n",
       "    }\n",
       "\n",
       "    .dataframe thead th {\n",
       "        text-align: right;\n",
       "    }\n",
       "</style>\n",
       "<table border=\"1\" class=\"dataframe\">\n",
       "  <thead>\n",
       "    <tr style=\"text-align: right;\">\n",
       "      <th>RESULTADO</th>\n",
       "      <th>0</th>\n",
       "      <th>1</th>\n",
       "    </tr>\n",
       "  </thead>\n",
       "  <tbody>\n",
       "    <tr>\n",
       "      <th>HIPERTENSION</th>\n",
       "      <td>36669</td>\n",
       "      <td>115890</td>\n",
       "    </tr>\n",
       "  </tbody>\n",
       "</table>\n",
       "</div>"
      ],
      "text/plain": [
       "RESULTADO         0       1\n",
       "HIPERTENSION  36669  115890"
      ]
     },
     "execution_count": 44,
     "metadata": {},
     "output_type": "execute_result"
    }
   ],
   "source": [
    "# Para poder concatenarlo, tomamos la transpuesta\n",
    "covid_por_hiper = covid_por_hiper.T\n",
    "covid_por_hiper"
   ]
  },
  {
   "cell_type": "code",
   "execution_count": 45,
   "metadata": {},
   "outputs": [
    {
     "data": {
      "text/html": [
       "<div>\n",
       "<style scoped>\n",
       "    .dataframe tbody tr th:only-of-type {\n",
       "        vertical-align: middle;\n",
       "    }\n",
       "\n",
       "    .dataframe tbody tr th {\n",
       "        vertical-align: top;\n",
       "    }\n",
       "\n",
       "    .dataframe thead th {\n",
       "        text-align: right;\n",
       "    }\n",
       "</style>\n",
       "<table border=\"1\" class=\"dataframe\">\n",
       "  <thead>\n",
       "    <tr style=\"text-align: right;\">\n",
       "      <th></th>\n",
       "      <th>CARDIOVASCULAR</th>\n",
       "    </tr>\n",
       "    <tr>\n",
       "      <th>RESULTADO</th>\n",
       "      <th></th>\n",
       "    </tr>\n",
       "  </thead>\n",
       "  <tbody>\n",
       "    <tr>\n",
       "      <th>0</th>\n",
       "      <td>4344</td>\n",
       "    </tr>\n",
       "    <tr>\n",
       "      <th>1</th>\n",
       "      <td>11077</td>\n",
       "    </tr>\n",
       "  </tbody>\n",
       "</table>\n",
       "</div>"
      ],
      "text/plain": [
       "           CARDIOVASCULAR\n",
       "RESULTADO                \n",
       "0                    4344\n",
       "1                   11077"
      ]
     },
     "execution_count": 45,
     "metadata": {},
     "output_type": "execute_result"
    }
   ],
   "source": [
    "# Hacemos lo mismo para personas con enfermedades CARDIOVASCULARes\n",
    "covid_por_cardio = df[df['CARDIOVASCULAR']==1].groupby(df['RESULTADO']).count()[['CARDIOVASCULAR']]\n",
    "covid_por_cardio"
   ]
  },
  {
   "cell_type": "code",
   "execution_count": 46,
   "metadata": {},
   "outputs": [
    {
     "data": {
      "text/html": [
       "<div>\n",
       "<style scoped>\n",
       "    .dataframe tbody tr th:only-of-type {\n",
       "        vertical-align: middle;\n",
       "    }\n",
       "\n",
       "    .dataframe tbody tr th {\n",
       "        vertical-align: top;\n",
       "    }\n",
       "\n",
       "    .dataframe thead th {\n",
       "        text-align: right;\n",
       "    }\n",
       "</style>\n",
       "<table border=\"1\" class=\"dataframe\">\n",
       "  <thead>\n",
       "    <tr style=\"text-align: right;\">\n",
       "      <th>RESULTADO</th>\n",
       "      <th>0</th>\n",
       "      <th>1</th>\n",
       "    </tr>\n",
       "  </thead>\n",
       "  <tbody>\n",
       "    <tr>\n",
       "      <th>CARDIOVASCULAR</th>\n",
       "      <td>4344</td>\n",
       "      <td>11077</td>\n",
       "    </tr>\n",
       "  </tbody>\n",
       "</table>\n",
       "</div>"
      ],
      "text/plain": [
       "RESULTADO          0      1\n",
       "CARDIOVASCULAR  4344  11077"
      ]
     },
     "execution_count": 46,
     "metadata": {},
     "output_type": "execute_result"
    }
   ],
   "source": [
    "covid_por_cardio = covid_por_cardio.T\n",
    "covid_por_cardio"
   ]
  },
  {
   "cell_type": "code",
   "execution_count": 47,
   "metadata": {},
   "outputs": [
    {
     "data": {
      "text/html": [
       "<div>\n",
       "<style scoped>\n",
       "    .dataframe tbody tr th:only-of-type {\n",
       "        vertical-align: middle;\n",
       "    }\n",
       "\n",
       "    .dataframe tbody tr th {\n",
       "        vertical-align: top;\n",
       "    }\n",
       "\n",
       "    .dataframe thead th {\n",
       "        text-align: right;\n",
       "    }\n",
       "</style>\n",
       "<table border=\"1\" class=\"dataframe\">\n",
       "  <thead>\n",
       "    <tr style=\"text-align: right;\">\n",
       "      <th>RESULTADO</th>\n",
       "      <th>0</th>\n",
       "      <th>1</th>\n",
       "    </tr>\n",
       "  </thead>\n",
       "  <tbody>\n",
       "    <tr>\n",
       "      <th>HIPERTENSION</th>\n",
       "      <td>36669</td>\n",
       "      <td>115890</td>\n",
       "    </tr>\n",
       "    <tr>\n",
       "      <th>CARDIOVASCULAR</th>\n",
       "      <td>4344</td>\n",
       "      <td>11077</td>\n",
       "    </tr>\n",
       "  </tbody>\n",
       "</table>\n",
       "</div>"
      ],
      "text/plain": [
       "RESULTADO           0       1\n",
       "HIPERTENSION    36669  115890\n",
       "CARDIOVASCULAR   4344   11077"
      ]
     },
     "execution_count": 47,
     "metadata": {},
     "output_type": "execute_result"
    }
   ],
   "source": [
    "# Concatenamos para tener una mejor presentación\n",
    "covid_por_hiper.append(covid_por_cardio)"
   ]
  },
  {
   "cell_type": "markdown",
   "metadata": {},
   "source": [
    "Todo este proceso de agrupación y agregación es tedioso. Diseñaremos una función que haga este proceso y que además concatene los DataFrames por nosotros."
   ]
  },
  {
   "cell_type": "code",
   "execution_count": 48,
   "metadata": {},
   "outputs": [],
   "source": [
    "enfermedades = ['EMBARAZO', 'DIABETES', 'EPOC', 'ASMA', 'INMUSUPR',\n",
    "                'HIPERTENSION', 'CARDIOVASCULAR', 'OBESIDAD',\n",
    "                'RENAL_CRONICA', 'TABAQUISMO', 'OTRA_COM']"
   ]
  },
  {
   "cell_type": "code",
   "execution_count": 49,
   "metadata": {},
   "outputs": [],
   "source": [
    "# Diseñamos una función que lo haga por nosotros\n",
    "def results_by_affection(data, affections):\n",
    "    res = None\n",
    "    isFirst = True\n",
    "    for affec in affections:\n",
    "        a = df[df[affec]==1][[affec]].groupby([df['RESULTADO']]).count()\n",
    "        a = a.T\n",
    "        if (isFirst):\n",
    "            res = a\n",
    "            isFirst = False\n",
    "        else:\n",
    "            res = res.append(a)\n",
    "    return res"
   ]
  },
  {
   "cell_type": "code",
   "execution_count": 50,
   "metadata": {},
   "outputs": [
    {
     "data": {
      "text/html": [
       "<div>\n",
       "<style scoped>\n",
       "    .dataframe tbody tr th:only-of-type {\n",
       "        vertical-align: middle;\n",
       "    }\n",
       "\n",
       "    .dataframe tbody tr th {\n",
       "        vertical-align: top;\n",
       "    }\n",
       "\n",
       "    .dataframe thead th {\n",
       "        text-align: right;\n",
       "    }\n",
       "</style>\n",
       "<table border=\"1\" class=\"dataframe\">\n",
       "  <thead>\n",
       "    <tr style=\"text-align: right;\">\n",
       "      <th>RESULTADO</th>\n",
       "      <th>0</th>\n",
       "      <th>1</th>\n",
       "    </tr>\n",
       "  </thead>\n",
       "  <tbody>\n",
       "    <tr>\n",
       "      <th>EMBARAZO</th>\n",
       "      <td>85</td>\n",
       "      <td>5808</td>\n",
       "    </tr>\n",
       "    <tr>\n",
       "      <th>DIABETES</th>\n",
       "      <td>31241</td>\n",
       "      <td>90035</td>\n",
       "    </tr>\n",
       "    <tr>\n",
       "      <th>EPOC</th>\n",
       "      <td>3967</td>\n",
       "      <td>7389</td>\n",
       "    </tr>\n",
       "    <tr>\n",
       "      <th>ASMA</th>\n",
       "      <td>1631</td>\n",
       "      <td>18903</td>\n",
       "    </tr>\n",
       "    <tr>\n",
       "      <th>INMUSUPR</th>\n",
       "      <td>2012</td>\n",
       "      <td>6454</td>\n",
       "    </tr>\n",
       "    <tr>\n",
       "      <th>HIPERTENSION</th>\n",
       "      <td>36669</td>\n",
       "      <td>115890</td>\n",
       "    </tr>\n",
       "    <tr>\n",
       "      <th>CARDIOVASCULAR</th>\n",
       "      <td>4344</td>\n",
       "      <td>11077</td>\n",
       "    </tr>\n",
       "    <tr>\n",
       "      <th>OBESIDAD</th>\n",
       "      <td>19920</td>\n",
       "      <td>121880</td>\n",
       "    </tr>\n",
       "    <tr>\n",
       "      <th>RENAL_CRONICA</th>\n",
       "      <td>5790</td>\n",
       "      <td>9059</td>\n",
       "    </tr>\n",
       "    <tr>\n",
       "      <th>TABAQUISMO</th>\n",
       "      <td>6542</td>\n",
       "      <td>51727</td>\n",
       "    </tr>\n",
       "    <tr>\n",
       "      <th>OTRA_COM</th>\n",
       "      <td>4286</td>\n",
       "      <td>14602</td>\n",
       "    </tr>\n",
       "  </tbody>\n",
       "</table>\n",
       "</div>"
      ],
      "text/plain": [
       "RESULTADO           0       1\n",
       "EMBARAZO           85    5808\n",
       "DIABETES        31241   90035\n",
       "EPOC             3967    7389\n",
       "ASMA             1631   18903\n",
       "INMUSUPR         2012    6454\n",
       "HIPERTENSION    36669  115890\n",
       "CARDIOVASCULAR   4344   11077\n",
       "OBESIDAD        19920  121880\n",
       "RENAL_CRONICA    5790    9059\n",
       "TABAQUISMO       6542   51727\n",
       "OTRA_COM         4286   14602"
      ]
     },
     "execution_count": 50,
     "metadata": {},
     "output_type": "execute_result"
    }
   ],
   "source": [
    "covid_por_enf = results_by_affection(df, enfermedades)\n",
    "covid_por_enf"
   ]
  },
  {
   "cell_type": "code",
   "execution_count": 51,
   "metadata": {},
   "outputs": [
    {
     "data": {
      "text/html": [
       "<div>\n",
       "<style scoped>\n",
       "    .dataframe tbody tr th:only-of-type {\n",
       "        vertical-align: middle;\n",
       "    }\n",
       "\n",
       "    .dataframe tbody tr th {\n",
       "        vertical-align: top;\n",
       "    }\n",
       "\n",
       "    .dataframe thead th {\n",
       "        text-align: right;\n",
       "    }\n",
       "</style>\n",
       "<table border=\"1\" class=\"dataframe\">\n",
       "  <thead>\n",
       "    <tr style=\"text-align: right;\">\n",
       "      <th></th>\n",
       "      <th>FALLECIDOS</th>\n",
       "      <th>INFECTADOS</th>\n",
       "    </tr>\n",
       "    <tr>\n",
       "      <th>ENFERMEDAD</th>\n",
       "      <th></th>\n",
       "      <th></th>\n",
       "    </tr>\n",
       "  </thead>\n",
       "  <tbody>\n",
       "    <tr>\n",
       "      <th>EMBARAZO</th>\n",
       "      <td>85</td>\n",
       "      <td>5808</td>\n",
       "    </tr>\n",
       "    <tr>\n",
       "      <th>DIABETES</th>\n",
       "      <td>31241</td>\n",
       "      <td>90035</td>\n",
       "    </tr>\n",
       "    <tr>\n",
       "      <th>EPOC</th>\n",
       "      <td>3967</td>\n",
       "      <td>7389</td>\n",
       "    </tr>\n",
       "    <tr>\n",
       "      <th>ASMA</th>\n",
       "      <td>1631</td>\n",
       "      <td>18903</td>\n",
       "    </tr>\n",
       "    <tr>\n",
       "      <th>INMUSUPR</th>\n",
       "      <td>2012</td>\n",
       "      <td>6454</td>\n",
       "    </tr>\n",
       "    <tr>\n",
       "      <th>HIPERTENSION</th>\n",
       "      <td>36669</td>\n",
       "      <td>115890</td>\n",
       "    </tr>\n",
       "    <tr>\n",
       "      <th>CARDIOVASCULAR</th>\n",
       "      <td>4344</td>\n",
       "      <td>11077</td>\n",
       "    </tr>\n",
       "    <tr>\n",
       "      <th>OBESIDAD</th>\n",
       "      <td>19920</td>\n",
       "      <td>121880</td>\n",
       "    </tr>\n",
       "    <tr>\n",
       "      <th>RENAL_CRONICA</th>\n",
       "      <td>5790</td>\n",
       "      <td>9059</td>\n",
       "    </tr>\n",
       "    <tr>\n",
       "      <th>TABAQUISMO</th>\n",
       "      <td>6542</td>\n",
       "      <td>51727</td>\n",
       "    </tr>\n",
       "    <tr>\n",
       "      <th>OTRA_COM</th>\n",
       "      <td>4286</td>\n",
       "      <td>14602</td>\n",
       "    </tr>\n",
       "  </tbody>\n",
       "</table>\n",
       "</div>"
      ],
      "text/plain": [
       "                FALLECIDOS  INFECTADOS\n",
       "ENFERMEDAD                            \n",
       "EMBARAZO                85        5808\n",
       "DIABETES             31241       90035\n",
       "EPOC                  3967        7389\n",
       "ASMA                  1631       18903\n",
       "INMUSUPR              2012        6454\n",
       "HIPERTENSION         36669      115890\n",
       "CARDIOVASCULAR        4344       11077\n",
       "OBESIDAD             19920      121880\n",
       "RENAL_CRONICA         5790        9059\n",
       "TABAQUISMO            6542       51727\n",
       "OTRA_COM              4286       14602"
      ]
     },
     "execution_count": 51,
     "metadata": {},
     "output_type": "execute_result"
    }
   ],
   "source": [
    "# Hacemos un pequeño cambio\n",
    "covid_por_enf.columns = pd.Index(['FALLECIDOS', 'INFECTADOS'])\n",
    "covid_por_enf.index.rename('ENFERMEDAD', inplace=True)\n",
    "covid_por_enf"
   ]
  },
  {
   "cell_type": "code",
   "execution_count": 52,
   "metadata": {},
   "outputs": [],
   "source": [
    "save_csv(covid_por_enf, 'covid_por_enf')"
   ]
  },
  {
   "cell_type": "markdown",
   "metadata": {},
   "source": [
    "#### ¿Cuál es el efecto de las complicaciones presentadas en los infectados? ####"
   ]
  },
  {
   "cell_type": "code",
   "execution_count": 53,
   "metadata": {},
   "outputs": [],
   "source": [
    "complicaciones = ['INTUBADO', 'NEUMONIA', 'UCI']"
   ]
  },
  {
   "cell_type": "code",
   "execution_count": 54,
   "metadata": {},
   "outputs": [
    {
     "data": {
      "text/html": [
       "<div>\n",
       "<style scoped>\n",
       "    .dataframe tbody tr th:only-of-type {\n",
       "        vertical-align: middle;\n",
       "    }\n",
       "\n",
       "    .dataframe tbody tr th {\n",
       "        vertical-align: top;\n",
       "    }\n",
       "\n",
       "    .dataframe thead th {\n",
       "        text-align: right;\n",
       "    }\n",
       "</style>\n",
       "<table border=\"1\" class=\"dataframe\">\n",
       "  <thead>\n",
       "    <tr style=\"text-align: right;\">\n",
       "      <th>RESULTADO</th>\n",
       "      <th>0</th>\n",
       "      <th>1</th>\n",
       "    </tr>\n",
       "  </thead>\n",
       "  <tbody>\n",
       "    <tr>\n",
       "      <th>INTUBADO</th>\n",
       "      <td>26057</td>\n",
       "      <td>6057</td>\n",
       "    </tr>\n",
       "    <tr>\n",
       "      <th>NEUMONIA</th>\n",
       "      <td>60067</td>\n",
       "      <td>82621</td>\n",
       "    </tr>\n",
       "    <tr>\n",
       "      <th>UCI</th>\n",
       "      <td>8204</td>\n",
       "      <td>7804</td>\n",
       "    </tr>\n",
       "  </tbody>\n",
       "</table>\n",
       "</div>"
      ],
      "text/plain": [
       "RESULTADO      0      1\n",
       "INTUBADO   26057   6057\n",
       "NEUMONIA   60067  82621\n",
       "UCI         8204   7804"
      ]
     },
     "execution_count": 54,
     "metadata": {},
     "output_type": "execute_result"
    }
   ],
   "source": [
    "# Aplicamos la misma función que en la pregunta anterior\n",
    "covid_por_comp = results_by_affection(df, complicaciones)\n",
    "covid_por_comp"
   ]
  },
  {
   "cell_type": "code",
   "execution_count": 55,
   "metadata": {},
   "outputs": [
    {
     "data": {
      "text/html": [
       "<div>\n",
       "<style scoped>\n",
       "    .dataframe tbody tr th:only-of-type {\n",
       "        vertical-align: middle;\n",
       "    }\n",
       "\n",
       "    .dataframe tbody tr th {\n",
       "        vertical-align: top;\n",
       "    }\n",
       "\n",
       "    .dataframe thead th {\n",
       "        text-align: right;\n",
       "    }\n",
       "</style>\n",
       "<table border=\"1\" class=\"dataframe\">\n",
       "  <thead>\n",
       "    <tr style=\"text-align: right;\">\n",
       "      <th></th>\n",
       "      <th>FALLECIDOS</th>\n",
       "      <th>INFECTADOS</th>\n",
       "    </tr>\n",
       "    <tr>\n",
       "      <th>COMPLICACION</th>\n",
       "      <th></th>\n",
       "      <th></th>\n",
       "    </tr>\n",
       "  </thead>\n",
       "  <tbody>\n",
       "    <tr>\n",
       "      <th>INTUBADO</th>\n",
       "      <td>26057</td>\n",
       "      <td>6057</td>\n",
       "    </tr>\n",
       "    <tr>\n",
       "      <th>NEUMONIA</th>\n",
       "      <td>60067</td>\n",
       "      <td>82621</td>\n",
       "    </tr>\n",
       "    <tr>\n",
       "      <th>UCI</th>\n",
       "      <td>8204</td>\n",
       "      <td>7804</td>\n",
       "    </tr>\n",
       "  </tbody>\n",
       "</table>\n",
       "</div>"
      ],
      "text/plain": [
       "              FALLECIDOS  INFECTADOS\n",
       "COMPLICACION                        \n",
       "INTUBADO           26057        6057\n",
       "NEUMONIA           60067       82621\n",
       "UCI                 8204        7804"
      ]
     },
     "execution_count": 55,
     "metadata": {},
     "output_type": "execute_result"
    }
   ],
   "source": [
    "# Hacemos otro pequeño cambio\n",
    "covid_por_comp.columns = pd.Index(['FALLECIDOS', 'INFECTADOS'])\n",
    "covid_por_comp.index.rename('COMPLICACION', inplace=True)\n",
    "covid_por_comp"
   ]
  },
  {
   "cell_type": "code",
   "execution_count": 56,
   "metadata": {},
   "outputs": [],
   "source": [
    "save_csv(covid_por_comp, 'covid_por_comp')"
   ]
  },
  {
   "cell_type": "markdown",
   "metadata": {},
   "source": [
    "### Binning: Pasando datos numéricos a categóricos ###\n",
    "La discretización es el proceso de convertir variables una variable continua (números con decimales) a una discreta (números enteros).   \n",
    "Podríamos usar otra vez apply() para crear un campo nuevo 'RANGO_EDAD' basado en lo contenido dentro del campo 'EDAD', pero Pandas ya viene con una función para hacer todo ese trabajo más fácil.\n",
    "\n",
    "En esta sección responderemos la pregunta\n",
    "* ¿Cómo se distribuyen los infectados y fallecidos según en el espectro de edades?"
   ]
  },
  {
   "cell_type": "code",
   "execution_count": 57,
   "metadata": {},
   "outputs": [],
   "source": [
    "# pd.cut() permite generar categorías basadas en rangos de números\n",
    "df['RANGO_EDAD'] = pd.cut(df['EDAD'], [0,3,12,20,40,65,np.inf], labels=range(6), right=False)"
   ]
  },
  {
   "cell_type": "code",
   "execution_count": 58,
   "metadata": {},
   "outputs": [
    {
     "data": {
      "text/html": [
       "<div>\n",
       "<style scoped>\n",
       "    .dataframe tbody tr th:only-of-type {\n",
       "        vertical-align: middle;\n",
       "    }\n",
       "\n",
       "    .dataframe tbody tr th {\n",
       "        vertical-align: top;\n",
       "    }\n",
       "\n",
       "    .dataframe thead th {\n",
       "        text-align: right;\n",
       "    }\n",
       "</style>\n",
       "<table border=\"1\" class=\"dataframe\">\n",
       "  <thead>\n",
       "    <tr style=\"text-align: right;\">\n",
       "      <th></th>\n",
       "      <th></th>\n",
       "      <th>RANGO_EDAD</th>\n",
       "    </tr>\n",
       "    <tr>\n",
       "      <th>RANGO_EDAD</th>\n",
       "      <th>RESULTADO</th>\n",
       "      <th></th>\n",
       "    </tr>\n",
       "  </thead>\n",
       "  <tbody>\n",
       "    <tr>\n",
       "      <th rowspan=\"2\" valign=\"top\">0</th>\n",
       "      <th>0</th>\n",
       "      <td>138</td>\n",
       "    </tr>\n",
       "    <tr>\n",
       "      <th>1</th>\n",
       "      <td>3230</td>\n",
       "    </tr>\n",
       "    <tr>\n",
       "      <th rowspan=\"2\" valign=\"top\">1</th>\n",
       "      <th>0</th>\n",
       "      <td>68</td>\n",
       "    </tr>\n",
       "    <tr>\n",
       "      <th>1</th>\n",
       "      <td>7788</td>\n",
       "    </tr>\n",
       "    <tr>\n",
       "      <th rowspan=\"2\" valign=\"top\">2</th>\n",
       "      <th>0</th>\n",
       "      <td>123</td>\n",
       "    </tr>\n",
       "    <tr>\n",
       "      <th>1</th>\n",
       "      <td>20770</td>\n",
       "    </tr>\n",
       "    <tr>\n",
       "      <th rowspan=\"2\" valign=\"top\">3</th>\n",
       "      <th>0</th>\n",
       "      <td>4451</td>\n",
       "    </tr>\n",
       "    <tr>\n",
       "      <th>1</th>\n",
       "      <td>297785</td>\n",
       "    </tr>\n",
       "    <tr>\n",
       "      <th rowspan=\"2\" valign=\"top\">4</th>\n",
       "      <th>0</th>\n",
       "      <td>38829</td>\n",
       "    </tr>\n",
       "    <tr>\n",
       "      <th>1</th>\n",
       "      <td>319702</td>\n",
       "    </tr>\n",
       "    <tr>\n",
       "      <th rowspan=\"2\" valign=\"top\">5</th>\n",
       "      <th>0</th>\n",
       "      <td>37811</td>\n",
       "    </tr>\n",
       "    <tr>\n",
       "      <th>1</th>\n",
       "      <td>65704</td>\n",
       "    </tr>\n",
       "  </tbody>\n",
       "</table>\n",
       "</div>"
      ],
      "text/plain": [
       "                      RANGO_EDAD\n",
       "RANGO_EDAD RESULTADO            \n",
       "0          0                 138\n",
       "           1                3230\n",
       "1          0                  68\n",
       "           1                7788\n",
       "2          0                 123\n",
       "           1               20770\n",
       "3          0                4451\n",
       "           1              297785\n",
       "4          0               38829\n",
       "           1              319702\n",
       "5          0               37811\n",
       "           1               65704"
      ]
     },
     "execution_count": 58,
     "metadata": {},
     "output_type": "execute_result"
    }
   ],
   "source": [
    "# Agrupamos por dos campos y luego contamos los registros\n",
    "covid_por_edades = df[['RANGO_EDAD']].groupby([df['RANGO_EDAD'], df['RESULTADO']]).count()\n",
    "covid_por_edades"
   ]
  },
  {
   "cell_type": "markdown",
   "metadata": {},
   "source": [
    "La tabla puede estar más elegante"
   ]
  },
  {
   "cell_type": "code",
   "execution_count": 59,
   "metadata": {},
   "outputs": [],
   "source": [
    "edades = [\n",
    "    'BEBÉ',\n",
    "    'INFANTE',\n",
    "    'ADOLESCENTE',\n",
    "    'JOVEN',\n",
    "    'ADULTO',\n",
    "    'ADULTO MAYOR'\n",
    "]"
   ]
  },
  {
   "cell_type": "code",
   "execution_count": 60,
   "metadata": {},
   "outputs": [
    {
     "data": {
      "text/html": [
       "<div>\n",
       "<style scoped>\n",
       "    .dataframe tbody tr th:only-of-type {\n",
       "        vertical-align: middle;\n",
       "    }\n",
       "\n",
       "    .dataframe tbody tr th {\n",
       "        vertical-align: top;\n",
       "    }\n",
       "\n",
       "    .dataframe thead th {\n",
       "        text-align: right;\n",
       "    }\n",
       "</style>\n",
       "<table border=\"1\" class=\"dataframe\">\n",
       "  <thead>\n",
       "    <tr style=\"text-align: right;\">\n",
       "      <th></th>\n",
       "      <th>FALLECIDOS</th>\n",
       "      <th>INFECTADOS</th>\n",
       "    </tr>\n",
       "    <tr>\n",
       "      <th>EDAD</th>\n",
       "      <th></th>\n",
       "      <th></th>\n",
       "    </tr>\n",
       "  </thead>\n",
       "  <tbody>\n",
       "    <tr>\n",
       "      <th>BEBÉ</th>\n",
       "      <td>138</td>\n",
       "      <td>3230</td>\n",
       "    </tr>\n",
       "    <tr>\n",
       "      <th>INFANTE</th>\n",
       "      <td>68</td>\n",
       "      <td>7788</td>\n",
       "    </tr>\n",
       "    <tr>\n",
       "      <th>ADOLESCENTE</th>\n",
       "      <td>123</td>\n",
       "      <td>20770</td>\n",
       "    </tr>\n",
       "    <tr>\n",
       "      <th>JOVEN</th>\n",
       "      <td>4451</td>\n",
       "      <td>297785</td>\n",
       "    </tr>\n",
       "    <tr>\n",
       "      <th>ADULTO</th>\n",
       "      <td>38829</td>\n",
       "      <td>319702</td>\n",
       "    </tr>\n",
       "    <tr>\n",
       "      <th>ADULTO MAYOR</th>\n",
       "      <td>37811</td>\n",
       "      <td>65704</td>\n",
       "    </tr>\n",
       "  </tbody>\n",
       "</table>\n",
       "</div>"
      ],
      "text/plain": [
       "              FALLECIDOS  INFECTADOS\n",
       "EDAD                                \n",
       "BEBÉ                 138        3230\n",
       "INFANTE               68        7788\n",
       "ADOLESCENTE          123       20770\n",
       "JOVEN               4451      297785\n",
       "ADULTO             38829      319702\n",
       "ADULTO MAYOR       37811       65704"
      ]
     },
     "execution_count": 60,
     "metadata": {},
     "output_type": "execute_result"
    }
   ],
   "source": [
    "covid_por_edades = format_dataframe(covid_por_edades, edades, 'EDAD')\n",
    "covid_por_edades"
   ]
  },
  {
   "cell_type": "code",
   "execution_count": 61,
   "metadata": {},
   "outputs": [],
   "source": [
    "save_csv(covid_por_edades, 'covid_por_edades')"
   ]
  },
  {
   "cell_type": "markdown",
   "metadata": {},
   "source": [
    "### Correlaciones ###\n",
    "Las correlaciones indican si los cambios entre dos o más variables están ligados. En su mayoría esas relaciones pueden ser lineales, siendo posible su cuentificación mediante el coeficiente de Pearson, aunque visualizar la correlación también es útil.\n",
    "\n",
    "\n",
    "En esta sección respondemos la pregunta\n",
    "* ¿Existe alguna correlación entre el tiempo en morir y las edades?"
   ]
  },
  {
   "cell_type": "code",
   "execution_count": 62,
   "metadata": {},
   "outputs": [],
   "source": [
    "# Creamos una función que, por cada paciente, nos diga los días\n",
    "#  que tardó en fallecer\n",
    "def calc_days_alive(row):\n",
    "    time = 0\n",
    "    if (row.RESULTADO==0):\n",
    "        time = row.FECHA_DEF - row.FECHA_SINTOMAS\n",
    "        time = time.days\n",
    "    return time"
   ]
  },
  {
   "cell_type": "code",
   "execution_count": 63,
   "metadata": {},
   "outputs": [],
   "source": [
    "# Aplicamos la func. y creamos un nuevo campo\n",
    "df['DIAS_VIVO'] = df.apply(calc_days_alive, axis='columns')"
   ]
  },
  {
   "cell_type": "code",
   "execution_count": 65,
   "metadata": {},
   "outputs": [
    {
     "data": {
      "text/html": [
       "<div>\n",
       "<style scoped>\n",
       "    .dataframe tbody tr th:only-of-type {\n",
       "        vertical-align: middle;\n",
       "    }\n",
       "\n",
       "    .dataframe tbody tr th {\n",
       "        vertical-align: top;\n",
       "    }\n",
       "\n",
       "    .dataframe thead th {\n",
       "        text-align: right;\n",
       "    }\n",
       "</style>\n",
       "<table border=\"1\" class=\"dataframe\">\n",
       "  <thead>\n",
       "    <tr style=\"text-align: right;\">\n",
       "      <th></th>\n",
       "      <th>EDAD</th>\n",
       "      <th>DIAS_VIVO</th>\n",
       "    </tr>\n",
       "  </thead>\n",
       "  <tbody>\n",
       "    <tr>\n",
       "      <th>EDAD</th>\n",
       "      <td>1.000000</td>\n",
       "      <td>-0.038654</td>\n",
       "    </tr>\n",
       "    <tr>\n",
       "      <th>DIAS_VIVO</th>\n",
       "      <td>-0.038654</td>\n",
       "      <td>1.000000</td>\n",
       "    </tr>\n",
       "  </tbody>\n",
       "</table>\n",
       "</div>"
      ],
      "text/plain": [
       "               EDAD  DIAS_VIVO\n",
       "EDAD       1.000000  -0.038654\n",
       "DIAS_VIVO -0.038654   1.000000"
      ]
     },
     "execution_count": 65,
     "metadata": {},
     "output_type": "execute_result"
    }
   ],
   "source": [
    "# Coeficientes de Correlacion Lineal sólo para los fallecidos\n",
    "df[df['RESULTADO']==0][['EDAD', 'DIAS_VIVO']].corr()"
   ]
  },
  {
   "cell_type": "code",
   "execution_count": 66,
   "metadata": {},
   "outputs": [
    {
     "data": {
      "image/png": "[encoded data removed]",
      "text/plain": [
       "<Figure size 432x288 with 1 Axes>"
      ]
     },
     "metadata": {
      "needs_background": "light"
     },
     "output_type": "display_data"
    }
   ],
   "source": [
    "# Graficar correlación sólo de personas fallecidas\n",
    "import matplotlib.pyplot as plt\n",
    "\n",
    "x = df[df['RESULTADO']==0]['EDAD']\n",
    "y = df[df['RESULTADO']==0]['DIAS_VIVO']\n",
    "plt.scatter(x=x, y=y, alpha=0.3)\n",
    "plt.xlabel('Edad')\n",
    "plt.ylabel('Dias en morir')\n",
    "plt.show()"
   ]
  },
  {
   "cell_type": "markdown",
   "metadata": {},
   "source": [
    "Podemos observar que hay gente que tiene un tiempo de vida negativo. Quizá sea un error al capturar los datos."
   ]
  },
  {
   "cell_type": "markdown",
   "metadata": {},
   "source": [
    "### Otras cosas más que aprender de Pandas ###\n",
    "Pandas puede hacer una multitud de tareas\n",
    "* Unir dos o más DataFrames según diferentes reglas (usando join() y merge())\n",
    "* Reordenar los registros según condiciones específicas\n",
    "* Indexado Jerárquico: Columnas que tienen columnas\n",
    "* Manejo más eficiente de memeoria y CPU, usando librerías como Spark, etc\n",
    "* Tablas de Pivote\n",
    "* Integración con otras librerías, como scikit-learn\n",
    "* Análisis de series de tiempo"
   ]
  },
  {
   "cell_type": "code",
   "execution_count": null,
   "metadata": {},
   "outputs": [],
   "source": []
  }
 ],
 "metadata": {
  "kernelspec": {
   "display_name": "Python 3",
   "language": "python",
   "name": "python3"
  },
  "language_info": {
   "codemirror_mode": {
    "name": "ipython",
    "version": 3
   },
   "file_extension": ".py",
   "mimetype": "text/x-python",
   "name": "python",
   "nbconvert_exporter": "python",
   "pygments_lexer": "ipython3",
   "version": "3.8.5"
  }
 },
 "nbformat": 4,
 "nbformat_minor": 4
}
