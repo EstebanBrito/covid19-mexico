{
 "cells": [
  {
   "cell_type": "markdown",
   "metadata": {},
   "source": [
    "# GENERAL DATA CLEANING\n",
    "In this notebook the dataset is cleaned for the first time, deleting data that will not be useful for any of our data science tasks. Operations performed here include deletion of useless fields and rows, and changes in how the data is represented in some fields."
   ]
  },
  {
   "cell_type": "code",
   "execution_count": 1,
   "metadata": {},
   "outputs": [],
   "source": [
    "# Libraries\n",
    "import numpy as np\n",
    "import pandas as pd\n",
    "import os"
   ]
  },
  {
   "cell_type": "code",
   "execution_count": 3,
   "metadata": {},
   "outputs": [],
   "source": [
    "# Used as suffix for the cleaned dataset's file name\n",
    "EXEC_MONTH = 'dec22'"
   ]
  },
  {
   "cell_type": "markdown",
   "metadata": {},
   "source": [
    "# 1 - Loading Data"
   ]
  },
  {
   "cell_type": "code",
   "execution_count": 6,
   "metadata": {},
   "outputs": [
    {
     "data": {
      "text/plain": [
       "['..\\\\datasets\\\\221206COVID19MEXICO.csv',\n",
       " '..\\\\datasets\\\\COVID19MEXICO2021.csv',\n",
       " '..\\\\datasets\\\\COVID19MEXICO2020.csv']"
      ]
     },
     "execution_count": 6,
     "metadata": {},
     "output_type": "execute_result"
    }
   ],
   "source": [
    "# Data comes form multiple CSV files\n",
    "FILE_PATHS = []\n",
    "FILE_PATHS.append(os.path.join('..', 'datasets', '221206COVID19MEXICO.csv')) # Dataset for December 6th, 2022)\n",
    "FILE_PATHS.append(os.path.join('..', 'datasets', 'COVID19MEXICO2021.csv')) # Dataset for 2021\n",
    "FILE_PATHS.append(os.path.join('..', 'datasets', 'COVID19MEXICO2020.csv')) # Dataset for 2020\n",
    "FILE_PATHS"
   ]
  },
  {
   "cell_type": "code",
   "execution_count": 7,
   "metadata": {},
   "outputs": [],
   "source": [
    "# Defining the type of each columns reduces the memory space used by the DataFrame\n",
    "types = {\n",
    "    'FECHA_ACTUALIZACION': 'object',\n",
    "    'ID_REGISTRO': 'object',\n",
    "    'ORIGEN': np.int8,\n",
    "    'SECTOR': np.int8,\n",
    "    'ENTIDAD_UM': np.int8,\n",
    "    'SEXO': np.int8,\n",
    "    'ENTIDAD_NAC': np.int8,\n",
    "    'ENTIDAD_RES': np.int8,\n",
    "    'MUNICIPIO_RES': np.int8,\n",
    "    'TIPO_PACIENTE': np.int8,\n",
    "    'FECHA_INGRESO': 'object',\n",
    "    'FECHA_SINTOMAS': 'object',\n",
    "    'FECHA_DEF': 'object',\n",
    "    'INTUBADO': np.int8,\n",
    "    'NEUMONIA': np.int8,\n",
    "    'EDAD': np.int8,\n",
    "    'NACIONALIDAD': np.int8,\n",
    "    'EMBARAZO': np.int8,\n",
    "    'HABLA_LENGUA_INDIG': np.int8,\n",
    "    'INDIGENA': np.int8,\n",
    "    'DIABETES': np.int8,\n",
    "    'EPOC': np.int8,\n",
    "    'ASMA': np.int8,\n",
    "    'INMUSUPR': np.int8,\n",
    "    'HIPERTENSION':np.int8,\n",
    "    'OTRA_COM': np.int8,\n",
    "    'CARDIOVASCULAR': np.int8,\n",
    "    'OBESIDAD': np.int8,\n",
    "    'RENAL_CRONICA': np.int8,\n",
    "    'TABAQUISMO': np.int8,\n",
    "    'OTRO_CASO': np.int8,\n",
    "    'TOMA_MUESTRA_LAB': np.int8,\n",
    "    'RESULTADO_LAB': np.int8,\n",
    "    'TOMA_MUESTRA_ANTIGENO': np.int8,\n",
    "    'RESULTADO_ANTIGENO': np.int8,\n",
    "    'CLASIFICACION_FINAL': np.int8,\n",
    "    'MIGRANTE': np.int8,\n",
    "    'PAIS_NACIONALIDAD': 'object',\n",
    "    'PAIS_ORIGEN': 'object',\n",
    "    'UCI': np.int8\n",
    "}"
   ]
  },
  {
   "cell_type": "code",
   "execution_count": 10,
   "metadata": {},
   "outputs": [],
   "source": [
    "# Load all the findvidual files and concatenate them into a single DataFrame\n",
    "dfs = []\n",
    "for i, filepath in enumerate(FILE_PATHS):\n",
    "    dfs.append(pd.read_csv(filepath, encoding='latin', dtype=types))\n",
    "df = pd.concat(dfs, axis='index', ignore_index=True)"
   ]
  },
  {
   "cell_type": "code",
   "execution_count": 13,
   "metadata": {},
   "outputs": [],
   "source": [
    "del dfs # Free memory used by partial datasets"
   ]
  },
  {
   "cell_type": "markdown",
   "metadata": {},
   "source": [
    "### General Information"
   ]
  },
  {
   "cell_type": "markdown",
   "metadata": {},
   "source": [
    "#### Dataset Size"
   ]
  },
  {
   "cell_type": "code",
   "execution_count": 17,
   "metadata": {},
   "outputs": [
    {
     "name": "stdout",
     "output_type": "stream",
     "text": [
      "No. of rows: 18823991 --- No. of columns: 40\n"
     ]
    }
   ],
   "source": [
    "print(f'No. of rows: {df.shape[0]} --- No. of columns: {df.shape[1]}')"
   ]
  },
  {
   "cell_type": "markdown",
   "metadata": {},
   "source": [
    "#### How does the DataFrame looks?"
   ]
  },
  {
   "cell_type": "code",
   "execution_count": 18,
   "metadata": {},
   "outputs": [
    {
     "data": {
      "text/html": [
       "<div>\n",
       "<style scoped>\n",
       "    .dataframe tbody tr th:only-of-type {\n",
       "        vertical-align: middle;\n",
       "    }\n",
       "\n",
       "    .dataframe tbody tr th {\n",
       "        vertical-align: top;\n",
       "    }\n",
       "\n",
       "    .dataframe thead th {\n",
       "        text-align: right;\n",
       "    }\n",
       "</style>\n",
       "<table border=\"1\" class=\"dataframe\">\n",
       "  <thead>\n",
       "    <tr style=\"text-align: right;\">\n",
       "      <th></th>\n",
       "      <th>FECHA_ACTUALIZACION</th>\n",
       "      <th>ID_REGISTRO</th>\n",
       "      <th>ORIGEN</th>\n",
       "      <th>SECTOR</th>\n",
       "      <th>ENTIDAD_UM</th>\n",
       "      <th>SEXO</th>\n",
       "      <th>ENTIDAD_NAC</th>\n",
       "      <th>ENTIDAD_RES</th>\n",
       "      <th>MUNICIPIO_RES</th>\n",
       "      <th>TIPO_PACIENTE</th>\n",
       "      <th>...</th>\n",
       "      <th>OTRO_CASO</th>\n",
       "      <th>TOMA_MUESTRA_LAB</th>\n",
       "      <th>RESULTADO_LAB</th>\n",
       "      <th>TOMA_MUESTRA_ANTIGENO</th>\n",
       "      <th>RESULTADO_ANTIGENO</th>\n",
       "      <th>CLASIFICACION_FINAL</th>\n",
       "      <th>MIGRANTE</th>\n",
       "      <th>PAIS_NACIONALIDAD</th>\n",
       "      <th>PAIS_ORIGEN</th>\n",
       "      <th>UCI</th>\n",
       "    </tr>\n",
       "  </thead>\n",
       "  <tbody>\n",
       "    <tr>\n",
       "      <th>0</th>\n",
       "      <td>2022-12-06</td>\n",
       "      <td>0f43ef</td>\n",
       "      <td>1</td>\n",
       "      <td>12</td>\n",
       "      <td>22</td>\n",
       "      <td>1</td>\n",
       "      <td>9</td>\n",
       "      <td>22</td>\n",
       "      <td>14</td>\n",
       "      <td>1</td>\n",
       "      <td>...</td>\n",
       "      <td>1</td>\n",
       "      <td>1</td>\n",
       "      <td>2</td>\n",
       "      <td>1</td>\n",
       "      <td>2</td>\n",
       "      <td>7</td>\n",
       "      <td>99</td>\n",
       "      <td>MÃ©xico</td>\n",
       "      <td>97</td>\n",
       "      <td>97</td>\n",
       "    </tr>\n",
       "    <tr>\n",
       "      <th>1</th>\n",
       "      <td>2022-12-06</td>\n",
       "      <td>17d678</td>\n",
       "      <td>1</td>\n",
       "      <td>12</td>\n",
       "      <td>16</td>\n",
       "      <td>1</td>\n",
       "      <td>16</td>\n",
       "      <td>16</td>\n",
       "      <td>67</td>\n",
       "      <td>2</td>\n",
       "      <td>...</td>\n",
       "      <td>2</td>\n",
       "      <td>2</td>\n",
       "      <td>97</td>\n",
       "      <td>1</td>\n",
       "      <td>2</td>\n",
       "      <td>7</td>\n",
       "      <td>99</td>\n",
       "      <td>MÃ©xico</td>\n",
       "      <td>97</td>\n",
       "      <td>2</td>\n",
       "    </tr>\n",
       "    <tr>\n",
       "      <th>2</th>\n",
       "      <td>2022-12-06</td>\n",
       "      <td>04f190</td>\n",
       "      <td>2</td>\n",
       "      <td>6</td>\n",
       "      <td>9</td>\n",
       "      <td>1</td>\n",
       "      <td>9</td>\n",
       "      <td>9</td>\n",
       "      <td>15</td>\n",
       "      <td>1</td>\n",
       "      <td>...</td>\n",
       "      <td>2</td>\n",
       "      <td>2</td>\n",
       "      <td>97</td>\n",
       "      <td>2</td>\n",
       "      <td>97</td>\n",
       "      <td>6</td>\n",
       "      <td>99</td>\n",
       "      <td>MÃ©xico</td>\n",
       "      <td>97</td>\n",
       "      <td>97</td>\n",
       "    </tr>\n",
       "  </tbody>\n",
       "</table>\n",
       "<p>3 rows × 40 columns</p>\n",
       "</div>"
      ],
      "text/plain": [
       "  FECHA_ACTUALIZACION ID_REGISTRO  ORIGEN  SECTOR  ENTIDAD_UM  SEXO  \\\n",
       "0          2022-12-06      0f43ef       1      12          22     1   \n",
       "1          2022-12-06      17d678       1      12          16     1   \n",
       "2          2022-12-06      04f190       2       6           9     1   \n",
       "\n",
       "   ENTIDAD_NAC  ENTIDAD_RES  MUNICIPIO_RES  TIPO_PACIENTE  ... OTRO_CASO  \\\n",
       "0            9           22             14              1  ...         1   \n",
       "1           16           16             67              2  ...         2   \n",
       "2            9            9             15              1  ...         2   \n",
       "\n",
       "  TOMA_MUESTRA_LAB RESULTADO_LAB  TOMA_MUESTRA_ANTIGENO  RESULTADO_ANTIGENO  \\\n",
       "0                1             2                      1                   2   \n",
       "1                2            97                      1                   2   \n",
       "2                2            97                      2                  97   \n",
       "\n",
       "   CLASIFICACION_FINAL  MIGRANTE  PAIS_NACIONALIDAD  PAIS_ORIGEN  UCI  \n",
       "0                    7        99            MÃ©xico           97   97  \n",
       "1                    7        99            MÃ©xico           97    2  \n",
       "2                    6        99            MÃ©xico           97   97  \n",
       "\n",
       "[3 rows x 40 columns]"
      ]
     },
     "execution_count": 18,
     "metadata": {},
     "output_type": "execute_result"
    }
   ],
   "source": [
    "df.head(3)"
   ]
  },
  {
   "cell_type": "code",
   "execution_count": 19,
   "metadata": {},
   "outputs": [
    {
     "data": {
      "text/html": [
       "<div>\n",
       "<style scoped>\n",
       "    .dataframe tbody tr th:only-of-type {\n",
       "        vertical-align: middle;\n",
       "    }\n",
       "\n",
       "    .dataframe tbody tr th {\n",
       "        vertical-align: top;\n",
       "    }\n",
       "\n",
       "    .dataframe thead th {\n",
       "        text-align: right;\n",
       "    }\n",
       "</style>\n",
       "<table border=\"1\" class=\"dataframe\">\n",
       "  <thead>\n",
       "    <tr style=\"text-align: right;\">\n",
       "      <th></th>\n",
       "      <th>FECHA_ACTUALIZACION</th>\n",
       "      <th>ID_REGISTRO</th>\n",
       "      <th>ORIGEN</th>\n",
       "      <th>SECTOR</th>\n",
       "      <th>ENTIDAD_UM</th>\n",
       "      <th>SEXO</th>\n",
       "      <th>ENTIDAD_NAC</th>\n",
       "      <th>ENTIDAD_RES</th>\n",
       "      <th>MUNICIPIO_RES</th>\n",
       "      <th>TIPO_PACIENTE</th>\n",
       "      <th>...</th>\n",
       "      <th>OTRO_CASO</th>\n",
       "      <th>TOMA_MUESTRA_LAB</th>\n",
       "      <th>RESULTADO_LAB</th>\n",
       "      <th>TOMA_MUESTRA_ANTIGENO</th>\n",
       "      <th>RESULTADO_ANTIGENO</th>\n",
       "      <th>CLASIFICACION_FINAL</th>\n",
       "      <th>MIGRANTE</th>\n",
       "      <th>PAIS_NACIONALIDAD</th>\n",
       "      <th>PAIS_ORIGEN</th>\n",
       "      <th>UCI</th>\n",
       "    </tr>\n",
       "  </thead>\n",
       "  <tbody>\n",
       "    <tr>\n",
       "      <th>18823988</th>\n",
       "      <td>2021-10-31</td>\n",
       "      <td>7d32d9</td>\n",
       "      <td>2</td>\n",
       "      <td>9</td>\n",
       "      <td>9</td>\n",
       "      <td>2</td>\n",
       "      <td>9</td>\n",
       "      <td>9</td>\n",
       "      <td>7</td>\n",
       "      <td>2</td>\n",
       "      <td>...</td>\n",
       "      <td>1</td>\n",
       "      <td>2</td>\n",
       "      <td>97</td>\n",
       "      <td>2</td>\n",
       "      <td>97</td>\n",
       "      <td>2</td>\n",
       "      <td>99</td>\n",
       "      <td>MÃ©xico</td>\n",
       "      <td>97</td>\n",
       "      <td>1</td>\n",
       "    </tr>\n",
       "    <tr>\n",
       "      <th>18823989</th>\n",
       "      <td>2021-10-31</td>\n",
       "      <td>660ba7</td>\n",
       "      <td>1</td>\n",
       "      <td>4</td>\n",
       "      <td>9</td>\n",
       "      <td>1</td>\n",
       "      <td>9</td>\n",
       "      <td>9</td>\n",
       "      <td>7</td>\n",
       "      <td>2</td>\n",
       "      <td>...</td>\n",
       "      <td>2</td>\n",
       "      <td>2</td>\n",
       "      <td>97</td>\n",
       "      <td>2</td>\n",
       "      <td>97</td>\n",
       "      <td>2</td>\n",
       "      <td>99</td>\n",
       "      <td>MÃ©xico</td>\n",
       "      <td>97</td>\n",
       "      <td>2</td>\n",
       "    </tr>\n",
       "    <tr>\n",
       "      <th>18823990</th>\n",
       "      <td>2021-10-31</td>\n",
       "      <td>52b2e6</td>\n",
       "      <td>2</td>\n",
       "      <td>4</td>\n",
       "      <td>9</td>\n",
       "      <td>2</td>\n",
       "      <td>9</td>\n",
       "      <td>15</td>\n",
       "      <td>57</td>\n",
       "      <td>2</td>\n",
       "      <td>...</td>\n",
       "      <td>2</td>\n",
       "      <td>2</td>\n",
       "      <td>97</td>\n",
       "      <td>2</td>\n",
       "      <td>97</td>\n",
       "      <td>2</td>\n",
       "      <td>99</td>\n",
       "      <td>MÃ©xico</td>\n",
       "      <td>97</td>\n",
       "      <td>2</td>\n",
       "    </tr>\n",
       "  </tbody>\n",
       "</table>\n",
       "<p>3 rows × 40 columns</p>\n",
       "</div>"
      ],
      "text/plain": [
       "         FECHA_ACTUALIZACION ID_REGISTRO  ORIGEN  SECTOR  ENTIDAD_UM  SEXO  \\\n",
       "18823988          2021-10-31      7d32d9       2       9           9     2   \n",
       "18823989          2021-10-31      660ba7       1       4           9     1   \n",
       "18823990          2021-10-31      52b2e6       2       4           9     2   \n",
       "\n",
       "          ENTIDAD_NAC  ENTIDAD_RES  MUNICIPIO_RES  TIPO_PACIENTE  ...  \\\n",
       "18823988            9            9              7              2  ...   \n",
       "18823989            9            9              7              2  ...   \n",
       "18823990            9           15             57              2  ...   \n",
       "\n",
       "         OTRO_CASO TOMA_MUESTRA_LAB RESULTADO_LAB  TOMA_MUESTRA_ANTIGENO  \\\n",
       "18823988         1                2            97                      2   \n",
       "18823989         2                2            97                      2   \n",
       "18823990         2                2            97                      2   \n",
       "\n",
       "          RESULTADO_ANTIGENO  CLASIFICACION_FINAL  MIGRANTE  \\\n",
       "18823988                  97                    2        99   \n",
       "18823989                  97                    2        99   \n",
       "18823990                  97                    2        99   \n",
       "\n",
       "          PAIS_NACIONALIDAD  PAIS_ORIGEN  UCI  \n",
       "18823988            MÃ©xico           97    1  \n",
       "18823989            MÃ©xico           97    2  \n",
       "18823990            MÃ©xico           97    2  \n",
       "\n",
       "[3 rows x 40 columns]"
      ]
     },
     "execution_count": 19,
     "metadata": {},
     "output_type": "execute_result"
    }
   ],
   "source": [
    "df.tail(3)"
   ]
  },
  {
   "cell_type": "markdown",
   "metadata": {},
   "source": [
    "#### Datatypes for fields and memory usage"
   ]
  },
  {
   "cell_type": "code",
   "execution_count": 20,
   "metadata": {
    "scrolled": true
   },
   "outputs": [
    {
     "name": "stdout",
     "output_type": "stream",
     "text": [
      "<class 'pandas.core.frame.DataFrame'>\n",
      "RangeIndex: 18823991 entries, 0 to 18823990\n",
      "Data columns (total 40 columns):\n",
      " #   Column                 Dtype \n",
      "---  ------                 ----- \n",
      " 0   FECHA_ACTUALIZACION    object\n",
      " 1   ID_REGISTRO            object\n",
      " 2   ORIGEN                 int8  \n",
      " 3   SECTOR                 int8  \n",
      " 4   ENTIDAD_UM             int8  \n",
      " 5   SEXO                   int8  \n",
      " 6   ENTIDAD_NAC            int8  \n",
      " 7   ENTIDAD_RES            int8  \n",
      " 8   MUNICIPIO_RES          int8  \n",
      " 9   TIPO_PACIENTE          int8  \n",
      " 10  FECHA_INGRESO          object\n",
      " 11  FECHA_SINTOMAS         object\n",
      " 12  FECHA_DEF              object\n",
      " 13  INTUBADO               int8  \n",
      " 14  NEUMONIA               int8  \n",
      " 15  EDAD                   int8  \n",
      " 16  NACIONALIDAD           int8  \n",
      " 17  EMBARAZO               int8  \n",
      " 18  HABLA_LENGUA_INDIG     int8  \n",
      " 19  INDIGENA               int8  \n",
      " 20  DIABETES               int8  \n",
      " 21  EPOC                   int8  \n",
      " 22  ASMA                   int8  \n",
      " 23  INMUSUPR               int8  \n",
      " 24  HIPERTENSION           int8  \n",
      " 25  OTRA_COM               int8  \n",
      " 26  CARDIOVASCULAR         int8  \n",
      " 27  OBESIDAD               int8  \n",
      " 28  RENAL_CRONICA          int8  \n",
      " 29  TABAQUISMO             int8  \n",
      " 30  OTRO_CASO              int8  \n",
      " 31  TOMA_MUESTRA_LAB       int8  \n",
      " 32  RESULTADO_LAB          int8  \n",
      " 33  TOMA_MUESTRA_ANTIGENO  int8  \n",
      " 34  RESULTADO_ANTIGENO     int8  \n",
      " 35  CLASIFICACION_FINAL    int8  \n",
      " 36  MIGRANTE               int8  \n",
      " 37  PAIS_NACIONALIDAD      object\n",
      " 38  PAIS_ORIGEN            object\n",
      " 39  UCI                    int8  \n",
      "dtypes: int8(33), object(7)\n",
      "memory usage: 1.6+ GB\n"
     ]
    }
   ],
   "source": [
    "df.info()"
   ]
  },
  {
   "cell_type": "markdown",
   "metadata": {},
   "source": [
    "# 2 - Data Cleaning"
   ]
  },
  {
   "cell_type": "markdown",
   "metadata": {},
   "source": [
    "### Goals for the project\n",
    "\n",
    "* Identify key aspects of the COVID-19's impact in Mexico:\n",
    "    * ¿How many men and women got infected or died of COVID-19?\n",
    "    * ¿Which states have suffered more because of COVID-19?\n",
    "    * ¿Cómo ha ido avanzando la pandemia en México?\n",
    "    * What's the general situation of infected/deceases cases of the COVID-19 in Mexico since early 2020?\n",
    "    * ¿What's the performance of the different health systems in controlling the pandemic?\n",
    "    * What kind of influence does previous affections have in the outcome of COVID-19 infected people?\n",
    "    * What kind of influence does health complications have?\n",
    "    * How infected/deceased cases of COVID-19 distribute acroos age ranges?\n",
    "    * What kind of relationship exists between life expectancy and age range?\n",
    "* Build predictive models that help in the diagnosis and treatment of COVID-19\n",
    "    * Identify if a recently infected person is likely to die due to COVID-19\n",
    "    * Predict the life expectancy of those people in order to prioritize the treatment in hospitals."
   ]
  },
  {
   "cell_type": "markdown",
   "metadata": {},
   "source": [
    "### Strategy for data cleaning\n",
    "\n",
    "In order to acomplish the previously mentioned objectives, several actions must be done:\n",
    "* Some fields can be safely deleted because they don't contain useful information for our future data science tasks:\n",
    "    * ID Registro, Municipio de procedencia, Origen, Entidad_UM, Fecha de Síntomas, País de Origen, País de Nacionalidad, Migrante, Otro Caso, Tipo de Paciente, Habla lengua indígena, Fecha de actualización.\n",
    "* Some rows can be deleted because they are not important for our data science tasks or have inconclusive information that could bias them.\n",
    "    * Rows representing people with inconclusive/ambiguous COVID-19 results. Specially all those that are NOT classified as CONFIRMED SARC-COV-2 cases.\n",
    "    * Rows with unspecified or unknown information, specially in fields representing previous affections."
   ]
  },
  {
   "cell_type": "markdown",
   "metadata": {},
   "source": [
    "## 2.1 - Field/Row Selection\n"
   ]
  },
  {
   "cell_type": "markdown",
   "metadata": {},
   "source": [
    "### Deleting unnecesary rows"
   ]
  },
  {
   "cell_type": "markdown",
   "metadata": {},
   "source": [
    "The fields\"CLASIFICACION_FINAL\" determines the nature of each registered case of the dataset. According to the data dictionary provided by the Health Secretariat itself, different classes exists, one of them being CONFIRMED SARS-COV-2, which represent cases where lab tests came out positive, regarding any other piece of information of the pacient. The field represents those rows with the number 3. All other rows do not have conclusive test results for COVID-19 detection so they cannnot be used to properly detect COVID cases."
   ]
  },
  {
   "cell_type": "code",
   "execution_count": 21,
   "metadata": {},
   "outputs": [
    {
     "data": {
      "text/plain": [
       "7    10888641\n",
       "3     6768629\n",
       "6      680071\n",
       "1      364323\n",
       "5       94566\n",
       "2       15934\n",
       "4       11827\n",
       "Name: CLASIFICACION_FINAL, dtype: int64"
      ]
     },
     "execution_count": 21,
     "metadata": {},
     "output_type": "execute_result"
    }
   ],
   "source": [
    "df['CLASIFICACION_FINAL'].value_counts()"
   ]
  },
  {
   "cell_type": "markdown",
   "metadata": {},
   "source": [
    "As seen above, the number of confirmed cases is pretty large, so all other rows can be safely deleted without a relevant loss of information."
   ]
  },
  {
   "cell_type": "code",
   "execution_count": 22,
   "metadata": {},
   "outputs": [],
   "source": [
    "# The CLASIFICACION_FINAL field represents cases with numbers.\n",
    "# Only the number \"3\" represents COVID-19 cases with positive  test results.\n",
    "rows_to_delete = df[df.CLASIFICACION_FINAL != 3].index\n",
    "df.drop(rows_to_delete, inplace=True)"
   ]
  },
  {
   "cell_type": "code",
   "execution_count": 23,
   "metadata": {},
   "outputs": [
    {
     "name": "stdout",
     "output_type": "stream",
     "text": [
      "No. of rows: 6768629 --- No. of columns: 40\n"
     ]
    }
   ],
   "source": [
    "print(f'No. of rows: {df.shape[0]} --- No. of columns: {df.shape[1]}')"
   ]
  },
  {
   "cell_type": "markdown",
   "metadata": {},
   "source": [
    "### Deleting unnecesary fields"
   ]
  },
  {
   "cell_type": "markdown",
   "metadata": {},
   "source": [
    "As stated before, some fields do not have useful information for our data science tasks. They can be safely deleted."
   ]
  },
  {
   "cell_type": "code",
   "execution_count": 24,
   "metadata": {},
   "outputs": [],
   "source": [
    "cols = ['FECHA_ACTUALIZACION', 'ID_REGISTRO', 'ORIGEN', 'ENTIDAD_NAC', 'ENTIDAD_RES',\n",
    "        'MUNICIPIO_RES', 'NACIONALIDAD', 'HABLA_LENGUA_INDIG', 'INDIGENA', 'OTRA_COM',\n",
    "        'OTRO_CASO', 'TOMA_MUESTRA_LAB', 'RESULTADO_LAB', 'TOMA_MUESTRA_ANTIGENO', 'RESULTADO_ANTIGENO',\n",
    "        'CLASIFICACION_FINAL', 'MIGRANTE', 'PAIS_NACIONALIDAD', 'PAIS_ORIGEN']\n",
    "df.drop(cols, axis='columns', inplace=True)"
   ]
  },
  {
   "cell_type": "markdown",
   "metadata": {},
   "source": [
    "Both the number of columns and the memory space have been reduced:"
   ]
  },
  {
   "cell_type": "code",
   "execution_count": 25,
   "metadata": {},
   "outputs": [
    {
     "name": "stdout",
     "output_type": "stream",
     "text": [
      "No. of rows: 6768629 --- No. of columns: 21\n"
     ]
    }
   ],
   "source": [
    "print(f'No. of rows: {df.shape[0]} --- No. of columns: {df.shape[1]}')"
   ]
  },
  {
   "cell_type": "code",
   "execution_count": 26,
   "metadata": {},
   "outputs": [
    {
     "name": "stdout",
     "output_type": "stream",
     "text": [
      "<class 'pandas.core.frame.DataFrame'>\n",
      "Int64Index: 6768629 entries, 3 to 18823984\n",
      "Data columns (total 21 columns):\n",
      " #   Column          Dtype \n",
      "---  ------          ----- \n",
      " 0   SECTOR          int8  \n",
      " 1   ENTIDAD_UM      int8  \n",
      " 2   SEXO            int8  \n",
      " 3   TIPO_PACIENTE   int8  \n",
      " 4   FECHA_INGRESO   object\n",
      " 5   FECHA_SINTOMAS  object\n",
      " 6   FECHA_DEF       object\n",
      " 7   INTUBADO        int8  \n",
      " 8   NEUMONIA        int8  \n",
      " 9   EDAD            int8  \n",
      " 10  EMBARAZO        int8  \n",
      " 11  DIABETES        int8  \n",
      " 12  EPOC            int8  \n",
      " 13  ASMA            int8  \n",
      " 14  INMUSUPR        int8  \n",
      " 15  HIPERTENSION    int8  \n",
      " 16  CARDIOVASCULAR  int8  \n",
      " 17  OBESIDAD        int8  \n",
      " 18  RENAL_CRONICA   int8  \n",
      " 19  TABAQUISMO      int8  \n",
      " 20  UCI             int8  \n",
      "dtypes: int8(18), object(3)\n",
      "memory usage: 322.8+ MB\n"
     ]
    }
   ],
   "source": [
    "df.info()"
   ]
  },
  {
   "cell_type": "markdown",
   "metadata": {},
   "source": [
    "## 2.2 - Reformatting field values"
   ]
  },
  {
   "cell_type": "markdown",
   "metadata": {},
   "source": [
    "Many peculiarities exist whe representing information in our dataset. Specifically, there are three aspects of the dataset regarding how information is presented thet we need to address:\n",
    "- The field \"SEXO\" is composed of 3 values: 1 represents women, 2 represents men and 99 represents unspecified cases. Cases with the number 99 will be deleted and the field will be converted to a binary variable (where 1 represents women and 0 erepresents men).\n",
    "- The same representation issue appears in those fields regarding previous affection and health complications (e.g. EMBARAZO, INTUBADO, etc.). These fields present a data catalog of 5 values: 1 represents YES, 2 NO, 97 is DOES NOT APPLY, 98 is UNKNOWN and 99 is UNSPECIFIED. Only cases with numbers 1 and 2 will be kept, and these fields will be transformed to binary variables (where 1 indicates YES and 0 NO).\n",
    "- The field \"TIPO_PACIENTE\" presents 3 values. The value 1 represents ambulatory cases of Covid-19, the value 2 represents hospitalized cases, and the value 99 is used for unspecified cases. Those last cases will de deleted and the \"TIPO_PACIENTE\" field will be renamed to \"HOSPITALIZADO\", where a value of 1 represents hospitalized pacients."
   ]
  },
  {
   "cell_type": "markdown",
   "metadata": {},
   "source": [
    "### Field \"SEXO\""
   ]
  },
  {
   "cell_type": "code",
   "execution_count": 27,
   "metadata": {},
   "outputs": [],
   "source": [
    "# Deleting entries with values 99\n",
    "rows_to_delete = df[df.SEXO == 99].index\n",
    "df.drop(rows_to_delete, inplace=True)"
   ]
  },
  {
   "cell_type": "code",
   "execution_count": 28,
   "metadata": {},
   "outputs": [],
   "source": [
    "# Conversion function\n",
    "clean_sex = lambda x : 1 if x == 1 else 0"
   ]
  },
  {
   "cell_type": "code",
   "execution_count": 29,
   "metadata": {},
   "outputs": [],
   "source": [
    "# Conversion function is applied. Results are stores in the same column\n",
    "df['SEXO'] = df['SEXO'].apply(clean_sex).astype('int8') # the field is defined as int8 to preserve memory"
   ]
  },
  {
   "cell_type": "code",
   "execution_count": 30,
   "metadata": {},
   "outputs": [
    {
     "name": "stdout",
     "output_type": "stream",
     "text": [
      "No. of rows: 6768629 --- No. of columns: 21\n"
     ]
    }
   ],
   "source": [
    "print(f'No. of rows: {df.shape[0]} --- No. of columns: {df.shape[1]}')"
   ]
  },
  {
   "cell_type": "markdown",
   "metadata": {},
   "source": [
    "### Fields representing Previous Affections (Comorbilities)"
   ]
  },
  {
   "cell_type": "markdown",
   "metadata": {},
   "source": [
    "#### Counting cases for each case type"
   ]
  },
  {
   "cell_type": "markdown",
   "metadata": {},
   "source": [
    "Before modifying these fields, it's useful to look at how many instances each case type contains."
   ]
  },
  {
   "cell_type": "code",
   "execution_count": 31,
   "metadata": {},
   "outputs": [],
   "source": [
    "cols = ['NEUMONIA', 'EMBARAZO', 'DIABETES', 'EPOC', 'ASMA',\n",
    "        'INMUSUPR', 'HIPERTENSION', 'CARDIOVASCULAR', 'OBESIDAD', 'RENAL_CRONICA',\n",
    "        'TABAQUISMO', 'INTUBADO', 'UCI']"
   ]
  },
  {
   "cell_type": "code",
   "execution_count": 32,
   "metadata": {},
   "outputs": [],
   "source": [
    "def calc_dropped_props(row):\n",
    "    foo = row[97] + row[98] + row[99]\n",
    "    bar = row.sum()\n",
    "    return foo / bar"
   ]
  },
  {
   "cell_type": "code",
   "execution_count": 33,
   "metadata": {},
   "outputs": [],
   "source": [
    "def count_case_types(df, cols):\n",
    "    aux_df = pd.DataFrame(columns = [1, 2, 97, 98, 99])\n",
    "    for col in cols: aux_df.loc[col] = df[col].value_counts()\n",
    "    aux_df.fillna(0, inplace=True)\n",
    "    aux_df = aux_df.astype('int64')\n",
    "    # aux_df['Proportion'] = aux_df.apply(calc_dropped_props, axis='columns')\n",
    "    aux_df.columns = ['YES (1)', 'NO (2)', 'DOES NOT APPLY (97)', 'UNKNOWN (98)', 'UNSPECIFIED (99)']\n",
    "    return aux_df"
   ]
  },
  {
   "cell_type": "code",
   "execution_count": 34,
   "metadata": {
    "scrolled": false
   },
   "outputs": [
    {
     "data": {
      "text/html": [
       "<div>\n",
       "<style scoped>\n",
       "    .dataframe tbody tr th:only-of-type {\n",
       "        vertical-align: middle;\n",
       "    }\n",
       "\n",
       "    .dataframe tbody tr th {\n",
       "        vertical-align: top;\n",
       "    }\n",
       "\n",
       "    .dataframe thead th {\n",
       "        text-align: right;\n",
       "    }\n",
       "</style>\n",
       "<table border=\"1\" class=\"dataframe\">\n",
       "  <thead>\n",
       "    <tr style=\"text-align: right;\">\n",
       "      <th></th>\n",
       "      <th>YES (1)</th>\n",
       "      <th>NO (2)</th>\n",
       "      <th>DOES NOT APPLY (97)</th>\n",
       "      <th>UNKNOWN (98)</th>\n",
       "      <th>UNSPECIFIED (99)</th>\n",
       "    </tr>\n",
       "  </thead>\n",
       "  <tbody>\n",
       "    <tr>\n",
       "      <th>NEUMONIA</th>\n",
       "      <td>488467</td>\n",
       "      <td>6252262</td>\n",
       "      <td>0</td>\n",
       "      <td>0</td>\n",
       "      <td>27900</td>\n",
       "    </tr>\n",
       "    <tr>\n",
       "      <th>EMBARAZO</th>\n",
       "      <td>57940</td>\n",
       "      <td>3518367</td>\n",
       "      <td>3165446</td>\n",
       "      <td>26869</td>\n",
       "      <td>7</td>\n",
       "    </tr>\n",
       "    <tr>\n",
       "      <th>DIABETES</th>\n",
       "      <td>595751</td>\n",
       "      <td>6152468</td>\n",
       "      <td>0</td>\n",
       "      <td>20410</td>\n",
       "      <td>0</td>\n",
       "    </tr>\n",
       "    <tr>\n",
       "      <th>EPOC</th>\n",
       "      <td>46107</td>\n",
       "      <td>6703093</td>\n",
       "      <td>0</td>\n",
       "      <td>19429</td>\n",
       "      <td>0</td>\n",
       "    </tr>\n",
       "    <tr>\n",
       "      <th>ASMA</th>\n",
       "      <td>127109</td>\n",
       "      <td>6622266</td>\n",
       "      <td>0</td>\n",
       "      <td>19254</td>\n",
       "      <td>0</td>\n",
       "    </tr>\n",
       "    <tr>\n",
       "      <th>INMUSUPR</th>\n",
       "      <td>38011</td>\n",
       "      <td>6711161</td>\n",
       "      <td>0</td>\n",
       "      <td>19457</td>\n",
       "      <td>0</td>\n",
       "    </tr>\n",
       "    <tr>\n",
       "      <th>HIPERTENSION</th>\n",
       "      <td>807807</td>\n",
       "      <td>5941282</td>\n",
       "      <td>0</td>\n",
       "      <td>19540</td>\n",
       "      <td>0</td>\n",
       "    </tr>\n",
       "    <tr>\n",
       "      <th>CARDIOVASCULAR</th>\n",
       "      <td>67234</td>\n",
       "      <td>6681954</td>\n",
       "      <td>0</td>\n",
       "      <td>19441</td>\n",
       "      <td>0</td>\n",
       "    </tr>\n",
       "    <tr>\n",
       "      <th>OBESIDAD</th>\n",
       "      <td>660257</td>\n",
       "      <td>6089883</td>\n",
       "      <td>0</td>\n",
       "      <td>18489</td>\n",
       "      <td>0</td>\n",
       "    </tr>\n",
       "    <tr>\n",
       "      <th>RENAL_CRONICA</th>\n",
       "      <td>64173</td>\n",
       "      <td>6685096</td>\n",
       "      <td>0</td>\n",
       "      <td>19360</td>\n",
       "      <td>0</td>\n",
       "    </tr>\n",
       "    <tr>\n",
       "      <th>TABAQUISMO</th>\n",
       "      <td>366398</td>\n",
       "      <td>6382446</td>\n",
       "      <td>0</td>\n",
       "      <td>19785</td>\n",
       "      <td>0</td>\n",
       "    </tr>\n",
       "    <tr>\n",
       "      <th>INTUBADO</th>\n",
       "      <td>78141</td>\n",
       "      <td>588606</td>\n",
       "      <td>6096630</td>\n",
       "      <td>0</td>\n",
       "      <td>5252</td>\n",
       "    </tr>\n",
       "    <tr>\n",
       "      <th>UCI</th>\n",
       "      <td>51089</td>\n",
       "      <td>615660</td>\n",
       "      <td>6096630</td>\n",
       "      <td>0</td>\n",
       "      <td>5250</td>\n",
       "    </tr>\n",
       "  </tbody>\n",
       "</table>\n",
       "</div>"
      ],
      "text/plain": [
       "                YES (1)   NO (2)  DOES NOT APPLY (97)  UNKNOWN (98)  \\\n",
       "NEUMONIA         488467  6252262                    0             0   \n",
       "EMBARAZO          57940  3518367              3165446         26869   \n",
       "DIABETES         595751  6152468                    0         20410   \n",
       "EPOC              46107  6703093                    0         19429   \n",
       "ASMA             127109  6622266                    0         19254   \n",
       "INMUSUPR          38011  6711161                    0         19457   \n",
       "HIPERTENSION     807807  5941282                    0         19540   \n",
       "CARDIOVASCULAR    67234  6681954                    0         19441   \n",
       "OBESIDAD         660257  6089883                    0         18489   \n",
       "RENAL_CRONICA     64173  6685096                    0         19360   \n",
       "TABAQUISMO       366398  6382446                    0         19785   \n",
       "INTUBADO          78141   588606              6096630             0   \n",
       "UCI               51089   615660              6096630             0   \n",
       "\n",
       "                UNSPECIFIED (99)  \n",
       "NEUMONIA                   27900  \n",
       "EMBARAZO                       7  \n",
       "DIABETES                       0  \n",
       "EPOC                           0  \n",
       "ASMA                           0  \n",
       "INMUSUPR                       0  \n",
       "HIPERTENSION                   0  \n",
       "CARDIOVASCULAR                 0  \n",
       "OBESIDAD                       0  \n",
       "RENAL_CRONICA                  0  \n",
       "TABAQUISMO                     0  \n",
       "INTUBADO                    5252  \n",
       "UCI                         5250  "
      ]
     },
     "execution_count": 34,
     "metadata": {},
     "output_type": "execute_result"
    }
   ],
   "source": [
    "case_types = count_case_types(df, cols)\n",
    "case_types"
   ]
  },
  {
   "cell_type": "markdown",
   "metadata": {},
   "source": [
    "#### Observations\n",
    "* The DOES NOT APPLY values in the \"EMBARAZO\" field are clearly referring to male pacients, so is safe to set those values to NO (represented with the number 2).\n",
    "*  For the fields representing complications (i.e \"INTUBADO\" and \"UCI\"), the DOES NOT APPLY values refer to individuals that did not die due to COVID-19. These values can also be set to NO.\n",
    "* All other values will either be deleted (number 97 and 98) or overwritten (\"NO\" values will be set to 0)."
   ]
  },
  {
   "cell_type": "markdown",
   "metadata": {},
   "source": [
    "#### Converting case types"
   ]
  },
  {
   "cell_type": "code",
   "execution_count": 35,
   "metadata": {},
   "outputs": [],
   "source": [
    "# Converts DOES NOT APPLY cases\n",
    "def convert_values_for_cases(x):\n",
    "    if x==1: return 1 # YES cases will stay as they are (represented with the number 1)\n",
    "    if x==2: return 0 # NO cases will be represented with the number 2\n",
    "    if x==97: return 0 # DOES NOT APPLY cases will be set to number 0\n",
    "    else: return x # Other cases (98, 99)"
   ]
  },
  {
   "cell_type": "code",
   "execution_count": 36,
   "metadata": {},
   "outputs": [],
   "source": [
    "for col in cols:\n",
    "    df[col] = df[col].apply(convert_values_for_cases).astype('int8')"
   ]
  },
  {
   "cell_type": "markdown",
   "metadata": {},
   "source": [
    "#### Deleting cases"
   ]
  },
  {
   "cell_type": "code",
   "execution_count": 37,
   "metadata": {},
   "outputs": [],
   "source": [
    "for col in cols:\n",
    "    rows_to_delete = (df[df[col] >= 98]).index\n",
    "    df.drop(rows_to_delete, inplace=True)"
   ]
  },
  {
   "cell_type": "code",
   "execution_count": 38,
   "metadata": {},
   "outputs": [
    {
     "name": "stdout",
     "output_type": "stream",
     "text": [
      "No. of rows: 6686128 --- No. of columns: 21\n"
     ]
    }
   ],
   "source": [
    "print(f'No. of rows: {df.shape[0]} --- No. of columns: {df.shape[1]}')"
   ]
  },
  {
   "cell_type": "markdown",
   "metadata": {},
   "source": [
    "### Field \"TIPO\\_PACIENTE\""
   ]
  },
  {
   "cell_type": "markdown",
   "metadata": {},
   "source": [
    "Here we need to delete the UNSPECIFIED cases, represented with the number 99."
   ]
  },
  {
   "cell_type": "code",
   "execution_count": 39,
   "metadata": {},
   "outputs": [],
   "source": [
    "rows_to_delete = df[df['TIPO_PACIENTE'] == 99].index\n",
    "df.drop(rows_to_delete, axis='rows', inplace=True)"
   ]
  },
  {
   "cell_type": "markdown",
   "metadata": {},
   "source": [
    "After that, the field will be converted to a binary variable, converting the current values (1 for ambulatory pacients and 0 for hsopitalized pacients) to new values (1 for hospitalized pacientes and 0 for ambulatory ones). Also, the columns must be renamed to reflect its changed nature."
   ]
  },
  {
   "cell_type": "code",
   "execution_count": 40,
   "metadata": {},
   "outputs": [],
   "source": [
    "# Conversion function\n",
    "def convert_pacient_to_hospitalized(x):\n",
    "    if x == 1: return 0 # Ambulatory cases (1) will be set to 0\n",
    "    else: return 1 #  Hopitalized (0) cases will be set to 1"
   ]
  },
  {
   "cell_type": "code",
   "execution_count": 41,
   "metadata": {},
   "outputs": [],
   "source": [
    "# Apply conversion function to \"TIPO_PACIENTE\" field\n",
    "df['TIPO_PACIENTE'] = df['TIPO_PACIENTE'].apply(convert_pacient_to_hospitalized).astype('int8')"
   ]
  },
  {
   "cell_type": "code",
   "execution_count": 42,
   "metadata": {},
   "outputs": [],
   "source": [
    "# Rename column\n",
    "df.rename(columns={'TIPO_PACIENTE': 'PAC_HOSPITALIZADO'}, inplace=True)"
   ]
  },
  {
   "cell_type": "code",
   "execution_count": 43,
   "metadata": {},
   "outputs": [
    {
     "name": "stdout",
     "output_type": "stream",
     "text": [
      "No. of rows: 6686128 --- No. of columns: 21\n"
     ]
    }
   ],
   "source": [
    "print(f'No. of rows: {df.shape[0]} --- No. of columns: {df.shape[1]}')"
   ]
  },
  {
   "cell_type": "markdown",
   "metadata": {},
   "source": [
    "## 3 - Save Data"
   ]
  },
  {
   "cell_type": "markdown",
   "metadata": {},
   "source": [
    "Once the general data cleaning has finished, data can be saved for future data science tasks"
   ]
  },
  {
   "cell_type": "markdown",
   "metadata": {},
   "source": [
    "#### Dimensionality of the cleaned dataset"
   ]
  },
  {
   "cell_type": "code",
   "execution_count": 44,
   "metadata": {},
   "outputs": [
    {
     "name": "stdout",
     "output_type": "stream",
     "text": [
      "No. of rows: 6686128 --- No. of columns: 21\n"
     ]
    }
   ],
   "source": [
    "print(f'No. of rows: {df.shape[0]} --- No. of columns: {df.shape[1]}')"
   ]
  },
  {
   "cell_type": "code",
   "execution_count": 45,
   "metadata": {},
   "outputs": [
    {
     "name": "stdout",
     "output_type": "stream",
     "text": [
      "<class 'pandas.core.frame.DataFrame'>\n",
      "Int64Index: 6686128 entries, 3 to 18823984\n",
      "Data columns (total 21 columns):\n",
      " #   Column             Dtype \n",
      "---  ------             ----- \n",
      " 0   SECTOR             int8  \n",
      " 1   ENTIDAD_UM         int8  \n",
      " 2   SEXO               int8  \n",
      " 3   PAC_HOSPITALIZADO  int8  \n",
      " 4   FECHA_INGRESO      object\n",
      " 5   FECHA_SINTOMAS     object\n",
      " 6   FECHA_DEF          object\n",
      " 7   INTUBADO           int8  \n",
      " 8   NEUMONIA           int8  \n",
      " 9   EDAD               int8  \n",
      " 10  EMBARAZO           int8  \n",
      " 11  DIABETES           int8  \n",
      " 12  EPOC               int8  \n",
      " 13  ASMA               int8  \n",
      " 14  INMUSUPR           int8  \n",
      " 15  HIPERTENSION       int8  \n",
      " 16  CARDIOVASCULAR     int8  \n",
      " 17  OBESIDAD           int8  \n",
      " 18  RENAL_CRONICA      int8  \n",
      " 19  TABAQUISMO         int8  \n",
      " 20  UCI                int8  \n",
      "dtypes: int8(18), object(3)\n",
      "memory usage: 318.8+ MB\n"
     ]
    }
   ],
   "source": [
    "df.info()"
   ]
  },
  {
   "cell_type": "markdown",
   "metadata": {},
   "source": [
    "#### Which year is the data for?"
   ]
  },
  {
   "cell_type": "code",
   "execution_count": 46,
   "metadata": {},
   "outputs": [],
   "source": [
    "get_ing_year = lambda x: x.split('-')[0]\n",
    "ing_year = df['FECHA_INGRESO'].apply(get_ing_year)"
   ]
  },
  {
   "cell_type": "code",
   "execution_count": 47,
   "metadata": {},
   "outputs": [
    {
     "data": {
      "text/plain": [
       "2022    2976755\n",
       "2021    2282353\n",
       "2020    1427020\n",
       "Name: FECHA_INGRESO, dtype: int64"
      ]
     },
     "execution_count": 47,
     "metadata": {},
     "output_type": "execute_result"
    }
   ],
   "source": [
    "ing_year.value_counts()"
   ]
  },
  {
   "cell_type": "markdown",
   "metadata": {},
   "source": [
    "### 3.1 - Saving Dataset"
   ]
  },
  {
   "cell_type": "code",
   "execution_count": 48,
   "metadata": {},
   "outputs": [],
   "source": [
    "clean_dataset_path = os.path.join('..', 'datasets', f'clean_covid_dataset_{EXEC_MONTH}.csv')\n",
    "df.to_csv(clean_dataset_path, index=False)"
   ]
  },
  {
   "cell_type": "code",
   "execution_count": null,
   "metadata": {},
   "outputs": [],
   "source": []
  }
 ],
 "metadata": {
  "kernelspec": {
   "display_name": "Python 3 (ipykernel)",
   "language": "python",
   "name": "python3"
  },
  "language_info": {
   "codemirror_mode": {
    "name": "ipython",
    "version": 3
   },
   "file_extension": ".py",
   "mimetype": "text/x-python",
   "name": "python",
   "nbconvert_exporter": "python",
   "pygments_lexer": "ipython3",
   "version": "3.10.8"
  }
 },
 "nbformat": 4,
 "nbformat_minor": 4
}
